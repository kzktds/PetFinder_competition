{
  "nbformat": 4,
  "nbformat_minor": 0,
  "metadata": {
    "colab": {
      "name": "20200518_画像特徴量を生成するサンプル",
      "provenance": [],
      "toc_visible": true,
      "mount_file_id": "1dLQNjgxYtUnaavLva41a8a423hbRjnZt",
      "authorship_tag": "ABX9TyP6XTG74EGTlnBs/CEklMF1",
      "include_colab_link": true
    },
    "kernelspec": {
      "name": "python3",
      "display_name": "Python 3"
    }
  },
  "cells": [
    {
      "cell_type": "markdown",
      "metadata": {
        "id": "view-in-github",
        "colab_type": "text"
      },
      "source": [
        "<a href=\"https://colab.research.google.com/github/kzktds/PetFinder_competition/blob/master/20200518_%E7%94%BB%E5%83%8F%E7%89%B9%E5%BE%B4%E9%87%8F%E3%82%92%E7%94%9F%E6%88%90%E3%81%99%E3%82%8B%E3%82%B5%E3%83%B3%E3%83%97%E3%83%AB.ipynb\" target=\"_parent\"><img src=\"https://colab.research.google.com/assets/colab-badge.svg\" alt=\"Open In Colab\"/></a>"
      ]
    },
    {
      "cell_type": "markdown",
      "metadata": {
        "id": "nVh3_ZRysmJN",
        "colab_type": "text"
      },
      "source": [
        "# 画像特徴量を学習済みモデルを用いて抽出するサンプル"
      ]
    },
    {
      "cell_type": "code",
      "metadata": {
        "id": "RFzxkZd1Z4iK",
        "colab_type": "code",
        "colab": {}
      },
      "source": [
        "import cv2\n",
        "import pandas as pd\n",
        "import numpy as np\n",
        "import os\n",
        "from tqdm import tqdm, tqdm_notebook\n",
        "\n",
        "img_size = 256"
      ],
      "execution_count": 0,
      "outputs": []
    },
    {
      "cell_type": "code",
      "metadata": {
        "id": "kGMSxKICgisL",
        "colab_type": "code",
        "colab": {
          "base_uri": "https://localhost:8080/",
          "height": 34
        },
        "outputId": "95306d7b-bea3-44dc-a63c-d600bf392866"
      },
      "source": [
        "from keras.applications.resnet50 import preprocess_input, ResNet50"
      ],
      "execution_count": 3,
      "outputs": [
        {
          "output_type": "stream",
          "text": [
            "Using TensorFlow backend.\n"
          ],
          "name": "stderr"
        }
      ]
    },
    {
      "cell_type": "markdown",
      "metadata": {
        "id": "Lip_Kq_pg2wj",
        "colab_type": "text"
      },
      "source": [
        "## 画像前処理・読み込み用関数の定義"
      ]
    },
    {
      "cell_type": "code",
      "metadata": {
        "id": "KbhYyPYPg2Ek",
        "colab_type": "code",
        "colab": {}
      },
      "source": [
        "def resize_to_square(im):\n",
        "    old_size = im.shape[:2] # old_size is in (height, width) format\n",
        "    ratio = float(img_size)/max(old_size)\n",
        "    new_size = tuple([int(x*ratio) for x in old_size])\n",
        "    # new_size should be in (width, height) format\n",
        "    im = cv2.resize(im, (new_size[1], new_size[0]))\n",
        "    delta_w = img_size - new_size[1]\n",
        "    delta_h = img_size - new_size[0]\n",
        "    top, bottom = delta_h//2, delta_h-(delta_h//2)\n",
        "    left, right = delta_w//2, delta_w-(delta_w//2)\n",
        "    color = [0, 0, 0]\n",
        "    new_im = cv2.copyMakeBorder(im, top, bottom, left, right, cv2.BORDER_CONSTANT,value=color)\n",
        "    return new_im"
      ],
      "execution_count": 0,
      "outputs": []
    },
    {
      "cell_type": "code",
      "metadata": {
        "id": "mGdk5GAGgqff",
        "colab_type": "code",
        "colab": {}
      },
      "source": [
        "def load_image(path):\n",
        "    image = cv2.imread(path)\n",
        "    new_image = resize_to_square(image)\n",
        "    new_image = preprocess_input(new_image)\n",
        "    return new_image"
      ],
      "execution_count": 0,
      "outputs": []
    },
    {
      "cell_type": "markdown",
      "metadata": {
        "id": "aB2WvdPMmVQW",
        "colab_type": "text"
      },
      "source": [
        "## 画像を読み込んで表示"
      ]
    },
    {
      "cell_type": "code",
      "metadata": {
        "id": "70TUbAhriafd",
        "colab_type": "code",
        "colab": {}
      },
      "source": [
        "import matplotlib.pyplot as plt"
      ],
      "execution_count": 0,
      "outputs": []
    },
    {
      "cell_type": "code",
      "metadata": {
        "id": "oiDq1UeYg0T8",
        "colab_type": "code",
        "colab": {
          "base_uri": "https://localhost:8080/",
          "height": 303
        },
        "outputId": "d6fc317b-c4c5-499f-9c71-654fd53af6a5"
      },
      "source": [
        "# 前処理済みの画像を試しに出力\n",
        "img = load_image(\"/content/drive/My Drive/20200515_マルチモーダル検証/image/cat.0.jpg\")\n",
        "plt.imshow(img)"
      ],
      "execution_count": 7,
      "outputs": [
        {
          "output_type": "stream",
          "text": [
            "Clipping input data to the valid range for imshow with RGB data ([0..1] for floats or [0..255] for integers).\n"
          ],
          "name": "stderr"
        },
        {
          "output_type": "execute_result",
          "data": {
            "text/plain": [
              "<matplotlib.image.AxesImage at 0x7fec17a690b8>"
            ]
          },
          "metadata": {
            "tags": []
          },
          "execution_count": 7
        },
        {
          "output_type": "display_data",
          "data": {
            "image/png": "[encoded data removed]",
            "text/plain": [
              "<Figure size 432x288 with 1 Axes>"
            ]
          },
          "metadata": {
            "tags": [],
            "needs_background": "light"
          }
        }
      ]
    },
    {
      "cell_type": "code",
      "metadata": {
        "id": "AGPd6kFoiIvb",
        "colab_type": "code",
        "colab": {
          "base_uri": "https://localhost:8080/",
          "height": 34
        },
        "outputId": "1f8fca7d-277d-4eed-8825-d5861fd75e38"
      },
      "source": [
        "img.shape"
      ],
      "execution_count": 8,
      "outputs": [
        {
          "output_type": "execute_result",
          "data": {
            "text/plain": [
              "(256, 256, 3)"
            ]
          },
          "metadata": {
            "tags": []
          },
          "execution_count": 8
        }
      ]
    },
    {
      "cell_type": "markdown",
      "metadata": {
        "id": "SlRoRbgbmf1H",
        "colab_type": "text"
      },
      "source": [
        "## 学習済みモデルによる特徴抽出\n",
        "- 参考：https://www.kaggle.com/christofhenkel/extract-image-features-from-pretrained-nn"
      ]
    },
    {
      "cell_type": "code",
      "metadata": {
        "id": "2OZ-vNH2kJ3y",
        "colab_type": "code",
        "colab": {
          "base_uri": "https://localhost:8080/",
          "height": 105
        },
        "outputId": "88224074-4620-45b6-c7cc-e005360a927f"
      },
      "source": [
        "from keras.models import Model\n",
        "from keras.layers import GlobalAveragePooling2D, Input, Lambda, AveragePooling1D\n",
        "import keras.backend as K\n",
        "inp = Input((256,256,3))\n",
        "backbone = ResNet50(input_tensor = inp, include_top = False)\n",
        "x = backbone.output\n",
        "x = GlobalAveragePooling2D()(x)\n",
        "x = Lambda(lambda x: K.expand_dims(x,axis = -1))(x)\n",
        "x = AveragePooling1D(4)(x)\n",
        "out = Lambda(lambda x: x[:,:,0])(x)\n",
        "\n",
        "m = Model(inp,out)"
      ],
      "execution_count": 9,
      "outputs": [
        {
          "output_type": "stream",
          "text": [
            "/usr/local/lib/python3.6/dist-packages/keras_applications/resnet50.py:265: UserWarning: The output shape of `ResNet50(include_top=False)` has been changed since Keras 2.2.0.\n",
            "  warnings.warn('The output shape of `ResNet50(include_top=False)` '\n"
          ],
          "name": "stderr"
        },
        {
          "output_type": "stream",
          "text": [
            "Downloading data from https://github.com/fchollet/deep-learning-models/releases/download/v0.2/resnet50_weights_tf_dim_ordering_tf_kernels_notop.h5\n",
            "94658560/94653016 [==============================] - 7s 0us/step\n"
          ],
          "name": "stdout"
        }
      ]
    },
    {
      "cell_type": "code",
      "metadata": {
        "id": "Z2bAFginkWqW",
        "colab_type": "code",
        "colab": {}
      },
      "source": [
        "pred = m.predict(np.array([img]))"
      ],
      "execution_count": 0,
      "outputs": []
    },
    {
      "cell_type": "code",
      "metadata": {
        "id": "c_Bf6nyvkgPF",
        "colab_type": "code",
        "colab": {
          "base_uri": "https://localhost:8080/",
          "height": 34
        },
        "outputId": "02e78be6-55e4-4749-e97f-a477bb107757"
      },
      "source": [
        "pred.shape"
      ],
      "execution_count": 11,
      "outputs": [
        {
          "output_type": "execute_result",
          "data": {
            "text/plain": [
              "(1, 512)"
            ]
          },
          "metadata": {
            "tags": []
          },
          "execution_count": 11
        }
      ]
    },
    {
      "cell_type": "code",
      "metadata": {
        "id": "FLBG9mxqnhNq",
        "colab_type": "code",
        "colab": {
          "base_uri": "https://localhost:8080/",
          "height": 51
        },
        "outputId": "e3efd6a8-ca7c-45ed-f7dc-cfce8edfa753"
      },
      "source": [
        "pred[0][:5]"
      ],
      "execution_count": 14,
      "outputs": [
        {
          "output_type": "execute_result",
          "data": {
            "text/plain": [
              "array([0.5559616, 0.5559541, 0.0985456, 0.556401 , 0.3798355],\n",
              "      dtype=float32)"
            ]
          },
          "metadata": {
            "tags": []
          },
          "execution_count": 14
        }
      ]
    },
    {
      "cell_type": "markdown",
      "metadata": {
        "id": "vdAcVJ_kn1Qe",
        "colab_type": "text"
      },
      "source": [
        "## SVDによる次元圧縮\n",
        "- https://qiita.com/FukuharaYohei/items/f3d975e7a9a801dd29fc"
      ]
    },
    {
      "cell_type": "code",
      "metadata": {
        "id": "5BnyROwAn0D7",
        "colab_type": "code",
        "colab": {}
      },
      "source": [
        "from sklearn.decomposition import TruncatedSVD"
      ],
      "execution_count": 0,
      "outputs": []
    },
    {
      "cell_type": "code",
      "metadata": {
        "id": "dfYgCLBnyQWO",
        "colab_type": "code",
        "colab": {}
      },
      "source": [
        "IMAGE_PATH = \"/content/drive/My Drive/20200515_マルチモーダル検証/image/\"\n",
        "cat_list = [IMAGE_PATH+\"cat.{}.jpg\".format(i) for i in range(11)]\n",
        "# dog_list = [IMAGE_PATH+\"dog.{}.jpg\".format(i) for i in range(11)]"
      ],
      "execution_count": 0,
      "outputs": []
    },
    {
      "cell_type": "code",
      "metadata": {
        "id": "2CzRecdxpuuz",
        "colab_type": "code",
        "colab": {}
      },
      "source": [
        "val_list = []\n",
        "\n",
        "for cat in cat_list:\n",
        "\n",
        "  # 特徴量の抽出\n",
        "  img = load_image(cat)\n",
        "  pred = m.predict(np.array([img]))\n",
        "\n",
        "  val_list.append(pred[0])\n",
        "\n",
        "val_list = np.array(val_list)"
      ],
      "execution_count": 0,
      "outputs": []
    },
    {
      "cell_type": "code",
      "metadata": {
        "id": "rkx9rglgqLjt",
        "colab_type": "code",
        "colab": {
          "base_uri": "https://localhost:8080/",
          "height": 34
        },
        "outputId": "8f842d24-493e-4621-9c76-07554560d1a7"
      },
      "source": [
        "val_list.shape"
      ],
      "execution_count": 34,
      "outputs": [
        {
          "output_type": "execute_result",
          "data": {
            "text/plain": [
              "(11, 512)"
            ]
          },
          "metadata": {
            "tags": []
          },
          "execution_count": 34
        }
      ]
    },
    {
      "cell_type": "code",
      "metadata": {
        "id": "mzSiAFVzoJ9U",
        "colab_type": "code",
        "colab": {}
      },
      "source": [
        "svd = TruncatedSVD(2)\n",
        "pred_x2 = svd.fit_transform(val_list)"
      ],
      "execution_count": 0,
      "outputs": []
    },
    {
      "cell_type": "code",
      "metadata": {
        "id": "q-K6dQeVoKHl",
        "colab_type": "code",
        "colab": {
          "base_uri": "https://localhost:8080/",
          "height": 34
        },
        "outputId": "fcd4d1a3-c373-486a-9afc-7022e7b26c20"
      },
      "source": [
        "pred_x2.shape"
      ],
      "execution_count": 41,
      "outputs": [
        {
          "output_type": "execute_result",
          "data": {
            "text/plain": [
              "(11, 2)"
            ]
          },
          "metadata": {
            "tags": []
          },
          "execution_count": 41
        }
      ]
    },
    {
      "cell_type": "code",
      "metadata": {
        "id": "saC-gpD9or0g",
        "colab_type": "code",
        "colab": {
          "base_uri": "https://localhost:8080/",
          "height": 204
        },
        "outputId": "6244a57b-1222-4705-ce37-53ae73143bbf"
      },
      "source": [
        "pred_x2"
      ],
      "execution_count": 42,
      "outputs": [
        {
          "output_type": "execute_result",
          "data": {
            "text/plain": [
              "array([[11.455636 ,  2.3779118],\n",
              "       [ 6.7878637, -2.018774 ],\n",
              "       [ 9.1314945, -3.3732302],\n",
              "       [ 8.702732 , -0.65159  ],\n",
              "       [ 8.571373 , -0.8056682],\n",
              "       [11.605475 ,  1.9750993],\n",
              "       [13.3698225,  5.135286 ],\n",
              "       [ 7.0375576, -1.872174 ],\n",
              "       [ 8.70393  , -1.1153642],\n",
              "       [ 9.259653 , -2.4058375],\n",
              "       [ 7.6614885, -2.1637332]], dtype=float32)"
            ]
          },
          "metadata": {
            "tags": []
          },
          "execution_count": 42
        }
      ]
    },
    {
      "cell_type": "code",
      "metadata": {
        "id": "0VZJreLZ-3xf",
        "colab_type": "code",
        "colab": {}
      },
      "source": [
        ""
      ],
      "execution_count": 0,
      "outputs": []
    }
  ]
}