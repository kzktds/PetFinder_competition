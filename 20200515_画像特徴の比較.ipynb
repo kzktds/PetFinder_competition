{
  "nbformat": 4,
  "nbformat_minor": 0,
  "metadata": {
    "colab": {
      "name": "20200515_画像特徴の比較",
      "provenance": [],
      "collapsed_sections": []
    },
    "kernelspec": {
      "name": "python3",
      "display_name": "Python 3"
    }
  },
  "cells": [
    {
      "cell_type": "markdown",
      "metadata": {
        "id": "Vs67RtqMcBId",
        "colab_type": "text"
      },
      "source": [
        "## 複数の画像特徴を比較するnotebook\n",
        "* ノートブックの趣旨\n",
        "> - PetFinderコンペのデータが題材\n",
        "> - 複数の学習済みモデルを用いて特徴量を作成し、LightGBMの説明変数とした時の精度を比較する\n",
        "* 試した学習済みモデル\n",
        "> - keras : densenet121\n",
        "> - keras : inceptionresnetv2\n",
        "> - keras : nannetlarge\n",
        "\n",
        "\n",
        "\n",
        "\n",
        "\n",
        "\n",
        "\n",
        "\n",
        "\n",
        "\n",
        "\n",
        "\n"
      ]
    },
    {
      "cell_type": "code",
      "metadata": {
        "id": "hvmac66_a0Tq",
        "colab_type": "code",
        "colab": {}
      },
      "source": [
        "!pip install optuna"
      ],
      "execution_count": 0,
      "outputs": []
    },
    {
      "cell_type": "code",
      "metadata": {
        "id": "Wc5VxKcWa2uA",
        "colab_type": "code",
        "colab": {}
      },
      "source": [
        "import json\n",
        "import scipy as sp\n",
        "import pandas as pd\n",
        "import numpy as np\n",
        "\n",
        "from functools import partial\n",
        "from math import sqrt\n",
        "\n",
        "from sklearn.metrics import cohen_kappa_score, mean_squared_error\n",
        "from sklearn.metrics import confusion_matrix as sk_cmatrix\n",
        "from sklearn.model_selection import StratifiedKFold\n",
        "\n",
        "from sklearn.feature_extraction.text import TfidfVectorizer\n",
        "from sklearn.decomposition import TruncatedSVD\n",
        "\n",
        "from collections import Counter\n",
        "\n",
        "# import lightgbm as lgb\n",
        "import optuna.integration.lightgbm as lgb\n",
        "import lightgbm as lgb_original\n",
        "\n",
        "BEST_PARAMS = []"
      ],
      "execution_count": 0,
      "outputs": []
    },
    {
      "cell_type": "markdown",
      "metadata": {
        "id": "p6vpqoZ6cMva",
        "colab_type": "text"
      },
      "source": [
        "## 学習用関数の定義"
      ]
    },
    {
      "cell_type": "code",
      "metadata": {
        "id": "h_4w69zFcTBM",
        "colab_type": "code",
        "colab": {}
      },
      "source": [
        "def rmse(actual, predicted):\n",
        "    return sqrt(mean_squared_error(actual, predicted))"
      ],
      "execution_count": 0,
      "outputs": []
    },
    {
      "cell_type": "markdown",
      "metadata": {
        "id": "3-CPHVqmcihA",
        "colab_type": "text"
      },
      "source": [
        "## 必要データの読み込み"
      ]
    },
    {
      "cell_type": "code",
      "metadata": {
        "id": "TvI30oDHcfUX",
        "colab_type": "code",
        "outputId": "6e4b2384-f761-4e18-8198-7d6251be963a",
        "colab": {
          "base_uri": "https://localhost:8080/",
          "height": 221
        }
      },
      "source": [
        "%%time\n",
        "\n",
        "COMPETITION_FOLDER = \"/content/drive/My Drive/20200515_マルチモーダル検証/data\"\n",
        "\n",
        "print('Train')\n",
        "train = pd.read_csv(COMPETITION_FOLDER + \"/train.csv\")\n",
        "print(train.shape)\n",
        "\n",
        "print('Test')\n",
        "test = pd.read_csv(COMPETITION_FOLDER + \"/test.csv\")\n",
        "print(test.shape)\n",
        "\n",
        "print('Breeds')\n",
        "breeds = pd.read_csv(COMPETITION_FOLDER + \"/breed_labels.csv\")\n",
        "print(breeds.shape)\n",
        "\n",
        "print('Colors')\n",
        "colors = pd.read_csv(COMPETITION_FOLDER + \"/color_labels.csv\")\n",
        "print(colors.shape)\n",
        "\n",
        "print('States')\n",
        "states = pd.read_csv(COMPETITION_FOLDER + \"/state_labels.csv\")\n",
        "print(states.shape)"
      ],
      "execution_count": 0,
      "outputs": [
        {
          "output_type": "stream",
          "text": [
            "Train\n",
            "(14993, 24)\n",
            "Test\n",
            "(3972, 23)\n",
            "Breeds\n",
            "(307, 3)\n",
            "Colors\n",
            "(7, 2)\n",
            "States\n",
            "(15, 2)\n",
            "CPU times: user 122 ms, sys: 8.97 ms, total: 131 ms\n",
            "Wall time: 148 ms\n"
          ],
          "name": "stdout"
        }
      ]
    },
    {
      "cell_type": "markdown",
      "metadata": {
        "id": "bv8BK5rbhikS",
        "colab_type": "text"
      },
      "source": [
        "## 比較を実行する"
      ]
    },
    {
      "cell_type": "code",
      "metadata": {
        "id": "nXbjM8l4f11F",
        "colab_type": "code",
        "colab": {}
      },
      "source": [
        "IMAGE_FEAT_FOLDER = \"/content/drive/My Drive/20200515_マルチモーダル検証/image_features\"\n",
        "\n",
        "sample_list = [[\"/train_img_features_densenet121.csv\", \n",
        "                \"/test_img_features_densenet121.csv\", \n",
        "                \"Dense121\"],\n",
        "              [\"/train_img_features_densenet121_svd32.csv\", \n",
        "               \"/test_img_features_densenet121_svd32.csv\", \n",
        "               \"Dense121_svd32\"],\n",
        "              [\"/train_img_features_inseption_resnet_v2.csv\", \n",
        "               \"/test_img_features_inseption_resnet_v2.csv\", \n",
        "               \"Inception_ResNetv2\"],\n",
        "              [\"/train_img_features_inseption_resnet_v2_svd32.csv\", \n",
        "               \"/test_img_features_inseption_resnet_v2_svd32.csv\", \n",
        "               \"Inception_ResNetv2_svd32\"],\n",
        "               [\"/train_img_features_nasnet.csv\",\n",
        "                \"/test_img_features_nasnet.csv\",\n",
        "                \"nasnet_large\"],\n",
        "               [\"/train_img_features_nasnet_svd32.csv\",\n",
        "                \"/test_img_features_nasnet_svd32.csv\",\n",
        "                \"nasnet_large\"]\n",
        "               ]"
      ],
      "execution_count": 0,
      "outputs": []
    },
    {
      "cell_type": "code",
      "metadata": {
        "id": "FuVYq6iVWKb7",
        "colab_type": "code",
        "colab": {}
      },
      "source": [
        "from sklearn.model_selection import train_test_split\n",
        "import optuna.integration.lightgbm as lgb"
      ],
      "execution_count": 0,
      "outputs": []
    },
    {
      "cell_type": "code",
      "metadata": {
        "id": "DKHQfO9N2PWK",
        "colab_type": "code",
        "colab": {}
      },
      "source": [
        "train_df_, valid_df_ = train_test_split(train, test_size = 0.2)"
      ],
      "execution_count": 0,
      "outputs": []
    },
    {
      "cell_type": "code",
      "metadata": {
        "id": "6r0TaZy22bv8",
        "colab_type": "code",
        "outputId": "79dc65f9-567a-4678-92a2-f2df1a4dcfca",
        "colab": {
          "base_uri": "https://localhost:8080/",
          "height": 34
        }
      },
      "source": [
        "train_df.shape, valid_df.shape"
      ],
      "execution_count": 0,
      "outputs": [
        {
          "output_type": "execute_result",
          "data": {
            "text/plain": [
              "((11994, 24), (2999, 24))"
            ]
          },
          "metadata": {
            "tags": []
          },
          "execution_count": 29
        }
      ]
    },
    {
      "cell_type": "code",
      "metadata": {
        "id": "i4Xe-dQOg3jm",
        "colab_type": "code",
        "outputId": "5ac119a7-bde2-4a0b-bd03-c00257f9fb18",
        "colab": {
          "base_uri": "https://localhost:8080/",
          "height": 1000
        }
      },
      "source": [
        "rmse_train_list = []\n",
        "rmse_valid_list = []\n",
        "\n",
        "\n",
        "for pair in sample_list:\n",
        "\n",
        "    train_df = train_df_.copy()\n",
        "    valid_df = valid_df_.copy()\n",
        "    \n",
        "    # 画像特徴データの読み込み\n",
        "    image_feat_train = pd.read_csv(IMAGE_FEAT_FOLDER + pair[0]).rename(columns={\"Unnamed: 0\":\"PetID\"})\n",
        "    \n",
        "    # 画像特徴を結合する\n",
        "    train_df = train_df.merge(image_feat_train, on=\"PetID\", how=\"left\")\n",
        "    valid_df = valid_df.merge(image_feat_train, on=\"PetID\", how=\"left\")\n",
        "    \n",
        "    # 不要になった列を削除する\n",
        "    train_df.drop(['Name', 'RescuerID', 'Description', 'PetID'], axis=1, inplace=True)\n",
        "    valid_df.drop(['Name', 'RescuerID', 'Description', 'PetID'], axis=1, inplace=True)\n",
        "    \n",
        "    numeric_cols = ['Age', 'Quantity', 'Fee', 'VideoAmt', 'PhotoAmt']+ list(train_df)[19:]\n",
        "    cat_cols = list(set(train_df.columns) - set(numeric_cols))\n",
        "    train_df.loc[:, cat_cols] = train_df[cat_cols].astype('category')\n",
        "    valid_df.loc[:, cat_cols] = valid_df[cat_cols].astype('category')\n",
        "\n",
        "    d_train = lgb_original.Dataset(train_df.drop(\"AdoptionSpeed\", axis=1), label=train_df[\"AdoptionSpeed\"])\n",
        "    d_valid = lgb_original.Dataset(valid_df.drop(\"AdoptionSpeed\", axis=1), label=valid_df[\"AdoptionSpeed\"])\n",
        "    watchlist = [d_train, d_valid]\n",
        "    print('Train LGB')\n",
        "    best_params, history = {}, []\n",
        "\n",
        "    params = {'application': 'regression',\n",
        "             'boosting': 'gbdt',\n",
        "             'metric': 'rmse',\n",
        "              'verbosity': -1,\n",
        "              'data_random_seed': 3,\n",
        "              'early_stop': 100,\n",
        "              'verbose_eval': 1000,\n",
        "              'num_rounds': 10000}\n",
        "\n",
        "    model = lgb.train(params,\n",
        "                      train_set=d_train,\n",
        "                      num_boost_round=10000,\n",
        "                      valid_sets=watchlist,\n",
        "                      verbose_eval=100,\n",
        "                      best_params=best_params,\n",
        "                      tuning_history=history,\n",
        "                      early_stopping_rounds=50)\n",
        "    \n",
        "    model_2 = lgb_original.train(best_params,\n",
        "                  train_set=d_train,\n",
        "                  num_boost_round=10000,\n",
        "                  valid_sets=watchlist,\n",
        "                  verbose_eval=100,\n",
        "                  early_stopping_rounds=50)\n",
        "\n",
        "    pred = model_2.predict(train_df.drop(\"AdoptionSpeed\", axis=1))\n",
        "    score = rmse(pred, train_df[\"AdoptionSpeed\"])\n",
        "    rmse_train_list.append(score)\n",
        "\n",
        "    pred = model_2.predict(valid_df.drop(\"AdoptionSpeed\", axis=1))\n",
        "    score = rmse(pred, valid_df[\"AdoptionSpeed\"])\n",
        "    rmse_valid_list.append(score)\n",
        "\n",
        "\n",
        "    "
      ],
      "execution_count": 0,
      "outputs": [
        {
          "output_type": "stream",
          "text": [
            "/usr/local/lib/python3.6/dist-packages/optuna/_experimental.py:90: ExperimentalWarning:\n",
            "\n",
            "train is experimental (supported from v0.18.0). The interface can change in the future.\n",
            "\n",
            "\n",
            "\n",
            "\n",
            "  0%|          | 0/7 [00:00<?, ?it/s]\u001b[A\u001b[A\u001b[A\n",
            "\n",
            "\n",
            "feature_fraction, val_score: inf:   0%|          | 0/7 [00:00<?, ?it/s]\u001b[A\u001b[A\u001b[A"
          ],
          "name": "stderr"
        },
        {
          "output_type": "stream",
          "text": [
            "Train LGB\n"
          ],
          "name": "stdout"
        },
        {
          "output_type": "stream",
          "text": [
            "/usr/local/lib/python3.6/dist-packages/lightgbm/engine.py:118: UserWarning:\n",
            "\n",
            "Found `num_rounds` in params. Will use it instead of argument\n",
            "\n",
            "/usr/local/lib/python3.6/dist-packages/lightgbm/basic.py:762: UserWarning:\n",
            "\n",
            "categorical_feature in param dict is overridden.\n",
            "\n"
          ],
          "name": "stderr"
        },
        {
          "output_type": "stream",
          "text": [
            "Training until validation scores don't improve for 50 rounds.\n"
          ],
          "name": "stdout"
        },
        {
          "output_type": "stream",
          "text": [
            "\n",
            "\n",
            "\n",
            "feature_fraction, val_score: 1.070827:   0%|          | 0/7 [00:05<?, ?it/s]\u001b[A\u001b[A\u001b[A\n",
            "\n",
            "\n",
            "feature_fraction, val_score: 1.070827:  14%|#4        | 1/7 [00:05<00:31,  5.24s/it]\u001b[A\u001b[A\u001b[A\u001b[32m[I 2020-05-17 07:07:06,749]\u001b[0m Finished trial#0 with value: 1.0708269737017382 with parameters: {'feature_fraction': 0.7}. Best is trial#0 with value: 1.0708269737017382.\u001b[0m\n",
            "\n",
            "\n",
            "\n",
            "feature_fraction, val_score: 1.070827:  14%|#4        | 1/7 [00:05<00:31,  5.24s/it]\u001b[A\u001b[A\u001b[A"
          ],
          "name": "stderr"
        },
        {
          "output_type": "stream",
          "text": [
            "Early stopping, best iteration is:\n",
            "[45]\ttraining's rmse: 0.91367\tvalid_1's rmse: 1.07083\n",
            "Training until validation scores don't improve for 50 rounds.\n",
            "[100]\ttraining's rmse: 0.786477\tvalid_1's rmse: 1.07835\n"
          ],
          "name": "stdout"
        },
        {
          "output_type": "stream",
          "text": [
            "\n",
            "\n",
            "\n",
            "feature_fraction, val_score: 1.070827:  14%|#4        | 1/7 [00:09<00:31,  5.24s/it]\u001b[A\u001b[A\u001b[A\n",
            "\n",
            "\n",
            "feature_fraction, val_score: 1.070827:  29%|##8       | 2/7 [00:09<00:24,  4.85s/it]\u001b[A\u001b[A\u001b[A\u001b[32m[I 2020-05-17 07:07:10,688]\u001b[0m Finished trial#1 with value: 1.0756933173867569 with parameters: {'feature_fraction': 0.5}. Best is trial#0 with value: 1.0708269737017382.\u001b[0m\n",
            "\n",
            "\n",
            "\n",
            "feature_fraction, val_score: 1.070827:  29%|##8       | 2/7 [00:09<00:24,  4.85s/it]\u001b[A\u001b[A\u001b[A"
          ],
          "name": "stderr"
        },
        {
          "output_type": "stream",
          "text": [
            "Early stopping, best iteration is:\n",
            "[62]\ttraining's rmse: 0.873365\tvalid_1's rmse: 1.07569\n",
            "Training until validation scores don't improve for 50 rounds.\n",
            "[100]\ttraining's rmse: 0.781505\tvalid_1's rmse: 1.07281\n"
          ],
          "name": "stdout"
        },
        {
          "output_type": "stream",
          "text": [
            "\n",
            "\n",
            "\n",
            "feature_fraction, val_score: 1.069814:  29%|##8       | 2/7 [00:13<00:24,  4.85s/it]\u001b[A\u001b[A\u001b[A\n",
            "\n",
            "\n",
            "feature_fraction, val_score: 1.069814:  43%|####2     | 3/7 [00:13<00:19,  4.77s/it]\u001b[A\u001b[A\u001b[A\u001b[32m[I 2020-05-17 07:07:15,272]\u001b[0m Finished trial#2 with value: 1.0698141213288002 with parameters: {'feature_fraction': 0.6}. Best is trial#2 with value: 1.0698141213288002.\u001b[0m\n",
            "\n",
            "\n",
            "\n",
            "feature_fraction, val_score: 1.069814:  43%|####2     | 3/7 [00:13<00:19,  4.77s/it]\u001b[A\u001b[A\u001b[A"
          ],
          "name": "stderr"
        },
        {
          "output_type": "stream",
          "text": [
            "Early stopping, best iteration is:\n",
            "[61]\ttraining's rmse: 0.871159\tvalid_1's rmse: 1.06981\n",
            "Training until validation scores don't improve for 50 rounds.\n",
            "[100]\ttraining's rmse: 0.772911\tvalid_1's rmse: 1.0674\n"
          ],
          "name": "stdout"
        },
        {
          "output_type": "stream",
          "text": [
            "\n",
            "\n",
            "\n",
            "feature_fraction, val_score: 1.067156:  43%|####2     | 3/7 [00:20<00:19,  4.77s/it]\u001b[A\u001b[A\u001b[A\n",
            "\n",
            "\n",
            "feature_fraction, val_score: 1.067156:  57%|#####7    | 4/7 [00:20<00:16,  5.37s/it]\u001b[A\u001b[A\u001b[A\u001b[32m[I 2020-05-17 07:07:22,051]\u001b[0m Finished trial#3 with value: 1.067156051576996 with parameters: {'feature_fraction': 0.8}. Best is trial#3 with value: 1.067156051576996.\u001b[0m\n",
            "\n",
            "\n",
            "\n",
            "feature_fraction, val_score: 1.067156:  57%|#####7    | 4/7 [00:20<00:16,  5.37s/it]\u001b[A\u001b[A\u001b[A"
          ],
          "name": "stderr"
        },
        {
          "output_type": "stream",
          "text": [
            "Early stopping, best iteration is:\n",
            "[82]\ttraining's rmse: 0.813536\tvalid_1's rmse: 1.06716\n",
            "Training until validation scores don't improve for 50 rounds.\n"
          ],
          "name": "stdout"
        },
        {
          "output_type": "stream",
          "text": [
            "\n",
            "\n",
            "\n",
            "feature_fraction, val_score: 1.065423:  57%|#####7    | 4/7 [00:26<00:16,  5.37s/it]\u001b[A\u001b[A\u001b[A\n",
            "\n",
            "\n",
            "feature_fraction, val_score: 1.065423:  71%|#######1  | 5/7 [00:26<00:10,  5.45s/it]\u001b[A\u001b[A\u001b[A\u001b[32m[I 2020-05-17 07:07:27,666]\u001b[0m Finished trial#4 with value: 1.0654234191795227 with parameters: {'feature_fraction': 0.8999999999999999}. Best is trial#4 with value: 1.0654234191795227.\u001b[0m\n",
            "\n",
            "\n",
            "\n",
            "feature_fraction, val_score: 1.065423:  71%|#######1  | 5/7 [00:26<00:10,  5.45s/it]\u001b[A\u001b[A\u001b[A"
          ],
          "name": "stderr"
        },
        {
          "output_type": "stream",
          "text": [
            "Early stopping, best iteration is:\n",
            "[42]\ttraining's rmse: 0.91815\tvalid_1's rmse: 1.06542\n",
            "Training until validation scores don't improve for 50 rounds.\n",
            "[100]\ttraining's rmse: 0.767736\tvalid_1's rmse: 1.0741\n"
          ],
          "name": "stdout"
        },
        {
          "output_type": "stream",
          "text": [
            "\n",
            "\n",
            "\n",
            "feature_fraction, val_score: 1.065423:  71%|#######1  | 5/7 [00:33<00:10,  5.45s/it]\u001b[A\u001b[A\u001b[A\n",
            "\n",
            "\n",
            "feature_fraction, val_score: 1.065423:  86%|########5 | 6/7 [00:33<00:05,  5.92s/it]\u001b[A\u001b[A\u001b[A\u001b[32m[I 2020-05-17 07:07:34,691]\u001b[0m Finished trial#5 with value: 1.072141001278558 with parameters: {'feature_fraction': 1.0}. Best is trial#4 with value: 1.0654234191795227.\u001b[0m\n",
            "\n",
            "\n",
            "\n",
            "feature_fraction, val_score: 1.065423:  86%|########5 | 6/7 [00:33<00:05,  5.92s/it]\u001b[A\u001b[A\u001b[A"
          ],
          "name": "stderr"
        },
        {
          "output_type": "stream",
          "text": [
            "Early stopping, best iteration is:\n",
            "[59]\ttraining's rmse: 0.8653\tvalid_1's rmse: 1.07214\n",
            "Training until validation scores don't improve for 50 rounds.\n",
            "[100]\ttraining's rmse: 0.791179\tvalid_1's rmse: 1.07403\n"
          ],
          "name": "stdout"
        },
        {
          "output_type": "stream",
          "text": [
            "\n",
            "\n",
            "\n",
            "feature_fraction, val_score: 1.065423:  86%|########5 | 6/7 [00:36<00:05,  5.92s/it]\u001b[A\u001b[A\u001b[A\n",
            "\n",
            "\n",
            "feature_fraction, val_score: 1.065423: 100%|##########| 7/7 [00:36<00:00,  5.22s/it]\u001b[A\u001b[A\u001b[A\u001b[32m[I 2020-05-17 07:07:38,285]\u001b[0m Finished trial#6 with value: 1.073546494389148 with parameters: {'feature_fraction': 0.4}. Best is trial#4 with value: 1.0654234191795227.\u001b[0m\n",
            "feature_fraction, val_score: 1.065423: 100%|##########| 7/7 [00:36<00:00,  5.27s/it]\n",
            "\n",
            "\n",
            "\n",
            "  0%|          | 0/20 [00:00<?, ?it/s]\u001b[A\u001b[A\u001b[A\n",
            "\n",
            "\n",
            "num_leaves, val_score: 1.065423:   0%|          | 0/20 [00:00<?, ?it/s]\u001b[A\u001b[A\u001b[A"
          ],
          "name": "stderr"
        },
        {
          "output_type": "stream",
          "text": [
            "Early stopping, best iteration is:\n",
            "[73]\ttraining's rmse: 0.851433\tvalid_1's rmse: 1.07355\n",
            "Training until validation scores don't improve for 50 rounds.\n"
          ],
          "name": "stdout"
        },
        {
          "output_type": "stream",
          "text": [
            "\n",
            "\n",
            "\n",
            "num_leaves, val_score: 1.065423:   0%|          | 0/20 [00:18<?, ?it/s]\u001b[A\u001b[A\u001b[A\n",
            "\n",
            "\n",
            "num_leaves, val_score: 1.065423:   5%|5         | 1/20 [00:18<05:42, 18.01s/it]\u001b[A\u001b[A\u001b[A\u001b[32m[I 2020-05-17 07:07:56,394]\u001b[0m Finished trial#7 with value: 1.0776615649600247 with parameters: {'num_leaves': 121}. Best is trial#7 with value: 1.0776615649600247.\u001b[0m\n",
            "\n",
            "\n",
            "\n",
            "num_leaves, val_score: 1.065423:   5%|5         | 1/20 [00:18<05:42, 18.01s/it]\u001b[A\u001b[A\u001b[A"
          ],
          "name": "stderr"
        },
        {
          "output_type": "stream",
          "text": [
            "Early stopping, best iteration is:\n",
            "[49]\ttraining's rmse: 0.568254\tvalid_1's rmse: 1.07766\n",
            "Training until validation scores don't improve for 50 rounds.\n"
          ],
          "name": "stdout"
        },
        {
          "output_type": "stream",
          "text": [
            "\n",
            "\n",
            "\n",
            "num_leaves, val_score: 1.065423:   5%|5         | 1/20 [00:31<05:42, 18.01s/it]\u001b[A\u001b[A\u001b[A\n",
            "\n",
            "\n",
            "num_leaves, val_score: 1.065423:  10%|#         | 2/20 [00:31<05:00, 16.68s/it]\u001b[A\u001b[A\u001b[A\u001b[32m[I 2020-05-17 07:08:09,972]\u001b[0m Finished trial#8 with value: 1.0726069682689103 with parameters: {'num_leaves': 93}. Best is trial#8 with value: 1.0726069682689103.\u001b[0m\n",
            "\n",
            "\n",
            "\n",
            "num_leaves, val_score: 1.065423:  10%|#         | 2/20 [00:31<05:00, 16.68s/it]\u001b[A\u001b[A\u001b[A"
          ],
          "name": "stderr"
        },
        {
          "output_type": "stream",
          "text": [
            "Early stopping, best iteration is:\n",
            "[41]\ttraining's rmse: 0.700656\tvalid_1's rmse: 1.07261\n",
            "Training until validation scores don't improve for 50 rounds.\n"
          ],
          "name": "stdout"
        },
        {
          "output_type": "stream",
          "text": [
            "\n",
            "\n",
            "\n",
            "num_leaves, val_score: 1.065423:  10%|#         | 2/20 [01:00<05:00, 16.68s/it]\u001b[A\u001b[A\u001b[A\n",
            "\n",
            "\n",
            "num_leaves, val_score: 1.065423:  15%|#5        | 3/20 [01:00<05:46, 20.40s/it]\u001b[A\u001b[A\u001b[A\u001b[32m[I 2020-05-17 07:08:39,056]\u001b[0m Finished trial#9 with value: 1.0808820094338467 with parameters: {'num_leaves': 219}. Best is trial#8 with value: 1.0726069682689103.\u001b[0m\n",
            "\n",
            "\n",
            "\n",
            "num_leaves, val_score: 1.065423:  15%|#5        | 3/20 [01:00<05:46, 20.40s/it]\u001b[A\u001b[A\u001b[A"
          ],
          "name": "stderr"
        },
        {
          "output_type": "stream",
          "text": [
            "Early stopping, best iteration is:\n",
            "[47]\ttraining's rmse: 0.390178\tvalid_1's rmse: 1.08088\n",
            "Training until validation scores don't improve for 50 rounds.\n"
          ],
          "name": "stdout"
        },
        {
          "output_type": "stream",
          "text": [
            "\n",
            "\n",
            "\n",
            "num_leaves, val_score: 1.065423:  15%|#5        | 3/20 [01:34<05:46, 20.40s/it]\u001b[A\u001b[A\u001b[A\n",
            "\n",
            "\n",
            "num_leaves, val_score: 1.065423:  20%|##        | 4/20 [01:34<06:32, 24.56s/it]\u001b[A\u001b[A\u001b[A\u001b[32m[I 2020-05-17 07:09:13,317]\u001b[0m Finished trial#10 with value: 1.0760546160357496 with parameters: {'num_leaves': 221}. Best is trial#8 with value: 1.0726069682689103.\u001b[0m\n",
            "\n",
            "\n",
            "\n",
            "num_leaves, val_score: 1.065423:  20%|##        | 4/20 [01:35<06:32, 24.56s/it]\u001b[A\u001b[A\u001b[A"
          ],
          "name": "stderr"
        },
        {
          "output_type": "stream",
          "text": [
            "Early stopping, best iteration is:\n",
            "[48]\ttraining's rmse: 0.381701\tvalid_1's rmse: 1.07605\n",
            "Training until validation scores don't improve for 50 rounds.\n",
            "[100]\ttraining's rmse: 0.962886\tvalid_1's rmse: 1.06656\n"
          ],
          "name": "stdout"
        },
        {
          "output_type": "stream",
          "text": [
            "\n",
            "\n",
            "\n",
            "num_leaves, val_score: 1.065423:  20%|##        | 4/20 [01:38<06:32, 24.56s/it]\u001b[A\u001b[A\u001b[A\n",
            "\n",
            "\n",
            "num_leaves, val_score: 1.065423:  25%|##5       | 5/20 [01:38<04:33, 18.25s/it]\u001b[A\u001b[A\u001b[A\u001b[32m[I 2020-05-17 07:09:16,835]\u001b[0m Finished trial#11 with value: 1.0665596877755072 with parameters: {'num_leaves': 10}. Best is trial#11 with value: 1.0665596877755072.\u001b[0m\n",
            "\n",
            "\n",
            "\n",
            "num_leaves, val_score: 1.065423:  25%|##5       | 5/20 [01:38<04:33, 18.25s/it]\u001b[A\u001b[A\u001b[A"
          ],
          "name": "stderr"
        },
        {
          "output_type": "stream",
          "text": [
            "Early stopping, best iteration is:\n",
            "[100]\ttraining's rmse: 0.962886\tvalid_1's rmse: 1.06656\n",
            "Training until validation scores don't improve for 50 rounds.\n"
          ],
          "name": "stdout"
        },
        {
          "output_type": "stream",
          "text": [
            "\n",
            "\n",
            "\n",
            "num_leaves, val_score: 1.065423:  25%|##5       | 5/20 [01:45<04:33, 18.25s/it]\u001b[A\u001b[A\u001b[A\n",
            "\n",
            "\n",
            "num_leaves, val_score: 1.065423:  30%|###       | 6/20 [01:45<03:29, 14.99s/it]\u001b[A\u001b[A\u001b[A\u001b[32m[I 2020-05-17 07:09:24,242]\u001b[0m Finished trial#12 with value: 1.0731027036610123 with parameters: {'num_leaves': 44}. Best is trial#11 with value: 1.0665596877755072.\u001b[0m\n",
            "\n",
            "\n",
            "\n",
            "num_leaves, val_score: 1.065423:  30%|###       | 6/20 [01:45<03:29, 14.99s/it]\u001b[A\u001b[A\u001b[A"
          ],
          "name": "stderr"
        },
        {
          "output_type": "stream",
          "text": [
            "Early stopping, best iteration is:\n",
            "[42]\ttraining's rmse: 0.86307\tvalid_1's rmse: 1.0731\n",
            "Training until validation scores don't improve for 50 rounds.\n"
          ],
          "name": "stdout"
        },
        {
          "output_type": "stream",
          "text": [
            "\n",
            "\n",
            "\n",
            "num_leaves, val_score: 1.065423:  30%|###       | 6/20 [02:07<03:29, 14.99s/it]\u001b[A\u001b[A\u001b[A\n",
            "\n",
            "\n",
            "num_leaves, val_score: 1.065423:  35%|###5      | 7/20 [02:07<03:40, 16.94s/it]\u001b[A\u001b[A\u001b[A\u001b[32m[I 2020-05-17 07:09:45,715]\u001b[0m Finished trial#13 with value: 1.0750576812906087 with parameters: {'num_leaves': 152}. Best is trial#11 with value: 1.0665596877755072.\u001b[0m\n",
            "\n",
            "\n",
            "\n",
            "num_leaves, val_score: 1.065423:  35%|###5      | 7/20 [02:07<03:40, 16.94s/it]\u001b[A\u001b[A\u001b[A"
          ],
          "name": "stderr"
        },
        {
          "output_type": "stream",
          "text": [
            "Early stopping, best iteration is:\n",
            "[48]\ttraining's rmse: 0.503128\tvalid_1's rmse: 1.07506\n",
            "Training until validation scores don't improve for 50 rounds.\n"
          ],
          "name": "stdout"
        },
        {
          "output_type": "stream",
          "text": [
            "\n",
            "\n",
            "\n",
            "num_leaves, val_score: 1.065423:  35%|###5      | 7/20 [02:32<03:40, 16.94s/it]\u001b[A\u001b[A\u001b[A\n",
            "\n",
            "\n",
            "num_leaves, val_score: 1.065423:  40%|####      | 8/20 [02:32<03:53, 19.42s/it]\u001b[A\u001b[A\u001b[A\u001b[32m[I 2020-05-17 07:10:10,918]\u001b[0m Finished trial#14 with value: 1.0730533583539386 with parameters: {'num_leaves': 199}. Best is trial#11 with value: 1.0665596877755072.\u001b[0m\n",
            "\n",
            "\n",
            "\n",
            "num_leaves, val_score: 1.065423:  40%|####      | 8/20 [02:32<03:53, 19.42s/it]\u001b[A\u001b[A\u001b[A"
          ],
          "name": "stderr"
        },
        {
          "output_type": "stream",
          "text": [
            "Early stopping, best iteration is:\n",
            "[41]\ttraining's rmse: 0.472475\tvalid_1's rmse: 1.07305\n",
            "Training until validation scores don't improve for 50 rounds.\n"
          ],
          "name": "stdout"
        },
        {
          "output_type": "stream",
          "text": [
            "\n",
            "\n",
            "\n",
            "num_leaves, val_score: 1.065423:  40%|####      | 8/20 [02:49<03:53, 19.42s/it]\u001b[A\u001b[A\u001b[A\n",
            "\n",
            "\n",
            "num_leaves, val_score: 1.065423:  45%|####5     | 9/20 [02:49<03:27, 18.82s/it]\u001b[A\u001b[A\u001b[A\u001b[32m[I 2020-05-17 07:10:28,366]\u001b[0m Finished trial#15 with value: 1.0789978681135488 with parameters: {'num_leaves': 135}. Best is trial#11 with value: 1.0665596877755072.\u001b[0m\n",
            "\n",
            "\n",
            "\n",
            "num_leaves, val_score: 1.065423:  45%|####5     | 9/20 [02:50<03:27, 18.82s/it]\u001b[A\u001b[A\u001b[A"
          ],
          "name": "stderr"
        },
        {
          "output_type": "stream",
          "text": [
            "Early stopping, best iteration is:\n",
            "[37]\ttraining's rmse: 0.628361\tvalid_1's rmse: 1.079\n",
            "Training until validation scores don't improve for 50 rounds.\n"
          ],
          "name": "stdout"
        },
        {
          "output_type": "stream",
          "text": [
            "\n",
            "\n",
            "\n",
            "num_leaves, val_score: 1.065423:  45%|####5     | 9/20 [02:56<03:27, 18.82s/it]\u001b[A\u001b[A\u001b[A\n",
            "\n",
            "\n",
            "num_leaves, val_score: 1.065423:  50%|#####     | 10/20 [02:56<02:30, 15.06s/it]\u001b[A\u001b[A\u001b[A\u001b[32m[I 2020-05-17 07:10:34,648]\u001b[0m Finished trial#16 with value: 1.069397528664682 with parameters: {'num_leaves': 35}. Best is trial#11 with value: 1.0665596877755072.\u001b[0m\n",
            "\n",
            "\n",
            "\n",
            "num_leaves, val_score: 1.065423:  50%|#####     | 10/20 [02:56<02:30, 15.06s/it]\u001b[A\u001b[A\u001b[A"
          ],
          "name": "stderr"
        },
        {
          "output_type": "stream",
          "text": [
            "Early stopping, best iteration is:\n",
            "[44]\ttraining's rmse: 0.895334\tvalid_1's rmse: 1.0694\n",
            "Training until validation scores don't improve for 50 rounds.\n",
            "[100]\ttraining's rmse: 1.03761\tvalid_1's rmse: 1.07102\n",
            "[200]\ttraining's rmse: 1.00548\tvalid_1's rmse: 1.06781\n"
          ],
          "name": "stdout"
        },
        {
          "output_type": "stream",
          "text": [
            "\n",
            "\n",
            "\n",
            "num_leaves, val_score: 1.065423:  50%|#####     | 10/20 [02:58<02:30, 15.06s/it]\u001b[A\u001b[A\u001b[A\n",
            "\n",
            "\n",
            "num_leaves, val_score: 1.065423:  55%|#####5    | 11/20 [02:58<01:42, 11.34s/it]\u001b[A\u001b[A\u001b[A\u001b[32m[I 2020-05-17 07:10:37,285]\u001b[0m Finished trial#17 with value: 1.0677072224296513 with parameters: {'num_leaves': 4}. Best is trial#11 with value: 1.0665596877755072.\u001b[0m\n",
            "\n",
            "\n",
            "\n",
            "num_leaves, val_score: 1.065423:  55%|#####5    | 11/20 [02:58<01:42, 11.34s/it]\u001b[A\u001b[A\u001b[A"
          ],
          "name": "stderr"
        },
        {
          "output_type": "stream",
          "text": [
            "Early stopping, best iteration is:\n",
            "[194]\ttraining's rmse: 1.0073\tvalid_1's rmse: 1.06771\n",
            "Training until validation scores don't improve for 50 rounds.\n",
            "[100]\ttraining's rmse: 1.02421\tvalid_1's rmse: 1.07125\n"
          ],
          "name": "stdout"
        },
        {
          "output_type": "stream",
          "text": [
            "\n",
            "\n",
            "\n",
            "num_leaves, val_score: 1.065423:  55%|#####5    | 11/20 [03:01<01:42, 11.34s/it]\u001b[A\u001b[A\u001b[A\n",
            "\n",
            "\n",
            "num_leaves, val_score: 1.065423:  60%|######    | 12/20 [03:01<01:10,  8.77s/it]\u001b[A\u001b[A\u001b[A"
          ],
          "name": "stderr"
        },
        {
          "output_type": "stream",
          "text": [
            "[200]\ttraining's rmse: 0.983098\tvalid_1's rmse: 1.07017\n",
            "Early stopping, best iteration is:\n",
            "[162]\ttraining's rmse: 0.998003\tvalid_1's rmse: 1.06942\n"
          ],
          "name": "stdout"
        },
        {
          "output_type": "stream",
          "text": [
            "\u001b[32m[I 2020-05-17 07:10:40,058]\u001b[0m Finished trial#18 with value: 1.0694224954030913 with parameters: {'num_leaves': 5}. Best is trial#11 with value: 1.0665596877755072.\u001b[0m\n",
            "\n",
            "\n",
            "\n",
            "num_leaves, val_score: 1.065423:  60%|######    | 12/20 [03:01<01:10,  8.77s/it]\u001b[A\u001b[A\u001b[A"
          ],
          "name": "stderr"
        },
        {
          "output_type": "stream",
          "text": [
            "Training until validation scores don't improve for 50 rounds.\n",
            "[100]\ttraining's rmse: 1.05378\tvalid_1's rmse: 1.07721\n",
            "[200]\ttraining's rmse: 1.02992\tvalid_1's rmse: 1.07121\n"
          ],
          "name": "stdout"
        },
        {
          "output_type": "stream",
          "text": [
            "\n",
            "\n",
            "\n",
            "num_leaves, val_score: 1.065423:  60%|######    | 12/20 [03:03<01:10,  8.77s/it]\u001b[A\u001b[A\u001b[A\n",
            "\n",
            "\n",
            "num_leaves, val_score: 1.065423:  65%|######5   | 13/20 [03:03<00:47,  6.83s/it]\u001b[A\u001b[A\u001b[A\u001b[32m[I 2020-05-17 07:10:42,371]\u001b[0m Finished trial#19 with value: 1.0707772324416969 with parameters: {'num_leaves': 3}. Best is trial#11 with value: 1.0665596877755072.\u001b[0m\n",
            "\n",
            "\n",
            "\n",
            "num_leaves, val_score: 1.065423:  65%|######5   | 13/20 [03:04<00:47,  6.83s/it]\u001b[A\u001b[A\u001b[A"
          ],
          "name": "stderr"
        },
        {
          "output_type": "stream",
          "text": [
            "Early stopping, best iteration is:\n",
            "[218]\ttraining's rmse: 1.02638\tvalid_1's rmse: 1.07078\n",
            "Training until validation scores don't improve for 50 rounds.\n"
          ],
          "name": "stdout"
        },
        {
          "output_type": "stream",
          "text": [
            "\n",
            "\n",
            "\n",
            "num_leaves, val_score: 1.065423:  65%|######5   | 13/20 [03:13<00:47,  6.83s/it]\u001b[A\u001b[A\u001b[A\n",
            "\n",
            "\n",
            "num_leaves, val_score: 1.065423:  70%|#######   | 14/20 [03:13<00:46,  7.71s/it]\u001b[A\u001b[A\u001b[A\u001b[32m[I 2020-05-17 07:10:52,131]\u001b[0m Finished trial#20 with value: 1.071292629708176 with parameters: {'num_leaves': 60}. Best is trial#11 with value: 1.0665596877755072.\u001b[0m\n",
            "\n",
            "\n",
            "\n",
            "num_leaves, val_score: 1.065423:  70%|#######   | 14/20 [03:13<00:46,  7.71s/it]\u001b[A\u001b[A\u001b[A"
          ],
          "name": "stderr"
        },
        {
          "output_type": "stream",
          "text": [
            "Early stopping, best iteration is:\n",
            "[45]\ttraining's rmse: 0.785566\tvalid_1's rmse: 1.07129\n",
            "Training until validation scores don't improve for 50 rounds.\n",
            "[100]\ttraining's rmse: 1.08023\tvalid_1's rmse: 1.09188\n",
            "[200]\ttraining's rmse: 1.06051\tvalid_1's rmse: 1.07969\n",
            "[300]\ttraining's rmse: 1.05016\tvalid_1's rmse: 1.07584\n",
            "[400]\ttraining's rmse: 1.04312\tvalid_1's rmse: 1.07416\n",
            "[500]\ttraining's rmse: 1.03758\tvalid_1's rmse: 1.07281\n"
          ],
          "name": "stdout"
        },
        {
          "output_type": "stream",
          "text": [
            "\n",
            "\n",
            "\n",
            "num_leaves, val_score: 1.065423:  70%|#######   | 14/20 [03:17<00:46,  7.71s/it]\u001b[A\u001b[A\u001b[A\n",
            "\n",
            "\n",
            "num_leaves, val_score: 1.065423:  75%|#######5  | 15/20 [03:17<00:31,  6.39s/it]\u001b[A\u001b[A\u001b[A"
          ],
          "name": "stderr"
        },
        {
          "output_type": "stream",
          "text": [
            "[600]\ttraining's rmse: 1.03293\tvalid_1's rmse: 1.07268\n",
            "Early stopping, best iteration is:\n",
            "[578]\ttraining's rmse: 1.03389\tvalid_1's rmse: 1.07253\n"
          ],
          "name": "stdout"
        },
        {
          "output_type": "stream",
          "text": [
            "\u001b[32m[I 2020-05-17 07:10:55,444]\u001b[0m Finished trial#21 with value: 1.0725337612494585 with parameters: {'num_leaves': 2}. Best is trial#11 with value: 1.0665596877755072.\u001b[0m\n",
            "\n",
            "\n",
            "\n",
            "num_leaves, val_score: 1.065423:  75%|#######5  | 15/20 [03:17<00:31,  6.39s/it]\u001b[A\u001b[A\u001b[A"
          ],
          "name": "stderr"
        },
        {
          "output_type": "stream",
          "text": [
            "Training until validation scores don't improve for 50 rounds.\n"
          ],
          "name": "stdout"
        },
        {
          "output_type": "stream",
          "text": [
            "\n",
            "\n",
            "\n",
            "num_leaves, val_score: 1.065423:  75%|#######5  | 15/20 [03:28<00:31,  6.39s/it]\u001b[A\u001b[A\u001b[A\n",
            "\n",
            "\n",
            "num_leaves, val_score: 1.065423:  80%|########  | 16/20 [03:28<00:32,  8.01s/it]\u001b[A\u001b[A\u001b[A\u001b[32m[I 2020-05-17 07:11:07,231]\u001b[0m Finished trial#22 with value: 1.069507450946047 with parameters: {'num_leaves': 83}. Best is trial#11 with value: 1.0665596877755072.\u001b[0m\n",
            "\n",
            "\n",
            "\n",
            "num_leaves, val_score: 1.065423:  80%|########  | 16/20 [03:28<00:32,  8.01s/it]\u001b[A\u001b[A\u001b[A"
          ],
          "name": "stderr"
        },
        {
          "output_type": "stream",
          "text": [
            "Early stopping, best iteration is:\n",
            "[38]\ttraining's rmse: 0.749925\tvalid_1's rmse: 1.06951\n",
            "Training until validation scores don't improve for 50 rounds.\n",
            "[100]\ttraining's rmse: 0.787707\tvalid_1's rmse: 1.07008\n"
          ],
          "name": "stdout"
        },
        {
          "output_type": "stream",
          "text": [
            "\n",
            "\n",
            "\n",
            "num_leaves, val_score: 1.065423:  80%|########  | 16/20 [03:35<00:32,  8.01s/it]\u001b[A\u001b[A\u001b[A\n",
            "\n",
            "\n",
            "num_leaves, val_score: 1.065423:  85%|########5 | 17/20 [03:35<00:23,  7.69s/it]\u001b[A\u001b[A\u001b[A\u001b[32m[I 2020-05-17 07:11:14,165]\u001b[0m Finished trial#23 with value: 1.0687614422722156 with parameters: {'num_leaves': 29}. Best is trial#11 with value: 1.0665596877755072.\u001b[0m\n",
            "\n",
            "\n",
            "\n",
            "num_leaves, val_score: 1.065423:  85%|########5 | 17/20 [03:35<00:23,  7.69s/it]\u001b[A\u001b[A\u001b[A"
          ],
          "name": "stderr"
        },
        {
          "output_type": "stream",
          "text": [
            "Early stopping, best iteration is:\n",
            "[77]\ttraining's rmse: 0.83754\tvalid_1's rmse: 1.06876\n",
            "Training until validation scores don't improve for 50 rounds.\n"
          ],
          "name": "stdout"
        },
        {
          "output_type": "stream",
          "text": [
            "\n",
            "\n",
            "\n",
            "num_leaves, val_score: 1.064365:  85%|########5 | 17/20 [03:47<00:23,  7.69s/it]\u001b[A\u001b[A\u001b[A\n",
            "\n",
            "\n",
            "num_leaves, val_score: 1.064365:  90%|######### | 18/20 [03:47<00:17,  8.90s/it]\u001b[A\u001b[A\u001b[A\u001b[32m[I 2020-05-17 07:11:25,887]\u001b[0m Finished trial#24 with value: 1.0643653336829568 with parameters: {'num_leaves': 71}. Best is trial#24 with value: 1.0643653336829568.\u001b[0m\n",
            "\n",
            "\n",
            "\n",
            "num_leaves, val_score: 1.064365:  90%|######### | 18/20 [03:47<00:17,  8.90s/it]\u001b[A\u001b[A\u001b[A"
          ],
          "name": "stderr"
        },
        {
          "output_type": "stream",
          "text": [
            "[100]\ttraining's rmse: 0.523747\tvalid_1's rmse: 1.06857\n",
            "Early stopping, best iteration is:\n",
            "[50]\ttraining's rmse: 0.719808\tvalid_1's rmse: 1.06437\n",
            "Training until validation scores don't improve for 50 rounds.\n"
          ],
          "name": "stdout"
        },
        {
          "output_type": "stream",
          "text": [
            "\n",
            "\n",
            "\n",
            "num_leaves, val_score: 1.064365:  90%|######### | 18/20 [03:58<00:17,  8.90s/it]\u001b[A\u001b[A\u001b[A\n",
            "\n",
            "\n",
            "num_leaves, val_score: 1.064365:  95%|#########5| 19/20 [03:58<00:09,  9.55s/it]\u001b[A\u001b[A\u001b[A\u001b[32m[I 2020-05-17 07:11:36,939]\u001b[0m Finished trial#25 with value: 1.0776389954035803 with parameters: {'num_leaves': 76}. Best is trial#24 with value: 1.0643653336829568.\u001b[0m\n",
            "\n",
            "\n",
            "\n",
            "num_leaves, val_score: 1.064365:  95%|#########5| 19/20 [03:58<00:09,  9.55s/it]\u001b[A\u001b[A\u001b[A"
          ],
          "name": "stderr"
        },
        {
          "output_type": "stream",
          "text": [
            "Early stopping, best iteration is:\n",
            "[38]\ttraining's rmse: 0.771289\tvalid_1's rmse: 1.07764\n",
            "Training until validation scores don't improve for 50 rounds.\n"
          ],
          "name": "stdout"
        },
        {
          "output_type": "stream",
          "text": [
            "\n",
            "\n",
            "\n",
            "num_leaves, val_score: 1.064365:  95%|#########5| 19/20 [04:13<00:09,  9.55s/it]\u001b[A\u001b[A\u001b[A\n",
            "\n",
            "\n",
            "num_leaves, val_score: 1.064365: 100%|##########| 20/20 [04:13<00:00, 11.16s/it]\u001b[A\u001b[A\u001b[A\u001b[32m[I 2020-05-17 07:11:51,876]\u001b[0m Finished trial#26 with value: 1.069461498041002 with parameters: {'num_leaves': 108}. Best is trial#24 with value: 1.0643653336829568.\u001b[0m\n",
            "num_leaves, val_score: 1.064365: 100%|##########| 20/20 [04:13<00:00, 12.68s/it]\n",
            "\n",
            "\n",
            "\n",
            "  0%|          | 0/10 [00:00<?, ?it/s]\u001b[A\u001b[A\u001b[A\n",
            "\n",
            "\n",
            "bagging, val_score: 1.064365:   0%|          | 0/10 [00:00<?, ?it/s]\u001b[A\u001b[A\u001b[A"
          ],
          "name": "stderr"
        },
        {
          "output_type": "stream",
          "text": [
            "Early stopping, best iteration is:\n",
            "[38]\ttraining's rmse: 0.682603\tvalid_1's rmse: 1.06946\n",
            "Training until validation scores don't improve for 50 rounds.\n"
          ],
          "name": "stdout"
        },
        {
          "output_type": "stream",
          "text": [
            "\n",
            "\n",
            "\n",
            "bagging, val_score: 1.064365:   0%|          | 0/10 [00:08<?, ?it/s]\u001b[A\u001b[A\u001b[A\n",
            "\n",
            "\n",
            "bagging, val_score: 1.064365:  10%|#         | 1/10 [00:08<01:13,  8.12s/it]\u001b[A\u001b[A\u001b[A\u001b[32m[I 2020-05-17 07:12:00,098]\u001b[0m Finished trial#27 with value: 1.092426501842365 with parameters: {'bagging_fraction': 0.4464281527271309, 'bagging_freq': 3}. Best is trial#27 with value: 1.092426501842365.\u001b[0m\n",
            "\n",
            "\n",
            "\n",
            "bagging, val_score: 1.064365:  10%|#         | 1/10 [00:08<01:13,  8.12s/it]\u001b[A\u001b[A\u001b[A"
          ],
          "name": "stderr"
        },
        {
          "output_type": "stream",
          "text": [
            "Early stopping, best iteration is:\n",
            "[26]\ttraining's rmse: 0.894295\tvalid_1's rmse: 1.09243\n",
            "Training until validation scores don't improve for 50 rounds.\n"
          ],
          "name": "stdout"
        },
        {
          "output_type": "stream",
          "text": [
            "\n",
            "\n",
            "\n",
            "bagging, val_score: 1.064365:  10%|#         | 1/10 [00:16<01:13,  8.12s/it]\u001b[A\u001b[A\u001b[A\n",
            "\n",
            "\n",
            "bagging, val_score: 1.064365:  20%|##        | 2/10 [00:16<01:06,  8.26s/it]\u001b[A\u001b[A\u001b[A\u001b[32m[I 2020-05-17 07:12:08,712]\u001b[0m Finished trial#28 with value: 1.089292448999534 with parameters: {'bagging_fraction': 0.40060805242587394, 'bagging_freq': 5}. Best is trial#28 with value: 1.089292448999534.\u001b[0m\n",
            "\n",
            "\n",
            "\n",
            "bagging, val_score: 1.064365:  20%|##        | 2/10 [00:16<01:06,  8.26s/it]\u001b[A\u001b[A\u001b[A"
          ],
          "name": "stderr"
        },
        {
          "output_type": "stream",
          "text": [
            "Early stopping, best iteration is:\n",
            "[32]\ttraining's rmse: 0.871024\tvalid_1's rmse: 1.08929\n",
            "Training until validation scores don't improve for 50 rounds.\n"
          ],
          "name": "stdout"
        },
        {
          "output_type": "stream",
          "text": [
            "\n",
            "\n",
            "\n",
            "bagging, val_score: 1.064365:  20%|##        | 2/10 [00:26<01:06,  8.26s/it]\u001b[A\u001b[A\u001b[A\n",
            "\n",
            "\n",
            "bagging, val_score: 1.064365:  30%|###       | 3/10 [00:26<01:01,  8.77s/it]\u001b[A\u001b[A\u001b[A\u001b[32m[I 2020-05-17 07:12:18,637]\u001b[0m Finished trial#29 with value: 1.0812120378373455 with parameters: {'bagging_fraction': 0.6005097250021356, 'bagging_freq': 6}. Best is trial#29 with value: 1.0812120378373455.\u001b[0m\n",
            "\n",
            "\n",
            "\n",
            "bagging, val_score: 1.064365:  30%|###       | 3/10 [00:26<01:01,  8.77s/it]\u001b[A\u001b[A\u001b[A"
          ],
          "name": "stderr"
        },
        {
          "output_type": "stream",
          "text": [
            "Early stopping, best iteration is:\n",
            "[36]\ttraining's rmse: 0.827089\tvalid_1's rmse: 1.08121\n",
            "Training until validation scores don't improve for 50 rounds.\n"
          ],
          "name": "stdout"
        },
        {
          "output_type": "stream",
          "text": [
            "\n",
            "\n",
            "\n",
            "bagging, val_score: 1.064365:  30%|###       | 3/10 [00:37<01:01,  8.77s/it]\u001b[A\u001b[A\u001b[A\n",
            "\n",
            "\n",
            "bagging, val_score: 1.064365:  40%|####      | 4/10 [00:37<00:56,  9.39s/it]\u001b[A\u001b[A\u001b[A\u001b[32m[I 2020-05-17 07:12:29,493]\u001b[0m Finished trial#30 with value: 1.0704414567569633 with parameters: {'bagging_fraction': 0.8384120075359522, 'bagging_freq': 1}. Best is trial#30 with value: 1.0704414567569633.\u001b[0m\n",
            "\n",
            "\n",
            "\n",
            "bagging, val_score: 1.064365:  40%|####      | 4/10 [00:37<00:56,  9.39s/it]\u001b[A\u001b[A\u001b[A"
          ],
          "name": "stderr"
        },
        {
          "output_type": "stream",
          "text": [
            "Early stopping, best iteration is:\n",
            "[42]\ttraining's rmse: 0.768983\tvalid_1's rmse: 1.07044\n",
            "Training until validation scores don't improve for 50 rounds.\n"
          ],
          "name": "stdout"
        },
        {
          "output_type": "stream",
          "text": [
            "\n",
            "\n",
            "\n",
            "bagging, val_score: 1.064365:  40%|####      | 4/10 [00:47<00:56,  9.39s/it]\u001b[A\u001b[A\u001b[A\n",
            "\n",
            "\n",
            "bagging, val_score: 1.064365:  50%|#####     | 5/10 [00:47<00:47,  9.52s/it]\u001b[A\u001b[A\u001b[A\u001b[32m[I 2020-05-17 07:12:39,308]\u001b[0m Finished trial#31 with value: 1.08221685146541 with parameters: {'bagging_fraction': 0.6086824946689628, 'bagging_freq': 5}. Best is trial#30 with value: 1.0704414567569633.\u001b[0m\n",
            "\n",
            "\n",
            "\n",
            "bagging, val_score: 1.064365:  50%|#####     | 5/10 [00:47<00:47,  9.52s/it]\u001b[A\u001b[A\u001b[A"
          ],
          "name": "stderr"
        },
        {
          "output_type": "stream",
          "text": [
            "Early stopping, best iteration is:\n",
            "[36]\ttraining's rmse: 0.823059\tvalid_1's rmse: 1.08222\n",
            "Training until validation scores don't improve for 50 rounds.\n",
            "[100]\ttraining's rmse: 0.527779\tvalid_1's rmse: 1.08102\n"
          ],
          "name": "stdout"
        },
        {
          "output_type": "stream",
          "text": [
            "\n",
            "\n",
            "\n",
            "bagging, val_score: 1.064365:  50%|#####     | 5/10 [00:59<00:47,  9.52s/it]\u001b[A\u001b[A\u001b[A\n",
            "\n",
            "\n",
            "bagging, val_score: 1.064365:  60%|######    | 6/10 [00:59<00:41, 10.36s/it]\u001b[A\u001b[A\u001b[A\u001b[32m[I 2020-05-17 07:12:51,630]\u001b[0m Finished trial#32 with value: 1.0760840763021455 with parameters: {'bagging_fraction': 0.7597832818625143, 'bagging_freq': 4}. Best is trial#30 with value: 1.0704414567569633.\u001b[0m\n",
            "\n",
            "\n",
            "\n",
            "bagging, val_score: 1.064365:  60%|######    | 6/10 [00:59<00:41, 10.36s/it]\u001b[A\u001b[A\u001b[A"
          ],
          "name": "stderr"
        },
        {
          "output_type": "stream",
          "text": [
            "Early stopping, best iteration is:\n",
            "[55]\ttraining's rmse: 0.708292\tvalid_1's rmse: 1.07608\n",
            "Training until validation scores don't improve for 50 rounds.\n"
          ],
          "name": "stdout"
        },
        {
          "output_type": "stream",
          "text": [
            "\n",
            "\n",
            "\n",
            "bagging, val_score: 1.064365:  60%|######    | 6/10 [01:10<00:41, 10.36s/it]\u001b[A\u001b[A\u001b[A\n",
            "\n",
            "\n",
            "bagging, val_score: 1.064365:  70%|#######   | 7/10 [01:10<00:31, 10.41s/it]\u001b[A\u001b[A\u001b[A\u001b[32m[I 2020-05-17 07:13:02,151]\u001b[0m Finished trial#33 with value: 1.0787429796728278 with parameters: {'bagging_fraction': 0.5992565052646893, 'bagging_freq': 2}. Best is trial#30 with value: 1.0704414567569633.\u001b[0m\n",
            "\n",
            "\n",
            "\n",
            "bagging, val_score: 1.064365:  70%|#######   | 7/10 [01:10<00:31, 10.41s/it]\u001b[A\u001b[A\u001b[A"
          ],
          "name": "stderr"
        },
        {
          "output_type": "stream",
          "text": [
            "Early stopping, best iteration is:\n",
            "[43]\ttraining's rmse: 0.779952\tvalid_1's rmse: 1.07874\n",
            "Training until validation scores don't improve for 50 rounds.\n"
          ],
          "name": "stdout"
        },
        {
          "output_type": "stream",
          "text": [
            "\n",
            "\n",
            "\n",
            "bagging, val_score: 1.064365:  70%|#######   | 7/10 [01:19<00:31, 10.41s/it]\u001b[A\u001b[A\u001b[A\n",
            "\n",
            "\n",
            "bagging, val_score: 1.064365:  80%|########  | 8/10 [01:19<00:20, 10.01s/it]\u001b[A\u001b[A\u001b[A\u001b[32m[I 2020-05-17 07:13:11,218]\u001b[0m Finished trial#34 with value: 1.08519863461135 with parameters: {'bagging_fraction': 0.6909033279280892, 'bagging_freq': 4}. Best is trial#30 with value: 1.0704414567569633.\u001b[0m\n",
            "\n",
            "\n",
            "\n",
            "bagging, val_score: 1.064365:  80%|########  | 8/10 [01:19<00:20, 10.01s/it]\u001b[A\u001b[A\u001b[A"
          ],
          "name": "stderr"
        },
        {
          "output_type": "stream",
          "text": [
            "Early stopping, best iteration is:\n",
            "[27]\ttraining's rmse: 0.872327\tvalid_1's rmse: 1.0852\n",
            "Training until validation scores don't improve for 50 rounds.\n"
          ],
          "name": "stdout"
        },
        {
          "output_type": "stream",
          "text": [
            "\n",
            "\n",
            "\n",
            "bagging, val_score: 1.064365:  80%|########  | 8/10 [01:30<00:20, 10.01s/it]\u001b[A\u001b[A\u001b[A\n",
            "\n",
            "\n",
            "bagging, val_score: 1.064365:  90%|######### | 9/10 [01:30<00:10, 10.51s/it]\u001b[A\u001b[A\u001b[A\u001b[32m[I 2020-05-17 07:13:22,896]\u001b[0m Finished trial#35 with value: 1.0729398046237595 with parameters: {'bagging_fraction': 0.9704820512170246, 'bagging_freq': 6}. Best is trial#30 with value: 1.0704414567569633.\u001b[0m\n",
            "\n",
            "\n",
            "\n",
            "bagging, val_score: 1.064365:  90%|######### | 9/10 [01:31<00:10, 10.51s/it]\u001b[A\u001b[A\u001b[A"
          ],
          "name": "stderr"
        },
        {
          "output_type": "stream",
          "text": [
            "Early stopping, best iteration is:\n",
            "[47]\ttraining's rmse: 0.737502\tvalid_1's rmse: 1.07294\n",
            "Training until validation scores don't improve for 50 rounds.\n"
          ],
          "name": "stdout"
        },
        {
          "output_type": "stream",
          "text": [
            "\n",
            "\n",
            "\n",
            "bagging, val_score: 1.064365:  90%|######### | 9/10 [01:40<00:10, 10.51s/it]\u001b[A\u001b[A\u001b[A\n",
            "\n",
            "\n",
            "bagging, val_score: 1.064365: 100%|##########| 10/10 [01:40<00:00, 10.26s/it]\u001b[A\u001b[A\u001b[A\u001b[32m[I 2020-05-17 07:13:32,564]\u001b[0m Finished trial#36 with value: 1.0747772420382462 with parameters: {'bagging_fraction': 0.7678265676025945, 'bagging_freq': 6}. Best is trial#30 with value: 1.0704414567569633.\u001b[0m\n",
            "bagging, val_score: 1.064365: 100%|##########| 10/10 [01:40<00:00, 10.07s/it]\n",
            "\n",
            "\n",
            "\n",
            "  0%|          | 0/6 [00:00<?, ?it/s]\u001b[A\u001b[A\u001b[A\n",
            "\n",
            "\n",
            "feature_fraction_stage2, val_score: 1.064365:   0%|          | 0/6 [00:00<?, ?it/s]\u001b[A\u001b[A\u001b[A"
          ],
          "name": "stderr"
        },
        {
          "output_type": "stream",
          "text": [
            "Early stopping, best iteration is:\n",
            "[31]\ttraining's rmse: 0.844727\tvalid_1's rmse: 1.07478\n"
          ],
          "name": "stdout"
        },
        {
          "output_type": "stream",
          "text": [
            "/usr/local/lib/python3.6/dist-packages/lightgbm/engine.py:118: UserWarning:\n",
            "\n",
            "Found `num_rounds` in params. Will use it instead of argument\n",
            "\n"
          ],
          "name": "stderr"
        },
        {
          "output_type": "stream",
          "text": [
            "Training until validation scores don't improve for 50 rounds.\n",
            "[100]\ttraining's rmse: 0.518349\tvalid_1's rmse: 1.07521\n"
          ],
          "name": "stdout"
        },
        {
          "output_type": "stream",
          "text": [
            "\n",
            "\n",
            "\n",
            "feature_fraction_stage2, val_score: 1.064365:   0%|          | 0/6 [00:15<?, ?it/s]\u001b[A\u001b[A\u001b[A\n",
            "\n",
            "\n",
            "feature_fraction_stage2, val_score: 1.064365:  17%|#6        | 1/6 [00:15<01:19, 15.81s/it]\u001b[A\u001b[A\u001b[A\u001b[32m[I 2020-05-17 07:13:48,483]\u001b[0m Finished trial#37 with value: 1.0722296328454404 with parameters: {'feature_fraction': 0.948}. Best is trial#37 with value: 1.0722296328454404.\u001b[0m\n",
            "\n",
            "\n",
            "\n",
            "feature_fraction_stage2, val_score: 1.064365:  17%|#6        | 1/6 [00:15<01:19, 15.81s/it]\u001b[A\u001b[A\u001b[A"
          ],
          "name": "stderr"
        },
        {
          "output_type": "stream",
          "text": [
            "Early stopping, best iteration is:\n",
            "[85]\ttraining's rmse: 0.568249\tvalid_1's rmse: 1.07223\n",
            "Training until validation scores don't improve for 50 rounds.\n"
          ],
          "name": "stdout"
        },
        {
          "output_type": "stream",
          "text": [
            "\n",
            "\n",
            "\n",
            "feature_fraction_stage2, val_score: 1.064365:  17%|#6        | 1/6 [00:26<01:19, 15.81s/it]\u001b[A\u001b[A\u001b[A\n",
            "\n",
            "\n",
            "feature_fraction_stage2, val_score: 1.064365:  33%|###3      | 2/6 [00:26<00:56, 14.13s/it]\u001b[A\u001b[A\u001b[A\u001b[32m[I 2020-05-17 07:13:58,678]\u001b[0m Finished trial#38 with value: 1.0734347356662157 with parameters: {'feature_fraction': 0.9159999999999999}. Best is trial#37 with value: 1.0722296328454404.\u001b[0m\n",
            "\n",
            "\n",
            "\n",
            "feature_fraction_stage2, val_score: 1.064365:  33%|###3      | 2/6 [00:26<00:56, 14.13s/it]\u001b[A\u001b[A\u001b[A"
          ],
          "name": "stderr"
        },
        {
          "output_type": "stream",
          "text": [
            "Early stopping, best iteration is:\n",
            "[35]\ttraining's rmse: 0.805236\tvalid_1's rmse: 1.07343\n",
            "Training until validation scores don't improve for 50 rounds.\n"
          ],
          "name": "stdout"
        },
        {
          "output_type": "stream",
          "text": [
            "\n",
            "\n",
            "\n",
            "feature_fraction_stage2, val_score: 1.064365:  33%|###3      | 2/6 [00:36<00:56, 14.13s/it]\u001b[A\u001b[A\u001b[A\n",
            "\n",
            "\n",
            "feature_fraction_stage2, val_score: 1.064365:  50%|#####     | 3/6 [00:36<00:39, 13.12s/it]\u001b[A\u001b[A\u001b[A\u001b[32m[I 2020-05-17 07:14:09,431]\u001b[0m Finished trial#39 with value: 1.072596699575522 with parameters: {'feature_fraction': 0.8839999999999999}. Best is trial#37 with value: 1.0722296328454404.\u001b[0m\n",
            "\n",
            "\n",
            "\n",
            "feature_fraction_stage2, val_score: 1.064365:  50%|#####     | 3/6 [00:36<00:39, 13.12s/it]\u001b[A\u001b[A\u001b[A"
          ],
          "name": "stderr"
        },
        {
          "output_type": "stream",
          "text": [
            "Early stopping, best iteration is:\n",
            "[42]\ttraining's rmse: 0.763015\tvalid_1's rmse: 1.0726\n",
            "Training until validation scores don't improve for 50 rounds.\n",
            "[100]\ttraining's rmse: 0.518549\tvalid_1's rmse: 1.07479\n"
          ],
          "name": "stdout"
        },
        {
          "output_type": "stream",
          "text": [
            "\n",
            "\n",
            "\n",
            "feature_fraction_stage2, val_score: 1.064365:  50%|#####     | 3/6 [00:49<00:39, 13.12s/it]\u001b[A\u001b[A\u001b[A\n",
            "\n",
            "\n",
            "feature_fraction_stage2, val_score: 1.064365:  67%|######6   | 4/6 [00:49<00:26, 13.10s/it]\u001b[A\u001b[A\u001b[A\u001b[32m[I 2020-05-17 07:14:22,505]\u001b[0m Finished trial#40 with value: 1.0708080609674928 with parameters: {'feature_fraction': 0.9799999999999999}. Best is trial#40 with value: 1.0708080609674928.\u001b[0m\n",
            "\n",
            "\n",
            "\n",
            "feature_fraction_stage2, val_score: 1.064365:  67%|######6   | 4/6 [00:49<00:26, 13.10s/it]\u001b[A\u001b[A\u001b[A"
          ],
          "name": "stderr"
        },
        {
          "output_type": "stream",
          "text": [
            "Early stopping, best iteration is:\n",
            "[53]\ttraining's rmse: 0.701214\tvalid_1's rmse: 1.07081\n",
            "Training until validation scores don't improve for 50 rounds.\n"
          ],
          "name": "stdout"
        },
        {
          "output_type": "stream",
          "text": [
            "\n",
            "\n",
            "\n",
            "feature_fraction_stage2, val_score: 1.064365:  67%|######6   | 4/6 [01:00<00:26, 13.10s/it]\u001b[A\u001b[A\u001b[A\n",
            "\n",
            "\n",
            "feature_fraction_stage2, val_score: 1.064365:  83%|########3 | 5/6 [01:00<00:12, 12.33s/it]\u001b[A\u001b[A\u001b[A\u001b[32m[I 2020-05-17 07:14:33,033]\u001b[0m Finished trial#41 with value: 1.0699074880913153 with parameters: {'feature_fraction': 0.82}. Best is trial#41 with value: 1.0699074880913153.\u001b[0m\n",
            "\n",
            "\n",
            "\n",
            "feature_fraction_stage2, val_score: 1.064365:  83%|########3 | 5/6 [01:00<00:12, 12.33s/it]\u001b[A\u001b[A\u001b[A"
          ],
          "name": "stderr"
        },
        {
          "output_type": "stream",
          "text": [
            "Early stopping, best iteration is:\n",
            "[48]\ttraining's rmse: 0.731913\tvalid_1's rmse: 1.06991\n",
            "Training until validation scores don't improve for 50 rounds.\n"
          ],
          "name": "stdout"
        },
        {
          "output_type": "stream",
          "text": [
            "\n",
            "\n",
            "\n",
            "feature_fraction_stage2, val_score: 1.064365:  83%|########3 | 5/6 [01:11<00:12, 12.33s/it]\u001b[A\u001b[A\u001b[A\n",
            "\n",
            "\n",
            "feature_fraction_stage2, val_score: 1.064365: 100%|##########| 6/6 [01:11<00:00, 11.97s/it]\u001b[A\u001b[A\u001b[A\u001b[32m[I 2020-05-17 07:14:44,172]\u001b[0m Finished trial#42 with value: 1.066840116411671 with parameters: {'feature_fraction': 0.852}. Best is trial#42 with value: 1.066840116411671.\u001b[0m\n",
            "feature_fraction_stage2, val_score: 1.064365: 100%|##########| 6/6 [01:11<00:00, 11.93s/it]\n",
            "\n",
            "\n",
            "\n",
            "  0%|          | 0/20 [00:00<?, ?it/s]\u001b[A\u001b[A\u001b[A\n",
            "\n",
            "\n",
            "regularization_factors, val_score: 1.064365:   0%|          | 0/20 [00:00<?, ?it/s]\u001b[A\u001b[A\u001b[A"
          ],
          "name": "stderr"
        },
        {
          "output_type": "stream",
          "text": [
            "[100]\ttraining's rmse: 0.525209\tvalid_1's rmse: 1.06769\n",
            "Early stopping, best iteration is:\n",
            "[50]\ttraining's rmse: 0.721972\tvalid_1's rmse: 1.06684\n",
            "Training until validation scores don't improve for 50 rounds.\n"
          ],
          "name": "stdout"
        },
        {
          "output_type": "stream",
          "text": [
            "\n",
            "\n",
            "\n",
            "regularization_factors, val_score: 1.064365:   0%|          | 0/20 [00:10<?, ?it/s]\u001b[A\u001b[A\u001b[A\n",
            "\n",
            "\n",
            "regularization_factors, val_score: 1.064365:   5%|5         | 1/20 [00:10<03:20, 10.57s/it]\u001b[A\u001b[A\u001b[A\u001b[32m[I 2020-05-17 07:14:54,844]\u001b[0m Finished trial#43 with value: 1.0730374636206808 with parameters: {'lambda_l1': 0.0023547760176195823, 'lambda_l2': 0.08981669975661054}. Best is trial#43 with value: 1.0730374636206808.\u001b[0m\n",
            "\n",
            "\n",
            "\n",
            "regularization_factors, val_score: 1.064365:   5%|5         | 1/20 [00:10<03:20, 10.57s/it]\u001b[A\u001b[A\u001b[A"
          ],
          "name": "stderr"
        },
        {
          "output_type": "stream",
          "text": [
            "Early stopping, best iteration is:\n",
            "[38]\ttraining's rmse: 0.788091\tvalid_1's rmse: 1.07304\n",
            "Training until validation scores don't improve for 50 rounds.\n",
            "[100]\ttraining's rmse: 0.525436\tvalid_1's rmse: 1.0731\n"
          ],
          "name": "stdout"
        },
        {
          "output_type": "stream",
          "text": [
            "\n",
            "\n",
            "\n",
            "regularization_factors, val_score: 1.064365:   5%|5         | 1/20 [00:25<03:20, 10.57s/it]\u001b[A\u001b[A\u001b[A\n",
            "\n",
            "\n",
            "regularization_factors, val_score: 1.064365:  10%|#         | 2/20 [00:25<03:34, 11.90s/it]\u001b[A\u001b[A\u001b[A\u001b[32m[I 2020-05-17 07:15:09,857]\u001b[0m Finished trial#44 with value: 1.0699047223181757 with parameters: {'lambda_l1': 0.016665135319112, 'lambda_l2': 0.6397951784305276}. Best is trial#44 with value: 1.0699047223181757.\u001b[0m\n",
            "\n",
            "\n",
            "\n",
            "regularization_factors, val_score: 1.064365:  10%|#         | 2/20 [00:25<03:34, 11.90s/it]\u001b[A\u001b[A\u001b[A"
          ],
          "name": "stderr"
        },
        {
          "output_type": "stream",
          "text": [
            "Early stopping, best iteration is:\n",
            "[79]\ttraining's rmse: 0.596043\tvalid_1's rmse: 1.0699\n",
            "Training until validation scores don't improve for 50 rounds.\n"
          ],
          "name": "stdout"
        },
        {
          "output_type": "stream",
          "text": [
            "\n",
            "\n",
            "\n",
            "regularization_factors, val_score: 1.064365:  10%|#         | 2/20 [00:35<03:34, 11.90s/it]\u001b[A\u001b[A\u001b[A\n",
            "\n",
            "\n",
            "regularization_factors, val_score: 1.064365:  15%|#5        | 3/20 [00:35<03:14, 11.45s/it]\u001b[A\u001b[A\u001b[A\u001b[32m[I 2020-05-17 07:15:20,271]\u001b[0m Finished trial#45 with value: 1.0698203673297206 with parameters: {'lambda_l1': 0.024403435955109232, 'lambda_l2': 1.026945419517845e-08}. Best is trial#45 with value: 1.0698203673297206.\u001b[0m\n",
            "\n",
            "\n",
            "\n",
            "regularization_factors, val_score: 1.064365:  15%|#5        | 3/20 [00:36<03:14, 11.45s/it]\u001b[A\u001b[A\u001b[A"
          ],
          "name": "stderr"
        },
        {
          "output_type": "stream",
          "text": [
            "Early stopping, best iteration is:\n",
            "[34]\ttraining's rmse: 0.810717\tvalid_1's rmse: 1.06982\n",
            "Training until validation scores don't improve for 50 rounds.\n"
          ],
          "name": "stdout"
        },
        {
          "output_type": "stream",
          "text": [
            "\n",
            "\n",
            "\n",
            "regularization_factors, val_score: 1.064365:  15%|#5        | 3/20 [00:47<03:14, 11.45s/it]\u001b[A\u001b[A\u001b[A\n",
            "\n",
            "\n",
            "regularization_factors, val_score: 1.064365:  20%|##        | 4/20 [00:47<03:03, 11.48s/it]\u001b[A\u001b[A\u001b[A\u001b[32m[I 2020-05-17 07:15:31,813]\u001b[0m Finished trial#46 with value: 1.070304813400664 with parameters: {'lambda_l1': 1.6949192580226329, 'lambda_l2': 4.7177123980922905e-08}. Best is trial#45 with value: 1.0698203673297206.\u001b[0m\n",
            "\n",
            "\n",
            "\n",
            "regularization_factors, val_score: 1.064365:  20%|##        | 4/20 [00:47<03:03, 11.48s/it]\u001b[A\u001b[A\u001b[A"
          ],
          "name": "stderr"
        },
        {
          "output_type": "stream",
          "text": [
            "Early stopping, best iteration is:\n",
            "[41]\ttraining's rmse: 0.776559\tvalid_1's rmse: 1.0703\n",
            "Training until validation scores don't improve for 50 rounds.\n"
          ],
          "name": "stdout"
        },
        {
          "output_type": "stream",
          "text": [
            "\n",
            "\n",
            "\n",
            "regularization_factors, val_score: 1.064365:  20%|##        | 4/20 [01:00<03:03, 11.48s/it]\u001b[A\u001b[A\u001b[A\n",
            "\n",
            "\n",
            "regularization_factors, val_score: 1.064365:  25%|##5       | 5/20 [01:00<02:56, 11.79s/it]\u001b[A\u001b[A\u001b[A\u001b[32m[I 2020-05-17 07:15:44,340]\u001b[0m Finished trial#47 with value: 1.066515438008027 with parameters: {'lambda_l1': 0.5457726927533676, 'lambda_l2': 7.778525081772356}. Best is trial#47 with value: 1.066515438008027.\u001b[0m\n",
            "\n",
            "\n",
            "\n",
            "regularization_factors, val_score: 1.064365:  25%|##5       | 5/20 [01:00<02:56, 11.79s/it]\u001b[A\u001b[A\u001b[A"
          ],
          "name": "stderr"
        },
        {
          "output_type": "stream",
          "text": [
            "Early stopping, best iteration is:\n",
            "[47]\ttraining's rmse: 0.758132\tvalid_1's rmse: 1.06652\n",
            "Training until validation scores don't improve for 50 rounds.\n"
          ],
          "name": "stdout"
        },
        {
          "output_type": "stream",
          "text": [
            "\n",
            "\n",
            "\n",
            "regularization_factors, val_score: 1.064365:  25%|##5       | 5/20 [01:11<02:56, 11.79s/it]\u001b[A\u001b[A\u001b[A\n",
            "\n",
            "\n",
            "regularization_factors, val_score: 1.064365:  30%|###       | 6/20 [01:11<02:44, 11.77s/it]\u001b[A\u001b[A\u001b[A\u001b[32m[I 2020-05-17 07:15:56,050]\u001b[0m Finished trial#48 with value: 1.0643649556611225 with parameters: {'lambda_l1': 0.0006792776245050159, 'lambda_l2': 4.5940471941917506e-08}. Best is trial#48 with value: 1.0643649556611225.\u001b[0m\n",
            "\n",
            "\n",
            "\n",
            "regularization_factors, val_score: 1.064365:  30%|###       | 6/20 [01:11<02:44, 11.77s/it]\u001b[A\u001b[A\u001b[A"
          ],
          "name": "stderr"
        },
        {
          "output_type": "stream",
          "text": [
            "[100]\ttraining's rmse: 0.523757\tvalid_1's rmse: 1.06857\n",
            "Early stopping, best iteration is:\n",
            "[50]\ttraining's rmse: 0.719813\tvalid_1's rmse: 1.06436\n",
            "Training until validation scores don't improve for 50 rounds.\n",
            "[100]\ttraining's rmse: 0.523002\tvalid_1's rmse: 1.07397\n"
          ],
          "name": "stdout"
        },
        {
          "output_type": "stream",
          "text": [
            "\n",
            "\n",
            "\n",
            "regularization_factors, val_score: 1.064365:  30%|###       | 6/20 [01:25<02:44, 11.77s/it]\u001b[A\u001b[A\u001b[A\n",
            "\n",
            "\n",
            "regularization_factors, val_score: 1.064365:  35%|###5      | 7/20 [01:25<02:39, 12.29s/it]\u001b[A\u001b[A\u001b[A\u001b[32m[I 2020-05-17 07:16:09,549]\u001b[0m Finished trial#49 with value: 1.0682510882332334 with parameters: {'lambda_l1': 0.7793980769775171, 'lambda_l2': 0.012704580107219624}. Best is trial#48 with value: 1.0643649556611225.\u001b[0m\n",
            "\n",
            "\n",
            "\n",
            "regularization_factors, val_score: 1.064365:  35%|###5      | 7/20 [01:25<02:39, 12.29s/it]\u001b[A\u001b[A\u001b[A"
          ],
          "name": "stderr"
        },
        {
          "output_type": "stream",
          "text": [
            "Early stopping, best iteration is:\n",
            "[61]\ttraining's rmse: 0.669805\tvalid_1's rmse: 1.06825\n",
            "Training until validation scores don't improve for 50 rounds.\n"
          ],
          "name": "stdout"
        },
        {
          "output_type": "stream",
          "text": [
            "\n",
            "\n",
            "\n",
            "regularization_factors, val_score: 1.064365:  35%|###5      | 7/20 [01:35<02:39, 12.29s/it]\u001b[A\u001b[A\u001b[A\n",
            "\n",
            "\n",
            "regularization_factors, val_score: 1.064365:  40%|####      | 8/20 [01:35<02:21, 11.75s/it]\u001b[A\u001b[A\u001b[A\u001b[32m[I 2020-05-17 07:16:20,055]\u001b[0m Finished trial#50 with value: 1.0742301252769242 with parameters: {'lambda_l1': 2.390396123672623e-06, 'lambda_l2': 0.10309198943681422}. Best is trial#48 with value: 1.0643649556611225.\u001b[0m\n",
            "\n",
            "\n",
            "\n",
            "regularization_factors, val_score: 1.064365:  40%|####      | 8/20 [01:35<02:21, 11.75s/it]\u001b[A\u001b[A\u001b[A"
          ],
          "name": "stderr"
        },
        {
          "output_type": "stream",
          "text": [
            "Early stopping, best iteration is:\n",
            "[36]\ttraining's rmse: 0.800045\tvalid_1's rmse: 1.07423\n",
            "Training until validation scores don't improve for 50 rounds.\n"
          ],
          "name": "stdout"
        },
        {
          "output_type": "stream",
          "text": [
            "\n",
            "\n",
            "\n",
            "regularization_factors, val_score: 1.064365:  40%|####      | 8/20 [01:46<02:21, 11.75s/it]\u001b[A\u001b[A\u001b[A\n",
            "\n",
            "\n",
            "regularization_factors, val_score: 1.064365:  45%|####5     | 9/20 [01:46<02:06, 11.52s/it]\u001b[A\u001b[A\u001b[A\u001b[32m[I 2020-05-17 07:16:31,042]\u001b[0m Finished trial#51 with value: 1.0733292551118923 with parameters: {'lambda_l1': 1.565620152131564, 'lambda_l2': 4.742191521348084e-07}. Best is trial#48 with value: 1.0643649556611225.\u001b[0m\n",
            "\n",
            "\n",
            "\n",
            "regularization_factors, val_score: 1.064365:  45%|####5     | 9/20 [01:46<02:06, 11.52s/it]\u001b[A\u001b[A\u001b[A"
          ],
          "name": "stderr"
        },
        {
          "output_type": "stream",
          "text": [
            "Early stopping, best iteration is:\n",
            "[38]\ttraining's rmse: 0.794769\tvalid_1's rmse: 1.07333\n",
            "Training until validation scores don't improve for 50 rounds.\n"
          ],
          "name": "stdout"
        },
        {
          "output_type": "stream",
          "text": [
            "\n",
            "\n",
            "\n",
            "regularization_factors, val_score: 1.064365:  45%|####5     | 9/20 [01:58<02:06, 11.52s/it]\u001b[A\u001b[A\u001b[A\n",
            "\n",
            "\n",
            "regularization_factors, val_score: 1.064365:  50%|#####     | 10/20 [01:58<01:55, 11.57s/it]\u001b[A\u001b[A\u001b[A\u001b[32m[I 2020-05-17 07:16:42,708]\u001b[0m Finished trial#52 with value: 1.0643652163948247 with parameters: {'lambda_l1': 3.3900061755126414e-05, 'lambda_l2': 0.0003471370246784495}. Best is trial#48 with value: 1.0643649556611225.\u001b[0m\n",
            "\n",
            "\n",
            "\n",
            "regularization_factors, val_score: 1.064365:  50%|#####     | 10/20 [01:58<01:55, 11.57s/it]\u001b[A\u001b[A\u001b[A"
          ],
          "name": "stderr"
        },
        {
          "output_type": "stream",
          "text": [
            "[100]\ttraining's rmse: 0.52375\tvalid_1's rmse: 1.06857\n",
            "Early stopping, best iteration is:\n",
            "[50]\ttraining's rmse: 0.719809\tvalid_1's rmse: 1.06437\n",
            "Training until validation scores don't improve for 50 rounds.\n"
          ],
          "name": "stdout"
        },
        {
          "output_type": "stream",
          "text": [
            "\n",
            "\n",
            "\n",
            "regularization_factors, val_score: 1.064365:  50%|#####     | 10/20 [02:10<01:55, 11.57s/it]\u001b[A\u001b[A\u001b[A\n",
            "\n",
            "\n",
            "regularization_factors, val_score: 1.064365:  55%|#####5    | 11/20 [02:10<01:44, 11.58s/it]\u001b[A\u001b[A\u001b[A\u001b[32m[I 2020-05-17 07:16:54,329]\u001b[0m Finished trial#53 with value: 1.0643653325821512 with parameters: {'lambda_l1': 1.2740399118047016e-08, 'lambda_l2': 3.7025752529542596e-06}. Best is trial#48 with value: 1.0643649556611225.\u001b[0m\n",
            "\n",
            "\n",
            "\n",
            "regularization_factors, val_score: 1.064365:  55%|#####5    | 11/20 [02:10<01:44, 11.58s/it]\u001b[A\u001b[A\u001b[A"
          ],
          "name": "stderr"
        },
        {
          "output_type": "stream",
          "text": [
            "[100]\ttraining's rmse: 0.523747\tvalid_1's rmse: 1.06857\n",
            "Early stopping, best iteration is:\n",
            "[50]\ttraining's rmse: 0.719808\tvalid_1's rmse: 1.06437\n",
            "Training until validation scores don't improve for 50 rounds.\n"
          ],
          "name": "stdout"
        },
        {
          "output_type": "stream",
          "text": [
            "\n",
            "\n",
            "\n",
            "regularization_factors, val_score: 1.064365:  55%|#####5    | 11/20 [02:21<01:44, 11.58s/it]\u001b[A\u001b[A\u001b[A\n",
            "\n",
            "\n",
            "regularization_factors, val_score: 1.064365:  60%|######    | 12/20 [02:21<01:32, 11.60s/it]\u001b[A\u001b[A\u001b[A\u001b[32m[I 2020-05-17 07:17:05,972]\u001b[0m Finished trial#54 with value: 1.0643652267685233 with parameters: {'lambda_l1': 3.0011638530268107e-05, 'lambda_l2': 0.0003180346972492243}. Best is trial#48 with value: 1.0643649556611225.\u001b[0m\n",
            "\n",
            "\n",
            "\n",
            "regularization_factors, val_score: 1.064365:  60%|######    | 12/20 [02:21<01:32, 11.60s/it]\u001b[A\u001b[A\u001b[A"
          ],
          "name": "stderr"
        },
        {
          "output_type": "stream",
          "text": [
            "[100]\ttraining's rmse: 0.52375\tvalid_1's rmse: 1.06857\n",
            "Early stopping, best iteration is:\n",
            "[50]\ttraining's rmse: 0.719809\tvalid_1's rmse: 1.06437\n",
            "Training until validation scores don't improve for 50 rounds.\n"
          ],
          "name": "stdout"
        },
        {
          "output_type": "stream",
          "text": [
            "\n",
            "\n",
            "\n",
            "regularization_factors, val_score: 1.064365:  60%|######    | 12/20 [02:33<01:32, 11.60s/it]\u001b[A\u001b[A\u001b[A\n",
            "\n",
            "\n",
            "regularization_factors, val_score: 1.064365:  65%|######5   | 13/20 [02:33<01:21, 11.61s/it]\u001b[A\u001b[A\u001b[A\u001b[32m[I 2020-05-17 07:17:17,588]\u001b[0m Finished trial#55 with value: 1.064365302684138 with parameters: {'lambda_l1': 3.6263549771887894e-06, 'lambda_l2': 0.00010208148955036941}. Best is trial#48 with value: 1.0643649556611225.\u001b[0m\n",
            "\n",
            "\n",
            "\n",
            "regularization_factors, val_score: 1.064365:  65%|######5   | 13/20 [02:33<01:21, 11.61s/it]\u001b[A\u001b[A\u001b[A"
          ],
          "name": "stderr"
        },
        {
          "output_type": "stream",
          "text": [
            "[100]\ttraining's rmse: 0.523748\tvalid_1's rmse: 1.06857\n",
            "Early stopping, best iteration is:\n",
            "[50]\ttraining's rmse: 0.719808\tvalid_1's rmse: 1.06437\n",
            "Training until validation scores don't improve for 50 rounds.\n"
          ],
          "name": "stdout"
        },
        {
          "output_type": "stream",
          "text": [
            "\n",
            "\n",
            "\n",
            "regularization_factors, val_score: 1.064365:  65%|######5   | 13/20 [02:45<01:21, 11.61s/it]\u001b[A\u001b[A\u001b[A\n",
            "\n",
            "\n",
            "regularization_factors, val_score: 1.064365:  70%|#######   | 14/20 [02:45<01:09, 11.63s/it]\u001b[A\u001b[A\u001b[A\u001b[32m[I 2020-05-17 07:17:29,288]\u001b[0m Finished trial#56 with value: 1.0643651855789813 with parameters: {'lambda_l1': 0.00013365893296536603, 'lambda_l2': 0.00025978923981745687}. Best is trial#48 with value: 1.0643649556611225.\u001b[0m\n",
            "\n",
            "\n",
            "\n",
            "regularization_factors, val_score: 1.064365:  70%|#######   | 14/20 [02:45<01:09, 11.63s/it]\u001b[A\u001b[A\u001b[A"
          ],
          "name": "stderr"
        },
        {
          "output_type": "stream",
          "text": [
            "[100]\ttraining's rmse: 0.523751\tvalid_1's rmse: 1.06857\n",
            "Early stopping, best iteration is:\n",
            "[50]\ttraining's rmse: 0.71981\tvalid_1's rmse: 1.06437\n",
            "Training until validation scores don't improve for 50 rounds.\n"
          ],
          "name": "stdout"
        },
        {
          "output_type": "stream",
          "text": [
            "\n",
            "\n",
            "\n",
            "regularization_factors, val_score: 1.064365:  70%|#######   | 14/20 [02:56<01:09, 11.63s/it]\u001b[A\u001b[A\u001b[A\n",
            "\n",
            "\n",
            "regularization_factors, val_score: 1.064365:  75%|#######5  | 15/20 [02:56<00:58, 11.63s/it]\u001b[A\u001b[A\u001b[A\u001b[32m[I 2020-05-17 07:17:40,909]\u001b[0m Finished trial#57 with value: 1.0643650798567865 with parameters: {'lambda_l1': 0.00045464063000799166, 'lambda_l2': 2.734139856542554e-06}. Best is trial#48 with value: 1.0643649556611225.\u001b[0m\n",
            "\n",
            "\n",
            "\n",
            "regularization_factors, val_score: 1.064365:  75%|#######5  | 15/20 [02:56<00:58, 11.63s/it]\u001b[A\u001b[A\u001b[A"
          ],
          "name": "stderr"
        },
        {
          "output_type": "stream",
          "text": [
            "[100]\ttraining's rmse: 0.523754\tvalid_1's rmse: 1.06857\n",
            "Early stopping, best iteration is:\n",
            "[50]\ttraining's rmse: 0.719811\tvalid_1's rmse: 1.06437\n",
            "Training until validation scores don't improve for 50 rounds.\n"
          ],
          "name": "stdout"
        },
        {
          "output_type": "stream",
          "text": [
            "\n",
            "\n",
            "\n",
            "regularization_factors, val_score: 1.064365:  75%|#######5  | 15/20 [03:07<00:58, 11.63s/it]\u001b[A\u001b[A\u001b[A\n",
            "\n",
            "\n",
            "regularization_factors, val_score: 1.064365:  80%|########  | 16/20 [03:07<00:45, 11.30s/it]\u001b[A\u001b[A\u001b[A\u001b[32m[I 2020-05-17 07:17:51,431]\u001b[0m Finished trial#58 with value: 1.0710087595411801 with parameters: {'lambda_l1': 0.0016653601506654212, 'lambda_l2': 8.601372839249484e-07}. Best is trial#48 with value: 1.0643649556611225.\u001b[0m\n",
            "\n",
            "\n",
            "\n",
            "regularization_factors, val_score: 1.064365:  80%|########  | 16/20 [03:07<00:45, 11.30s/it]\u001b[A\u001b[A\u001b[A"
          ],
          "name": "stderr"
        },
        {
          "output_type": "stream",
          "text": [
            "Early stopping, best iteration is:\n",
            "[38]\ttraining's rmse: 0.786023\tvalid_1's rmse: 1.07101\n",
            "Training until validation scores don't improve for 50 rounds.\n"
          ],
          "name": "stdout"
        },
        {
          "output_type": "stream",
          "text": [
            "\n",
            "\n",
            "\n",
            "regularization_factors, val_score: 1.064365:  80%|########  | 16/20 [03:18<00:45, 11.30s/it]\u001b[A\u001b[A\u001b[A\n",
            "\n",
            "\n",
            "regularization_factors, val_score: 1.064365:  85%|########5 | 17/20 [03:18<00:34, 11.39s/it]\u001b[A\u001b[A\u001b[A\u001b[32m[I 2020-05-17 07:18:03,038]\u001b[0m Finished trial#59 with value: 1.064365328871009 with parameters: {'lambda_l1': 1.7689948843586084e-08, 'lambda_l2': 1.691118222638512e-05}. Best is trial#48 with value: 1.0643649556611225.\u001b[0m\n",
            "\n",
            "\n",
            "\n",
            "regularization_factors, val_score: 1.064365:  85%|########5 | 17/20 [03:18<00:34, 11.39s/it]\u001b[A\u001b[A\u001b[A"
          ],
          "name": "stderr"
        },
        {
          "output_type": "stream",
          "text": [
            "[100]\ttraining's rmse: 0.523747\tvalid_1's rmse: 1.06857\n",
            "Early stopping, best iteration is:\n",
            "[50]\ttraining's rmse: 0.719808\tvalid_1's rmse: 1.06437\n",
            "Training until validation scores don't improve for 50 rounds.\n"
          ],
          "name": "stdout"
        },
        {
          "output_type": "stream",
          "text": [
            "\n",
            "\n",
            "\n",
            "regularization_factors, val_score: 1.064365:  85%|########5 | 17/20 [03:30<00:34, 11.39s/it]\u001b[A\u001b[A\u001b[A\n",
            "\n",
            "\n",
            "regularization_factors, val_score: 1.064365:  90%|######### | 18/20 [03:30<00:22, 11.49s/it]\u001b[A\u001b[A\u001b[A\u001b[32m[I 2020-05-17 07:18:14,776]\u001b[0m Finished trial#60 with value: 1.0643653331693181 with parameters: {'lambda_l1': 8.67500453640105e-07, 'lambda_l2': 4.6928756700451e-08}. Best is trial#48 with value: 1.0643649556611225.\u001b[0m\n",
            "\n",
            "\n",
            "\n",
            "regularization_factors, val_score: 1.064365:  90%|######### | 18/20 [03:30<00:22, 11.49s/it]\u001b[A\u001b[A\u001b[A"
          ],
          "name": "stderr"
        },
        {
          "output_type": "stream",
          "text": [
            "[100]\ttraining's rmse: 0.523747\tvalid_1's rmse: 1.06857\n",
            "Early stopping, best iteration is:\n",
            "[50]\ttraining's rmse: 0.719808\tvalid_1's rmse: 1.06437\n",
            "Training until validation scores don't improve for 50 rounds.\n",
            "[100]\ttraining's rmse: 0.522007\tvalid_1's rmse: 1.07789\n"
          ],
          "name": "stdout"
        },
        {
          "output_type": "stream",
          "text": [
            "\n",
            "\n",
            "\n",
            "regularization_factors, val_score: 1.064365:  90%|######### | 18/20 [03:43<00:22, 11.49s/it]\u001b[A\u001b[A\u001b[A\n",
            "\n",
            "\n",
            "regularization_factors, val_score: 1.064365:  95%|#########5| 19/20 [03:43<00:11, 11.82s/it]\u001b[A\u001b[A\u001b[A\u001b[32m[I 2020-05-17 07:18:27,351]\u001b[0m Finished trial#61 with value: 1.0737233202665253 with parameters: {'lambda_l1': 0.04315535648387909, 'lambda_l2': 1.0067110197177068e-08}. Best is trial#48 with value: 1.0643649556611225.\u001b[0m\n",
            "\n",
            "\n",
            "\n",
            "regularization_factors, val_score: 1.064365:  95%|#########5| 19/20 [03:43<00:11, 11.82s/it]\u001b[A\u001b[A\u001b[A"
          ],
          "name": "stderr"
        },
        {
          "output_type": "stream",
          "text": [
            "Early stopping, best iteration is:\n",
            "[55]\ttraining's rmse: 0.695819\tvalid_1's rmse: 1.07372\n",
            "Training until validation scores don't improve for 50 rounds.\n"
          ],
          "name": "stdout"
        },
        {
          "output_type": "stream",
          "text": [
            "\n",
            "\n",
            "\n",
            "regularization_factors, val_score: 1.064365:  95%|#########5| 19/20 [03:54<00:11, 11.82s/it]\u001b[A\u001b[A\u001b[A\n",
            "\n",
            "\n",
            "regularization_factors, val_score: 1.064365: 100%|##########| 20/20 [03:54<00:00, 11.77s/it]\u001b[A\u001b[A\u001b[A\u001b[32m[I 2020-05-17 07:18:39,005]\u001b[0m Finished trial#62 with value: 1.0673767772191793 with parameters: {'lambda_l1': 0.001087447813207016, 'lambda_l2': 1.8570360182083002e-07}. Best is trial#48 with value: 1.0643649556611225.\u001b[0m\n",
            "regularization_factors, val_score: 1.064365: 100%|##########| 20/20 [03:54<00:00, 11.74s/it]\n",
            "\n",
            "\n",
            "\n",
            "  0%|          | 0/5 [00:00<?, ?it/s]\u001b[A\u001b[A\u001b[A\n",
            "\n",
            "\n",
            "min_data_in_leaf, val_score: 1.064365:   0%|          | 0/5 [00:00<?, ?it/s]\u001b[A\u001b[A\u001b[A"
          ],
          "name": "stderr"
        },
        {
          "output_type": "stream",
          "text": [
            "Early stopping, best iteration is:\n",
            "[49]\ttraining's rmse: 0.726805\tvalid_1's rmse: 1.06738\n"
          ],
          "name": "stdout"
        },
        {
          "output_type": "stream",
          "text": [
            "/usr/local/lib/python3.6/dist-packages/lightgbm/engine.py:118: UserWarning:\n",
            "\n",
            "Found `num_rounds` in params. Will use it instead of argument\n",
            "\n"
          ],
          "name": "stderr"
        },
        {
          "output_type": "stream",
          "text": [
            "Training until validation scores don't improve for 50 rounds.\n"
          ],
          "name": "stdout"
        },
        {
          "output_type": "stream",
          "text": [
            "\n",
            "\n",
            "\n",
            "min_data_in_leaf, val_score: 1.064365:   0%|          | 0/5 [00:11<?, ?it/s]\u001b[A\u001b[A\u001b[A\n",
            "\n",
            "\n",
            "min_data_in_leaf, val_score: 1.064365:  20%|##        | 1/5 [00:11<00:46, 11.75s/it]\u001b[A\u001b[A\u001b[A\u001b[32m[I 2020-05-17 07:18:50,850]\u001b[0m Finished trial#63 with value: 1.0715783260637397 with parameters: {'min_child_samples': 10}. Best is trial#63 with value: 1.0715783260637397.\u001b[0m\n",
            "\n",
            "\n",
            "\n",
            "min_data_in_leaf, val_score: 1.064365:  20%|##        | 1/5 [00:11<00:46, 11.75s/it]\u001b[A\u001b[A\u001b[A"
          ],
          "name": "stderr"
        },
        {
          "output_type": "stream",
          "text": [
            "Early stopping, best iteration is:\n",
            "[40]\ttraining's rmse: 0.771228\tvalid_1's rmse: 1.07158\n",
            "Training until validation scores don't improve for 50 rounds.\n"
          ],
          "name": "stdout"
        },
        {
          "output_type": "stream",
          "text": [
            "\n",
            "\n",
            "\n",
            "min_data_in_leaf, val_score: 1.064365:  20%|##        | 1/5 [00:22<00:46, 11.75s/it]\u001b[A\u001b[A\u001b[A\n",
            "\n",
            "\n",
            "min_data_in_leaf, val_score: 1.064365:  40%|####      | 2/5 [00:22<00:34, 11.36s/it]\u001b[A\u001b[A\u001b[A\u001b[32m[I 2020-05-17 07:19:01,291]\u001b[0m Finished trial#64 with value: 1.0676534738585346 with parameters: {'min_child_samples': 50}. Best is trial#64 with value: 1.0676534738585346.\u001b[0m\n",
            "\n",
            "\n",
            "\n",
            "min_data_in_leaf, val_score: 1.064365:  40%|####      | 2/5 [00:22<00:34, 11.36s/it]\u001b[A\u001b[A\u001b[A"
          ],
          "name": "stderr"
        },
        {
          "output_type": "stream",
          "text": [
            "[100]\ttraining's rmse: 0.529094\tvalid_1's rmse: 1.07354\n",
            "Early stopping, best iteration is:\n",
            "[50]\ttraining's rmse: 0.728759\tvalid_1's rmse: 1.06765\n",
            "Training until validation scores don't improve for 50 rounds.\n",
            "[100]\ttraining's rmse: 0.517244\tvalid_1's rmse: 1.07279\n"
          ],
          "name": "stdout"
        },
        {
          "output_type": "stream",
          "text": [
            "\n",
            "\n",
            "\n",
            "min_data_in_leaf, val_score: 1.064365:  40%|####      | 2/5 [00:42<00:34, 11.36s/it]\u001b[A\u001b[A\u001b[A\n",
            "\n",
            "\n",
            "min_data_in_leaf, val_score: 1.064365:  60%|######    | 3/5 [00:42<00:28, 14.00s/it]\u001b[A\u001b[A\u001b[A\u001b[32m[I 2020-05-17 07:19:21,483]\u001b[0m Finished trial#65 with value: 1.0703475905198632 with parameters: {'min_child_samples': 5}. Best is trial#64 with value: 1.0676534738585346.\u001b[0m\n",
            "\n",
            "\n",
            "\n",
            "min_data_in_leaf, val_score: 1.064365:  60%|######    | 3/5 [00:42<00:28, 14.00s/it]\u001b[A\u001b[A\u001b[A"
          ],
          "name": "stderr"
        },
        {
          "output_type": "stream",
          "text": [
            "Early stopping, best iteration is:\n",
            "[60]\ttraining's rmse: 0.665816\tvalid_1's rmse: 1.07035\n",
            "Training until validation scores don't improve for 50 rounds.\n"
          ],
          "name": "stdout"
        },
        {
          "output_type": "stream",
          "text": [
            "\n",
            "\n",
            "\n",
            "min_data_in_leaf, val_score: 1.064365:  60%|######    | 3/5 [00:52<00:28, 14.00s/it]\u001b[A\u001b[A\u001b[A\n",
            "\n",
            "\n",
            "min_data_in_leaf, val_score: 1.064365:  80%|########  | 4/5 [00:52<00:12, 12.87s/it]\u001b[A\u001b[A\u001b[A\u001b[32m[I 2020-05-17 07:19:31,710]\u001b[0m Finished trial#66 with value: 1.0688382099355607 with parameters: {'min_child_samples': 25}. Best is trial#64 with value: 1.0676534738585346.\u001b[0m\n",
            "\n",
            "\n",
            "\n",
            "min_data_in_leaf, val_score: 1.064365:  80%|########  | 4/5 [00:52<00:12, 12.87s/it]\u001b[A\u001b[A\u001b[A"
          ],
          "name": "stderr"
        },
        {
          "output_type": "stream",
          "text": [
            "Early stopping, best iteration is:\n",
            "[39]\ttraining's rmse: 0.784957\tvalid_1's rmse: 1.06884\n",
            "Training until validation scores don't improve for 50 rounds.\n"
          ],
          "name": "stdout"
        },
        {
          "output_type": "stream",
          "text": [
            "\n",
            "\n",
            "\n",
            "min_data_in_leaf, val_score: 1.064365:  80%|########  | 4/5 [01:00<00:12, 12.87s/it]\u001b[A\u001b[A\u001b[A\n",
            "\n",
            "\n",
            "min_data_in_leaf, val_score: 1.064365: 100%|##########| 5/5 [01:00<00:00, 11.38s/it]\u001b[A\u001b[A\u001b[A\u001b[32m[I 2020-05-17 07:19:39,633]\u001b[0m Finished trial#67 with value: 1.0701355577709415 with parameters: {'min_child_samples': 100}. Best is trial#64 with value: 1.0676534738585346.\u001b[0m\n",
            "min_data_in_leaf, val_score: 1.064365: 100%|##########| 5/5 [01:00<00:00, 12.12s/it]"
          ],
          "name": "stderr"
        },
        {
          "output_type": "stream",
          "text": [
            "Early stopping, best iteration is:\n",
            "[36]\ttraining's rmse: 0.82824\tvalid_1's rmse: 1.07014\n"
          ],
          "name": "stdout"
        },
        {
          "output_type": "stream",
          "text": [
            "\n"
          ],
          "name": "stderr"
        },
        {
          "output_type": "stream",
          "text": [
            "Training until validation scores don't improve for 50 rounds.\n",
            "[100]\ttraining's rmse: 0.523757\tvalid_1's rmse: 1.06857\n",
            "Early stopping, best iteration is:\n",
            "[50]\ttraining's rmse: 0.719813\tvalid_1's rmse: 1.06436\n"
          ],
          "name": "stdout"
        },
        {
          "output_type": "stream",
          "text": [
            "/usr/local/lib/python3.6/dist-packages/optuna/_experimental.py:90: ExperimentalWarning:\n",
            "\n",
            "train is experimental (supported from v0.18.0). The interface can change in the future.\n",
            "\n",
            "\n",
            "\n",
            "\n",
            "  0%|          | 0/7 [00:00<?, ?it/s]\u001b[A\u001b[A\u001b[A\n",
            "\n",
            "\n",
            "feature_fraction, val_score: inf:   0%|          | 0/7 [00:00<?, ?it/s]\u001b[A\u001b[A\u001b[A"
          ],
          "name": "stderr"
        },
        {
          "output_type": "stream",
          "text": [
            "Train LGB\n"
          ],
          "name": "stdout"
        },
        {
          "output_type": "stream",
          "text": [
            "/usr/local/lib/python3.6/dist-packages/lightgbm/engine.py:118: UserWarning:\n",
            "\n",
            "Found `num_rounds` in params. Will use it instead of argument\n",
            "\n",
            "/usr/local/lib/python3.6/dist-packages/lightgbm/basic.py:762: UserWarning:\n",
            "\n",
            "categorical_feature in param dict is overridden.\n",
            "\n"
          ],
          "name": "stderr"
        },
        {
          "output_type": "stream",
          "text": [
            "Training until validation scores don't improve for 50 rounds.\n"
          ],
          "name": "stdout"
        },
        {
          "output_type": "stream",
          "text": [
            "\n",
            "\n",
            "\n",
            "feature_fraction, val_score: 1.074899:   0%|          | 0/7 [00:02<?, ?it/s]\u001b[A\u001b[A\u001b[A\n",
            "\n",
            "\n",
            "feature_fraction, val_score: 1.074899:  14%|#4        | 1/7 [00:02<00:12,  2.14s/it]\u001b[A\u001b[A\u001b[A"
          ],
          "name": "stderr"
        },
        {
          "output_type": "stream",
          "text": [
            "[100]\ttraining's rmse: 0.814123\tvalid_1's rmse: 1.07574\n",
            "Early stopping, best iteration is:\n",
            "[59]\ttraining's rmse: 0.904662\tvalid_1's rmse: 1.0749\n"
          ],
          "name": "stdout"
        },
        {
          "output_type": "stream",
          "text": [
            "\u001b[32m[I 2020-05-17 07:19:54,433]\u001b[0m Finished trial#0 with value: 1.0748986868996884 with parameters: {'feature_fraction': 0.4}. Best is trial#0 with value: 1.0748986868996884.\u001b[0m\n",
            "\n",
            "\n",
            "\n",
            "feature_fraction, val_score: 1.074899:  14%|#4        | 1/7 [00:02<00:12,  2.14s/it]\u001b[A\u001b[A\u001b[A"
          ],
          "name": "stderr"
        },
        {
          "output_type": "stream",
          "text": [
            "Training until validation scores don't improve for 50 rounds.\n",
            "[100]\ttraining's rmse: 0.793673\tvalid_1's rmse: 1.0725\n"
          ],
          "name": "stdout"
        },
        {
          "output_type": "stream",
          "text": [
            "\n",
            "\n",
            "\n",
            "feature_fraction, val_score: 1.071237:  14%|#4        | 1/7 [00:05<00:12,  2.14s/it]\u001b[A\u001b[A\u001b[A\n",
            "\n",
            "\n",
            "feature_fraction, val_score: 1.071237:  29%|##8       | 2/7 [00:05<00:13,  2.64s/it]\u001b[A\u001b[A\u001b[A\u001b[32m[I 2020-05-17 07:19:58,250]\u001b[0m Finished trial#1 with value: 1.0712367858069325 with parameters: {'feature_fraction': 0.8999999999999999}. Best is trial#1 with value: 1.0712367858069325.\u001b[0m\n",
            "\n",
            "\n",
            "\n",
            "feature_fraction, val_score: 1.071237:  29%|##8       | 2/7 [00:06<00:13,  2.64s/it]\u001b[A\u001b[A\u001b[A"
          ],
          "name": "stderr"
        },
        {
          "output_type": "stream",
          "text": [
            "Early stopping, best iteration is:\n",
            "[64]\ttraining's rmse: 0.874723\tvalid_1's rmse: 1.07124\n",
            "Training until validation scores don't improve for 50 rounds.\n",
            "[100]\ttraining's rmse: 0.800475\tvalid_1's rmse: 1.07002\n"
          ],
          "name": "stdout"
        },
        {
          "output_type": "stream",
          "text": [
            "\n",
            "\n",
            "\n",
            "feature_fraction, val_score: 1.066112:  29%|##8       | 2/7 [00:09<00:13,  2.64s/it]\u001b[A\u001b[A\u001b[A\n",
            "\n",
            "\n",
            "feature_fraction, val_score: 1.066112:  43%|####2     | 3/7 [00:09<00:11,  2.84s/it]\u001b[A\u001b[A\u001b[A\u001b[32m[I 2020-05-17 07:20:01,559]\u001b[0m Finished trial#2 with value: 1.0661122791677475 with parameters: {'feature_fraction': 0.7}. Best is trial#2 with value: 1.0661122791677475.\u001b[0m\n",
            "\n",
            "\n",
            "\n",
            "feature_fraction, val_score: 1.066112:  43%|####2     | 3/7 [00:09<00:11,  2.84s/it]\u001b[A\u001b[A\u001b[A"
          ],
          "name": "stderr"
        },
        {
          "output_type": "stream",
          "text": [
            "Early stopping, best iteration is:\n",
            "[72]\ttraining's rmse: 0.85959\tvalid_1's rmse: 1.06611\n",
            "Training until validation scores don't improve for 50 rounds.\n",
            "[100]\ttraining's rmse: 0.802688\tvalid_1's rmse: 1.07554\n"
          ],
          "name": "stdout"
        },
        {
          "output_type": "stream",
          "text": [
            "\n",
            "\n",
            "\n",
            "feature_fraction, val_score: 1.066112:  43%|####2     | 3/7 [00:12<00:11,  2.84s/it]\u001b[A\u001b[A\u001b[A\n",
            "\n",
            "\n",
            "feature_fraction, val_score: 1.066112:  57%|#####7    | 4/7 [00:12<00:08,  2.92s/it]\u001b[A\u001b[A\u001b[A\u001b[32m[I 2020-05-17 07:20:04,663]\u001b[0m Finished trial#3 with value: 1.0737007317159062 with parameters: {'feature_fraction': 0.6}. Best is trial#2 with value: 1.0661122791677475.\u001b[0m\n",
            "\n",
            "\n",
            "\n",
            "feature_fraction, val_score: 1.066112:  57%|#####7    | 4/7 [00:12<00:08,  2.92s/it]\u001b[A\u001b[A\u001b[A"
          ],
          "name": "stderr"
        },
        {
          "output_type": "stream",
          "text": [
            "Early stopping, best iteration is:\n",
            "[84]\ttraining's rmse: 0.838051\tvalid_1's rmse: 1.0737\n",
            "Training until validation scores don't improve for 50 rounds.\n"
          ],
          "name": "stdout"
        },
        {
          "output_type": "stream",
          "text": [
            "\n",
            "\n",
            "\n",
            "feature_fraction, val_score: 1.066112:  57%|#####7    | 4/7 [00:16<00:08,  2.92s/it]\u001b[A\u001b[A\u001b[A\n",
            "\n",
            "\n",
            "feature_fraction, val_score: 1.066112:  71%|#######1  | 5/7 [00:16<00:06,  3.16s/it]\u001b[A\u001b[A\u001b[A\u001b[32m[I 2020-05-17 07:20:08,394]\u001b[0m Finished trial#4 with value: 1.0708046243528906 with parameters: {'feature_fraction': 1.0}. Best is trial#2 with value: 1.0661122791677475.\u001b[0m\n",
            "\n",
            "\n",
            "\n",
            "feature_fraction, val_score: 1.066112:  71%|#######1  | 5/7 [00:16<00:06,  3.16s/it]\u001b[A\u001b[A\u001b[A"
          ],
          "name": "stderr"
        },
        {
          "output_type": "stream",
          "text": [
            "Early stopping, best iteration is:\n",
            "[49]\ttraining's rmse: 0.913313\tvalid_1's rmse: 1.0708\n",
            "Training until validation scores don't improve for 50 rounds.\n"
          ],
          "name": "stdout"
        },
        {
          "output_type": "stream",
          "text": [
            "\n",
            "\n",
            "\n",
            "feature_fraction, val_score: 1.066112:  71%|#######1  | 5/7 [00:19<00:06,  3.16s/it]\u001b[A\u001b[A\u001b[A\n",
            "\n",
            "\n",
            "feature_fraction, val_score: 1.066112:  86%|########5 | 6/7 [00:19<00:03,  3.21s/it]\u001b[A\u001b[A\u001b[A"
          ],
          "name": "stderr"
        },
        {
          "output_type": "stream",
          "text": [
            "[100]\ttraining's rmse: 0.799332\tvalid_1's rmse: 1.07262\n",
            "Early stopping, best iteration is:\n",
            "[55]\ttraining's rmse: 0.900699\tvalid_1's rmse: 1.06864\n"
          ],
          "name": "stdout"
        },
        {
          "output_type": "stream",
          "text": [
            "\u001b[32m[I 2020-05-17 07:20:11,708]\u001b[0m Finished trial#5 with value: 1.0686373932073823 with parameters: {'feature_fraction': 0.8}. Best is trial#2 with value: 1.0661122791677475.\u001b[0m\n",
            "\n",
            "\n",
            "\n",
            "feature_fraction, val_score: 1.066112:  86%|########5 | 6/7 [00:19<00:03,  3.21s/it]\u001b[A\u001b[A\u001b[A"
          ],
          "name": "stderr"
        },
        {
          "output_type": "stream",
          "text": [
            "Training until validation scores don't improve for 50 rounds.\n"
          ],
          "name": "stdout"
        },
        {
          "output_type": "stream",
          "text": [
            "\n",
            "\n",
            "\n",
            "feature_fraction, val_score: 1.066112:  86%|########5 | 6/7 [00:21<00:03,  3.21s/it]\u001b[A\u001b[A\u001b[A\n",
            "\n",
            "\n",
            "feature_fraction, val_score: 1.066112: 100%|##########| 7/7 [00:21<00:00,  2.92s/it]\u001b[A\u001b[A\u001b[A"
          ],
          "name": "stderr"
        },
        {
          "output_type": "stream",
          "text": [
            "[100]\ttraining's rmse: 0.810904\tvalid_1's rmse: 1.07426\n",
            "Early stopping, best iteration is:\n",
            "[60]\ttraining's rmse: 0.897635\tvalid_1's rmse: 1.0719\n"
          ],
          "name": "stdout"
        },
        {
          "output_type": "stream",
          "text": [
            "\u001b[32m[I 2020-05-17 07:20:13,966]\u001b[0m Finished trial#6 with value: 1.0718979591629911 with parameters: {'feature_fraction': 0.5}. Best is trial#2 with value: 1.0661122791677475.\u001b[0m\n",
            "feature_fraction, val_score: 1.066112: 100%|##########| 7/7 [00:21<00:00,  3.11s/it]\n",
            "\n",
            "\n",
            "\n",
            "  0%|          | 0/20 [00:00<?, ?it/s]\u001b[A\u001b[A\u001b[A\n",
            "\n",
            "\n",
            "num_leaves, val_score: 1.066112:   0%|          | 0/20 [00:00<?, ?it/s]\u001b[A\u001b[A\u001b[A"
          ],
          "name": "stderr"
        },
        {
          "output_type": "stream",
          "text": [
            "Training until validation scores don't improve for 50 rounds.\n"
          ],
          "name": "stdout"
        },
        {
          "output_type": "stream",
          "text": [
            "\n",
            "\n",
            "\n",
            "num_leaves, val_score: 1.066112:   0%|          | 0/20 [00:04<?, ?it/s]\u001b[A\u001b[A\u001b[A\n",
            "\n",
            "\n",
            "num_leaves, val_score: 1.066112:   5%|5         | 1/20 [00:04<01:16,  4.03s/it]\u001b[A\u001b[A\u001b[A\u001b[32m[I 2020-05-17 07:20:18,104]\u001b[0m Finished trial#7 with value: 1.072136955562078 with parameters: {'num_leaves': 56}. Best is trial#7 with value: 1.072136955562078.\u001b[0m\n",
            "\n",
            "\n",
            "\n",
            "num_leaves, val_score: 1.066112:   5%|5         | 1/20 [00:04<01:16,  4.03s/it]\u001b[A\u001b[A\u001b[A"
          ],
          "name": "stderr"
        },
        {
          "output_type": "stream",
          "text": [
            "Early stopping, best iteration is:\n",
            "[41]\ttraining's rmse: 0.85024\tvalid_1's rmse: 1.07214\n",
            "Training until validation scores don't improve for 50 rounds.\n"
          ],
          "name": "stdout"
        },
        {
          "output_type": "stream",
          "text": [
            "\n",
            "\n",
            "\n",
            "num_leaves, val_score: 1.066112:   5%|5         | 1/20 [00:14<01:16,  4.03s/it]\u001b[A\u001b[A\u001b[A\n",
            "\n",
            "\n",
            "num_leaves, val_score: 1.066112:  10%|#         | 2/20 [00:14<01:47,  5.97s/it]\u001b[A\u001b[A\u001b[A\u001b[32m[I 2020-05-17 07:20:28,606]\u001b[0m Finished trial#8 with value: 1.079059940918755 with parameters: {'num_leaves': 196}. Best is trial#7 with value: 1.072136955562078.\u001b[0m\n",
            "\n",
            "\n",
            "\n",
            "num_leaves, val_score: 1.066112:  10%|#         | 2/20 [00:14<01:47,  5.97s/it]\u001b[A\u001b[A\u001b[A"
          ],
          "name": "stderr"
        },
        {
          "output_type": "stream",
          "text": [
            "Early stopping, best iteration is:\n",
            "[34]\ttraining's rmse: 0.588068\tvalid_1's rmse: 1.07906\n",
            "Training until validation scores don't improve for 50 rounds.\n",
            "[100]\ttraining's rmse: 0.780069\tvalid_1's rmse: 1.07347\n"
          ],
          "name": "stdout"
        },
        {
          "output_type": "stream",
          "text": [
            "\n",
            "\n",
            "\n",
            "num_leaves, val_score: 1.066112:  10%|#         | 2/20 [00:18<01:47,  5.97s/it]\u001b[A\u001b[A\u001b[A\n",
            "\n",
            "\n",
            "num_leaves, val_score: 1.066112:  15%|#5        | 3/20 [00:18<01:28,  5.22s/it]\u001b[A\u001b[A\u001b[A\u001b[32m[I 2020-05-17 07:20:32,086]\u001b[0m Finished trial#9 with value: 1.0701152879458193 with parameters: {'num_leaves': 34}. Best is trial#9 with value: 1.0701152879458193.\u001b[0m\n",
            "\n",
            "\n",
            "\n",
            "num_leaves, val_score: 1.066112:  15%|#5        | 3/20 [00:18<01:28,  5.22s/it]\u001b[A\u001b[A\u001b[A"
          ],
          "name": "stderr"
        },
        {
          "output_type": "stream",
          "text": [
            "Early stopping, best iteration is:\n",
            "[69]\ttraining's rmse: 0.85147\tvalid_1's rmse: 1.07012\n",
            "Training until validation scores don't improve for 50 rounds.\n"
          ],
          "name": "stdout"
        },
        {
          "output_type": "stream",
          "text": [
            "\n",
            "\n",
            "\n",
            "num_leaves, val_score: 1.066112:  15%|#5        | 3/20 [00:32<01:28,  5.22s/it]\u001b[A\u001b[A\u001b[A\n",
            "\n",
            "\n",
            "num_leaves, val_score: 1.066112:  20%|##        | 4/20 [00:32<02:06,  7.91s/it]\u001b[A\u001b[A\u001b[A\u001b[32m[I 2020-05-17 07:20:46,259]\u001b[0m Finished trial#10 with value: 1.0840626779390024 with parameters: {'num_leaves': 254}. Best is trial#9 with value: 1.0701152879458193.\u001b[0m\n",
            "\n",
            "\n",
            "\n",
            "num_leaves, val_score: 1.066112:  20%|##        | 4/20 [00:32<02:06,  7.91s/it]\u001b[A\u001b[A\u001b[A"
          ],
          "name": "stderr"
        },
        {
          "output_type": "stream",
          "text": [
            "Early stopping, best iteration is:\n",
            "[45]\ttraining's rmse: 0.407461\tvalid_1's rmse: 1.08406\n",
            "Training until validation scores don't improve for 50 rounds.\n"
          ],
          "name": "stdout"
        },
        {
          "output_type": "stream",
          "text": [
            "\n",
            "\n",
            "\n",
            "num_leaves, val_score: 1.066112:  20%|##        | 4/20 [00:43<02:06,  7.91s/it]\u001b[A\u001b[A\u001b[A\n",
            "\n",
            "\n",
            "num_leaves, val_score: 1.066112:  25%|##5       | 5/20 [00:43<02:14,  8.93s/it]\u001b[A\u001b[A\u001b[A\u001b[32m[I 2020-05-17 07:20:57,590]\u001b[0m Finished trial#11 with value: 1.079082427398043 with parameters: {'num_leaves': 191}. Best is trial#9 with value: 1.0701152879458193.\u001b[0m\n",
            "\n",
            "\n",
            "\n",
            "num_leaves, val_score: 1.066112:  25%|##5       | 5/20 [00:43<02:14,  8.93s/it]\u001b[A\u001b[A\u001b[A"
          ],
          "name": "stderr"
        },
        {
          "output_type": "stream",
          "text": [
            "Early stopping, best iteration is:\n",
            "[44]\ttraining's rmse: 0.504244\tvalid_1's rmse: 1.07908\n",
            "Training until validation scores don't improve for 50 rounds.\n"
          ],
          "name": "stdout"
        },
        {
          "output_type": "stream",
          "text": [
            "\n",
            "\n",
            "\n",
            "num_leaves, val_score: 1.066112:  25%|##5       | 5/20 [00:48<02:14,  8.93s/it]\u001b[A\u001b[A\u001b[A\n",
            "\n",
            "\n",
            "num_leaves, val_score: 1.066112:  30%|###       | 6/20 [00:48<01:46,  7.64s/it]\u001b[A\u001b[A\u001b[A"
          ],
          "name": "stderr"
        },
        {
          "output_type": "stream",
          "text": [
            "[100]\ttraining's rmse: 0.638937\tvalid_1's rmse: 1.07709\n",
            "Early stopping, best iteration is:\n",
            "[54]\ttraining's rmse: 0.789578\tvalid_1's rmse: 1.07453\n"
          ],
          "name": "stdout"
        },
        {
          "output_type": "stream",
          "text": [
            "\u001b[32m[I 2020-05-17 07:21:02,209]\u001b[0m Finished trial#12 with value: 1.0745343373984424 with parameters: {'num_leaves': 57}. Best is trial#9 with value: 1.0701152879458193.\u001b[0m\n",
            "\n",
            "\n",
            "\n",
            "num_leaves, val_score: 1.066112:  30%|###       | 6/20 [00:48<01:46,  7.64s/it]\u001b[A\u001b[A\u001b[A"
          ],
          "name": "stderr"
        },
        {
          "output_type": "stream",
          "text": [
            "Training until validation scores don't improve for 50 rounds.\n",
            "[100]\ttraining's rmse: 0.795616\tvalid_1's rmse: 1.06802\n"
          ],
          "name": "stdout"
        },
        {
          "output_type": "stream",
          "text": [
            "\n",
            "\n",
            "\n",
            "num_leaves, val_score: 1.066112:  30%|###       | 6/20 [00:51<01:46,  7.64s/it]\u001b[A\u001b[A\u001b[A\n",
            "\n",
            "\n",
            "num_leaves, val_score: 1.066112:  35%|###5      | 7/20 [00:51<01:23,  6.40s/it]\u001b[A\u001b[A\u001b[A\u001b[32m[I 2020-05-17 07:21:05,726]\u001b[0m Finished trial#13 with value: 1.067255040209961 with parameters: {'num_leaves': 32}. Best is trial#13 with value: 1.067255040209961.\u001b[0m\n",
            "\n",
            "\n",
            "\n",
            "num_leaves, val_score: 1.066112:  35%|###5      | 7/20 [00:51<01:23,  6.40s/it]\u001b[A\u001b[A\u001b[A"
          ],
          "name": "stderr"
        },
        {
          "output_type": "stream",
          "text": [
            "Early stopping, best iteration is:\n",
            "[78]\ttraining's rmse: 0.842473\tvalid_1's rmse: 1.06726\n",
            "Training until validation scores don't improve for 50 rounds.\n",
            "[100]\ttraining's rmse: 0.567924\tvalid_1's rmse: 1.07719\n"
          ],
          "name": "stdout"
        },
        {
          "output_type": "stream",
          "text": [
            "\n",
            "\n",
            "\n",
            "num_leaves, val_score: 1.066112:  35%|###5      | 7/20 [00:57<01:23,  6.40s/it]\u001b[A\u001b[A\u001b[A\n",
            "\n",
            "\n",
            "num_leaves, val_score: 1.066112:  40%|####      | 8/20 [00:57<01:14,  6.22s/it]\u001b[A\u001b[A\u001b[A\u001b[32m[I 2020-05-17 07:21:11,510]\u001b[0m Finished trial#14 with value: 1.0734637238882 with parameters: {'num_leaves': 71}. Best is trial#13 with value: 1.067255040209961.\u001b[0m\n",
            "\n",
            "\n",
            "\n",
            "num_leaves, val_score: 1.066112:  40%|####      | 8/20 [00:57<01:14,  6.22s/it]\u001b[A\u001b[A\u001b[A"
          ],
          "name": "stderr"
        },
        {
          "output_type": "stream",
          "text": [
            "Early stopping, best iteration is:\n",
            "[60]\ttraining's rmse: 0.710554\tvalid_1's rmse: 1.07346\n",
            "Training until validation scores don't improve for 50 rounds.\n",
            "[100]\ttraining's rmse: 1.01177\tvalid_1's rmse: 1.06952\n"
          ],
          "name": "stdout"
        },
        {
          "output_type": "stream",
          "text": [
            "\n",
            "\n",
            "\n",
            "num_leaves, val_score: 1.066112:  40%|####      | 8/20 [00:58<01:14,  6.22s/it]\u001b[A\u001b[A\u001b[A\n",
            "\n",
            "\n",
            "num_leaves, val_score: 1.066112:  45%|####5     | 9/20 [00:58<00:52,  4.81s/it]\u001b[A\u001b[A\u001b[A\u001b[32m[I 2020-05-17 07:21:13,019]\u001b[0m Finished trial#15 with value: 1.0683179424308362 with parameters: {'num_leaves': 7}. Best is trial#13 with value: 1.067255040209961.\u001b[0m\n",
            "\n",
            "\n",
            "\n",
            "num_leaves, val_score: 1.066112:  45%|####5     | 9/20 [00:59<00:52,  4.81s/it]\u001b[A\u001b[A\u001b[A"
          ],
          "name": "stderr"
        },
        {
          "output_type": "stream",
          "text": [
            "Early stopping, best iteration is:\n",
            "[140]\ttraining's rmse: 0.989206\tvalid_1's rmse: 1.06832\n",
            "Training until validation scores don't improve for 50 rounds.\n"
          ],
          "name": "stdout"
        },
        {
          "output_type": "stream",
          "text": [
            "\n",
            "\n",
            "\n",
            "num_leaves, val_score: 1.066112:  45%|####5     | 9/20 [01:05<00:52,  4.81s/it]\u001b[A\u001b[A\u001b[A\n",
            "\n",
            "\n",
            "num_leaves, val_score: 1.066112:  50%|#####     | 10/20 [01:05<00:54,  5.42s/it]\u001b[A\u001b[A\u001b[A\u001b[32m[I 2020-05-17 07:21:19,886]\u001b[0m Finished trial#16 with value: 1.0809537348382656 with parameters: {'num_leaves': 119}. Best is trial#13 with value: 1.067255040209961.\u001b[0m\n",
            "\n",
            "\n",
            "\n",
            "num_leaves, val_score: 1.066112:  50%|#####     | 10/20 [01:05<00:54,  5.42s/it]\u001b[A\u001b[A\u001b[A"
          ],
          "name": "stderr"
        },
        {
          "output_type": "stream",
          "text": [
            "Early stopping, best iteration is:\n",
            "[31]\ttraining's rmse: 0.752008\tvalid_1's rmse: 1.08095\n",
            "Training until validation scores don't improve for 50 rounds.\n"
          ],
          "name": "stdout"
        },
        {
          "output_type": "stream",
          "text": [
            "\n",
            "\n",
            "\n",
            "num_leaves, val_score: 1.066112:  50%|#####     | 10/20 [01:13<00:54,  5.42s/it]\u001b[A\u001b[A\u001b[A\n",
            "\n",
            "\n",
            "num_leaves, val_score: 1.066112:  55%|#####5    | 11/20 [01:13<00:55,  6.22s/it]\u001b[A\u001b[A\u001b[A"
          ],
          "name": "stderr"
        },
        {
          "output_type": "stream",
          "text": [
            "[100]\ttraining's rmse: 0.398512\tvalid_1's rmse: 1.0846\n",
            "Early stopping, best iteration is:\n",
            "[52]\ttraining's rmse: 0.609306\tvalid_1's rmse: 1.08124\n"
          ],
          "name": "stdout"
        },
        {
          "output_type": "stream",
          "text": [
            "\u001b[32m[I 2020-05-17 07:21:27,967]\u001b[0m Finished trial#17 with value: 1.0812443722654208 with parameters: {'num_leaves': 115}. Best is trial#13 with value: 1.067255040209961.\u001b[0m\n",
            "\n",
            "\n",
            "\n",
            "num_leaves, val_score: 1.066112:  55%|#####5    | 11/20 [01:13<00:55,  6.22s/it]\u001b[A\u001b[A\u001b[A"
          ],
          "name": "stderr"
        },
        {
          "output_type": "stream",
          "text": [
            "Training until validation scores don't improve for 50 rounds.\n",
            "[100]\ttraining's rmse: 0.969693\tvalid_1's rmse: 1.06776\n"
          ],
          "name": "stdout"
        },
        {
          "output_type": "stream",
          "text": [
            "\n",
            "\n",
            "\n",
            "num_leaves, val_score: 1.066112:  55%|#####5    | 11/20 [01:15<00:55,  6.22s/it]\u001b[A\u001b[A\u001b[A\n",
            "\n",
            "\n",
            "num_leaves, val_score: 1.066112:  60%|######    | 12/20 [01:15<00:38,  4.86s/it]\u001b[A\u001b[A\u001b[A\u001b[32m[I 2020-05-17 07:21:29,627]\u001b[0m Finished trial#18 with value: 1.0676630352798269 with parameters: {'num_leaves': 11}. Best is trial#13 with value: 1.067255040209961.\u001b[0m\n",
            "\n",
            "\n",
            "\n",
            "num_leaves, val_score: 1.066112:  60%|######    | 12/20 [01:15<00:38,  4.86s/it]\u001b[A\u001b[A\u001b[A"
          ],
          "name": "stderr"
        },
        {
          "output_type": "stream",
          "text": [
            "Early stopping, best iteration is:\n",
            "[93]\ttraining's rmse: 0.976184\tvalid_1's rmse: 1.06766\n",
            "Training until validation scores don't improve for 50 rounds.\n",
            "[100]\ttraining's rmse: 1.06283\tvalid_1's rmse: 1.08056\n",
            "[200]\ttraining's rmse: 1.04142\tvalid_1's rmse: 1.07446\n"
          ],
          "name": "stdout"
        },
        {
          "output_type": "stream",
          "text": [
            "\n",
            "\n",
            "\n",
            "num_leaves, val_score: 1.066112:  60%|######    | 12/20 [01:16<00:38,  4.86s/it]\u001b[A\u001b[A\u001b[A\n",
            "\n",
            "\n",
            "num_leaves, val_score: 1.066112:  65%|######5   | 13/20 [01:16<00:26,  3.78s/it]\u001b[A\u001b[A\u001b[A\u001b[32m[I 2020-05-17 07:21:30,904]\u001b[0m Finished trial#19 with value: 1.072729498621163 with parameters: {'num_leaves': 3}. Best is trial#13 with value: 1.067255040209961.\u001b[0m\n",
            "\n",
            "\n",
            "\n",
            "num_leaves, val_score: 1.066112:  65%|######5   | 13/20 [01:16<00:26,  3.78s/it]\u001b[A\u001b[A\u001b[A"
          ],
          "name": "stderr"
        },
        {
          "output_type": "stream",
          "text": [
            "[300]\ttraining's rmse: 1.02485\tvalid_1's rmse: 1.07321\n",
            "Early stopping, best iteration is:\n",
            "[269]\ttraining's rmse: 1.02967\tvalid_1's rmse: 1.07273\n",
            "Training until validation scores don't improve for 50 rounds.\n",
            "[100]\ttraining's rmse: 1.0238\tvalid_1's rmse: 1.07125\n"
          ],
          "name": "stdout"
        },
        {
          "output_type": "stream",
          "text": [
            "\n",
            "\n",
            "\n",
            "num_leaves, val_score: 1.066112:  65%|######5   | 13/20 [01:18<00:26,  3.78s/it]\u001b[A\u001b[A\u001b[A\n",
            "\n",
            "\n",
            "num_leaves, val_score: 1.066112:  70%|#######   | 14/20 [01:18<00:18,  3.10s/it]\u001b[A\u001b[A\u001b[A"
          ],
          "name": "stderr"
        },
        {
          "output_type": "stream",
          "text": [
            "[200]\ttraining's rmse: 0.97837\tvalid_1's rmse: 1.07092\n",
            "Early stopping, best iteration is:\n",
            "[169]\ttraining's rmse: 0.991483\tvalid_1's rmse: 1.06986\n"
          ],
          "name": "stdout"
        },
        {
          "output_type": "stream",
          "text": [
            "\u001b[32m[I 2020-05-17 07:21:32,433]\u001b[0m Finished trial#20 with value: 1.0698566868574564 with parameters: {'num_leaves': 6}. Best is trial#13 with value: 1.067255040209961.\u001b[0m\n",
            "\n",
            "\n",
            "\n",
            "num_leaves, val_score: 1.066112:  70%|#######   | 14/20 [01:18<00:18,  3.10s/it]\u001b[A\u001b[A\u001b[A"
          ],
          "name": "stderr"
        },
        {
          "output_type": "stream",
          "text": [
            "Training until validation scores don't improve for 50 rounds.\n"
          ],
          "name": "stdout"
        },
        {
          "output_type": "stream",
          "text": [
            "\n",
            "\n",
            "\n",
            "num_leaves, val_score: 1.066112:  70%|#######   | 14/20 [01:24<00:18,  3.10s/it]\u001b[A\u001b[A\u001b[A\n",
            "\n",
            "\n",
            "num_leaves, val_score: 1.066112:  75%|#######5  | 15/20 [01:24<00:19,  3.87s/it]\u001b[A\u001b[A\u001b[A\u001b[32m[I 2020-05-17 07:21:38,103]\u001b[0m Finished trial#21 with value: 1.0813139711506126 with parameters: {'num_leaves': 93}. Best is trial#13 with value: 1.067255040209961.\u001b[0m\n",
            "\n",
            "\n",
            "\n",
            "num_leaves, val_score: 1.066112:  75%|#######5  | 15/20 [01:24<00:19,  3.87s/it]\u001b[A\u001b[A\u001b[A"
          ],
          "name": "stderr"
        },
        {
          "output_type": "stream",
          "text": [
            "Early stopping, best iteration is:\n",
            "[33]\ttraining's rmse: 0.79486\tvalid_1's rmse: 1.08131\n",
            "Training until validation scores don't improve for 50 rounds.\n"
          ],
          "name": "stdout"
        },
        {
          "output_type": "stream",
          "text": [
            "\n",
            "\n",
            "\n",
            "num_leaves, val_score: 1.066112:  75%|#######5  | 15/20 [01:26<00:19,  3.87s/it]\u001b[A\u001b[A\u001b[A\n",
            "\n",
            "\n",
            "num_leaves, val_score: 1.066112:  80%|########  | 16/20 [01:26<00:14,  3.58s/it]\u001b[A\u001b[A\u001b[A"
          ],
          "name": "stderr"
        },
        {
          "output_type": "stream",
          "text": [
            "[100]\ttraining's rmse: 0.80863\tvalid_1's rmse: 1.07431\n",
            "Early stopping, best iteration is:\n",
            "[59]\ttraining's rmse: 0.897213\tvalid_1's rmse: 1.07089\n"
          ],
          "name": "stdout"
        },
        {
          "output_type": "stream",
          "text": [
            "\u001b[32m[I 2020-05-17 07:21:41,000]\u001b[0m Finished trial#22 with value: 1.070891183101534 with parameters: {'num_leaves': 30}. Best is trial#13 with value: 1.067255040209961.\u001b[0m\n",
            "\n",
            "\n",
            "\n",
            "num_leaves, val_score: 1.066112:  80%|########  | 16/20 [01:27<00:14,  3.58s/it]\u001b[A\u001b[A\u001b[A"
          ],
          "name": "stderr"
        },
        {
          "output_type": "stream",
          "text": [
            "Training until validation scores don't improve for 50 rounds.\n"
          ],
          "name": "stdout"
        },
        {
          "output_type": "stream",
          "text": [
            "\n",
            "\n",
            "\n",
            "num_leaves, val_score: 1.066112:  80%|########  | 16/20 [01:36<00:14,  3.58s/it]\u001b[A\u001b[A\u001b[A\n",
            "\n",
            "\n",
            "num_leaves, val_score: 1.066112:  85%|########5 | 17/20 [01:36<00:16,  5.44s/it]\u001b[A\u001b[A\u001b[A\u001b[32m[I 2020-05-17 07:21:50,777]\u001b[0m Finished trial#23 with value: 1.080538201052825 with parameters: {'num_leaves': 166}. Best is trial#13 with value: 1.067255040209961.\u001b[0m\n",
            "\n",
            "\n",
            "\n",
            "num_leaves, val_score: 1.066112:  85%|########5 | 17/20 [01:36<00:16,  5.44s/it]\u001b[A\u001b[A\u001b[A"
          ],
          "name": "stderr"
        },
        {
          "output_type": "stream",
          "text": [
            "Early stopping, best iteration is:\n",
            "[40]\ttraining's rmse: 0.583486\tvalid_1's rmse: 1.08054\n",
            "Training until validation scores don't improve for 50 rounds.\n",
            "[100]\ttraining's rmse: 0.800475\tvalid_1's rmse: 1.07002\n"
          ],
          "name": "stdout"
        },
        {
          "output_type": "stream",
          "text": [
            "\n",
            "\n",
            "\n",
            "num_leaves, val_score: 1.066112:  85%|########5 | 17/20 [01:39<00:16,  5.44s/it]\u001b[A\u001b[A\u001b[A\n",
            "\n",
            "\n",
            "num_leaves, val_score: 1.066112:  90%|######### | 18/20 [01:40<00:09,  4.80s/it]\u001b[A\u001b[A\u001b[A\u001b[32m[I 2020-05-17 07:21:54,075]\u001b[0m Finished trial#24 with value: 1.0661122791677475 with parameters: {'num_leaves': 31}. Best is trial#24 with value: 1.0661122791677475.\u001b[0m\n",
            "\n",
            "\n",
            "\n",
            "num_leaves, val_score: 1.066112:  90%|######### | 18/20 [01:40<00:09,  4.80s/it]\u001b[A\u001b[A\u001b[A"
          ],
          "name": "stderr"
        },
        {
          "output_type": "stream",
          "text": [
            "Early stopping, best iteration is:\n",
            "[72]\ttraining's rmse: 0.85959\tvalid_1's rmse: 1.06611\n",
            "Training until validation scores don't improve for 50 rounds.\n"
          ],
          "name": "stdout"
        },
        {
          "output_type": "stream",
          "text": [
            "\n",
            "\n",
            "\n",
            "num_leaves, val_score: 1.066112:  90%|######### | 18/20 [01:46<00:09,  4.80s/it]\u001b[A\u001b[A\u001b[A\n",
            "\n",
            "\n",
            "num_leaves, val_score: 1.066112:  95%|#########5| 19/20 [01:46<00:05,  5.20s/it]\u001b[A\u001b[A\u001b[A\u001b[32m[I 2020-05-17 07:22:00,214]\u001b[0m Finished trial#25 with value: 1.0759892442816446 with parameters: {'num_leaves': 83}. Best is trial#24 with value: 1.0661122791677475.\u001b[0m\n",
            "\n",
            "\n",
            "\n",
            "num_leaves, val_score: 1.066112:  95%|#########5| 19/20 [01:46<00:05,  5.20s/it]\u001b[A\u001b[A\u001b[A"
          ],
          "name": "stderr"
        },
        {
          "output_type": "stream",
          "text": [
            "[100]\ttraining's rmse: 0.513443\tvalid_1's rmse: 1.08201\n",
            "Early stopping, best iteration is:\n",
            "[51]\ttraining's rmse: 0.709519\tvalid_1's rmse: 1.07599\n",
            "Training until validation scores don't improve for 50 rounds.\n"
          ],
          "name": "stdout"
        },
        {
          "output_type": "stream",
          "text": [
            "\n",
            "\n",
            "\n",
            "num_leaves, val_score: 1.066112:  95%|#########5| 19/20 [01:54<00:05,  5.20s/it]\u001b[A\u001b[A\u001b[A\n",
            "\n",
            "\n",
            "num_leaves, val_score: 1.066112: 100%|##########| 20/20 [01:54<00:00,  6.28s/it]\u001b[A\u001b[A\u001b[A\u001b[32m[I 2020-05-17 07:22:09,015]\u001b[0m Finished trial#26 with value: 1.0853345776524634 with parameters: {'num_leaves': 151}. Best is trial#24 with value: 1.0661122791677475.\u001b[0m\n",
            "num_leaves, val_score: 1.066112: 100%|##########| 20/20 [01:55<00:00,  5.75s/it]\n",
            "\n",
            "\n",
            "\n",
            "  0%|          | 0/10 [00:00<?, ?it/s]\u001b[A\u001b[A\u001b[A\n",
            "\n",
            "\n",
            "bagging, val_score: 1.066112:   0%|          | 0/10 [00:00<?, ?it/s]\u001b[A\u001b[A\u001b[A"
          ],
          "name": "stderr"
        },
        {
          "output_type": "stream",
          "text": [
            "Early stopping, best iteration is:\n",
            "[38]\ttraining's rmse: 0.628586\tvalid_1's rmse: 1.08533\n",
            "Training until validation scores don't improve for 50 rounds.\n"
          ],
          "name": "stdout"
        },
        {
          "output_type": "stream",
          "text": [
            "\n",
            "\n",
            "\n",
            "bagging, val_score: 1.066112:   0%|          | 0/10 [00:02<?, ?it/s]\u001b[A\u001b[A\u001b[A\n",
            "\n",
            "\n",
            "bagging, val_score: 1.066112:  10%|#         | 1/10 [00:02<00:20,  2.31s/it]\u001b[A\u001b[A\u001b[A\u001b[32m[I 2020-05-17 07:22:11,436]\u001b[0m Finished trial#27 with value: 1.0845372588425146 with parameters: {'bagging_fraction': 0.5399684158984914, 'bagging_freq': 5}. Best is trial#27 with value: 1.0845372588425146.\u001b[0m\n",
            "\n",
            "\n",
            "\n",
            "bagging, val_score: 1.066112:  10%|#         | 1/10 [00:02<00:20,  2.31s/it]\u001b[A\u001b[A\u001b[A"
          ],
          "name": "stderr"
        },
        {
          "output_type": "stream",
          "text": [
            "Early stopping, best iteration is:\n",
            "[38]\ttraining's rmse: 0.961202\tvalid_1's rmse: 1.08454\n",
            "Training until validation scores don't improve for 50 rounds.\n"
          ],
          "name": "stdout"
        },
        {
          "output_type": "stream",
          "text": [
            "\n",
            "\n",
            "\n",
            "bagging, val_score: 1.066112:  10%|#         | 1/10 [00:04<00:20,  2.31s/it]\u001b[A\u001b[A\u001b[A\n",
            "\n",
            "\n",
            "bagging, val_score: 1.066112:  20%|##        | 2/10 [00:04<00:18,  2.30s/it]\u001b[A\u001b[A\u001b[A\u001b[32m[I 2020-05-17 07:22:13,705]\u001b[0m Finished trial#28 with value: 1.0857997098487995 with parameters: {'bagging_fraction': 0.4780324690117805, 'bagging_freq': 6}. Best is trial#27 with value: 1.0845372588425146.\u001b[0m\n",
            "\n",
            "\n",
            "\n",
            "bagging, val_score: 1.066112:  20%|##        | 2/10 [00:04<00:18,  2.30s/it]\u001b[A\u001b[A\u001b[A"
          ],
          "name": "stderr"
        },
        {
          "output_type": "stream",
          "text": [
            "Early stopping, best iteration is:\n",
            "[36]\ttraining's rmse: 0.970406\tvalid_1's rmse: 1.0858\n",
            "Training until validation scores don't improve for 50 rounds.\n"
          ],
          "name": "stdout"
        },
        {
          "output_type": "stream",
          "text": [
            "\n",
            "\n",
            "\n",
            "bagging, val_score: 1.066112:  20%|##        | 2/10 [00:07<00:18,  2.30s/it]\u001b[A\u001b[A\u001b[A\n",
            "\n",
            "\n",
            "bagging, val_score: 1.066112:  30%|###       | 3/10 [00:07<00:17,  2.53s/it]\u001b[A\u001b[A\u001b[A"
          ],
          "name": "stderr"
        },
        {
          "output_type": "stream",
          "text": [
            "[100]\ttraining's rmse: 0.797148\tvalid_1's rmse: 1.07438\n",
            "Early stopping, best iteration is:\n",
            "[55]\ttraining's rmse: 0.902408\tvalid_1's rmse: 1.06934\n"
          ],
          "name": "stdout"
        },
        {
          "output_type": "stream",
          "text": [
            "\u001b[32m[I 2020-05-17 07:22:16,754]\u001b[0m Finished trial#29 with value: 1.069343634803392 with parameters: {'bagging_fraction': 0.9471831253161203, 'bagging_freq': 6}. Best is trial#29 with value: 1.069343634803392.\u001b[0m\n",
            "\n",
            "\n",
            "\n",
            "bagging, val_score: 1.066112:  30%|###       | 3/10 [00:07<00:17,  2.53s/it]\u001b[A\u001b[A\u001b[A"
          ],
          "name": "stderr"
        },
        {
          "output_type": "stream",
          "text": [
            "Training until validation scores don't improve for 50 rounds.\n",
            "[100]\ttraining's rmse: 0.799804\tvalid_1's rmse: 1.07779\n"
          ],
          "name": "stdout"
        },
        {
          "output_type": "stream",
          "text": [
            "\n",
            "\n",
            "\n",
            "bagging, val_score: 1.066112:  30%|###       | 3/10 [00:10<00:17,  2.53s/it]\u001b[A\u001b[A\u001b[A\n",
            "\n",
            "\n",
            "bagging, val_score: 1.066112:  40%|####      | 4/10 [00:10<00:16,  2.73s/it]\u001b[A\u001b[A\u001b[A\u001b[32m[I 2020-05-17 07:22:19,958]\u001b[0m Finished trial#30 with value: 1.0751221000407398 with parameters: {'bagging_fraction': 0.8293388541622341, 'bagging_freq': 6}. Best is trial#29 with value: 1.069343634803392.\u001b[0m\n",
            "\n",
            "\n",
            "\n",
            "bagging, val_score: 1.066112:  40%|####      | 4/10 [00:10<00:16,  2.73s/it]\u001b[A\u001b[A\u001b[A"
          ],
          "name": "stderr"
        },
        {
          "output_type": "stream",
          "text": [
            "Early stopping, best iteration is:\n",
            "[65]\ttraining's rmse: 0.878023\tvalid_1's rmse: 1.07512\n",
            "Training until validation scores don't improve for 50 rounds.\n"
          ],
          "name": "stdout"
        },
        {
          "output_type": "stream",
          "text": [
            "\n",
            "\n",
            "\n",
            "bagging, val_score: 1.066112:  40%|####      | 4/10 [00:13<00:16,  2.73s/it]\u001b[A\u001b[A\u001b[A\n",
            "\n",
            "\n",
            "bagging, val_score: 1.066112:  50%|#####     | 5/10 [00:13<00:13,  2.63s/it]\u001b[A\u001b[A\u001b[A\u001b[32m[I 2020-05-17 07:22:22,356]\u001b[0m Finished trial#31 with value: 1.083802160219031 with parameters: {'bagging_fraction': 0.5759289314842969, 'bagging_freq': 7}. Best is trial#29 with value: 1.069343634803392.\u001b[0m\n",
            "\n",
            "\n",
            "\n",
            "bagging, val_score: 1.066112:  50%|#####     | 5/10 [00:13<00:13,  2.63s/it]\u001b[A\u001b[A\u001b[A"
          ],
          "name": "stderr"
        },
        {
          "output_type": "stream",
          "text": [
            "Early stopping, best iteration is:\n",
            "[38]\ttraining's rmse: 0.96182\tvalid_1's rmse: 1.0838\n",
            "Training until validation scores don't improve for 50 rounds.\n"
          ],
          "name": "stdout"
        },
        {
          "output_type": "stream",
          "text": [
            "\n",
            "\n",
            "\n",
            "bagging, val_score: 1.066112:  50%|#####     | 5/10 [00:16<00:13,  2.63s/it]\u001b[A\u001b[A\u001b[A\n",
            "\n",
            "\n",
            "bagging, val_score: 1.066112:  60%|######    | 6/10 [00:16<00:10,  2.68s/it]\u001b[A\u001b[A\u001b[A"
          ],
          "name": "stderr"
        },
        {
          "output_type": "stream",
          "text": [
            "[100]\ttraining's rmse: 0.811041\tvalid_1's rmse: 1.08821\n",
            "Early stopping, best iteration is:\n",
            "[58]\ttraining's rmse: 0.906864\tvalid_1's rmse: 1.08369\n"
          ],
          "name": "stdout"
        },
        {
          "output_type": "stream",
          "text": [
            "\u001b[32m[I 2020-05-17 07:22:25,136]\u001b[0m Finished trial#32 with value: 1.0836853230190666 with parameters: {'bagging_fraction': 0.5368588736833344, 'bagging_freq': 1}. Best is trial#29 with value: 1.069343634803392.\u001b[0m\n",
            "\n",
            "\n",
            "\n",
            "bagging, val_score: 1.066112:  60%|######    | 6/10 [00:16<00:10,  2.68s/it]\u001b[A\u001b[A\u001b[A"
          ],
          "name": "stderr"
        },
        {
          "output_type": "stream",
          "text": [
            "Training until validation scores don't improve for 50 rounds.\n",
            "[100]\ttraining's rmse: 0.800582\tvalid_1's rmse: 1.07076\n"
          ],
          "name": "stdout"
        },
        {
          "output_type": "stream",
          "text": [
            "\n",
            "\n",
            "\n",
            "bagging, val_score: 1.066112:  60%|######    | 6/10 [00:20<00:10,  2.68s/it]\u001b[A\u001b[A\u001b[A\n",
            "\n",
            "\n",
            "bagging, val_score: 1.066112:  70%|#######   | 7/10 [00:20<00:09,  3.18s/it]\u001b[A\u001b[A\u001b[A\u001b[32m[I 2020-05-17 07:22:29,513]\u001b[0m Finished trial#33 with value: 1.070085047385592 with parameters: {'bagging_fraction': 0.8849647118237378, 'bagging_freq': 7}. Best is trial#29 with value: 1.069343634803392.\u001b[0m\n",
            "\n",
            "\n",
            "\n",
            "bagging, val_score: 1.066112:  70%|#######   | 7/10 [00:20<00:09,  3.18s/it]\u001b[A\u001b[A\u001b[A"
          ],
          "name": "stderr"
        },
        {
          "output_type": "stream",
          "text": [
            "Early stopping, best iteration is:\n",
            "[115]\ttraining's rmse: 0.773235\tvalid_1's rmse: 1.07009\n",
            "Training until validation scores don't improve for 50 rounds.\n"
          ],
          "name": "stdout"
        },
        {
          "output_type": "stream",
          "text": [
            "\n",
            "\n",
            "\n",
            "bagging, val_score: 1.066112:  70%|#######   | 7/10 [00:23<00:09,  3.18s/it]\u001b[A\u001b[A\u001b[A\n",
            "\n",
            "\n",
            "bagging, val_score: 1.066112:  80%|########  | 8/10 [00:23<00:06,  3.05s/it]\u001b[A\u001b[A\u001b[A\u001b[32m[I 2020-05-17 07:22:32,258]\u001b[0m Finished trial#34 with value: 1.0831176967625142 with parameters: {'bagging_fraction': 0.6364280715956085, 'bagging_freq': 7}. Best is trial#29 with value: 1.069343634803392.\u001b[0m\n",
            "\n",
            "\n",
            "\n",
            "bagging, val_score: 1.066112:  80%|########  | 8/10 [00:23<00:06,  3.05s/it]\u001b[A\u001b[A\u001b[A"
          ],
          "name": "stderr"
        },
        {
          "output_type": "stream",
          "text": [
            "[100]\ttraining's rmse: 0.80715\tvalid_1's rmse: 1.0872\n",
            "Early stopping, best iteration is:\n",
            "[51]\ttraining's rmse: 0.921072\tvalid_1's rmse: 1.08312\n",
            "Training until validation scores don't improve for 50 rounds.\n"
          ],
          "name": "stdout"
        },
        {
          "output_type": "stream",
          "text": [
            "\n",
            "\n",
            "\n",
            "bagging, val_score: 1.066112:  80%|########  | 8/10 [00:25<00:06,  3.05s/it]\u001b[A\u001b[A\u001b[A\n",
            "\n",
            "\n",
            "bagging, val_score: 1.066112:  90%|######### | 9/10 [00:25<00:02,  2.93s/it]\u001b[A\u001b[A\u001b[A\u001b[32m[I 2020-05-17 07:22:34,911]\u001b[0m Finished trial#35 with value: 1.0843482414380767 with parameters: {'bagging_fraction': 0.47149698959889863, 'bagging_freq': 4}. Best is trial#29 with value: 1.069343634803392.\u001b[0m\n",
            "\n",
            "\n",
            "\n",
            "bagging, val_score: 1.066112:  90%|######### | 9/10 [00:25<00:02,  2.93s/it]\u001b[A\u001b[A\u001b[A"
          ],
          "name": "stderr"
        },
        {
          "output_type": "stream",
          "text": [
            "[100]\ttraining's rmse: 0.816558\tvalid_1's rmse: 1.09698\n",
            "Early stopping, best iteration is:\n",
            "[53]\ttraining's rmse: 0.922722\tvalid_1's rmse: 1.08435\n",
            "Training until validation scores don't improve for 50 rounds.\n",
            "[100]\ttraining's rmse: 0.807879\tvalid_1's rmse: 1.08558\n"
          ],
          "name": "stdout"
        },
        {
          "output_type": "stream",
          "text": [
            "\n",
            "\n",
            "\n",
            "bagging, val_score: 1.066112:  90%|######### | 9/10 [00:28<00:02,  2.93s/it]\u001b[A\u001b[A\u001b[A\n",
            "\n",
            "\n",
            "bagging, val_score: 1.066112: 100%|##########| 10/10 [00:28<00:00,  2.96s/it]\u001b[A\u001b[A\u001b[A\u001b[32m[I 2020-05-17 07:22:37,936]\u001b[0m Finished trial#36 with value: 1.0822981414636625 with parameters: {'bagging_fraction': 0.6433094672268294, 'bagging_freq': 6}. Best is trial#29 with value: 1.069343634803392.\u001b[0m\n",
            "bagging, val_score: 1.066112: 100%|##########| 10/10 [00:28<00:00,  2.89s/it]\n",
            "\n",
            "\n",
            "\n",
            "  0%|          | 0/6 [00:00<?, ?it/s]\u001b[A\u001b[A\u001b[A\n",
            "\n",
            "\n",
            "feature_fraction_stage2, val_score: 1.066112:   0%|          | 0/6 [00:00<?, ?it/s]\u001b[A\u001b[A\u001b[A"
          ],
          "name": "stderr"
        },
        {
          "output_type": "stream",
          "text": [
            "Early stopping, best iteration is:\n",
            "[60]\ttraining's rmse: 0.899553\tvalid_1's rmse: 1.0823\n",
            "Training until validation scores don't improve for 50 rounds.\n"
          ],
          "name": "stdout"
        },
        {
          "output_type": "stream",
          "text": [
            "/usr/local/lib/python3.6/dist-packages/lightgbm/engine.py:118: UserWarning:\n",
            "\n",
            "Found `num_rounds` in params. Will use it instead of argument\n",
            "\n",
            "\n",
            "\n",
            "\n",
            "feature_fraction_stage2, val_score: 1.066112:   0%|          | 0/6 [00:03<?, ?it/s]\u001b[A\u001b[A\u001b[A\n",
            "\n",
            "\n",
            "feature_fraction_stage2, val_score: 1.066112:  17%|#6        | 1/6 [00:03<00:15,  3.01s/it]\u001b[A\u001b[A\u001b[A\u001b[32m[I 2020-05-17 07:22:41,044]\u001b[0m Finished trial#37 with value: 1.0691198600735399 with parameters: {'feature_fraction': 0.7799999999999999}. Best is trial#37 with value: 1.0691198600735399.\u001b[0m\n",
            "\n",
            "\n",
            "\n",
            "feature_fraction_stage2, val_score: 1.066112:  17%|#6        | 1/6 [00:03<00:15,  3.01s/it]\u001b[A\u001b[A\u001b[A"
          ],
          "name": "stderr"
        },
        {
          "output_type": "stream",
          "text": [
            "[100]\ttraining's rmse: 0.798603\tvalid_1's rmse: 1.07302\n",
            "Early stopping, best iteration is:\n",
            "[51]\ttraining's rmse: 0.912893\tvalid_1's rmse: 1.06912\n",
            "Training until validation scores don't improve for 50 rounds.\n",
            "[100]\ttraining's rmse: 0.801794\tvalid_1's rmse: 1.07423\n"
          ],
          "name": "stdout"
        },
        {
          "output_type": "stream",
          "text": [
            "\n",
            "\n",
            "\n",
            "feature_fraction_stage2, val_score: 1.066112:  17%|#6        | 1/6 [00:06<00:15,  3.01s/it]\u001b[A\u001b[A\u001b[A\n",
            "\n",
            "\n",
            "feature_fraction_stage2, val_score: 1.066112:  33%|###3      | 2/6 [00:06<00:12,  3.08s/it]\u001b[A\u001b[A\u001b[A\u001b[32m[I 2020-05-17 07:22:44,286]\u001b[0m Finished trial#38 with value: 1.0717010257012645 with parameters: {'feature_fraction': 0.6839999999999999}. Best is trial#37 with value: 1.0691198600735399.\u001b[0m\n",
            "\n",
            "\n",
            "\n",
            "feature_fraction_stage2, val_score: 1.066112:  33%|###3      | 2/6 [00:06<00:12,  3.08s/it]\u001b[A\u001b[A\u001b[A"
          ],
          "name": "stderr"
        },
        {
          "output_type": "stream",
          "text": [
            "Early stopping, best iteration is:\n",
            "[75]\ttraining's rmse: 0.854399\tvalid_1's rmse: 1.0717\n",
            "Training until validation scores don't improve for 50 rounds.\n"
          ],
          "name": "stdout"
        },
        {
          "output_type": "stream",
          "text": [
            "\n",
            "\n",
            "\n",
            "feature_fraction_stage2, val_score: 1.066112:  33%|###3      | 2/6 [00:09<00:12,  3.08s/it]\u001b[A\u001b[A\u001b[A\n",
            "\n",
            "\n",
            "feature_fraction_stage2, val_score: 1.066112:  50%|#####     | 3/6 [00:09<00:09,  3.07s/it]\u001b[A\u001b[A\u001b[A\u001b[32m[I 2020-05-17 07:22:47,322]\u001b[0m Finished trial#39 with value: 1.0743855642933646 with parameters: {'feature_fraction': 0.748}. Best is trial#37 with value: 1.0691198600735399.\u001b[0m\n",
            "\n",
            "\n",
            "\n",
            "feature_fraction_stage2, val_score: 1.066112:  50%|#####     | 3/6 [00:09<00:09,  3.07s/it]\u001b[A\u001b[A\u001b[A"
          ],
          "name": "stderr"
        },
        {
          "output_type": "stream",
          "text": [
            "[100]\ttraining's rmse: 0.800016\tvalid_1's rmse: 1.07631\n",
            "Early stopping, best iteration is:\n",
            "[53]\ttraining's rmse: 0.907453\tvalid_1's rmse: 1.07439\n",
            "Training until validation scores don't improve for 50 rounds.\n",
            "[100]\ttraining's rmse: 0.800081\tvalid_1's rmse: 1.06552\n"
          ],
          "name": "stdout"
        },
        {
          "output_type": "stream",
          "text": [
            "\n",
            "\n",
            "\n",
            "feature_fraction_stage2, val_score: 1.064846:  50%|#####     | 3/6 [00:12<00:09,  3.07s/it]\u001b[A\u001b[A\u001b[A\n",
            "\n",
            "\n",
            "feature_fraction_stage2, val_score: 1.064846:  67%|######6   | 4/6 [00:12<00:06,  3.10s/it]\u001b[A\u001b[A\u001b[A\u001b[32m[I 2020-05-17 07:22:50,494]\u001b[0m Finished trial#40 with value: 1.0648459737156057 with parameters: {'feature_fraction': 0.716}. Best is trial#40 with value: 1.0648459737156057.\u001b[0m\n",
            "\n",
            "\n",
            "\n",
            "feature_fraction_stage2, val_score: 1.064846:  67%|######6   | 4/6 [00:12<00:06,  3.10s/it]\u001b[A\u001b[A\u001b[A"
          ],
          "name": "stderr"
        },
        {
          "output_type": "stream",
          "text": [
            "Early stopping, best iteration is:\n",
            "[63]\ttraining's rmse: 0.882291\tvalid_1's rmse: 1.06485\n",
            "Training until validation scores don't improve for 50 rounds.\n"
          ],
          "name": "stdout"
        },
        {
          "output_type": "stream",
          "text": [
            "\n",
            "\n",
            "\n",
            "feature_fraction_stage2, val_score: 1.064846:  67%|######6   | 4/6 [00:15<00:06,  3.10s/it]\u001b[A\u001b[A\u001b[A\n",
            "\n",
            "\n",
            "feature_fraction_stage2, val_score: 1.064846:  83%|########3 | 5/6 [00:15<00:02,  2.99s/it]\u001b[A\u001b[A\u001b[A\u001b[32m[I 2020-05-17 07:22:53,217]\u001b[0m Finished trial#41 with value: 1.0696607117554444 with parameters: {'feature_fraction': 0.652}. Best is trial#40 with value: 1.0648459737156057.\u001b[0m\n",
            "\n",
            "\n",
            "\n",
            "feature_fraction_stage2, val_score: 1.064846:  83%|########3 | 5/6 [00:15<00:02,  2.99s/it]\u001b[A\u001b[A\u001b[A"
          ],
          "name": "stderr"
        },
        {
          "output_type": "stream",
          "text": [
            "[100]\ttraining's rmse: 0.804334\tvalid_1's rmse: 1.07227\n",
            "Early stopping, best iteration is:\n",
            "[53]\ttraining's rmse: 0.911755\tvalid_1's rmse: 1.06966\n",
            "Training until validation scores don't improve for 50 rounds.\n"
          ],
          "name": "stdout"
        },
        {
          "output_type": "stream",
          "text": [
            "\n",
            "\n",
            "\n",
            "feature_fraction_stage2, val_score: 1.064846:  83%|########3 | 5/6 [00:17<00:02,  2.99s/it]\u001b[A\u001b[A\u001b[A\n",
            "\n",
            "\n",
            "feature_fraction_stage2, val_score: 1.064846: 100%|##########| 6/6 [00:17<00:00,  2.83s/it]\u001b[A\u001b[A\u001b[A\u001b[32m[I 2020-05-17 07:22:55,692]\u001b[0m Finished trial#42 with value: 1.0679065506026009 with parameters: {'feature_fraction': 0.62}. Best is trial#40 with value: 1.0648459737156057.\u001b[0m\n",
            "feature_fraction_stage2, val_score: 1.064846: 100%|##########| 6/6 [00:17<00:00,  2.96s/it]\n",
            "\n",
            "\n",
            "\n",
            "  0%|          | 0/20 [00:00<?, ?it/s]\u001b[A\u001b[A\u001b[A\n",
            "\n",
            "\n",
            "regularization_factors, val_score: 1.064846:   0%|          | 0/20 [00:00<?, ?it/s]\u001b[A\u001b[A\u001b[A"
          ],
          "name": "stderr"
        },
        {
          "output_type": "stream",
          "text": [
            "Early stopping, best iteration is:\n",
            "[46]\ttraining's rmse: 0.931228\tvalid_1's rmse: 1.06791\n",
            "Training until validation scores don't improve for 50 rounds.\n",
            "[100]\ttraining's rmse: 0.80084\tvalid_1's rmse: 1.06674\n"
          ],
          "name": "stdout"
        },
        {
          "output_type": "stream",
          "text": [
            "\n",
            "\n",
            "\n",
            "regularization_factors, val_score: 1.064846:   0%|          | 0/20 [00:03<?, ?it/s]\u001b[A\u001b[A\u001b[A\n",
            "\n",
            "\n",
            "regularization_factors, val_score: 1.064846:   5%|5         | 1/20 [00:03<00:59,  3.15s/it]\u001b[A\u001b[A\u001b[A\u001b[32m[I 2020-05-17 07:22:58,949]\u001b[0m Finished trial#43 with value: 1.0648458859307917 with parameters: {'lambda_l1': 0.00045158177535768897, 'lambda_l2': 7.785831336633001e-05}. Best is trial#43 with value: 1.0648458859307917.\u001b[0m\n",
            "\n",
            "\n",
            "\n",
            "regularization_factors, val_score: 1.064846:   5%|5         | 1/20 [00:03<00:59,  3.15s/it]\u001b[A\u001b[A\u001b[A"
          ],
          "name": "stderr"
        },
        {
          "output_type": "stream",
          "text": [
            "Early stopping, best iteration is:\n",
            "[63]\ttraining's rmse: 0.882293\tvalid_1's rmse: 1.06485\n",
            "Training until validation scores don't improve for 50 rounds.\n"
          ],
          "name": "stdout"
        },
        {
          "output_type": "stream",
          "text": [
            "\n",
            "\n",
            "\n",
            "regularization_factors, val_score: 1.064846:   5%|5         | 1/20 [00:06<00:59,  3.15s/it]\u001b[A\u001b[A\u001b[A"
          ],
          "name": "stderr"
        },
        {
          "output_type": "stream",
          "text": [
            "[100]\ttraining's rmse: 0.803354\tvalid_1's rmse: 1.07298\n",
            "Early stopping, best iteration is:\n",
            "[57]\ttraining's rmse: 0.899457\tvalid_1's rmse: 1.07149\n"
          ],
          "name": "stdout"
        },
        {
          "output_type": "stream",
          "text": [
            "\n",
            "\n",
            "\n",
            "regularization_factors, val_score: 1.064846:  10%|#         | 2/20 [00:06<00:56,  3.16s/it]\u001b[A\u001b[A\u001b[A\u001b[32m[I 2020-05-17 07:23:02,121]\u001b[0m Finished trial#44 with value: 1.071493191835731 with parameters: {'lambda_l1': 0.05977233078749201, 'lambda_l2': 1.0012549899332284}. Best is trial#43 with value: 1.0648458859307917.\u001b[0m\n",
            "\n",
            "\n",
            "\n",
            "regularization_factors, val_score: 1.064846:  10%|#         | 2/20 [00:06<00:56,  3.16s/it]\u001b[A\u001b[A\u001b[A"
          ],
          "name": "stderr"
        },
        {
          "output_type": "stream",
          "text": [
            "Training until validation scores don't improve for 50 rounds.\n"
          ],
          "name": "stdout"
        },
        {
          "output_type": "stream",
          "text": [
            "\n",
            "\n",
            "\n",
            "regularization_factors, val_score: 1.064846:  10%|#         | 2/20 [00:09<00:56,  3.16s/it]\u001b[A\u001b[A\u001b[A\n",
            "\n",
            "\n",
            "regularization_factors, val_score: 1.064846:  15%|#5        | 3/20 [00:09<00:53,  3.13s/it]\u001b[A\u001b[A\u001b[A"
          ],
          "name": "stderr"
        },
        {
          "output_type": "stream",
          "text": [
            "[100]\ttraining's rmse: 0.800531\tvalid_1's rmse: 1.07532\n",
            "Early stopping, best iteration is:\n",
            "[57]\ttraining's rmse: 0.896835\tvalid_1's rmse: 1.07227\n"
          ],
          "name": "stdout"
        },
        {
          "output_type": "stream",
          "text": [
            "\u001b[32m[I 2020-05-17 07:23:05,186]\u001b[0m Finished trial#45 with value: 1.0722696571780232 with parameters: {'lambda_l1': 0.005397192328553703, 'lambda_l2': 0.007691215515721474}. Best is trial#43 with value: 1.0648458859307917.\u001b[0m\n",
            "\n",
            "\n",
            "\n",
            "regularization_factors, val_score: 1.064846:  15%|#5        | 3/20 [00:09<00:53,  3.13s/it]\u001b[A\u001b[A\u001b[A"
          ],
          "name": "stderr"
        },
        {
          "output_type": "stream",
          "text": [
            "Training until validation scores don't improve for 50 rounds.\n",
            "[100]\ttraining's rmse: 0.800013\tvalid_1's rmse: 1.07588\n"
          ],
          "name": "stdout"
        },
        {
          "output_type": "stream",
          "text": [
            "\n",
            "\n",
            "\n",
            "regularization_factors, val_score: 1.064846:  15%|#5        | 3/20 [00:12<00:53,  3.13s/it]\u001b[A\u001b[A\u001b[A\n",
            "\n",
            "\n",
            "regularization_factors, val_score: 1.064846:  20%|##        | 4/20 [00:12<00:51,  3.24s/it]\u001b[A\u001b[A\u001b[A\u001b[32m[I 2020-05-17 07:23:08,695]\u001b[0m Finished trial#46 with value: 1.0720600208516804 with parameters: {'lambda_l1': 0.006875075841414716, 'lambda_l2': 1.4274622931385397}. Best is trial#43 with value: 1.0648458859307917.\u001b[0m\n",
            "\n",
            "\n",
            "\n",
            "regularization_factors, val_score: 1.064846:  20%|##        | 4/20 [00:12<00:51,  3.24s/it]\u001b[A\u001b[A\u001b[A"
          ],
          "name": "stderr"
        },
        {
          "output_type": "stream",
          "text": [
            "Early stopping, best iteration is:\n",
            "[71]\ttraining's rmse: 0.863898\tvalid_1's rmse: 1.07206\n",
            "Training until validation scores don't improve for 50 rounds.\n",
            "[100]\ttraining's rmse: 0.834095\tvalid_1's rmse: 1.07722\n"
          ],
          "name": "stdout"
        },
        {
          "output_type": "stream",
          "text": [
            "\n",
            "\n",
            "\n",
            "regularization_factors, val_score: 1.064846:  20%|##        | 4/20 [00:16<00:51,  3.24s/it]\u001b[A\u001b[A\u001b[A\n",
            "\n",
            "\n",
            "regularization_factors, val_score: 1.064846:  25%|##5       | 5/20 [00:16<00:49,  3.28s/it]\u001b[A\u001b[A\u001b[A\u001b[32m[I 2020-05-17 07:23:12,056]\u001b[0m Finished trial#47 with value: 1.0738436977654084 with parameters: {'lambda_l1': 9.04076046113264, 'lambda_l2': 6.633332118214197e-06}. Best is trial#43 with value: 1.0648458859307917.\u001b[0m\n",
            "\n",
            "\n",
            "\n",
            "regularization_factors, val_score: 1.064846:  25%|##5       | 5/20 [00:16<00:49,  3.28s/it]\u001b[A\u001b[A\u001b[A"
          ],
          "name": "stderr"
        },
        {
          "output_type": "stream",
          "text": [
            "Early stopping, best iteration is:\n",
            "[61]\ttraining's rmse: 0.912715\tvalid_1's rmse: 1.07384\n",
            "Training until validation scores don't improve for 50 rounds.\n",
            "[100]\ttraining's rmse: 0.800081\tvalid_1's rmse: 1.06552\n"
          ],
          "name": "stdout"
        },
        {
          "output_type": "stream",
          "text": [
            "\n",
            "\n",
            "\n",
            "regularization_factors, val_score: 1.064846:  25%|##5       | 5/20 [00:19<00:49,  3.28s/it]\u001b[A\u001b[A\u001b[A\n",
            "\n",
            "\n",
            "regularization_factors, val_score: 1.064846:  30%|###       | 6/20 [00:19<00:45,  3.27s/it]\u001b[A\u001b[A\u001b[A\u001b[32m[I 2020-05-17 07:23:15,300]\u001b[0m Finished trial#48 with value: 1.0648459587829069 with parameters: {'lambda_l1': 7.526003736109639e-05, 'lambda_l2': 1.5409137032944407e-05}. Best is trial#43 with value: 1.0648458859307917.\u001b[0m\n",
            "\n",
            "\n",
            "\n",
            "regularization_factors, val_score: 1.064846:  30%|###       | 6/20 [00:19<00:45,  3.27s/it]\u001b[A\u001b[A\u001b[A"
          ],
          "name": "stderr"
        },
        {
          "output_type": "stream",
          "text": [
            "Early stopping, best iteration is:\n",
            "[63]\ttraining's rmse: 0.882292\tvalid_1's rmse: 1.06485\n",
            "Training until validation scores don't improve for 50 rounds.\n",
            "[100]\ttraining's rmse: 0.80131\tvalid_1's rmse: 1.0657\n"
          ],
          "name": "stdout"
        },
        {
          "output_type": "stream",
          "text": [
            "\n",
            "\n",
            "\n",
            "regularization_factors, val_score: 1.064844:  30%|###       | 6/20 [00:22<00:45,  3.27s/it]\u001b[A\u001b[A\u001b[A\n",
            "\n",
            "\n",
            "regularization_factors, val_score: 1.064844:  35%|###5      | 7/20 [00:22<00:42,  3.27s/it]\u001b[A\u001b[A\u001b[A\u001b[32m[I 2020-05-17 07:23:18,556]\u001b[0m Finished trial#49 with value: 1.064844440432323 with parameters: {'lambda_l1': 2.6015617285092615e-08, 'lambda_l2': 0.012777198893477223}. Best is trial#49 with value: 1.064844440432323.\u001b[0m\n",
            "\n",
            "\n",
            "\n",
            "regularization_factors, val_score: 1.064844:  35%|###5      | 7/20 [00:22<00:42,  3.27s/it]\u001b[A\u001b[A\u001b[A"
          ],
          "name": "stderr"
        },
        {
          "output_type": "stream",
          "text": [
            "Early stopping, best iteration is:\n",
            "[63]\ttraining's rmse: 0.882317\tvalid_1's rmse: 1.06484\n",
            "Training until validation scores don't improve for 50 rounds.\n",
            "[100]\ttraining's rmse: 0.798914\tvalid_1's rmse: 1.07265\n"
          ],
          "name": "stdout"
        },
        {
          "output_type": "stream",
          "text": [
            "\n",
            "\n",
            "\n",
            "regularization_factors, val_score: 1.064844:  35%|###5      | 7/20 [00:26<00:42,  3.27s/it]\u001b[A\u001b[A\u001b[A\n",
            "\n",
            "\n",
            "regularization_factors, val_score: 1.064844:  40%|####      | 8/20 [00:26<00:40,  3.38s/it]\u001b[A\u001b[A\u001b[A\u001b[32m[I 2020-05-17 07:23:22,189]\u001b[0m Finished trial#50 with value: 1.0705934663698162 with parameters: {'lambda_l1': 0.005175782396257167, 'lambda_l2': 0.000540479906116278}. Best is trial#49 with value: 1.064844440432323.\u001b[0m\n",
            "\n",
            "\n",
            "\n",
            "regularization_factors, val_score: 1.064844:  40%|####      | 8/20 [00:26<00:40,  3.38s/it]\u001b[A\u001b[A\u001b[A"
          ],
          "name": "stderr"
        },
        {
          "output_type": "stream",
          "text": [
            "Early stopping, best iteration is:\n",
            "[77]\ttraining's rmse: 0.848767\tvalid_1's rmse: 1.07059\n",
            "Training until validation scores don't improve for 50 rounds.\n"
          ],
          "name": "stdout"
        },
        {
          "output_type": "stream",
          "text": [
            "\n",
            "\n",
            "\n",
            "regularization_factors, val_score: 1.064844:  40%|####      | 8/20 [00:29<00:40,  3.38s/it]\u001b[A\u001b[A\u001b[A\n",
            "\n",
            "\n",
            "regularization_factors, val_score: 1.064844:  45%|####5     | 9/20 [00:29<00:35,  3.21s/it]\u001b[A\u001b[A\u001b[A\u001b[32m[I 2020-05-17 07:23:25,028]\u001b[0m Finished trial#51 with value: 1.0717255261052523 with parameters: {'lambda_l1': 0.0024362554450334936, 'lambda_l2': 0.20548004501882686}. Best is trial#49 with value: 1.064844440432323.\u001b[0m\n",
            "\n",
            "\n",
            "\n",
            "regularization_factors, val_score: 1.064844:  45%|####5     | 9/20 [00:29<00:35,  3.21s/it]\u001b[A\u001b[A\u001b[A"
          ],
          "name": "stderr"
        },
        {
          "output_type": "stream",
          "text": [
            "Early stopping, best iteration is:\n",
            "[47]\ttraining's rmse: 0.924446\tvalid_1's rmse: 1.07173\n",
            "Training until validation scores don't improve for 50 rounds.\n",
            "[100]\ttraining's rmse: 0.803145\tvalid_1's rmse: 1.07287\n"
          ],
          "name": "stdout"
        },
        {
          "output_type": "stream",
          "text": [
            "\n",
            "\n",
            "\n",
            "regularization_factors, val_score: 1.064844:  45%|####5     | 9/20 [00:32<00:35,  3.21s/it]\u001b[A\u001b[A\u001b[A\n",
            "\n",
            "\n",
            "regularization_factors, val_score: 1.064844:  50%|#####     | 10/20 [00:32<00:32,  3.22s/it]\u001b[A\u001b[A\u001b[A\u001b[32m[I 2020-05-17 07:23:28,259]\u001b[0m Finished trial#52 with value: 1.0697374694193287 with parameters: {'lambda_l1': 0.053785190699139486, 'lambda_l2': 0.007896088777147151}. Best is trial#49 with value: 1.064844440432323.\u001b[0m\n",
            "\n",
            "\n",
            "\n",
            "regularization_factors, val_score: 1.064844:  50%|#####     | 10/20 [00:32<00:32,  3.22s/it]\u001b[A\u001b[A\u001b[A"
          ],
          "name": "stderr"
        },
        {
          "output_type": "stream",
          "text": [
            "Early stopping, best iteration is:\n",
            "[61]\ttraining's rmse: 0.888252\tvalid_1's rmse: 1.06974\n",
            "Training until validation scores don't improve for 50 rounds.\n",
            "[100]\ttraining's rmse: 0.800081\tvalid_1's rmse: 1.06552\n"
          ],
          "name": "stdout"
        },
        {
          "output_type": "stream",
          "text": [
            "\n",
            "\n",
            "\n",
            "regularization_factors, val_score: 1.064844:  50%|#####     | 10/20 [00:35<00:32,  3.22s/it]\u001b[A\u001b[A\u001b[A\n",
            "\n",
            "\n",
            "regularization_factors, val_score: 1.064844:  55%|#####5    | 11/20 [00:35<00:28,  3.22s/it]\u001b[A\u001b[A\u001b[A\u001b[32m[I 2020-05-17 07:23:31,478]\u001b[0m Finished trial#53 with value: 1.0648459737119973 with parameters: {'lambda_l1': 1.2792375220527102e-08, 'lambda_l2': 1.547075689451532e-08}. Best is trial#49 with value: 1.064844440432323.\u001b[0m\n",
            "\n",
            "\n",
            "\n",
            "regularization_factors, val_score: 1.064844:  55%|#####5    | 11/20 [00:35<00:28,  3.22s/it]\u001b[A\u001b[A\u001b[A"
          ],
          "name": "stderr"
        },
        {
          "output_type": "stream",
          "text": [
            "Early stopping, best iteration is:\n",
            "[63]\ttraining's rmse: 0.882291\tvalid_1's rmse: 1.06485\n",
            "Training until validation scores don't improve for 50 rounds.\n",
            "[100]\ttraining's rmse: 0.800081\tvalid_1's rmse: 1.06552\n"
          ],
          "name": "stdout"
        },
        {
          "output_type": "stream",
          "text": [
            "\n",
            "\n",
            "\n",
            "regularization_factors, val_score: 1.064844:  55%|#####5    | 11/20 [00:38<00:28,  3.22s/it]\u001b[A\u001b[A\u001b[A\n",
            "\n",
            "\n",
            "regularization_factors, val_score: 1.064844:  60%|######    | 12/20 [00:38<00:25,  3.22s/it]\u001b[A\u001b[A\u001b[A\u001b[32m[I 2020-05-17 07:23:34,700]\u001b[0m Finished trial#54 with value: 1.0648459730806588 with parameters: {'lambda_l1': 2.6479071877133843e-06, 'lambda_l2': 1.2992062829209382e-06}. Best is trial#49 with value: 1.064844440432323.\u001b[0m\n",
            "\n",
            "\n",
            "\n",
            "regularization_factors, val_score: 1.064844:  60%|######    | 12/20 [00:39<00:25,  3.22s/it]\u001b[A\u001b[A\u001b[A"
          ],
          "name": "stderr"
        },
        {
          "output_type": "stream",
          "text": [
            "Early stopping, best iteration is:\n",
            "[63]\ttraining's rmse: 0.882291\tvalid_1's rmse: 1.06485\n",
            "Training until validation scores don't improve for 50 rounds.\n",
            "[100]\ttraining's rmse: 0.800082\tvalid_1's rmse: 1.06552\n"
          ],
          "name": "stdout"
        },
        {
          "output_type": "stream",
          "text": [
            "\n",
            "\n",
            "\n",
            "regularization_factors, val_score: 1.064844:  60%|######    | 12/20 [00:42<00:25,  3.22s/it]\u001b[A\u001b[A\u001b[A\n",
            "\n",
            "\n",
            "regularization_factors, val_score: 1.064844:  65%|######5   | 13/20 [00:42<00:22,  3.22s/it]\u001b[A\u001b[A\u001b[A\u001b[32m[I 2020-05-17 07:23:37,913]\u001b[0m Finished trial#55 with value: 1.0648459254140685 with parameters: {'lambda_l1': 3.4488021326706736e-08, 'lambda_l2': 0.00040176071187209147}. Best is trial#49 with value: 1.064844440432323.\u001b[0m\n",
            "\n",
            "\n",
            "\n",
            "regularization_factors, val_score: 1.064844:  65%|######5   | 13/20 [00:42<00:22,  3.22s/it]\u001b[A\u001b[A\u001b[A"
          ],
          "name": "stderr"
        },
        {
          "output_type": "stream",
          "text": [
            "Early stopping, best iteration is:\n",
            "[63]\ttraining's rmse: 0.882292\tvalid_1's rmse: 1.06485\n",
            "Training until validation scores don't improve for 50 rounds.\n"
          ],
          "name": "stdout"
        },
        {
          "output_type": "stream",
          "text": [
            "\n",
            "\n",
            "\n",
            "regularization_factors, val_score: 1.064844:  65%|######5   | 13/20 [00:45<00:22,  3.22s/it]\u001b[A\u001b[A\u001b[A\n",
            "\n",
            "\n",
            "regularization_factors, val_score: 1.064844:  70%|#######   | 14/20 [00:45<00:19,  3.20s/it]"
          ],
          "name": "stderr"
        },
        {
          "output_type": "stream",
          "text": [
            "[100]\ttraining's rmse: 0.799514\tvalid_1's rmse: 1.07542\n",
            "Early stopping, best iteration is:\n",
            "[58]\ttraining's rmse: 0.894184\tvalid_1's rmse: 1.07211\n"
          ],
          "name": "stdout"
        },
        {
          "output_type": "stream",
          "text": [
            "\u001b[A\u001b[A\u001b[A\u001b[32m[I 2020-05-17 07:23:41,062]\u001b[0m Finished trial#56 with value: 1.0721060059852399 with parameters: {'lambda_l1': 1.4697017881351295e-05, 'lambda_l2': 0.02594716280505373}. Best is trial#49 with value: 1.064844440432323.\u001b[0m\n",
            "\n",
            "\n",
            "\n",
            "regularization_factors, val_score: 1.064844:  70%|#######   | 14/20 [00:45<00:19,  3.20s/it]\u001b[A\u001b[A\u001b[A"
          ],
          "name": "stderr"
        },
        {
          "output_type": "stream",
          "text": [
            "Training until validation scores don't improve for 50 rounds.\n",
            "[100]\ttraining's rmse: 0.800081\tvalid_1's rmse: 1.06552\n"
          ],
          "name": "stdout"
        },
        {
          "output_type": "stream",
          "text": [
            "\n",
            "\n",
            "\n",
            "regularization_factors, val_score: 1.064844:  70%|#######   | 14/20 [00:48<00:19,  3.20s/it]\u001b[A\u001b[A\u001b[A\n",
            "\n",
            "\n",
            "regularization_factors, val_score: 1.064844:  75%|#######5  | 15/20 [00:48<00:16,  3.20s/it]\u001b[A\u001b[A\u001b[A\u001b[32m[I 2020-05-17 07:23:44,273]\u001b[0m Finished trial#57 with value: 1.0648459736252411 with parameters: {'lambda_l1': 4.897632756113325e-07, 'lambda_l2': 6.277212075477984e-08}. Best is trial#49 with value: 1.064844440432323.\u001b[0m\n",
            "\n",
            "\n",
            "\n",
            "regularization_factors, val_score: 1.064844:  75%|#######5  | 15/20 [00:48<00:16,  3.20s/it]\u001b[A\u001b[A\u001b[A"
          ],
          "name": "stderr"
        },
        {
          "output_type": "stream",
          "text": [
            "Early stopping, best iteration is:\n",
            "[63]\ttraining's rmse: 0.882291\tvalid_1's rmse: 1.06485\n",
            "Training until validation scores don't improve for 50 rounds.\n",
            "[100]\ttraining's rmse: 0.800082\tvalid_1's rmse: 1.06552\n"
          ],
          "name": "stdout"
        },
        {
          "output_type": "stream",
          "text": [
            "\n",
            "\n",
            "\n",
            "regularization_factors, val_score: 1.064844:  75%|#######5  | 15/20 [00:51<00:16,  3.20s/it]\u001b[A\u001b[A\u001b[A\n",
            "\n",
            "\n",
            "regularization_factors, val_score: 1.064844:  80%|########  | 16/20 [00:51<00:12,  3.21s/it]\u001b[A\u001b[A\u001b[A\u001b[32m[I 2020-05-17 07:23:47,515]\u001b[0m Finished trial#58 with value: 1.0648459273354178 with parameters: {'lambda_l1': 0.00023867566538627355, 'lambda_l2': 4.0984364352912864e-05}. Best is trial#49 with value: 1.064844440432323.\u001b[0m\n",
            "\n",
            "\n",
            "\n",
            "regularization_factors, val_score: 1.064844:  80%|########  | 16/20 [00:51<00:12,  3.21s/it]\u001b[A\u001b[A\u001b[A"
          ],
          "name": "stderr"
        },
        {
          "output_type": "stream",
          "text": [
            "Early stopping, best iteration is:\n",
            "[63]\ttraining's rmse: 0.882292\tvalid_1's rmse: 1.06485\n",
            "Training until validation scores don't improve for 50 rounds.\n",
            "[100]\ttraining's rmse: 0.814179\tvalid_1's rmse: 1.0727\n"
          ],
          "name": "stdout"
        },
        {
          "output_type": "stream",
          "text": [
            "\n",
            "\n",
            "\n",
            "regularization_factors, val_score: 1.064844:  80%|########  | 16/20 [00:55<00:12,  3.21s/it]\u001b[A\u001b[A\u001b[A\n",
            "\n",
            "\n",
            "regularization_factors, val_score: 1.064844:  85%|########5 | 17/20 [00:55<00:10,  3.43s/it]\u001b[A\u001b[A\u001b[A\u001b[32m[I 2020-05-17 07:23:51,447]\u001b[0m Finished trial#59 with value: 1.0724480579144122 with parameters: {'lambda_l1': 3.5692249708572805, 'lambda_l2': 0.0011182357385894717}. Best is trial#49 with value: 1.064844440432323.\u001b[0m\n",
            "\n",
            "\n",
            "\n",
            "regularization_factors, val_score: 1.064844:  85%|########5 | 17/20 [00:55<00:10,  3.43s/it]\u001b[A\u001b[A\u001b[A"
          ],
          "name": "stderr"
        },
        {
          "output_type": "stream",
          "text": [
            "Early stopping, best iteration is:\n",
            "[82]\ttraining's rmse: 0.850263\tvalid_1's rmse: 1.07245\n",
            "Training until validation scores don't improve for 50 rounds.\n"
          ],
          "name": "stdout"
        },
        {
          "output_type": "stream",
          "text": [
            "\n",
            "\n",
            "\n",
            "regularization_factors, val_score: 1.064844:  85%|########5 | 17/20 [00:58<00:10,  3.43s/it]\u001b[A\u001b[A\u001b[A\n",
            "\n",
            "\n",
            "regularization_factors, val_score: 1.064844:  90%|######### | 18/20 [00:58<00:06,  3.32s/it]\u001b[A\u001b[A\u001b[A"
          ],
          "name": "stderr"
        },
        {
          "output_type": "stream",
          "text": [
            "[100]\ttraining's rmse: 0.800097\tvalid_1's rmse: 1.07559\n",
            "Early stopping, best iteration is:\n",
            "[57]\ttraining's rmse: 0.897733\tvalid_1's rmse: 1.0719\n"
          ],
          "name": "stdout"
        },
        {
          "output_type": "stream",
          "text": [
            "\u001b[32m[I 2020-05-17 07:23:54,509]\u001b[0m Finished trial#60 with value: 1.0718990753165796 with parameters: {'lambda_l1': 2.594213205928784e-07, 'lambda_l2': 0.08564236769535459}. Best is trial#49 with value: 1.064844440432323.\u001b[0m\n",
            "\n",
            "\n",
            "\n",
            "regularization_factors, val_score: 1.064844:  90%|######### | 18/20 [00:58<00:06,  3.32s/it]\u001b[A\u001b[A\u001b[A"
          ],
          "name": "stderr"
        },
        {
          "output_type": "stream",
          "text": [
            "Training until validation scores don't improve for 50 rounds.\n",
            "[100]\ttraining's rmse: 0.800081\tvalid_1's rmse: 1.06552\n"
          ],
          "name": "stdout"
        },
        {
          "output_type": "stream",
          "text": [
            "\n",
            "\n",
            "\n",
            "regularization_factors, val_score: 1.064844:  90%|######### | 18/20 [01:01<00:06,  3.32s/it]\u001b[A\u001b[A\u001b[A\n",
            "\n",
            "\n",
            "regularization_factors, val_score: 1.064844:  95%|#########5| 19/20 [01:01<00:03,  3.29s/it]\u001b[A\u001b[A\u001b[A\u001b[32m[I 2020-05-17 07:23:57,720]\u001b[0m Finished trial#61 with value: 1.0648459700017137 with parameters: {'lambda_l1': 2.1140287772434782e-05, 'lambda_l2': 6.938551658334175e-07}. Best is trial#49 with value: 1.064844440432323.\u001b[0m\n",
            "\n",
            "\n",
            "\n",
            "regularization_factors, val_score: 1.064844:  95%|#########5| 19/20 [01:02<00:03,  3.29s/it]\u001b[A\u001b[A\u001b[A"
          ],
          "name": "stderr"
        },
        {
          "output_type": "stream",
          "text": [
            "Early stopping, best iteration is:\n",
            "[63]\ttraining's rmse: 0.882291\tvalid_1's rmse: 1.06485\n",
            "Training until validation scores don't improve for 50 rounds.\n"
          ],
          "name": "stdout"
        },
        {
          "output_type": "stream",
          "text": [
            "\n",
            "\n",
            "\n",
            "regularization_factors, val_score: 1.064844:  95%|#########5| 19/20 [01:05<00:03,  3.29s/it]\u001b[A\u001b[A\u001b[A\n",
            "\n",
            "\n",
            "regularization_factors, val_score: 1.064844: 100%|##########| 20/20 [01:05<00:00,  3.23s/it]\u001b[A\u001b[A\u001b[A\u001b[32m[I 2020-05-17 07:24:00,822]\u001b[0m Finished trial#62 with value: 1.0705317852090004 with parameters: {'lambda_l1': 0.10074339619818704, 'lambda_l2': 7.295382343507866e-05}. Best is trial#49 with value: 1.064844440432323.\u001b[0m\n",
            "regularization_factors, val_score: 1.064844: 100%|##########| 20/20 [01:05<00:00,  3.26s/it]"
          ],
          "name": "stderr"
        },
        {
          "output_type": "stream",
          "text": [
            "[100]\ttraining's rmse: 0.800922\tvalid_1's rmse: 1.07547\n",
            "Early stopping, best iteration is:\n",
            "[54]\ttraining's rmse: 0.906409\tvalid_1's rmse: 1.07053\n"
          ],
          "name": "stdout"
        },
        {
          "output_type": "stream",
          "text": [
            "\n",
            "\n",
            "\n",
            "\n",
            "  0%|          | 0/5 [00:00<?, ?it/s]\u001b[A\u001b[A\u001b[A\n",
            "\n",
            "\n",
            "min_data_in_leaf, val_score: 1.064844:   0%|          | 0/5 [00:00<?, ?it/s]\u001b[A\u001b[A\u001b[A/usr/local/lib/python3.6/dist-packages/lightgbm/engine.py:118: UserWarning:\n",
            "\n",
            "Found `num_rounds` in params. Will use it instead of argument\n",
            "\n"
          ],
          "name": "stderr"
        },
        {
          "output_type": "stream",
          "text": [
            "Training until validation scores don't improve for 50 rounds.\n"
          ],
          "name": "stdout"
        },
        {
          "output_type": "stream",
          "text": [
            "\n",
            "\n",
            "\n",
            "min_data_in_leaf, val_score: 1.064844:   0%|          | 0/5 [00:02<?, ?it/s]\u001b[A\u001b[A\u001b[A\n",
            "\n",
            "\n",
            "min_data_in_leaf, val_score: 1.064844:  20%|##        | 1/5 [00:02<00:10,  2.62s/it]\u001b[A\u001b[A\u001b[A\u001b[32m[I 2020-05-17 07:24:03,551]\u001b[0m Finished trial#63 with value: 1.0713396197064111 with parameters: {'min_child_samples': 50}. Best is trial#63 with value: 1.0713396197064111.\u001b[0m\n",
            "\n",
            "\n",
            "\n",
            "min_data_in_leaf, val_score: 1.064844:  20%|##        | 1/5 [00:02<00:10,  2.62s/it]\u001b[A\u001b[A\u001b[A"
          ],
          "name": "stderr"
        },
        {
          "output_type": "stream",
          "text": [
            "[100]\ttraining's rmse: 0.803779\tvalid_1's rmse: 1.07622\n",
            "Early stopping, best iteration is:\n",
            "[51]\ttraining's rmse: 0.915825\tvalid_1's rmse: 1.07134\n",
            "Training until validation scores don't improve for 50 rounds.\n",
            "[100]\ttraining's rmse: 0.798281\tvalid_1's rmse: 1.07455\n"
          ],
          "name": "stdout"
        },
        {
          "output_type": "stream",
          "text": [
            "\n",
            "\n",
            "\n",
            "min_data_in_leaf, val_score: 1.064844:  20%|##        | 1/5 [00:06<00:10,  2.62s/it]\u001b[A\u001b[A\u001b[A\n",
            "\n",
            "\n",
            "min_data_in_leaf, val_score: 1.064844:  40%|####      | 2/5 [00:06<00:08,  2.90s/it]\u001b[A\u001b[A\u001b[A\u001b[32m[I 2020-05-17 07:24:07,097]\u001b[0m Finished trial#64 with value: 1.0704022926550072 with parameters: {'min_child_samples': 5}. Best is trial#64 with value: 1.0704022926550072.\u001b[0m\n",
            "\n",
            "\n",
            "\n",
            "min_data_in_leaf, val_score: 1.064844:  40%|####      | 2/5 [00:06<00:08,  2.90s/it]\u001b[A\u001b[A\u001b[A"
          ],
          "name": "stderr"
        },
        {
          "output_type": "stream",
          "text": [
            "Early stopping, best iteration is:\n",
            "[61]\ttraining's rmse: 0.885888\tvalid_1's rmse: 1.0704\n",
            "Training until validation scores don't improve for 50 rounds.\n"
          ],
          "name": "stdout"
        },
        {
          "output_type": "stream",
          "text": [
            "\n",
            "\n",
            "\n",
            "min_data_in_leaf, val_score: 1.064844:  40%|####      | 2/5 [00:09<00:08,  2.90s/it]\u001b[A\u001b[A\u001b[A\n",
            "\n",
            "\n",
            "min_data_in_leaf, val_score: 1.064844:  60%|######    | 3/5 [00:09<00:05,  2.95s/it]\u001b[A\u001b[A\u001b[A\u001b[32m[I 2020-05-17 07:24:10,160]\u001b[0m Finished trial#65 with value: 1.073577013376563 with parameters: {'min_child_samples': 10}. Best is trial#64 with value: 1.0704022926550072.\u001b[0m\n",
            "\n",
            "\n",
            "\n",
            "min_data_in_leaf, val_score: 1.064844:  60%|######    | 3/5 [00:09<00:05,  2.95s/it]\u001b[A\u001b[A\u001b[A"
          ],
          "name": "stderr"
        },
        {
          "output_type": "stream",
          "text": [
            "Early stopping, best iteration is:\n",
            "[47]\ttraining's rmse: 0.921952\tvalid_1's rmse: 1.07358\n",
            "Training until validation scores don't improve for 50 rounds.\n"
          ],
          "name": "stdout"
        },
        {
          "output_type": "stream",
          "text": [
            "\n",
            "\n",
            "\n",
            "min_data_in_leaf, val_score: 1.064844:  60%|######    | 3/5 [00:11<00:05,  2.95s/it]\u001b[A\u001b[A\u001b[A\n",
            "\n",
            "\n",
            "min_data_in_leaf, val_score: 1.064844:  80%|########  | 4/5 [00:11<00:02,  2.78s/it]\u001b[A\u001b[A\u001b[A\u001b[32m[I 2020-05-17 07:24:12,530]\u001b[0m Finished trial#66 with value: 1.0696919618767797 with parameters: {'min_child_samples': 100}. Best is trial#66 with value: 1.0696919618767797.\u001b[0m\n",
            "\n",
            "\n",
            "\n",
            "min_data_in_leaf, val_score: 1.064844:  80%|########  | 4/5 [00:11<00:02,  2.78s/it]\u001b[A\u001b[A\u001b[A"
          ],
          "name": "stderr"
        },
        {
          "output_type": "stream",
          "text": [
            "Early stopping, best iteration is:\n",
            "[41]\ttraining's rmse: 0.950313\tvalid_1's rmse: 1.06969\n",
            "Training until validation scores don't improve for 50 rounds.\n",
            "[100]\ttraining's rmse: 0.800157\tvalid_1's rmse: 1.07184\n"
          ],
          "name": "stdout"
        },
        {
          "output_type": "stream",
          "text": [
            "\n",
            "\n",
            "\n",
            "min_data_in_leaf, val_score: 1.064844:  80%|########  | 4/5 [00:14<00:02,  2.78s/it]\u001b[A\u001b[A\u001b[A\n",
            "\n",
            "\n",
            "min_data_in_leaf, val_score: 1.064844: 100%|##########| 5/5 [00:14<00:00,  2.88s/it]\u001b[A\u001b[A\u001b[A\u001b[32m[I 2020-05-17 07:24:15,657]\u001b[0m Finished trial#67 with value: 1.0694204238521299 with parameters: {'min_child_samples': 25}. Best is trial#67 with value: 1.0694204238521299.\u001b[0m\n",
            "min_data_in_leaf, val_score: 1.064844: 100%|##########| 5/5 [00:14<00:00,  2.97s/it]"
          ],
          "name": "stderr"
        },
        {
          "output_type": "stream",
          "text": [
            "Early stopping, best iteration is:\n",
            "[60]\ttraining's rmse: 0.888363\tvalid_1's rmse: 1.06942\n",
            "Training until validation scores don't improve for 50 rounds.\n"
          ],
          "name": "stdout"
        },
        {
          "output_type": "stream",
          "text": [
            "\n"
          ],
          "name": "stderr"
        },
        {
          "output_type": "stream",
          "text": [
            "[100]\ttraining's rmse: 0.80131\tvalid_1's rmse: 1.0657\n",
            "Early stopping, best iteration is:\n",
            "[63]\ttraining's rmse: 0.882317\tvalid_1's rmse: 1.06484\n"
          ],
          "name": "stdout"
        },
        {
          "output_type": "stream",
          "text": [
            "/usr/local/lib/python3.6/dist-packages/optuna/_experimental.py:90: ExperimentalWarning:\n",
            "\n",
            "train is experimental (supported from v0.18.0). The interface can change in the future.\n",
            "\n",
            "\n",
            "\n",
            "\n",
            "  0%|          | 0/7 [00:00<?, ?it/s]\u001b[A\u001b[A\u001b[A\n",
            "\n",
            "\n",
            "feature_fraction, val_score: inf:   0%|          | 0/7 [00:00<?, ?it/s]\u001b[A\u001b[A\u001b[A"
          ],
          "name": "stderr"
        },
        {
          "output_type": "stream",
          "text": [
            "Train LGB\n"
          ],
          "name": "stdout"
        },
        {
          "output_type": "stream",
          "text": [
            "/usr/local/lib/python3.6/dist-packages/lightgbm/engine.py:118: UserWarning:\n",
            "\n",
            "Found `num_rounds` in params. Will use it instead of argument\n",
            "\n",
            "/usr/local/lib/python3.6/dist-packages/lightgbm/basic.py:762: UserWarning:\n",
            "\n",
            "categorical_feature in param dict is overridden.\n",
            "\n"
          ],
          "name": "stderr"
        },
        {
          "output_type": "stream",
          "text": [
            "Training until validation scores don't improve for 50 rounds.\n",
            "[100]\ttraining's rmse: 0.799064\tvalid_1's rmse: 1.07807\n"
          ],
          "name": "stdout"
        },
        {
          "output_type": "stream",
          "text": [
            "\n",
            "\n",
            "\n",
            "feature_fraction, val_score: 1.077209:   0%|          | 0/7 [00:05<?, ?it/s]\u001b[A\u001b[A\u001b[A\n",
            "\n",
            "\n",
            "feature_fraction, val_score: 1.077209:  14%|#4        | 1/7 [00:05<00:33,  5.56s/it]\u001b[A\u001b[A\u001b[A\u001b[32m[I 2020-05-17 07:24:26,455]\u001b[0m Finished trial#0 with value: 1.077208839552967 with parameters: {'feature_fraction': 0.4}. Best is trial#0 with value: 1.077208839552967.\u001b[0m\n",
            "\n",
            "\n",
            "\n",
            "feature_fraction, val_score: 1.077209:  14%|#4        | 1/7 [00:05<00:33,  5.56s/it]\u001b[A\u001b[A\u001b[A"
          ],
          "name": "stderr"
        },
        {
          "output_type": "stream",
          "text": [
            "Early stopping, best iteration is:\n",
            "[63]\ttraining's rmse: 0.880797\tvalid_1's rmse: 1.07721\n",
            "Training until validation scores don't improve for 50 rounds.\n",
            "[100]\ttraining's rmse: 0.793628\tvalid_1's rmse: 1.07422\n"
          ],
          "name": "stdout"
        },
        {
          "output_type": "stream",
          "text": [
            "\n",
            "\n",
            "\n",
            "feature_fraction, val_score: 1.073184:  14%|#4        | 1/7 [00:12<00:33,  5.56s/it]\u001b[A\u001b[A\u001b[A\n",
            "\n",
            "\n",
            "feature_fraction, val_score: 1.073184:  29%|##8       | 2/7 [00:12<00:29,  5.92s/it]\u001b[A\u001b[A\u001b[A\u001b[32m[I 2020-05-17 07:24:33,227]\u001b[0m Finished trial#1 with value: 1.0731844064773277 with parameters: {'feature_fraction': 0.5}. Best is trial#1 with value: 1.0731844064773277.\u001b[0m\n",
            "\n",
            "\n",
            "\n",
            "feature_fraction, val_score: 1.073184:  29%|##8       | 2/7 [00:12<00:29,  5.92s/it]\u001b[A\u001b[A\u001b[A"
          ],
          "name": "stderr"
        },
        {
          "output_type": "stream",
          "text": [
            "Early stopping, best iteration is:\n",
            "[95]\ttraining's rmse: 0.804164\tvalid_1's rmse: 1.07318\n",
            "Training until validation scores don't improve for 50 rounds.\n",
            "[100]\ttraining's rmse: 0.789772\tvalid_1's rmse: 1.07912\n"
          ],
          "name": "stdout"
        },
        {
          "output_type": "stream",
          "text": [
            "\n",
            "\n",
            "\n",
            "feature_fraction, val_score: 1.073184:  29%|##8       | 2/7 [00:18<00:29,  5.92s/it]\u001b[A\u001b[A\u001b[A\n",
            "\n",
            "\n",
            "feature_fraction, val_score: 1.073184:  43%|####2     | 3/7 [00:18<00:24,  6.10s/it]\u001b[A\u001b[A\u001b[A\u001b[32m[I 2020-05-17 07:24:39,741]\u001b[0m Finished trial#2 with value: 1.074001713487358 with parameters: {'feature_fraction': 0.6}. Best is trial#1 with value: 1.0731844064773277.\u001b[0m\n",
            "\n",
            "\n",
            "\n",
            "feature_fraction, val_score: 1.073184:  43%|####2     | 3/7 [00:18<00:24,  6.10s/it]\u001b[A\u001b[A\u001b[A"
          ],
          "name": "stderr"
        },
        {
          "output_type": "stream",
          "text": [
            "Early stopping, best iteration is:\n",
            "[64]\ttraining's rmse: 0.870111\tvalid_1's rmse: 1.074\n",
            "Training until validation scores don't improve for 50 rounds.\n",
            "[100]\ttraining's rmse: 0.782406\tvalid_1's rmse: 1.07417\n",
            "Early stopping, best iteration is:\n",
            "[53]\ttraining's rmse: 0.891599\tvalid_1's rmse: 1.07014\n"
          ],
          "name": "stdout"
        },
        {
          "output_type": "stream",
          "text": [
            "\n",
            "\n",
            "\n",
            "feature_fraction, val_score: 1.070140:  43%|####2     | 3/7 [00:27<00:24,  6.10s/it]\u001b[A\u001b[A\u001b[A\n",
            "\n",
            "\n",
            "feature_fraction, val_score: 1.070140:  57%|#####7    | 4/7 [00:27<00:20,  6.83s/it]\u001b[A\u001b[A\u001b[A\u001b[32m[I 2020-05-17 07:24:48,287]\u001b[0m Finished trial#3 with value: 1.0701398922334278 with parameters: {'feature_fraction': 0.8999999999999999}. Best is trial#3 with value: 1.0701398922334278.\u001b[0m\n",
            "\n",
            "\n",
            "\n",
            "feature_fraction, val_score: 1.070140:  57%|#####7    | 4/7 [00:27<00:20,  6.83s/it]\u001b[A\u001b[A\u001b[A"
          ],
          "name": "stderr"
        },
        {
          "output_type": "stream",
          "text": [
            "Training until validation scores don't improve for 50 rounds.\n",
            "[100]\ttraining's rmse: 0.787017\tvalid_1's rmse: 1.07382\n"
          ],
          "name": "stdout"
        },
        {
          "output_type": "stream",
          "text": [
            "\n",
            "\n",
            "\n",
            "feature_fraction, val_score: 1.070140:  57%|#####7    | 4/7 [00:34<00:20,  6.83s/it]\u001b[A\u001b[A\u001b[A\n",
            "\n",
            "\n",
            "feature_fraction, val_score: 1.070140:  71%|#######1  | 5/7 [00:34<00:13,  6.99s/it]\u001b[A\u001b[A\u001b[A\u001b[32m[I 2020-05-17 07:24:55,634]\u001b[0m Finished trial#4 with value: 1.0714920132575918 with parameters: {'feature_fraction': 0.7}. Best is trial#3 with value: 1.0701398922334278.\u001b[0m\n",
            "\n",
            "\n",
            "\n",
            "feature_fraction, val_score: 1.070140:  71%|#######1  | 5/7 [00:34<00:13,  6.99s/it]\u001b[A\u001b[A\u001b[A"
          ],
          "name": "stderr"
        },
        {
          "output_type": "stream",
          "text": [
            "Early stopping, best iteration is:\n",
            "[62]\ttraining's rmse: 0.871856\tvalid_1's rmse: 1.07149\n",
            "Training until validation scores don't improve for 50 rounds.\n",
            "[100]\ttraining's rmse: 0.776622\tvalid_1's rmse: 1.07686\n"
          ],
          "name": "stdout"
        },
        {
          "output_type": "stream",
          "text": [
            "\n",
            "\n",
            "\n",
            "feature_fraction, val_score: 1.070140:  71%|#######1  | 5/7 [00:45<00:13,  6.99s/it]\u001b[A\u001b[A\u001b[A\n",
            "\n",
            "\n",
            "feature_fraction, val_score: 1.070140:  86%|########5 | 6/7 [00:45<00:08,  8.06s/it]\u001b[A\u001b[A\u001b[A\u001b[32m[I 2020-05-17 07:25:06,204]\u001b[0m Finished trial#5 with value: 1.0719486292124634 with parameters: {'feature_fraction': 1.0}. Best is trial#3 with value: 1.0701398922334278.\u001b[0m\n",
            "\n",
            "\n",
            "\n",
            "feature_fraction, val_score: 1.070140:  86%|########5 | 6/7 [00:45<00:08,  8.06s/it]\u001b[A\u001b[A\u001b[A"
          ],
          "name": "stderr"
        },
        {
          "output_type": "stream",
          "text": [
            "Early stopping, best iteration is:\n",
            "[67]\ttraining's rmse: 0.85448\tvalid_1's rmse: 1.07195\n",
            "Training until validation scores don't improve for 50 rounds.\n",
            "[100]\ttraining's rmse: 0.783646\tvalid_1's rmse: 1.07651\n"
          ],
          "name": "stdout"
        },
        {
          "output_type": "stream",
          "text": [
            "\n",
            "\n",
            "\n",
            "feature_fraction, val_score: 1.070140:  86%|########5 | 6/7 [00:52<00:08,  8.06s/it]\u001b[A\u001b[A\u001b[A\n",
            "\n",
            "\n",
            "feature_fraction, val_score: 1.070140: 100%|##########| 7/7 [00:53<00:00,  7.95s/it]\u001b[A\u001b[A\u001b[A\u001b[32m[I 2020-05-17 07:25:13,895]\u001b[0m Finished trial#6 with value: 1.0729658155569033 with parameters: {'feature_fraction': 0.8}. Best is trial#3 with value: 1.0701398922334278.\u001b[0m\n",
            "feature_fraction, val_score: 1.070140: 100%|##########| 7/7 [00:53<00:00,  7.59s/it]\n",
            "\n",
            "\n",
            "\n",
            "  0%|          | 0/20 [00:00<?, ?it/s]\u001b[A\u001b[A\u001b[A\n",
            "\n",
            "\n",
            "num_leaves, val_score: 1.070140:   0%|          | 0/20 [00:00<?, ?it/s]\u001b[A\u001b[A\u001b[A"
          ],
          "name": "stderr"
        },
        {
          "output_type": "stream",
          "text": [
            "Early stopping, best iteration is:\n",
            "[54]\ttraining's rmse: 0.891792\tvalid_1's rmse: 1.07297\n",
            "Training until validation scores don't improve for 50 rounds.\n"
          ],
          "name": "stdout"
        },
        {
          "output_type": "stream",
          "text": [
            "\n",
            "\n",
            "\n",
            "num_leaves, val_score: 1.070140:   0%|          | 0/20 [00:24<?, ?it/s]\u001b[A\u001b[A\u001b[A\n",
            "\n",
            "\n",
            "num_leaves, val_score: 1.070140:   5%|5         | 1/20 [00:24<07:50, 24.76s/it]\u001b[A\u001b[A\u001b[A\u001b[32m[I 2020-05-17 07:25:38,758]\u001b[0m Finished trial#7 with value: 1.0806077683054092 with parameters: {'num_leaves': 132}. Best is trial#7 with value: 1.0806077683054092.\u001b[0m\n",
            "\n",
            "\n",
            "\n",
            "num_leaves, val_score: 1.070140:   5%|5         | 1/20 [00:24<07:50, 24.76s/it]\u001b[A\u001b[A\u001b[A"
          ],
          "name": "stderr"
        },
        {
          "output_type": "stream",
          "text": [
            "Early stopping, best iteration is:\n",
            "[39]\ttraining's rmse: 0.622889\tvalid_1's rmse: 1.08061\n",
            "Training until validation scores don't improve for 50 rounds.\n"
          ],
          "name": "stdout"
        },
        {
          "output_type": "stream",
          "text": [
            "\n",
            "\n",
            "\n",
            "num_leaves, val_score: 1.070140:   5%|5         | 1/20 [00:52<07:50, 24.76s/it]\u001b[A\u001b[A\u001b[A\n",
            "\n",
            "\n",
            "num_leaves, val_score: 1.070140:  10%|#         | 2/20 [00:52<07:44, 25.78s/it]\u001b[A\u001b[A\u001b[A\u001b[32m[I 2020-05-17 07:26:06,922]\u001b[0m Finished trial#8 with value: 1.083094363176974 with parameters: {'num_leaves': 187}. Best is trial#7 with value: 1.0806077683054092.\u001b[0m\n",
            "\n",
            "\n",
            "\n",
            "num_leaves, val_score: 1.070140:  10%|#         | 2/20 [00:53<07:44, 25.78s/it]\u001b[A\u001b[A\u001b[A"
          ],
          "name": "stderr"
        },
        {
          "output_type": "stream",
          "text": [
            "Early stopping, best iteration is:\n",
            "[24]\ttraining's rmse: 0.676917\tvalid_1's rmse: 1.08309\n",
            "Training until validation scores don't improve for 50 rounds.\n"
          ],
          "name": "stdout"
        },
        {
          "output_type": "stream",
          "text": [
            "\n",
            "\n",
            "\n",
            "num_leaves, val_score: 1.070140:  10%|#         | 2/20 [01:20<07:44, 25.78s/it]\u001b[A\u001b[A\u001b[A\n",
            "\n",
            "\n",
            "num_leaves, val_score: 1.070140:  15%|#5        | 3/20 [01:20<07:26, 26.25s/it]\u001b[A\u001b[A\u001b[A\u001b[32m[I 2020-05-17 07:26:34,268]\u001b[0m Finished trial#9 with value: 1.082917091276498 with parameters: {'num_leaves': 150}. Best is trial#7 with value: 1.0806077683054092.\u001b[0m\n",
            "\n",
            "\n",
            "\n",
            "num_leaves, val_score: 1.070140:  15%|#5        | 3/20 [01:20<07:26, 26.25s/it]\u001b[A\u001b[A\u001b[A"
          ],
          "name": "stderr"
        },
        {
          "output_type": "stream",
          "text": [
            "Early stopping, best iteration is:\n",
            "[38]\ttraining's rmse: 0.593439\tvalid_1's rmse: 1.08292\n",
            "Training until validation scores don't improve for 50 rounds.\n"
          ],
          "name": "stdout"
        },
        {
          "output_type": "stream",
          "text": [
            "\n",
            "\n",
            "\n",
            "num_leaves, val_score: 1.070140:  15%|#5        | 3/20 [01:51<07:26, 26.25s/it]\u001b[A\u001b[A\u001b[A\n",
            "\n",
            "\n",
            "num_leaves, val_score: 1.070140:  20%|##        | 4/20 [01:51<07:25, 27.83s/it]\u001b[A\u001b[A\u001b[A\u001b[32m[I 2020-05-17 07:27:05,801]\u001b[0m Finished trial#10 with value: 1.0883329660876895 with parameters: {'num_leaves': 226}. Best is trial#7 with value: 1.0806077683054092.\u001b[0m\n",
            "\n",
            "\n",
            "\n",
            "num_leaves, val_score: 1.070140:  20%|##        | 4/20 [01:51<07:25, 27.83s/it]\u001b[A\u001b[A\u001b[A"
          ],
          "name": "stderr"
        },
        {
          "output_type": "stream",
          "text": [
            "Early stopping, best iteration is:\n",
            "[21]\ttraining's rmse: 0.66987\tvalid_1's rmse: 1.08833\n",
            "Training until validation scores don't improve for 50 rounds.\n",
            "[100]\ttraining's rmse: 0.788302\tvalid_1's rmse: 1.07474\n"
          ],
          "name": "stdout"
        },
        {
          "output_type": "stream",
          "text": [
            "\n",
            "\n",
            "\n",
            "num_leaves, val_score: 1.070140:  20%|##        | 4/20 [02:00<07:25, 27.83s/it]\u001b[A\u001b[A\u001b[A\n",
            "\n",
            "\n",
            "num_leaves, val_score: 1.070140:  25%|##5       | 5/20 [02:00<05:30, 22.01s/it]\u001b[A\u001b[A\u001b[A\u001b[32m[I 2020-05-17 07:27:14,214]\u001b[0m Finished trial#11 with value: 1.0729569412360929 with parameters: {'num_leaves': 30}. Best is trial#11 with value: 1.0729569412360929.\u001b[0m\n",
            "\n",
            "\n",
            "\n",
            "num_leaves, val_score: 1.070140:  25%|##5       | 5/20 [02:00<05:30, 22.01s/it]\u001b[A\u001b[A\u001b[A"
          ],
          "name": "stderr"
        },
        {
          "output_type": "stream",
          "text": [
            "Early stopping, best iteration is:\n",
            "[53]\ttraining's rmse: 0.897894\tvalid_1's rmse: 1.07296\n",
            "Training until validation scores don't improve for 50 rounds.\n"
          ],
          "name": "stdout"
        },
        {
          "output_type": "stream",
          "text": [
            "\n",
            "\n",
            "\n",
            "num_leaves, val_score: 1.070140:  25%|##5       | 5/20 [02:28<05:30, 22.01s/it]\u001b[A\u001b[A\u001b[A\n",
            "\n",
            "\n",
            "num_leaves, val_score: 1.070140:  30%|###       | 6/20 [02:28<05:36, 24.00s/it]\u001b[A\u001b[A\u001b[A\u001b[32m[I 2020-05-17 07:27:42,860]\u001b[0m Finished trial#12 with value: 1.0777939011987612 with parameters: {'num_leaves': 174}. Best is trial#11 with value: 1.0729569412360929.\u001b[0m\n",
            "\n",
            "\n",
            "\n",
            "num_leaves, val_score: 1.070140:  30%|###       | 6/20 [02:28<05:36, 24.00s/it]\u001b[A\u001b[A\u001b[A"
          ],
          "name": "stderr"
        },
        {
          "output_type": "stream",
          "text": [
            "Early stopping, best iteration is:\n",
            "[31]\ttraining's rmse: 0.614657\tvalid_1's rmse: 1.07779\n",
            "Training until validation scores don't improve for 50 rounds.\n"
          ],
          "name": "stdout"
        },
        {
          "output_type": "stream",
          "text": [
            "\n",
            "\n",
            "\n",
            "num_leaves, val_score: 1.070140:  30%|###       | 6/20 [03:07<05:36, 24.00s/it]\u001b[A\u001b[A\u001b[A\n",
            "\n",
            "\n",
            "num_leaves, val_score: 1.070140:  35%|###5      | 7/20 [03:07<06:08, 28.38s/it]\u001b[A\u001b[A\u001b[A\u001b[32m[I 2020-05-17 07:28:21,461]\u001b[0m Finished trial#13 with value: 1.081955200574082 with parameters: {'num_leaves': 210}. Best is trial#11 with value: 1.0729569412360929.\u001b[0m\n",
            "\n",
            "\n",
            "\n",
            "num_leaves, val_score: 1.070140:  35%|###5      | 7/20 [03:07<06:08, 28.38s/it]\u001b[A\u001b[A\u001b[A"
          ],
          "name": "stderr"
        },
        {
          "output_type": "stream",
          "text": [
            "Early stopping, best iteration is:\n",
            "[44]\ttraining's rmse: 0.434346\tvalid_1's rmse: 1.08196\n",
            "Training until validation scores don't improve for 50 rounds.\n"
          ],
          "name": "stdout"
        },
        {
          "output_type": "stream",
          "text": [
            "\n",
            "\n",
            "\n",
            "num_leaves, val_score: 1.070140:  35%|###5      | 7/20 [03:21<06:08, 28.38s/it]\u001b[A\u001b[A\u001b[A\n",
            "\n",
            "\n",
            "num_leaves, val_score: 1.070140:  40%|####      | 8/20 [03:21<04:50, 24.20s/it]\u001b[A\u001b[A\u001b[A\u001b[32m[I 2020-05-17 07:28:35,910]\u001b[0m Finished trial#14 with value: 1.0801367920489775 with parameters: {'num_leaves': 78}. Best is trial#11 with value: 1.0729569412360929.\u001b[0m\n",
            "\n",
            "\n",
            "\n",
            "num_leaves, val_score: 1.070140:  40%|####      | 8/20 [03:22<04:50, 24.20s/it]\u001b[A\u001b[A\u001b[A"
          ],
          "name": "stderr"
        },
        {
          "output_type": "stream",
          "text": [
            "Early stopping, best iteration is:\n",
            "[29]\ttraining's rmse: 0.832813\tvalid_1's rmse: 1.08014\n",
            "Training until validation scores don't improve for 50 rounds.\n"
          ],
          "name": "stdout"
        },
        {
          "output_type": "stream",
          "text": [
            "\n",
            "\n",
            "\n",
            "num_leaves, val_score: 1.070140:  40%|####      | 8/20 [03:40<04:50, 24.20s/it]\u001b[A\u001b[A\u001b[A\n",
            "\n",
            "\n",
            "num_leaves, val_score: 1.070140:  45%|####5     | 9/20 [03:40<04:08, 22.60s/it]\u001b[A\u001b[A\u001b[A\u001b[32m[I 2020-05-17 07:28:54,769]\u001b[0m Finished trial#15 with value: 1.0796820362360333 with parameters: {'num_leaves': 98}. Best is trial#11 with value: 1.0729569412360929.\u001b[0m\n",
            "\n",
            "\n",
            "\n",
            "num_leaves, val_score: 1.070140:  45%|####5     | 9/20 [03:40<04:08, 22.60s/it]\u001b[A\u001b[A\u001b[A"
          ],
          "name": "stderr"
        },
        {
          "output_type": "stream",
          "text": [
            "Early stopping, best iteration is:\n",
            "[37]\ttraining's rmse: 0.722746\tvalid_1's rmse: 1.07968\n",
            "Training until validation scores don't improve for 50 rounds.\n"
          ],
          "name": "stdout"
        },
        {
          "output_type": "stream",
          "text": [
            "\n",
            "\n",
            "\n",
            "num_leaves, val_score: 1.070140:  45%|####5     | 9/20 [04:18<04:08, 22.60s/it]\u001b[A\u001b[A\u001b[A\n",
            "\n",
            "\n",
            "num_leaves, val_score: 1.070140:  50%|#####     | 10/20 [04:18<04:30, 27.04s/it]\u001b[A\u001b[A\u001b[A\u001b[32m[I 2020-05-17 07:29:32,185]\u001b[0m Finished trial#16 with value: 1.0784245758094675 with parameters: {'num_leaves': 203}. Best is trial#11 with value: 1.0729569412360929.\u001b[0m\n",
            "\n",
            "\n",
            "\n",
            "num_leaves, val_score: 1.070140:  50%|#####     | 10/20 [04:18<04:30, 27.04s/it]\u001b[A\u001b[A\u001b[A"
          ],
          "name": "stderr"
        },
        {
          "output_type": "stream",
          "text": [
            "Early stopping, best iteration is:\n",
            "[30]\ttraining's rmse: 0.580013\tvalid_1's rmse: 1.07842\n",
            "Training until validation scores don't improve for 50 rounds.\n",
            "[100]\ttraining's rmse: 1.01448\tvalid_1's rmse: 1.07179\n",
            "[200]\ttraining's rmse: 0.966765\tvalid_1's rmse: 1.06964\n"
          ],
          "name": "stdout"
        },
        {
          "output_type": "stream",
          "text": [
            "\n",
            "\n",
            "\n",
            "num_leaves, val_score: 1.068663:  50%|#####     | 10/20 [04:22<04:30, 27.04s/it]\u001b[A\u001b[A\u001b[A\n",
            "\n",
            "\n",
            "num_leaves, val_score: 1.068663:  55%|#####5    | 11/20 [04:22<03:03, 20.33s/it]\u001b[A\u001b[A\u001b[A\u001b[32m[I 2020-05-17 07:29:36,861]\u001b[0m Finished trial#17 with value: 1.0686630784896425 with parameters: {'num_leaves': 6}. Best is trial#17 with value: 1.0686630784896425.\u001b[0m\n",
            "\n",
            "\n",
            "\n",
            "num_leaves, val_score: 1.068663:  55%|#####5    | 11/20 [04:22<03:03, 20.33s/it]\u001b[A\u001b[A\u001b[A"
          ],
          "name": "stderr"
        },
        {
          "output_type": "stream",
          "text": [
            "Early stopping, best iteration is:\n",
            "[171]\ttraining's rmse: 0.979559\tvalid_1's rmse: 1.06866\n",
            "Training until validation scores don't improve for 50 rounds.\n",
            "[100]\ttraining's rmse: 1.08102\tvalid_1's rmse: 1.09213\n",
            "[200]\ttraining's rmse: 1.06249\tvalid_1's rmse: 1.08178\n",
            "[300]\ttraining's rmse: 1.05261\tvalid_1's rmse: 1.07865\n",
            "[400]\ttraining's rmse: 1.04575\tvalid_1's rmse: 1.07763\n"
          ],
          "name": "stdout"
        },
        {
          "output_type": "stream",
          "text": [
            "\n",
            "\n",
            "\n",
            "num_leaves, val_score: 1.068663:  55%|#####5    | 11/20 [04:26<03:03, 20.33s/it]\u001b[A\u001b[A\u001b[A\n",
            "\n",
            "\n",
            "num_leaves, val_score: 1.068663:  60%|######    | 12/20 [04:26<02:03, 15.41s/it]\u001b[A\u001b[A\u001b[A"
          ],
          "name": "stderr"
        },
        {
          "output_type": "stream",
          "text": [
            "[500]\ttraining's rmse: 1.04034\tvalid_1's rmse: 1.07715\n",
            "Early stopping, best iteration is:\n",
            "[466]\ttraining's rmse: 1.04207\tvalid_1's rmse: 1.07697\n"
          ],
          "name": "stdout"
        },
        {
          "output_type": "stream",
          "text": [
            "\u001b[32m[I 2020-05-17 07:29:40,790]\u001b[0m Finished trial#18 with value: 1.0769661259159997 with parameters: {'num_leaves': 2}. Best is trial#17 with value: 1.0686630784896425.\u001b[0m\n",
            "\n",
            "\n",
            "\n",
            "num_leaves, val_score: 1.068663:  60%|######    | 12/20 [04:26<02:03, 15.41s/it]\u001b[A\u001b[A\u001b[A"
          ],
          "name": "stderr"
        },
        {
          "output_type": "stream",
          "text": [
            "Training until validation scores don't improve for 50 rounds.\n",
            "[100]\ttraining's rmse: 0.990538\tvalid_1's rmse: 1.06848\n"
          ],
          "name": "stdout"
        },
        {
          "output_type": "stream",
          "text": [
            "\n",
            "\n",
            "\n",
            "num_leaves, val_score: 1.067310:  60%|######    | 12/20 [04:31<02:03, 15.41s/it]\u001b[A\u001b[A\u001b[A\n",
            "\n",
            "\n",
            "num_leaves, val_score: 1.067310:  65%|######5   | 13/20 [04:31<01:25, 12.24s/it]\u001b[A\u001b[A\u001b[A\u001b[32m[I 2020-05-17 07:29:45,621]\u001b[0m Finished trial#19 with value: 1.067309758362055 with parameters: {'num_leaves': 8}. Best is trial#19 with value: 1.067309758362055.\u001b[0m\n",
            "\n",
            "\n",
            "\n",
            "num_leaves, val_score: 1.067310:  65%|######5   | 13/20 [04:31<01:25, 12.24s/it]\u001b[A\u001b[A\u001b[A"
          ],
          "name": "stderr"
        },
        {
          "output_type": "stream",
          "text": [
            "Early stopping, best iteration is:\n",
            "[126]\ttraining's rmse: 0.972176\tvalid_1's rmse: 1.06731\n",
            "Training until validation scores don't improve for 50 rounds.\n",
            "[100]\ttraining's rmse: 0.728049\tvalid_1's rmse: 1.07779\n"
          ],
          "name": "stdout"
        },
        {
          "output_type": "stream",
          "text": [
            "\n",
            "\n",
            "\n",
            "num_leaves, val_score: 1.067310:  65%|######5   | 13/20 [04:42<01:25, 12.24s/it]\u001b[A\u001b[A\u001b[A\n",
            "\n",
            "\n",
            "num_leaves, val_score: 1.067310:  70%|#######   | 14/20 [04:42<01:10, 11.73s/it]\u001b[A\u001b[A\u001b[A\u001b[32m[I 2020-05-17 07:29:56,180]\u001b[0m Finished trial#20 with value: 1.072063790953509 with parameters: {'num_leaves': 38}. Best is trial#19 with value: 1.067309758362055.\u001b[0m\n",
            "\n",
            "\n",
            "\n",
            "num_leaves, val_score: 1.067310:  70%|#######   | 14/20 [04:42<01:10, 11.73s/it]\u001b[A\u001b[A\u001b[A"
          ],
          "name": "stderr"
        },
        {
          "output_type": "stream",
          "text": [
            "Early stopping, best iteration is:\n",
            "[57]\ttraining's rmse: 0.844219\tvalid_1's rmse: 1.07206\n",
            "Training until validation scores don't improve for 50 rounds.\n",
            "[100]\ttraining's rmse: 1.08102\tvalid_1's rmse: 1.09213\n",
            "[200]\ttraining's rmse: 1.06249\tvalid_1's rmse: 1.08178\n",
            "[300]\ttraining's rmse: 1.05261\tvalid_1's rmse: 1.07865\n",
            "[400]\ttraining's rmse: 1.04575\tvalid_1's rmse: 1.07763\n"
          ],
          "name": "stdout"
        },
        {
          "output_type": "stream",
          "text": [
            "\n",
            "\n",
            "\n",
            "num_leaves, val_score: 1.067310:  70%|#######   | 14/20 [04:46<01:10, 11.73s/it]\u001b[A\u001b[A\u001b[A\n",
            "\n",
            "\n",
            "num_leaves, val_score: 1.067310:  75%|#######5  | 15/20 [04:46<00:47,  9.40s/it]\u001b[A\u001b[A\u001b[A"
          ],
          "name": "stderr"
        },
        {
          "output_type": "stream",
          "text": [
            "[500]\ttraining's rmse: 1.04034\tvalid_1's rmse: 1.07715\n",
            "Early stopping, best iteration is:\n",
            "[466]\ttraining's rmse: 1.04207\tvalid_1's rmse: 1.07697\n"
          ],
          "name": "stdout"
        },
        {
          "output_type": "stream",
          "text": [
            "\u001b[32m[I 2020-05-17 07:30:00,138]\u001b[0m Finished trial#21 with value: 1.0769661259159997 with parameters: {'num_leaves': 2}. Best is trial#19 with value: 1.067309758362055.\u001b[0m\n",
            "\n",
            "\n",
            "\n",
            "num_leaves, val_score: 1.067310:  75%|#######5  | 15/20 [04:46<00:47,  9.40s/it]\u001b[A\u001b[A\u001b[A"
          ],
          "name": "stderr"
        },
        {
          "output_type": "stream",
          "text": [
            "Training until validation scores don't improve for 50 rounds.\n"
          ],
          "name": "stdout"
        },
        {
          "output_type": "stream",
          "text": [
            "\n",
            "\n",
            "\n",
            "num_leaves, val_score: 1.067310:  75%|#######5  | 15/20 [04:58<00:47,  9.40s/it]\u001b[A\u001b[A\u001b[A\n",
            "\n",
            "\n",
            "num_leaves, val_score: 1.067310:  80%|########  | 16/20 [04:58<00:41, 10.43s/it]\u001b[A\u001b[A\u001b[A\u001b[32m[I 2020-05-17 07:30:12,988]\u001b[0m Finished trial#22 with value: 1.0738913568265884 with parameters: {'num_leaves': 53}. Best is trial#19 with value: 1.067309758362055.\u001b[0m\n",
            "\n",
            "\n",
            "\n",
            "num_leaves, val_score: 1.067310:  80%|########  | 16/20 [04:59<00:41, 10.43s/it]\u001b[A\u001b[A\u001b[A"
          ],
          "name": "stderr"
        },
        {
          "output_type": "stream",
          "text": [
            "Early stopping, best iteration is:\n",
            "[49]\ttraining's rmse: 0.802254\tvalid_1's rmse: 1.07389\n",
            "Training until validation scores don't improve for 50 rounds.\n",
            "[100]\ttraining's rmse: 0.96998\tvalid_1's rmse: 1.06901\n"
          ],
          "name": "stdout"
        },
        {
          "output_type": "stream",
          "text": [
            "\n",
            "\n",
            "\n",
            "num_leaves, val_score: 1.067310:  80%|########  | 16/20 [05:02<00:41, 10.43s/it]\u001b[A\u001b[A\u001b[A\n",
            "\n",
            "\n",
            "num_leaves, val_score: 1.067310:  85%|########5 | 17/20 [05:02<00:25,  8.49s/it]\u001b[A\u001b[A\u001b[A\u001b[32m[I 2020-05-17 07:30:16,935]\u001b[0m Finished trial#23 with value: 1.068339887030893 with parameters: {'num_leaves': 10}. Best is trial#19 with value: 1.067309758362055.\u001b[0m\n",
            "\n",
            "\n",
            "\n",
            "num_leaves, val_score: 1.067310:  85%|########5 | 17/20 [05:03<00:25,  8.49s/it]\u001b[A\u001b[A\u001b[A"
          ],
          "name": "stderr"
        },
        {
          "output_type": "stream",
          "text": [
            "Early stopping, best iteration is:\n",
            "[61]\ttraining's rmse: 1.0053\tvalid_1's rmse: 1.06834\n",
            "Training until validation scores don't improve for 50 rounds.\n"
          ],
          "name": "stdout"
        },
        {
          "output_type": "stream",
          "text": [
            "\n",
            "\n",
            "\n",
            "num_leaves, val_score: 1.067310:  85%|########5 | 17/20 [05:19<00:25,  8.49s/it]\u001b[A\u001b[A\u001b[A\n",
            "\n",
            "\n",
            "num_leaves, val_score: 1.067310:  90%|######### | 18/20 [05:19<00:22, 11.05s/it]\u001b[A\u001b[A\u001b[A\u001b[32m[I 2020-05-17 07:30:33,948]\u001b[0m Finished trial#24 with value: 1.078637732344758 with parameters: {'num_leaves': 84}. Best is trial#19 with value: 1.067309758362055.\u001b[0m\n",
            "\n",
            "\n",
            "\n",
            "num_leaves, val_score: 1.067310:  90%|######### | 18/20 [05:20<00:22, 11.05s/it]\u001b[A\u001b[A\u001b[A"
          ],
          "name": "stderr"
        },
        {
          "output_type": "stream",
          "text": [
            "Early stopping, best iteration is:\n",
            "[37]\ttraining's rmse: 0.76115\tvalid_1's rmse: 1.07864\n",
            "Training until validation scores don't improve for 50 rounds.\n"
          ],
          "name": "stdout"
        },
        {
          "output_type": "stream",
          "text": [
            "\n",
            "\n",
            "\n",
            "num_leaves, val_score: 1.067310:  90%|######### | 18/20 [05:31<00:22, 11.05s/it]\u001b[A\u001b[A\u001b[A\n",
            "\n",
            "\n",
            "num_leaves, val_score: 1.067310:  95%|#########5| 19/20 [05:31<00:11, 11.30s/it]\u001b[A\u001b[A\u001b[A\u001b[32m[I 2020-05-17 07:30:45,843]\u001b[0m Finished trial#25 with value: 1.072213871823723 with parameters: {'num_leaves': 55}. Best is trial#19 with value: 1.067309758362055.\u001b[0m\n",
            "\n",
            "\n",
            "\n",
            "num_leaves, val_score: 1.067310:  95%|#########5| 19/20 [05:31<00:11, 11.30s/it]\u001b[A\u001b[A\u001b[A"
          ],
          "name": "stderr"
        },
        {
          "output_type": "stream",
          "text": [
            "Early stopping, best iteration is:\n",
            "[37]\ttraining's rmse: 0.851453\tvalid_1's rmse: 1.07221\n",
            "Training until validation scores don't improve for 50 rounds.\n"
          ],
          "name": "stdout"
        },
        {
          "output_type": "stream",
          "text": [
            "\n",
            "\n",
            "\n",
            "num_leaves, val_score: 1.067310:  95%|#########5| 19/20 [06:08<00:11, 11.30s/it]\u001b[A\u001b[A\u001b[A\n",
            "\n",
            "\n",
            "num_leaves, val_score: 1.067310: 100%|##########| 20/20 [06:08<00:00, 18.98s/it]\u001b[A\u001b[A\u001b[A\u001b[32m[I 2020-05-17 07:31:22,747]\u001b[0m Finished trial#26 with value: 1.081395350861256 with parameters: {'num_leaves': 250}. Best is trial#19 with value: 1.067309758362055.\u001b[0m\n",
            "num_leaves, val_score: 1.067310: 100%|##########| 20/20 [06:08<00:00, 18.44s/it]\n",
            "\n",
            "\n",
            "\n",
            "  0%|          | 0/10 [00:00<?, ?it/s]\u001b[A\u001b[A\u001b[A\n",
            "\n",
            "\n",
            "bagging, val_score: 1.067310:   0%|          | 0/10 [00:00<?, ?it/s]\u001b[A\u001b[A\u001b[A"
          ],
          "name": "stderr"
        },
        {
          "output_type": "stream",
          "text": [
            "Early stopping, best iteration is:\n",
            "[27]\ttraining's rmse: 0.557532\tvalid_1's rmse: 1.0814\n",
            "Training until validation scores don't improve for 50 rounds.\n",
            "[100]\ttraining's rmse: 0.989973\tvalid_1's rmse: 1.06983\n"
          ],
          "name": "stdout"
        },
        {
          "output_type": "stream",
          "text": [
            "\n",
            "\n",
            "\n",
            "bagging, val_score: 1.067310:   0%|          | 0/10 [00:04<?, ?it/s]\u001b[A\u001b[A\u001b[A\n",
            "\n",
            "\n",
            "bagging, val_score: 1.067310:  10%|#         | 1/10 [00:04<00:42,  4.78s/it]\u001b[A\u001b[A\u001b[A\u001b[32m[I 2020-05-17 07:31:27,629]\u001b[0m Finished trial#27 with value: 1.069541558263793 with parameters: {'bagging_fraction': 0.9318226906300165, 'bagging_freq': 2}. Best is trial#27 with value: 1.069541558263793.\u001b[0m\n",
            "\n",
            "\n",
            "\n",
            "bagging, val_score: 1.067310:  10%|#         | 1/10 [00:04<00:42,  4.78s/it]\u001b[A\u001b[A\u001b[A"
          ],
          "name": "stderr"
        },
        {
          "output_type": "stream",
          "text": [
            "Early stopping, best iteration is:\n",
            "[113]\ttraining's rmse: 0.980881\tvalid_1's rmse: 1.06954\n",
            "Training until validation scores don't improve for 50 rounds.\n",
            "[100]\ttraining's rmse: 0.993489\tvalid_1's rmse: 1.07547\n"
          ],
          "name": "stdout"
        },
        {
          "output_type": "stream",
          "text": [
            "\n",
            "\n",
            "\n",
            "bagging, val_score: 1.067310:  10%|#         | 1/10 [00:08<00:42,  4.78s/it]\u001b[A\u001b[A\u001b[A\n",
            "\n",
            "\n",
            "bagging, val_score: 1.067310:  20%|##        | 2/10 [00:08<00:34,  4.33s/it]\u001b[A\u001b[A\u001b[A\u001b[32m[I 2020-05-17 07:31:30,915]\u001b[0m Finished trial#28 with value: 1.0740636674947779 with parameters: {'bagging_fraction': 0.7237101538996997, 'bagging_freq': 7}. Best is trial#27 with value: 1.069541558263793.\u001b[0m\n",
            "\n",
            "\n",
            "\n",
            "bagging, val_score: 1.067310:  20%|##        | 2/10 [00:08<00:34,  4.33s/it]\u001b[A\u001b[A\u001b[A"
          ],
          "name": "stderr"
        },
        {
          "output_type": "stream",
          "text": [
            "Early stopping, best iteration is:\n",
            "[68]\ttraining's rmse: 1.01701\tvalid_1's rmse: 1.07406\n",
            "Training until validation scores don't improve for 50 rounds.\n",
            "[100]\ttraining's rmse: 0.988852\tvalid_1's rmse: 1.07249\n"
          ],
          "name": "stdout"
        },
        {
          "output_type": "stream",
          "text": [
            "\n",
            "\n",
            "\n",
            "bagging, val_score: 1.067310:  20%|##        | 2/10 [00:11<00:34,  4.33s/it]\u001b[A\u001b[A\u001b[A\n",
            "\n",
            "\n",
            "bagging, val_score: 1.067310:  30%|###       | 3/10 [00:11<00:29,  4.17s/it]\u001b[A\u001b[A\u001b[A\u001b[32m[I 2020-05-17 07:31:34,728]\u001b[0m Finished trial#29 with value: 1.0717669320601038 with parameters: {'bagging_fraction': 0.9105516322656089, 'bagging_freq': 1}. Best is trial#27 with value: 1.069541558263793.\u001b[0m\n",
            "\n",
            "\n",
            "\n",
            "bagging, val_score: 1.067310:  30%|###       | 3/10 [00:11<00:29,  4.17s/it]\u001b[A\u001b[A\u001b[A"
          ],
          "name": "stderr"
        },
        {
          "output_type": "stream",
          "text": [
            "Early stopping, best iteration is:\n",
            "[81]\ttraining's rmse: 1.00392\tvalid_1's rmse: 1.07177\n",
            "Training until validation scores don't improve for 50 rounds.\n",
            "[100]\ttraining's rmse: 0.990657\tvalid_1's rmse: 1.0735\n"
          ],
          "name": "stdout"
        },
        {
          "output_type": "stream",
          "text": [
            "\n",
            "\n",
            "\n",
            "bagging, val_score: 1.067310:  30%|###       | 3/10 [00:15<00:29,  4.17s/it]\u001b[A\u001b[A\u001b[A\n",
            "\n",
            "\n",
            "bagging, val_score: 1.067310:  40%|####      | 4/10 [00:15<00:23,  4.00s/it]\u001b[A\u001b[A\u001b[A\u001b[32m[I 2020-05-17 07:31:38,320]\u001b[0m Finished trial#30 with value: 1.073223199725786 with parameters: {'bagging_fraction': 0.8096334136642696, 'bagging_freq': 4}. Best is trial#27 with value: 1.069541558263793.\u001b[0m\n",
            "\n",
            "\n",
            "\n",
            "bagging, val_score: 1.067310:  40%|####      | 4/10 [00:15<00:23,  4.00s/it]\u001b[A\u001b[A\u001b[A"
          ],
          "name": "stderr"
        },
        {
          "output_type": "stream",
          "text": [
            "Early stopping, best iteration is:\n",
            "[76]\ttraining's rmse: 1.00937\tvalid_1's rmse: 1.07322\n",
            "Training until validation scores don't improve for 50 rounds.\n",
            "[100]\ttraining's rmse: 0.993199\tvalid_1's rmse: 1.07091\n"
          ],
          "name": "stdout"
        },
        {
          "output_type": "stream",
          "text": [
            "\n",
            "\n",
            "\n",
            "bagging, val_score: 1.067310:  40%|####      | 4/10 [00:19<00:23,  4.00s/it]\u001b[A\u001b[A\u001b[A\n",
            "\n",
            "\n",
            "bagging, val_score: 1.067310:  50%|#####     | 5/10 [00:19<00:19,  3.94s/it]\u001b[A\u001b[A\u001b[A\u001b[32m[I 2020-05-17 07:31:42,116]\u001b[0m Finished trial#31 with value: 1.0704666497725468 with parameters: {'bagging_fraction': 0.6650179484372728, 'bagging_freq': 6}. Best is trial#27 with value: 1.069541558263793.\u001b[0m\n",
            "\n",
            "\n",
            "\n",
            "bagging, val_score: 1.067310:  50%|#####     | 5/10 [00:19<00:19,  3.94s/it]\u001b[A\u001b[A\u001b[A"
          ],
          "name": "stderr"
        },
        {
          "output_type": "stream",
          "text": [
            "Early stopping, best iteration is:\n",
            "[91]\ttraining's rmse: 0.999758\tvalid_1's rmse: 1.07047\n",
            "Training until validation scores don't improve for 50 rounds.\n",
            "[100]\ttraining's rmse: 0.992388\tvalid_1's rmse: 1.07546\n"
          ],
          "name": "stdout"
        },
        {
          "output_type": "stream",
          "text": [
            "\n",
            "\n",
            "\n",
            "bagging, val_score: 1.067310:  50%|#####     | 5/10 [00:22<00:19,  3.94s/it]\u001b[A\u001b[A\u001b[A\n",
            "\n",
            "\n",
            "bagging, val_score: 1.067310:  60%|######    | 6/10 [00:22<00:15,  3.86s/it]\u001b[A\u001b[A\u001b[A\u001b[32m[I 2020-05-17 07:31:45,795]\u001b[0m Finished trial#32 with value: 1.073424411166017 with parameters: {'bagging_fraction': 0.7891804034816392, 'bagging_freq': 3}. Best is trial#27 with value: 1.069541558263793.\u001b[0m\n",
            "\n",
            "\n",
            "\n",
            "bagging, val_score: 1.067310:  60%|######    | 6/10 [00:23<00:15,  3.86s/it]\u001b[A\u001b[A\u001b[A"
          ],
          "name": "stderr"
        },
        {
          "output_type": "stream",
          "text": [
            "Early stopping, best iteration is:\n",
            "[77]\ttraining's rmse: 1.00923\tvalid_1's rmse: 1.07342\n",
            "Training until validation scores don't improve for 50 rounds.\n",
            "[100]\ttraining's rmse: 0.991539\tvalid_1's rmse: 1.07193\n"
          ],
          "name": "stdout"
        },
        {
          "output_type": "stream",
          "text": [
            "\n",
            "\n",
            "\n",
            "bagging, val_score: 1.067310:  60%|######    | 6/10 [00:26<00:15,  3.86s/it]\u001b[A\u001b[A\u001b[A\n",
            "\n",
            "\n",
            "bagging, val_score: 1.067310:  70%|#######   | 7/10 [00:26<00:11,  3.81s/it]\u001b[A\u001b[A\u001b[A\u001b[32m[I 2020-05-17 07:31:49,501]\u001b[0m Finished trial#33 with value: 1.0717698851782744 with parameters: {'bagging_fraction': 0.7439369543866023, 'bagging_freq': 3}. Best is trial#27 with value: 1.069541558263793.\u001b[0m\n",
            "\n",
            "\n",
            "\n",
            "bagging, val_score: 1.067310:  70%|#######   | 7/10 [00:26<00:11,  3.81s/it]\u001b[A\u001b[A\u001b[A"
          ],
          "name": "stderr"
        },
        {
          "output_type": "stream",
          "text": [
            "Early stopping, best iteration is:\n",
            "[79]\ttraining's rmse: 1.00734\tvalid_1's rmse: 1.07177\n",
            "Training until validation scores don't improve for 50 rounds.\n",
            "[100]\ttraining's rmse: 0.991418\tvalid_1's rmse: 1.07553\n"
          ],
          "name": "stdout"
        },
        {
          "output_type": "stream",
          "text": [
            "\n",
            "\n",
            "\n",
            "bagging, val_score: 1.067310:  70%|#######   | 7/10 [00:30<00:11,  3.81s/it]\u001b[A\u001b[A\u001b[A\n",
            "\n",
            "\n",
            "bagging, val_score: 1.067310:  80%|########  | 8/10 [00:30<00:07,  3.85s/it]\u001b[A\u001b[A\u001b[A\u001b[32m[I 2020-05-17 07:31:53,432]\u001b[0m Finished trial#34 with value: 1.0754688049840602 with parameters: {'bagging_fraction': 0.6193380313848685, 'bagging_freq': 3}. Best is trial#27 with value: 1.069541558263793.\u001b[0m\n",
            "\n",
            "\n",
            "\n",
            "bagging, val_score: 1.067310:  80%|########  | 8/10 [00:30<00:07,  3.85s/it]\u001b[A\u001b[A\u001b[A"
          ],
          "name": "stderr"
        },
        {
          "output_type": "stream",
          "text": [
            "Early stopping, best iteration is:\n",
            "[99]\ttraining's rmse: 0.992163\tvalid_1's rmse: 1.07547\n",
            "Training until validation scores don't improve for 50 rounds.\n",
            "[100]\ttraining's rmse: 0.992921\tvalid_1's rmse: 1.07745\n"
          ],
          "name": "stdout"
        },
        {
          "output_type": "stream",
          "text": [
            "\n",
            "\n",
            "\n",
            "bagging, val_score: 1.067310:  80%|########  | 8/10 [00:33<00:07,  3.85s/it]\u001b[A\u001b[A\u001b[A\n",
            "\n",
            "\n",
            "bagging, val_score: 1.067310:  90%|######### | 9/10 [00:33<00:03,  3.67s/it]\u001b[A\u001b[A\u001b[A\u001b[32m[I 2020-05-17 07:31:56,683]\u001b[0m Finished trial#35 with value: 1.0750116619246017 with parameters: {'bagging_fraction': 0.6555943973662992, 'bagging_freq': 5}. Best is trial#27 with value: 1.069541558263793.\u001b[0m\n",
            "\n",
            "\n",
            "\n",
            "bagging, val_score: 1.067310:  90%|######### | 9/10 [00:33<00:03,  3.67s/it]\u001b[A\u001b[A\u001b[A"
          ],
          "name": "stderr"
        },
        {
          "output_type": "stream",
          "text": [
            "Early stopping, best iteration is:\n",
            "[71]\ttraining's rmse: 1.01399\tvalid_1's rmse: 1.07501\n",
            "Training until validation scores don't improve for 50 rounds.\n",
            "[100]\ttraining's rmse: 0.995416\tvalid_1's rmse: 1.07468\n"
          ],
          "name": "stdout"
        },
        {
          "output_type": "stream",
          "text": [
            "\n",
            "\n",
            "\n",
            "bagging, val_score: 1.067310:  90%|######### | 9/10 [00:37<00:03,  3.67s/it]\u001b[A\u001b[A\u001b[A\n",
            "\n",
            "\n",
            "bagging, val_score: 1.067310: 100%|##########| 10/10 [00:37<00:00,  3.60s/it]\u001b[A\u001b[A\u001b[A\u001b[32m[I 2020-05-17 07:32:00,099]\u001b[0m Finished trial#36 with value: 1.0743267751036227 with parameters: {'bagging_fraction': 0.5000287353115691, 'bagging_freq': 4}. Best is trial#27 with value: 1.069541558263793.\u001b[0m\n",
            "bagging, val_score: 1.067310: 100%|##########| 10/10 [00:37<00:00,  3.73s/it]\n",
            "\n",
            "\n",
            "\n",
            "  0%|          | 0/6 [00:00<?, ?it/s]\u001b[A\u001b[A\u001b[A\n",
            "\n",
            "\n",
            "feature_fraction_stage2, val_score: 1.067310:   0%|          | 0/6 [00:00<?, ?it/s]\u001b[A\u001b[A\u001b[A"
          ],
          "name": "stderr"
        },
        {
          "output_type": "stream",
          "text": [
            "Early stopping, best iteration is:\n",
            "[87]\ttraining's rmse: 1.00384\tvalid_1's rmse: 1.07433\n",
            "Training until validation scores don't improve for 50 rounds.\n"
          ],
          "name": "stdout"
        },
        {
          "output_type": "stream",
          "text": [
            "/usr/local/lib/python3.6/dist-packages/lightgbm/engine.py:118: UserWarning:\n",
            "\n",
            "Found `num_rounds` in params. Will use it instead of argument\n",
            "\n"
          ],
          "name": "stderr"
        },
        {
          "output_type": "stream",
          "text": [
            "[100]\ttraining's rmse: 0.991556\tvalid_1's rmse: 1.06976\n",
            "[200]\ttraining's rmse: 0.925286\tvalid_1's rmse: 1.0697\n"
          ],
          "name": "stdout"
        },
        {
          "output_type": "stream",
          "text": [
            "\n",
            "\n",
            "\n",
            "feature_fraction_stage2, val_score: 1.067310:   0%|          | 0/6 [00:05<?, ?it/s]\u001b[A\u001b[A\u001b[A\n",
            "\n",
            "\n",
            "feature_fraction_stage2, val_score: 1.067310:  17%|#6        | 1/6 [00:05<00:27,  5.51s/it]\u001b[A\u001b[A\u001b[A\u001b[32m[I 2020-05-17 07:32:05,722]\u001b[0m Finished trial#37 with value: 1.068211079481516 with parameters: {'feature_fraction': 0.852}. Best is trial#37 with value: 1.068211079481516.\u001b[0m\n",
            "\n",
            "\n",
            "\n",
            "feature_fraction_stage2, val_score: 1.067310:  17%|#6        | 1/6 [00:05<00:27,  5.51s/it]\u001b[A\u001b[A\u001b[A"
          ],
          "name": "stderr"
        },
        {
          "output_type": "stream",
          "text": [
            "Early stopping, best iteration is:\n",
            "[175]\ttraining's rmse: 0.941696\tvalid_1's rmse: 1.06821\n",
            "Training until validation scores don't improve for 50 rounds.\n",
            "[100]\ttraining's rmse: 0.990863\tvalid_1's rmse: 1.07053\n"
          ],
          "name": "stdout"
        },
        {
          "output_type": "stream",
          "text": [
            "\n",
            "\n",
            "\n",
            "feature_fraction_stage2, val_score: 1.067310:  17%|#6        | 1/6 [00:10<00:27,  5.51s/it]\u001b[A\u001b[A\u001b[A\n",
            "\n",
            "\n",
            "feature_fraction_stage2, val_score: 1.067310:  33%|###3      | 2/6 [00:10<00:21,  5.34s/it]\u001b[A\u001b[A\u001b[A\u001b[32m[I 2020-05-17 07:32:10,662]\u001b[0m Finished trial#38 with value: 1.069317381140119 with parameters: {'feature_fraction': 0.8839999999999999}. Best is trial#37 with value: 1.068211079481516.\u001b[0m\n",
            "\n",
            "\n",
            "\n",
            "feature_fraction_stage2, val_score: 1.067310:  33%|###3      | 2/6 [00:10<00:21,  5.34s/it]\u001b[A\u001b[A\u001b[A"
          ],
          "name": "stderr"
        },
        {
          "output_type": "stream",
          "text": [
            "Early stopping, best iteration is:\n",
            "[135]\ttraining's rmse: 0.965949\tvalid_1's rmse: 1.06932\n",
            "Training until validation scores don't improve for 50 rounds.\n",
            "[100]\ttraining's rmse: 0.989431\tvalid_1's rmse: 1.07156\n"
          ],
          "name": "stdout"
        },
        {
          "output_type": "stream",
          "text": [
            "\n",
            "\n",
            "\n",
            "feature_fraction_stage2, val_score: 1.067310:  33%|###3      | 2/6 [00:16<00:21,  5.34s/it]\u001b[A\u001b[A\u001b[A\n",
            "\n",
            "\n",
            "feature_fraction_stage2, val_score: 1.067310:  50%|#####     | 3/6 [00:16<00:16,  5.53s/it]\u001b[A\u001b[A\u001b[A"
          ],
          "name": "stderr"
        },
        {
          "output_type": "stream",
          "text": [
            "[200]\ttraining's rmse: 0.925335\tvalid_1's rmse: 1.07175\n",
            "Early stopping, best iteration is:\n",
            "[157]\ttraining's rmse: 0.951589\tvalid_1's rmse: 1.07026\n"
          ],
          "name": "stdout"
        },
        {
          "output_type": "stream",
          "text": [
            "\u001b[32m[I 2020-05-17 07:32:16,645]\u001b[0m Finished trial#39 with value: 1.0702614741434062 with parameters: {'feature_fraction': 0.9799999999999999}. Best is trial#37 with value: 1.068211079481516.\u001b[0m\n",
            "\n",
            "\n",
            "\n",
            "feature_fraction_stage2, val_score: 1.067310:  50%|#####     | 3/6 [00:16<00:16,  5.53s/it]\u001b[A\u001b[A\u001b[A"
          ],
          "name": "stderr"
        },
        {
          "output_type": "stream",
          "text": [
            "Training until validation scores don't improve for 50 rounds.\n",
            "[100]\ttraining's rmse: 0.98992\tvalid_1's rmse: 1.07232\n"
          ],
          "name": "stdout"
        },
        {
          "output_type": "stream",
          "text": [
            "\n",
            "\n",
            "\n",
            "feature_fraction_stage2, val_score: 1.067310:  50%|#####     | 3/6 [00:20<00:16,  5.53s/it]\u001b[A\u001b[A\u001b[A\n",
            "\n",
            "\n",
            "feature_fraction_stage2, val_score: 1.067310:  67%|######6   | 4/6 [00:20<00:09,  4.97s/it]\u001b[A\u001b[A\u001b[A\u001b[32m[I 2020-05-17 07:32:20,305]\u001b[0m Finished trial#40 with value: 1.0716314031752616 with parameters: {'feature_fraction': 0.82}. Best is trial#37 with value: 1.068211079481516.\u001b[0m\n",
            "\n",
            "\n",
            "\n",
            "feature_fraction_stage2, val_score: 1.067310:  67%|######6   | 4/6 [00:20<00:09,  4.97s/it]\u001b[A\u001b[A\u001b[A"
          ],
          "name": "stderr"
        },
        {
          "output_type": "stream",
          "text": [
            "Early stopping, best iteration is:\n",
            "[88]\ttraining's rmse: 0.998717\tvalid_1's rmse: 1.07163\n",
            "Training until validation scores don't improve for 50 rounds.\n",
            "[100]\ttraining's rmse: 0.989066\tvalid_1's rmse: 1.06908\n"
          ],
          "name": "stdout"
        },
        {
          "output_type": "stream",
          "text": [
            "\n",
            "\n",
            "\n",
            "feature_fraction_stage2, val_score: 1.066234:  67%|######6   | 4/6 [00:25<00:09,  4.97s/it]\u001b[A\u001b[A\u001b[A\n",
            "\n",
            "\n",
            "feature_fraction_stage2, val_score: 1.066234:  83%|########3 | 5/6 [00:25<00:05,  5.22s/it]\u001b[A\u001b[A\u001b[A"
          ],
          "name": "stderr"
        },
        {
          "output_type": "stream",
          "text": [
            "[200]\ttraining's rmse: 0.924769\tvalid_1's rmse: 1.06796\n",
            "Early stopping, best iteration is:\n",
            "[154]\ttraining's rmse: 0.952767\tvalid_1's rmse: 1.06623\n"
          ],
          "name": "stdout"
        },
        {
          "output_type": "stream",
          "text": [
            "\u001b[32m[I 2020-05-17 07:32:26,080]\u001b[0m Finished trial#41 with value: 1.0662344173150125 with parameters: {'feature_fraction': 0.948}. Best is trial#41 with value: 1.0662344173150125.\u001b[0m\n",
            "\n",
            "\n",
            "\n",
            "feature_fraction_stage2, val_score: 1.066234:  83%|########3 | 5/6 [00:25<00:05,  5.22s/it]\u001b[A\u001b[A\u001b[A"
          ],
          "name": "stderr"
        },
        {
          "output_type": "stream",
          "text": [
            "Training until validation scores don't improve for 50 rounds.\n",
            "[100]\ttraining's rmse: 0.991013\tvalid_1's rmse: 1.07022\n"
          ],
          "name": "stdout"
        },
        {
          "output_type": "stream",
          "text": [
            "\n",
            "\n",
            "\n",
            "feature_fraction_stage2, val_score: 1.066234:  83%|########3 | 5/6 [00:30<00:05,  5.22s/it]\u001b[A\u001b[A\u001b[A\n",
            "\n",
            "\n",
            "feature_fraction_stage2, val_score: 1.066234: 100%|##########| 6/6 [00:30<00:00,  5.01s/it]\u001b[A\u001b[A\u001b[A\u001b[32m[I 2020-05-17 07:32:30,612]\u001b[0m Finished trial#42 with value: 1.0692777314964073 with parameters: {'feature_fraction': 0.9159999999999999}. Best is trial#41 with value: 1.0662344173150125.\u001b[0m\n",
            "feature_fraction_stage2, val_score: 1.066234: 100%|##########| 6/6 [00:30<00:00,  5.08s/it]\n",
            "\n",
            "\n",
            "\n",
            "  0%|          | 0/20 [00:00<?, ?it/s]\u001b[A\u001b[A\u001b[A\n",
            "\n",
            "\n",
            "regularization_factors, val_score: 1.066234:   0%|          | 0/20 [00:00<?, ?it/s]\u001b[A\u001b[A\u001b[A"
          ],
          "name": "stderr"
        },
        {
          "output_type": "stream",
          "text": [
            "Early stopping, best iteration is:\n",
            "[113]\ttraining's rmse: 0.981754\tvalid_1's rmse: 1.06928\n",
            "Training until validation scores don't improve for 50 rounds.\n",
            "[100]\ttraining's rmse: 0.989066\tvalid_1's rmse: 1.06908\n"
          ],
          "name": "stdout"
        },
        {
          "output_type": "stream",
          "text": [
            "\n",
            "\n",
            "\n",
            "regularization_factors, val_score: 1.066234:   0%|          | 0/20 [00:05<?, ?it/s]\u001b[A\u001b[A\u001b[A\n",
            "\n",
            "\n",
            "regularization_factors, val_score: 1.066234:   5%|5         | 1/20 [00:05<01:47,  5.66s/it]\u001b[A\u001b[A\u001b[A"
          ],
          "name": "stderr"
        },
        {
          "output_type": "stream",
          "text": [
            "[200]\ttraining's rmse: 0.924769\tvalid_1's rmse: 1.06796\n",
            "Early stopping, best iteration is:\n",
            "[154]\ttraining's rmse: 0.952767\tvalid_1's rmse: 1.06623\n"
          ],
          "name": "stdout"
        },
        {
          "output_type": "stream",
          "text": [
            "\u001b[32m[I 2020-05-17 07:32:36,385]\u001b[0m Finished trial#43 with value: 1.0662344172735192 with parameters: {'lambda_l1': 5.40901386581332e-07, 'lambda_l2': 4.888858695063447e-08}. Best is trial#43 with value: 1.0662344172735192.\u001b[0m\n",
            "\n",
            "\n",
            "\n",
            "regularization_factors, val_score: 1.066234:   5%|5         | 1/20 [00:05<01:47,  5.66s/it]\u001b[A\u001b[A\u001b[A"
          ],
          "name": "stderr"
        },
        {
          "output_type": "stream",
          "text": [
            "Training until validation scores don't improve for 50 rounds.\n",
            "[100]\ttraining's rmse: 0.990139\tvalid_1's rmse: 1.06948\n",
            "[200]\ttraining's rmse: 0.926228\tvalid_1's rmse: 1.06847\n"
          ],
          "name": "stdout"
        },
        {
          "output_type": "stream",
          "text": [
            "\n",
            "\n",
            "\n",
            "regularization_factors, val_score: 1.066234:   5%|5         | 1/20 [00:12<01:47,  5.66s/it]\u001b[A\u001b[A\u001b[A\n",
            "\n",
            "\n",
            "regularization_factors, val_score: 1.066234:  10%|#         | 2/20 [00:12<01:46,  5.89s/it]\u001b[A\u001b[A\u001b[A\u001b[32m[I 2020-05-17 07:32:42,810]\u001b[0m Finished trial#44 with value: 1.0677389847985408 with parameters: {'lambda_l1': 1.675637953683217e-07, 'lambda_l2': 0.7222003449033007}. Best is trial#43 with value: 1.0662344172735192.\u001b[0m\n",
            "\n",
            "\n",
            "\n",
            "regularization_factors, val_score: 1.066234:  10%|#         | 2/20 [00:12<01:46,  5.89s/it]\u001b[A\u001b[A\u001b[A"
          ],
          "name": "stderr"
        },
        {
          "output_type": "stream",
          "text": [
            "Early stopping, best iteration is:\n",
            "[175]\ttraining's rmse: 0.940441\tvalid_1's rmse: 1.06774\n",
            "Training until validation scores don't improve for 50 rounds.\n",
            "[100]\ttraining's rmse: 0.989067\tvalid_1's rmse: 1.06908\n"
          ],
          "name": "stdout"
        },
        {
          "output_type": "stream",
          "text": [
            "\n",
            "\n",
            "\n",
            "regularization_factors, val_score: 1.066234:  10%|#         | 2/20 [00:17<01:46,  5.89s/it]\u001b[A\u001b[A\u001b[A\n",
            "\n",
            "\n",
            "regularization_factors, val_score: 1.066234:  15%|#5        | 3/20 [00:17<01:39,  5.83s/it]\u001b[A\u001b[A\u001b[A"
          ],
          "name": "stderr"
        },
        {
          "output_type": "stream",
          "text": [
            "[200]\ttraining's rmse: 0.924771\tvalid_1's rmse: 1.06796\n",
            "Early stopping, best iteration is:\n",
            "[154]\ttraining's rmse: 0.952768\tvalid_1's rmse: 1.06623\n"
          ],
          "name": "stdout"
        },
        {
          "output_type": "stream",
          "text": [
            "\u001b[32m[I 2020-05-17 07:32:48,500]\u001b[0m Finished trial#45 with value: 1.0662343260085243 with parameters: {'lambda_l1': 3.3671220296442865e-08, 'lambda_l2': 0.0013618841166897285}. Best is trial#45 with value: 1.0662343260085243.\u001b[0m\n",
            "\n",
            "\n",
            "\n",
            "regularization_factors, val_score: 1.066234:  15%|#5        | 3/20 [00:17<01:39,  5.83s/it]\u001b[A\u001b[A\u001b[A"
          ],
          "name": "stderr"
        },
        {
          "output_type": "stream",
          "text": [
            "Training until validation scores don't improve for 50 rounds.\n",
            "[100]\ttraining's rmse: 0.989066\tvalid_1's rmse: 1.06908\n"
          ],
          "name": "stdout"
        },
        {
          "output_type": "stream",
          "text": [
            "\n",
            "\n",
            "\n",
            "regularization_factors, val_score: 1.066234:  15%|#5        | 3/20 [00:23<01:39,  5.83s/it]\u001b[A\u001b[A\u001b[A\n",
            "\n",
            "\n",
            "regularization_factors, val_score: 1.066234:  20%|##        | 4/20 [00:23<01:32,  5.78s/it]\u001b[A\u001b[A\u001b[A"
          ],
          "name": "stderr"
        },
        {
          "output_type": "stream",
          "text": [
            "[200]\ttraining's rmse: 0.924769\tvalid_1's rmse: 1.06796\n",
            "Early stopping, best iteration is:\n",
            "[154]\ttraining's rmse: 0.952767\tvalid_1's rmse: 1.06623\n"
          ],
          "name": "stdout"
        },
        {
          "output_type": "stream",
          "text": [
            "\u001b[32m[I 2020-05-17 07:32:54,147]\u001b[0m Finished trial#46 with value: 1.0662344167111037 with parameters: {'lambda_l1': 1.5774519739207105e-08, 'lambda_l2': 9.328428571153471e-06}. Best is trial#45 with value: 1.0662343260085243.\u001b[0m\n",
            "\n",
            "\n",
            "\n",
            "regularization_factors, val_score: 1.066234:  20%|##        | 4/20 [00:23<01:32,  5.78s/it]\u001b[A\u001b[A\u001b[A"
          ],
          "name": "stderr"
        },
        {
          "output_type": "stream",
          "text": [
            "Training until validation scores don't improve for 50 rounds.\n",
            "[100]\ttraining's rmse: 0.989066\tvalid_1's rmse: 1.06908\n"
          ],
          "name": "stdout"
        },
        {
          "output_type": "stream",
          "text": [
            "\n",
            "\n",
            "\n",
            "regularization_factors, val_score: 1.066234:  20%|##        | 4/20 [00:29<01:32,  5.78s/it]\u001b[A\u001b[A\u001b[A\n",
            "\n",
            "\n",
            "regularization_factors, val_score: 1.066234:  25%|##5       | 5/20 [00:29<01:26,  5.74s/it]\u001b[A\u001b[A\u001b[A"
          ],
          "name": "stderr"
        },
        {
          "output_type": "stream",
          "text": [
            "[200]\ttraining's rmse: 0.924769\tvalid_1's rmse: 1.06796\n",
            "Early stopping, best iteration is:\n",
            "[154]\ttraining's rmse: 0.952767\tvalid_1's rmse: 1.06623\n"
          ],
          "name": "stdout"
        },
        {
          "output_type": "stream",
          "text": [
            "\u001b[32m[I 2020-05-17 07:32:59,802]\u001b[0m Finished trial#47 with value: 1.0662343904846363 with parameters: {'lambda_l1': 2.6520552362142757e-05, 'lambda_l2': 0.0003693521136075465}. Best is trial#45 with value: 1.0662343260085243.\u001b[0m\n",
            "\n",
            "\n",
            "\n",
            "regularization_factors, val_score: 1.066234:  25%|##5       | 5/20 [00:29<01:26,  5.74s/it]\u001b[A\u001b[A\u001b[A"
          ],
          "name": "stderr"
        },
        {
          "output_type": "stream",
          "text": [
            "Training until validation scores don't improve for 50 rounds.\n",
            "[100]\ttraining's rmse: 0.989169\tvalid_1's rmse: 1.0668\n"
          ],
          "name": "stdout"
        },
        {
          "output_type": "stream",
          "text": [
            "\n",
            "\n",
            "\n",
            "regularization_factors, val_score: 1.066234:  25%|##5       | 5/20 [00:33<01:26,  5.74s/it]\u001b[A\u001b[A\u001b[A\n",
            "\n",
            "\n",
            "regularization_factors, val_score: 1.066234:  30%|###       | 6/20 [00:33<01:14,  5.33s/it]\u001b[A\u001b[A\u001b[A\u001b[32m[I 2020-05-17 07:33:04,183]\u001b[0m Finished trial#48 with value: 1.0665234354385746 with parameters: {'lambda_l1': 3.811481699130502e-07, 'lambda_l2': 0.05564530523669554}. Best is trial#45 with value: 1.0662343260085243.\u001b[0m\n",
            "\n",
            "\n",
            "\n",
            "regularization_factors, val_score: 1.066234:  30%|###       | 6/20 [00:33<01:14,  5.33s/it]\u001b[A\u001b[A\u001b[A"
          ],
          "name": "stderr"
        },
        {
          "output_type": "stream",
          "text": [
            "Early stopping, best iteration is:\n",
            "[98]\ttraining's rmse: 0.990594\tvalid_1's rmse: 1.06652\n",
            "Training until validation scores don't improve for 50 rounds.\n",
            "[100]\ttraining's rmse: 0.989066\tvalid_1's rmse: 1.06908\n"
          ],
          "name": "stdout"
        },
        {
          "output_type": "stream",
          "text": [
            "\n",
            "\n",
            "\n",
            "regularization_factors, val_score: 1.066234:  30%|###       | 6/20 [00:39<01:14,  5.33s/it]\u001b[A\u001b[A\u001b[A\n",
            "\n",
            "\n",
            "regularization_factors, val_score: 1.066234:  35%|###5      | 7/20 [00:39<01:10,  5.46s/it]\u001b[A\u001b[A\u001b[A"
          ],
          "name": "stderr"
        },
        {
          "output_type": "stream",
          "text": [
            "[200]\ttraining's rmse: 0.924769\tvalid_1's rmse: 1.06796\n",
            "Early stopping, best iteration is:\n",
            "[154]\ttraining's rmse: 0.952767\tvalid_1's rmse: 1.06623\n"
          ],
          "name": "stdout"
        },
        {
          "output_type": "stream",
          "text": [
            "\u001b[32m[I 2020-05-17 07:33:09,935]\u001b[0m Finished trial#49 with value: 1.066234415298974 with parameters: {'lambda_l1': 2.582057053746388e-05, 'lambda_l2': 2.319077752529171e-07}. Best is trial#45 with value: 1.0662343260085243.\u001b[0m\n",
            "\n",
            "\n",
            "\n",
            "regularization_factors, val_score: 1.066234:  35%|###5      | 7/20 [00:39<01:10,  5.46s/it]\u001b[A\u001b[A\u001b[A"
          ],
          "name": "stderr"
        },
        {
          "output_type": "stream",
          "text": [
            "Training until validation scores don't improve for 50 rounds.\n",
            "[100]\ttraining's rmse: 0.989066\tvalid_1's rmse: 1.06908\n"
          ],
          "name": "stdout"
        },
        {
          "output_type": "stream",
          "text": [
            "\n",
            "\n",
            "\n",
            "regularization_factors, val_score: 1.066234:  35%|###5      | 7/20 [00:44<01:10,  5.46s/it]\u001b[A\u001b[A\u001b[A\n",
            "\n",
            "\n",
            "regularization_factors, val_score: 1.066234:  40%|####      | 8/20 [00:44<01:06,  5.55s/it]\u001b[A\u001b[A\u001b[A"
          ],
          "name": "stderr"
        },
        {
          "output_type": "stream",
          "text": [
            "[200]\ttraining's rmse: 0.924769\tvalid_1's rmse: 1.06796\n",
            "Early stopping, best iteration is:\n",
            "[154]\ttraining's rmse: 0.952767\tvalid_1's rmse: 1.06623\n"
          ],
          "name": "stdout"
        },
        {
          "output_type": "stream",
          "text": [
            "\u001b[32m[I 2020-05-17 07:33:15,723]\u001b[0m Finished trial#50 with value: 1.0662344173116698 with parameters: {'lambda_l1': 3.766650627477293e-08, 'lambda_l2': 2.6753035137155515e-08}. Best is trial#45 with value: 1.0662343260085243.\u001b[0m\n",
            "\n",
            "\n",
            "\n",
            "regularization_factors, val_score: 1.066234:  40%|####      | 8/20 [00:45<01:06,  5.55s/it]\u001b[A\u001b[A\u001b[A"
          ],
          "name": "stderr"
        },
        {
          "output_type": "stream",
          "text": [
            "Training until validation scores don't improve for 50 rounds.\n",
            "[100]\ttraining's rmse: 0.989066\tvalid_1's rmse: 1.06908\n"
          ],
          "name": "stdout"
        },
        {
          "output_type": "stream",
          "text": [
            "\n",
            "\n",
            "\n",
            "regularization_factors, val_score: 1.066234:  40%|####      | 8/20 [00:50<01:06,  5.55s/it]\u001b[A\u001b[A\u001b[A\n",
            "\n",
            "\n",
            "regularization_factors, val_score: 1.066234:  45%|####5     | 9/20 [00:50<01:01,  5.61s/it]\u001b[A\u001b[A\u001b[A"
          ],
          "name": "stderr"
        },
        {
          "output_type": "stream",
          "text": [
            "[200]\ttraining's rmse: 0.924769\tvalid_1's rmse: 1.06796\n",
            "Early stopping, best iteration is:\n",
            "[154]\ttraining's rmse: 0.952767\tvalid_1's rmse: 1.06623\n"
          ],
          "name": "stdout"
        },
        {
          "output_type": "stream",
          "text": [
            "\u001b[32m[I 2020-05-17 07:33:21,441]\u001b[0m Finished trial#51 with value: 1.0662344048711379 with parameters: {'lambda_l1': 7.190220827158218e-07, 'lambda_l2': 0.0001841155094451451}. Best is trial#45 with value: 1.0662343260085243.\u001b[0m\n",
            "\n",
            "\n",
            "\n",
            "regularization_factors, val_score: 1.066234:  45%|####5     | 9/20 [00:50<01:01,  5.61s/it]\u001b[A\u001b[A\u001b[A"
          ],
          "name": "stderr"
        },
        {
          "output_type": "stream",
          "text": [
            "Training until validation scores don't improve for 50 rounds.\n",
            "[100]\ttraining's rmse: 0.989157\tvalid_1's rmse: 1.0668\n"
          ],
          "name": "stdout"
        },
        {
          "output_type": "stream",
          "text": [
            "\n",
            "\n",
            "\n",
            "regularization_factors, val_score: 1.066234:  45%|####5     | 9/20 [00:55<01:01,  5.61s/it]\u001b[A\u001b[A\u001b[A\n",
            "\n",
            "\n",
            "regularization_factors, val_score: 1.066234:  50%|#####     | 10/20 [00:55<00:52,  5.25s/it]\u001b[A\u001b[A\u001b[A\u001b[32m[I 2020-05-17 07:33:25,882]\u001b[0m Finished trial#52 with value: 1.0665233520233386 with parameters: {'lambda_l1': 3.437109354457862e-08, 'lambda_l2': 0.0331956422169114}. Best is trial#45 with value: 1.0662343260085243.\u001b[0m\n",
            "\n",
            "\n",
            "\n",
            "regularization_factors, val_score: 1.066234:  50%|#####     | 10/20 [00:55<00:52,  5.25s/it]\u001b[A\u001b[A\u001b[A"
          ],
          "name": "stderr"
        },
        {
          "output_type": "stream",
          "text": [
            "Early stopping, best iteration is:\n",
            "[98]\ttraining's rmse: 0.990582\tvalid_1's rmse: 1.06652\n",
            "Training until validation scores don't improve for 50 rounds.\n",
            "[100]\ttraining's rmse: 0.991434\tvalid_1's rmse: 1.06779\n",
            "[200]\ttraining's rmse: 0.927743\tvalid_1's rmse: 1.06703\n"
          ],
          "name": "stdout"
        },
        {
          "output_type": "stream",
          "text": [
            "\n",
            "\n",
            "\n",
            "regularization_factors, val_score: 1.066177:  50%|#####     | 10/20 [01:01<00:52,  5.25s/it]\u001b[A\u001b[A\u001b[A\n",
            "\n",
            "\n",
            "regularization_factors, val_score: 1.066177:  55%|#####5    | 11/20 [01:01<00:50,  5.59s/it]\u001b[A\u001b[A\u001b[A\u001b[32m[I 2020-05-17 07:33:32,233]\u001b[0m Finished trial#53 with value: 1.0661772272828463 with parameters: {'lambda_l1': 1.4589805427327078, 'lambda_l2': 0.0019315346506672373}. Best is trial#53 with value: 1.0661772272828463.\u001b[0m\n",
            "\n",
            "\n",
            "\n",
            "regularization_factors, val_score: 1.066177:  55%|#####5    | 11/20 [01:01<00:50,  5.59s/it]\u001b[A\u001b[A\u001b[A"
          ],
          "name": "stderr"
        },
        {
          "output_type": "stream",
          "text": [
            "Early stopping, best iteration is:\n",
            "[168]\ttraining's rmse: 0.946666\tvalid_1's rmse: 1.06618\n",
            "Training until validation scores don't improve for 50 rounds.\n",
            "[100]\ttraining's rmse: 0.990335\tvalid_1's rmse: 1.06874\n"
          ],
          "name": "stdout"
        },
        {
          "output_type": "stream",
          "text": [
            "\n",
            "\n",
            "\n",
            "regularization_factors, val_score: 1.066177:  55%|#####5    | 11/20 [01:06<00:50,  5.59s/it]\u001b[A\u001b[A\u001b[A\n",
            "\n",
            "\n",
            "regularization_factors, val_score: 1.066177:  60%|######    | 12/20 [01:06<00:42,  5.31s/it]\u001b[A\u001b[A\u001b[A\u001b[32m[I 2020-05-17 07:33:36,909]\u001b[0m Finished trial#54 with value: 1.0681309751371366 with parameters: {'lambda_l1': 0.6896665628471155, 'lambda_l2': 0.001496013973302218}. Best is trial#53 with value: 1.0661772272828463.\u001b[0m\n",
            "\n",
            "\n",
            "\n",
            "regularization_factors, val_score: 1.066177:  60%|######    | 12/20 [01:06<00:42,  5.31s/it]\u001b[A\u001b[A\u001b[A"
          ],
          "name": "stderr"
        },
        {
          "output_type": "stream",
          "text": [
            "Early stopping, best iteration is:\n",
            "[104]\ttraining's rmse: 0.987506\tvalid_1's rmse: 1.06813\n",
            "Training until validation scores don't improve for 50 rounds.\n",
            "[100]\ttraining's rmse: 0.990718\tvalid_1's rmse: 1.07046\n"
          ],
          "name": "stdout"
        },
        {
          "output_type": "stream",
          "text": [
            "\n",
            "\n",
            "\n",
            "regularization_factors, val_score: 1.066177:  60%|######    | 12/20 [01:12<00:42,  5.31s/it]\u001b[A\u001b[A\u001b[A\n",
            "\n",
            "\n",
            "regularization_factors, val_score: 1.066177:  65%|######5   | 13/20 [01:12<00:38,  5.48s/it]\u001b[A\u001b[A\u001b[A"
          ],
          "name": "stderr"
        },
        {
          "output_type": "stream",
          "text": [
            "[200]\ttraining's rmse: 0.927448\tvalid_1's rmse: 1.0707\n",
            "Early stopping, best iteration is:\n",
            "[154]\ttraining's rmse: 0.954685\tvalid_1's rmse: 1.06844\n"
          ],
          "name": "stdout"
        },
        {
          "output_type": "stream",
          "text": [
            "\u001b[32m[I 2020-05-17 07:33:42,764]\u001b[0m Finished trial#55 with value: 1.0684369960734288 with parameters: {'lambda_l1': 0.903927392068569, 'lambda_l2': 1.0274602324988202e-05}. Best is trial#53 with value: 1.0661772272828463.\u001b[0m\n",
            "\n",
            "\n",
            "\n",
            "regularization_factors, val_score: 1.066177:  65%|######5   | 13/20 [01:12<00:38,  5.48s/it]\u001b[A\u001b[A\u001b[A"
          ],
          "name": "stderr"
        },
        {
          "output_type": "stream",
          "text": [
            "Training until validation scores don't improve for 50 rounds.\n",
            "[100]\ttraining's rmse: 0.992021\tvalid_1's rmse: 1.07023\n",
            "[200]\ttraining's rmse: 0.931252\tvalid_1's rmse: 1.06729\n"
          ],
          "name": "stdout"
        },
        {
          "output_type": "stream",
          "text": [
            "\n",
            "\n",
            "\n",
            "regularization_factors, val_score: 1.066177:  65%|######5   | 13/20 [01:18<00:38,  5.48s/it]\u001b[A\u001b[A\u001b[A\n",
            "\n",
            "\n",
            "regularization_factors, val_score: 1.066177:  70%|#######   | 14/20 [01:18<00:35,  5.91s/it]\u001b[A\u001b[A\u001b[A\u001b[32m[I 2020-05-17 07:33:49,671]\u001b[0m Finished trial#56 with value: 1.067106089058106 with parameters: {'lambda_l1': 0.02802251084756246, 'lambda_l2': 8.18237661708247}. Best is trial#53 with value: 1.0661772272828463.\u001b[0m\n",
            "\n",
            "\n",
            "\n",
            "regularization_factors, val_score: 1.066177:  70%|#######   | 14/20 [01:19<00:35,  5.91s/it]\u001b[A\u001b[A\u001b[A"
          ],
          "name": "stderr"
        },
        {
          "output_type": "stream",
          "text": [
            "Early stopping, best iteration is:\n",
            "[187]\ttraining's rmse: 0.93861\tvalid_1's rmse: 1.06711\n",
            "Training until validation scores don't improve for 50 rounds.\n",
            "[100]\ttraining's rmse: 0.989071\tvalid_1's rmse: 1.06908\n"
          ],
          "name": "stdout"
        },
        {
          "output_type": "stream",
          "text": [
            "\n",
            "\n",
            "\n",
            "regularization_factors, val_score: 1.066177:  70%|#######   | 14/20 [01:24<00:35,  5.91s/it]\u001b[A\u001b[A\u001b[A\n",
            "\n",
            "\n",
            "regularization_factors, val_score: 1.066177:  75%|#######5  | 15/20 [01:24<00:29,  5.86s/it]\u001b[A\u001b[A\u001b[A"
          ],
          "name": "stderr"
        },
        {
          "output_type": "stream",
          "text": [
            "[200]\ttraining's rmse: 0.924784\tvalid_1's rmse: 1.06796\n",
            "Early stopping, best iteration is:\n",
            "[154]\ttraining's rmse: 0.952777\tvalid_1's rmse: 1.06623\n"
          ],
          "name": "stdout"
        },
        {
          "output_type": "stream",
          "text": [
            "\u001b[32m[I 2020-05-17 07:33:55,451]\u001b[0m Finished trial#57 with value: 1.0662338522312325 with parameters: {'lambda_l1': 0.0021552910233330522, 'lambda_l2': 0.005932800016874076}. Best is trial#53 with value: 1.0661772272828463.\u001b[0m\n",
            "\n",
            "\n",
            "\n",
            "regularization_factors, val_score: 1.066177:  75%|#######5  | 15/20 [01:24<00:29,  5.86s/it]\u001b[A\u001b[A\u001b[A"
          ],
          "name": "stderr"
        },
        {
          "output_type": "stream",
          "text": [
            "Training until validation scores don't improve for 50 rounds.\n",
            "[100]\ttraining's rmse: 0.989149\tvalid_1's rmse: 1.06691\n",
            "[200]\ttraining's rmse: 0.924432\tvalid_1's rmse: 1.06645\n"
          ],
          "name": "stdout"
        },
        {
          "output_type": "stream",
          "text": [
            "\n",
            "\n",
            "\n",
            "regularization_factors, val_score: 1.065684:  75%|#######5  | 15/20 [01:31<00:29,  5.86s/it]\u001b[A\u001b[A\u001b[A\n",
            "\n",
            "\n",
            "regularization_factors, val_score: 1.065684:  80%|########  | 16/20 [01:31<00:24,  6.01s/it]\u001b[A\u001b[A\u001b[A\u001b[32m[I 2020-05-17 07:34:01,771]\u001b[0m Finished trial#58 with value: 1.0656835170323589 with parameters: {'lambda_l1': 0.011122195791333857, 'lambda_l2': 0.025091799783471463}. Best is trial#58 with value: 1.0656835170323589.\u001b[0m\n",
            "\n",
            "\n",
            "\n",
            "regularization_factors, val_score: 1.065684:  80%|########  | 16/20 [01:31<00:24,  6.01s/it]\u001b[A\u001b[A\u001b[A"
          ],
          "name": "stderr"
        },
        {
          "output_type": "stream",
          "text": [
            "Early stopping, best iteration is:\n",
            "[174]\ttraining's rmse: 0.940429\tvalid_1's rmse: 1.06568\n",
            "Training until validation scores don't improve for 50 rounds.\n",
            "[100]\ttraining's rmse: 0.99584\tvalid_1's rmse: 1.06998\n"
          ],
          "name": "stdout"
        },
        {
          "output_type": "stream",
          "text": [
            "\n",
            "\n",
            "\n",
            "regularization_factors, val_score: 1.065684:  80%|########  | 16/20 [01:36<00:24,  6.01s/it]\u001b[A\u001b[A\u001b[A\n",
            "\n",
            "\n",
            "regularization_factors, val_score: 1.065684:  85%|########5 | 17/20 [01:36<00:17,  5.89s/it]\u001b[A\u001b[A\u001b[A\u001b[32m[I 2020-05-17 07:34:07,389]\u001b[0m Finished trial#59 with value: 1.0688643884888362 with parameters: {'lambda_l1': 6.381854551411915, 'lambda_l2': 0.3275755451497293}. Best is trial#58 with value: 1.0656835170323589.\u001b[0m\n",
            "\n",
            "\n",
            "\n",
            "regularization_factors, val_score: 1.065684:  85%|########5 | 17/20 [01:36<00:17,  5.89s/it]\u001b[A\u001b[A\u001b[A"
          ],
          "name": "stderr"
        },
        {
          "output_type": "stream",
          "text": [
            "Early stopping, best iteration is:\n",
            "[133]\ttraining's rmse: 0.975454\tvalid_1's rmse: 1.06886\n",
            "Training until validation scores don't improve for 50 rounds.\n",
            "[100]\ttraining's rmse: 0.989087\tvalid_1's rmse: 1.06741\n"
          ],
          "name": "stdout"
        },
        {
          "output_type": "stream",
          "text": [
            "\n",
            "\n",
            "\n",
            "regularization_factors, val_score: 1.065684:  85%|########5 | 17/20 [01:41<00:17,  5.89s/it]\u001b[A\u001b[A\u001b[A\n",
            "\n",
            "\n",
            "regularization_factors, val_score: 1.065684:  90%|######### | 18/20 [01:41<00:11,  5.72s/it]\u001b[A\u001b[A\u001b[A\u001b[32m[I 2020-05-17 07:34:12,711]\u001b[0m Finished trial#60 with value: 1.066108505115298 with parameters: {'lambda_l1': 0.03833880222377253, 'lambda_l2': 2.4278118869805624e-05}. Best is trial#58 with value: 1.0656835170323589.\u001b[0m\n",
            "\n",
            "\n",
            "\n",
            "regularization_factors, val_score: 1.065684:  90%|######### | 18/20 [01:42<00:11,  5.72s/it]\u001b[A\u001b[A\u001b[A"
          ],
          "name": "stderr"
        },
        {
          "output_type": "stream",
          "text": [
            "Early stopping, best iteration is:\n",
            "[133]\ttraining's rmse: 0.966689\tvalid_1's rmse: 1.06611\n",
            "Training until validation scores don't improve for 50 rounds.\n",
            "[100]\ttraining's rmse: 0.989152\tvalid_1's rmse: 1.0668\n"
          ],
          "name": "stdout"
        },
        {
          "output_type": "stream",
          "text": [
            "\n",
            "\n",
            "\n",
            "regularization_factors, val_score: 1.065684:  90%|######### | 18/20 [01:46<00:11,  5.72s/it]\u001b[A\u001b[A\u001b[A\n",
            "\n",
            "\n",
            "regularization_factors, val_score: 1.065684:  95%|#########5| 19/20 [01:46<00:05,  5.35s/it]\u001b[A\u001b[A\u001b[A\u001b[32m[I 2020-05-17 07:34:17,220]\u001b[0m Finished trial#61 with value: 1.0665239754108746 with parameters: {'lambda_l1': 0.01210971298319754, 'lambda_l2': 4.149038047320567e-06}. Best is trial#58 with value: 1.0656835170323589.\u001b[0m\n",
            "\n",
            "\n",
            "\n",
            "regularization_factors, val_score: 1.065684:  95%|#########5| 19/20 [01:46<00:05,  5.35s/it]\u001b[A\u001b[A\u001b[A"
          ],
          "name": "stderr"
        },
        {
          "output_type": "stream",
          "text": [
            "Early stopping, best iteration is:\n",
            "[98]\ttraining's rmse: 0.990577\tvalid_1's rmse: 1.06652\n",
            "Training until validation scores don't improve for 50 rounds.\n",
            "[100]\ttraining's rmse: 0.990016\tvalid_1's rmse: 1.06879\n"
          ],
          "name": "stdout"
        },
        {
          "output_type": "stream",
          "text": [
            "\n",
            "\n",
            "\n",
            "regularization_factors, val_score: 1.065684:  95%|#########5| 19/20 [01:51<00:05,  5.35s/it]\u001b[A\u001b[A\u001b[A\n",
            "\n",
            "\n",
            "regularization_factors, val_score: 1.065684: 100%|##########| 20/20 [01:51<00:00,  5.29s/it]\u001b[A\u001b[A\u001b[A\u001b[32m[I 2020-05-17 07:34:22,360]\u001b[0m Finished trial#62 with value: 1.0672857882738684 with parameters: {'lambda_l1': 0.07052372241651866, 'lambda_l2': 5.7719369692593013e-05}. Best is trial#58 with value: 1.0656835170323589.\u001b[0m\n",
            "regularization_factors, val_score: 1.065684: 100%|##########| 20/20 [01:51<00:00,  5.59s/it]\n",
            "\n",
            "\n",
            "\n",
            "  0%|          | 0/5 [00:00<?, ?it/s]\u001b[A\u001b[A\u001b[A\n",
            "\n",
            "\n",
            "min_data_in_leaf, val_score: 1.065684:   0%|          | 0/5 [00:00<?, ?it/s]\u001b[A\u001b[A\u001b[A"
          ],
          "name": "stderr"
        },
        {
          "output_type": "stream",
          "text": [
            "Early stopping, best iteration is:\n",
            "[123]\ttraining's rmse: 0.973447\tvalid_1's rmse: 1.06729\n",
            "Training until validation scores don't improve for 50 rounds.\n"
          ],
          "name": "stdout"
        },
        {
          "output_type": "stream",
          "text": [
            "/usr/local/lib/python3.6/dist-packages/lightgbm/engine.py:118: UserWarning:\n",
            "\n",
            "Found `num_rounds` in params. Will use it instead of argument\n",
            "\n"
          ],
          "name": "stderr"
        },
        {
          "output_type": "stream",
          "text": [
            "[100]\ttraining's rmse: 0.991998\tvalid_1's rmse: 1.0689\n"
          ],
          "name": "stdout"
        },
        {
          "output_type": "stream",
          "text": [
            "\n",
            "\n",
            "\n",
            "min_data_in_leaf, val_score: 1.065684:   0%|          | 0/5 [00:04<?, ?it/s]\u001b[A\u001b[A\u001b[A\n",
            "\n",
            "\n",
            "min_data_in_leaf, val_score: 1.065684:  20%|##        | 1/5 [00:04<00:17,  4.39s/it]\u001b[A\u001b[A\u001b[A\u001b[32m[I 2020-05-17 07:34:26,851]\u001b[0m Finished trial#63 with value: 1.0677680408310506 with parameters: {'min_child_samples': 50}. Best is trial#63 with value: 1.0677680408310506.\u001b[0m\n",
            "\n",
            "\n",
            "\n",
            "min_data_in_leaf, val_score: 1.065684:  20%|##        | 1/5 [00:04<00:17,  4.39s/it]\u001b[A\u001b[A\u001b[A"
          ],
          "name": "stderr"
        },
        {
          "output_type": "stream",
          "text": [
            "Early stopping, best iteration is:\n",
            "[106]\ttraining's rmse: 0.987796\tvalid_1's rmse: 1.06777\n",
            "Training until validation scores don't improve for 50 rounds.\n",
            "[100]\ttraining's rmse: 0.993473\tvalid_1's rmse: 1.0692\n"
          ],
          "name": "stdout"
        },
        {
          "output_type": "stream",
          "text": [
            "\n",
            "\n",
            "\n",
            "min_data_in_leaf, val_score: 1.065684:  20%|##        | 1/5 [00:09<00:17,  4.39s/it]\u001b[A\u001b[A\u001b[A\n",
            "\n",
            "\n",
            "min_data_in_leaf, val_score: 1.065684:  40%|####      | 2/5 [00:09<00:13,  4.54s/it]\u001b[A\u001b[A\u001b[A\u001b[32m[I 2020-05-17 07:34:31,763]\u001b[0m Finished trial#64 with value: 1.067579135469955 with parameters: {'min_child_samples': 100}. Best is trial#64 with value: 1.067579135469955.\u001b[0m\n",
            "\n",
            "\n",
            "\n",
            "min_data_in_leaf, val_score: 1.065684:  40%|####      | 2/5 [00:09<00:13,  4.54s/it]\u001b[A\u001b[A\u001b[A"
          ],
          "name": "stderr"
        },
        {
          "output_type": "stream",
          "text": [
            "Early stopping, best iteration is:\n",
            "[134]\ttraining's rmse: 0.971424\tvalid_1's rmse: 1.06758\n",
            "Training until validation scores don't improve for 50 rounds.\n",
            "[100]\ttraining's rmse: 0.989694\tvalid_1's rmse: 1.06862\n"
          ],
          "name": "stdout"
        },
        {
          "output_type": "stream",
          "text": [
            "\n",
            "\n",
            "\n",
            "min_data_in_leaf, val_score: 1.065684:  40%|####      | 2/5 [00:14<00:13,  4.54s/it]\u001b[A\u001b[A\u001b[A\n",
            "\n",
            "\n",
            "min_data_in_leaf, val_score: 1.065684:  60%|######    | 3/5 [00:14<00:09,  4.80s/it]\u001b[A\u001b[A\u001b[A\u001b[32m[I 2020-05-17 07:34:37,169]\u001b[0m Finished trial#65 with value: 1.066884188857795 with parameters: {'min_child_samples': 25}. Best is trial#65 with value: 1.066884188857795.\u001b[0m\n",
            "\n",
            "\n",
            "\n",
            "min_data_in_leaf, val_score: 1.065684:  60%|######    | 3/5 [00:14<00:09,  4.80s/it]\u001b[A\u001b[A\u001b[A"
          ],
          "name": "stderr"
        },
        {
          "output_type": "stream",
          "text": [
            "Early stopping, best iteration is:\n",
            "[138]\ttraining's rmse: 0.96412\tvalid_1's rmse: 1.06688\n",
            "Training until validation scores don't improve for 50 rounds.\n",
            "[100]\ttraining's rmse: 0.990039\tvalid_1's rmse: 1.06953\n"
          ],
          "name": "stdout"
        },
        {
          "output_type": "stream",
          "text": [
            "\n",
            "\n",
            "\n",
            "min_data_in_leaf, val_score: 1.065684:  60%|######    | 3/5 [00:20<00:09,  4.80s/it]\u001b[A\u001b[A\u001b[A\n",
            "\n",
            "\n",
            "min_data_in_leaf, val_score: 1.065684:  80%|########  | 4/5 [00:20<00:05,  5.22s/it]"
          ],
          "name": "stderr"
        },
        {
          "output_type": "stream",
          "text": [
            "[200]\ttraining's rmse: 0.925131\tvalid_1's rmse: 1.06914\n",
            "Early stopping, best iteration is:\n",
            "[157]\ttraining's rmse: 0.950691\tvalid_1's rmse: 1.06747\n"
          ],
          "name": "stdout"
        },
        {
          "output_type": "stream",
          "text": [
            "\u001b[A\u001b[A\u001b[A\u001b[32m[I 2020-05-17 07:34:43,379]\u001b[0m Finished trial#66 with value: 1.0674650228019766 with parameters: {'min_child_samples': 5}. Best is trial#65 with value: 1.066884188857795.\u001b[0m\n",
            "\n",
            "\n",
            "\n",
            "min_data_in_leaf, val_score: 1.065684:  80%|########  | 4/5 [00:21<00:05,  5.22s/it]\u001b[A\u001b[A\u001b[A"
          ],
          "name": "stderr"
        },
        {
          "output_type": "stream",
          "text": [
            "Training until validation scores don't improve for 50 rounds.\n",
            "[100]\ttraining's rmse: 0.989459\tvalid_1's rmse: 1.06799\n",
            "[200]\ttraining's rmse: 0.924843\tvalid_1's rmse: 1.06661\n"
          ],
          "name": "stdout"
        },
        {
          "output_type": "stream",
          "text": [
            "\n",
            "\n",
            "\n",
            "min_data_in_leaf, val_score: 1.065684:  80%|########  | 4/5 [00:28<00:05,  5.22s/it]\u001b[A\u001b[A\u001b[A\n",
            "\n",
            "\n",
            "min_data_in_leaf, val_score: 1.065684: 100%|##########| 5/5 [00:28<00:00,  6.08s/it]\u001b[A\u001b[A\u001b[A\u001b[32m[I 2020-05-17 07:34:51,444]\u001b[0m Finished trial#67 with value: 1.065733623771329 with parameters: {'min_child_samples': 10}. Best is trial#67 with value: 1.065733623771329.\u001b[0m\n",
            "min_data_in_leaf, val_score: 1.065684: 100%|##########| 5/5 [00:29<00:00,  5.82s/it]"
          ],
          "name": "stderr"
        },
        {
          "output_type": "stream",
          "text": [
            "Early stopping, best iteration is:\n",
            "[232]\ttraining's rmse: 0.90668\tvalid_1's rmse: 1.06573\n",
            "Training until validation scores don't improve for 50 rounds.\n"
          ],
          "name": "stdout"
        },
        {
          "output_type": "stream",
          "text": [
            "\n"
          ],
          "name": "stderr"
        },
        {
          "output_type": "stream",
          "text": [
            "[100]\ttraining's rmse: 0.989149\tvalid_1's rmse: 1.06691\n",
            "[200]\ttraining's rmse: 0.924432\tvalid_1's rmse: 1.06645\n",
            "Early stopping, best iteration is:\n",
            "[174]\ttraining's rmse: 0.940429\tvalid_1's rmse: 1.06568\n"
          ],
          "name": "stdout"
        },
        {
          "output_type": "stream",
          "text": [
            "/usr/local/lib/python3.6/dist-packages/optuna/_experimental.py:90: ExperimentalWarning:\n",
            "\n",
            "train is experimental (supported from v0.18.0). The interface can change in the future.\n",
            "\n",
            "\n",
            "\n",
            "\n",
            "  0%|          | 0/7 [00:00<?, ?it/s]\u001b[A\u001b[A\u001b[A\n",
            "\n",
            "\n",
            "feature_fraction, val_score: inf:   0%|          | 0/7 [00:00<?, ?it/s]\u001b[A\u001b[A\u001b[A"
          ],
          "name": "stderr"
        },
        {
          "output_type": "stream",
          "text": [
            "Train LGB\n",
            "Training until validation scores don't improve for 50 rounds.\n"
          ],
          "name": "stdout"
        },
        {
          "output_type": "stream",
          "text": [
            "/usr/local/lib/python3.6/dist-packages/lightgbm/engine.py:118: UserWarning:\n",
            "\n",
            "Found `num_rounds` in params. Will use it instead of argument\n",
            "\n",
            "/usr/local/lib/python3.6/dist-packages/lightgbm/basic.py:762: UserWarning:\n",
            "\n",
            "categorical_feature in param dict is overridden.\n",
            "\n",
            "\n",
            "\n",
            "\n",
            "feature_fraction, val_score: 1.063683:   0%|          | 0/7 [00:00<?, ?it/s]\u001b[A\u001b[A\u001b[A\n",
            "\n",
            "\n",
            "feature_fraction, val_score: 1.063683:  14%|#4        | 1/7 [00:00<00:05,  1.17it/s]\u001b[A\u001b[A\u001b[A\u001b[32m[I 2020-05-17 07:34:59,246]\u001b[0m Finished trial#0 with value: 1.0636828463360517 with parameters: {'feature_fraction': 0.5}. Best is trial#0 with value: 1.0636828463360517.\u001b[0m\n",
            "\n",
            "\n",
            "\n",
            "feature_fraction, val_score: 1.063683:  14%|#4        | 1/7 [00:00<00:05,  1.17it/s]\u001b[A\u001b[A\u001b[A"
          ],
          "name": "stderr"
        },
        {
          "output_type": "stream",
          "text": [
            "[100]\ttraining's rmse: 0.866911\tvalid_1's rmse: 1.06784\n",
            "Early stopping, best iteration is:\n",
            "[66]\ttraining's rmse: 0.919995\tvalid_1's rmse: 1.06368\n",
            "Training until validation scores don't improve for 50 rounds.\n",
            "[100]\ttraining's rmse: 0.875013\tvalid_1's rmse: 1.07248\n"
          ],
          "name": "stdout"
        },
        {
          "output_type": "stream",
          "text": [
            "\n",
            "\n",
            "\n",
            "feature_fraction, val_score: 1.063683:  14%|#4        | 1/7 [00:01<00:05,  1.17it/s]\u001b[A\u001b[A\u001b[A\n",
            "\n",
            "\n",
            "feature_fraction, val_score: 1.063683:  29%|##8       | 2/7 [00:01<00:04,  1.12it/s]\u001b[A\u001b[A\u001b[A\u001b[32m[I 2020-05-17 07:35:00,232]\u001b[0m Finished trial#1 with value: 1.0715682873572787 with parameters: {'feature_fraction': 0.4}. Best is trial#0 with value: 1.0636828463360517.\u001b[0m\n",
            "\n",
            "\n",
            "\n",
            "feature_fraction, val_score: 1.063683:  29%|##8       | 2/7 [00:01<00:04,  1.12it/s]\u001b[A\u001b[A\u001b[A"
          ],
          "name": "stderr"
        },
        {
          "output_type": "stream",
          "text": [
            "Early stopping, best iteration is:\n",
            "[128]\ttraining's rmse: 0.837118\tvalid_1's rmse: 1.07157\n",
            "Training until validation scores don't improve for 50 rounds.\n"
          ],
          "name": "stdout"
        },
        {
          "output_type": "stream",
          "text": [
            "\n",
            "\n",
            "\n",
            "feature_fraction, val_score: 1.063683:  29%|##8       | 2/7 [00:02<00:04,  1.12it/s]\u001b[A\u001b[A\u001b[A\n",
            "\n",
            "\n",
            "feature_fraction, val_score: 1.063683:  43%|####2     | 3/7 [00:02<00:03,  1.07it/s]\u001b[A\u001b[A\u001b[A\u001b[32m[I 2020-05-17 07:35:01,264]\u001b[0m Finished trial#2 with value: 1.0668838375409624 with parameters: {'feature_fraction': 0.8}. Best is trial#0 with value: 1.0636828463360517.\u001b[0m\n",
            "\n",
            "\n",
            "\n",
            "feature_fraction, val_score: 1.063683:  43%|####2     | 3/7 [00:02<00:03,  1.07it/s]\u001b[A\u001b[A\u001b[A"
          ],
          "name": "stderr"
        },
        {
          "output_type": "stream",
          "text": [
            "[100]\ttraining's rmse: 0.855436\tvalid_1's rmse: 1.0697\n",
            "Early stopping, best iteration is:\n",
            "[57]\ttraining's rmse: 0.928606\tvalid_1's rmse: 1.06688\n",
            "Training until validation scores don't improve for 50 rounds.\n"
          ],
          "name": "stdout"
        },
        {
          "output_type": "stream",
          "text": [
            "\n",
            "\n",
            "\n",
            "feature_fraction, val_score: 1.063683:  43%|####2     | 3/7 [00:04<00:03,  1.07it/s]\u001b[A\u001b[A\u001b[A\n",
            "\n",
            "\n",
            "feature_fraction, val_score: 1.063683:  57%|#####7    | 4/7 [00:04<00:03,  1.01s/it]\u001b[A\u001b[A\u001b[A"
          ],
          "name": "stderr"
        },
        {
          "output_type": "stream",
          "text": [
            "[100]\ttraining's rmse: 0.854285\tvalid_1's rmse: 1.07178\n",
            "Early stopping, best iteration is:\n",
            "[67]\ttraining's rmse: 0.907094\tvalid_1's rmse: 1.06834\n"
          ],
          "name": "stdout"
        },
        {
          "output_type": "stream",
          "text": [
            "\u001b[32m[I 2020-05-17 07:35:02,453]\u001b[0m Finished trial#3 with value: 1.0683381046416456 with parameters: {'feature_fraction': 0.8999999999999999}. Best is trial#0 with value: 1.0636828463360517.\u001b[0m\n",
            "\n",
            "\n",
            "\n",
            "feature_fraction, val_score: 1.063683:  57%|#####7    | 4/7 [00:04<00:03,  1.01s/it]\u001b[A\u001b[A\u001b[A"
          ],
          "name": "stderr"
        },
        {
          "output_type": "stream",
          "text": [
            "Training until validation scores don't improve for 50 rounds.\n",
            "[100]\ttraining's rmse: 0.858456\tvalid_1's rmse: 1.06768\n"
          ],
          "name": "stdout"
        },
        {
          "output_type": "stream",
          "text": [
            "\n",
            "\n",
            "\n",
            "feature_fraction, val_score: 1.063683:  57%|#####7    | 4/7 [00:05<00:03,  1.01s/it]\u001b[A\u001b[A\u001b[A\n",
            "\n",
            "\n",
            "feature_fraction, val_score: 1.063683:  71%|#######1  | 5/7 [00:05<00:02,  1.06s/it]\u001b[A\u001b[A\u001b[A\u001b[32m[I 2020-05-17 07:35:03,643]\u001b[0m Finished trial#4 with value: 1.0661933780969575 with parameters: {'feature_fraction': 0.7}. Best is trial#0 with value: 1.0636828463360517.\u001b[0m\n",
            "\n",
            "\n",
            "\n",
            "feature_fraction, val_score: 1.063683:  71%|#######1  | 5/7 [00:05<00:02,  1.06s/it]\u001b[A\u001b[A\u001b[A"
          ],
          "name": "stderr"
        },
        {
          "output_type": "stream",
          "text": [
            "Early stopping, best iteration is:\n",
            "[93]\ttraining's rmse: 0.869402\tvalid_1's rmse: 1.06619\n",
            "Training until validation scores don't improve for 50 rounds.\n"
          ],
          "name": "stdout"
        },
        {
          "output_type": "stream",
          "text": [
            "\n",
            "\n",
            "\n",
            "feature_fraction, val_score: 1.063683:  71%|#######1  | 5/7 [00:06<00:02,  1.06s/it]\u001b[A\u001b[A\u001b[A\n",
            "\n",
            "\n",
            "feature_fraction, val_score: 1.063683:  86%|########5 | 6/7 [00:06<00:01,  1.02s/it]\u001b[A\u001b[A\u001b[A\u001b[32m[I 2020-05-17 07:35:04,548]\u001b[0m Finished trial#5 with value: 1.0736968369142192 with parameters: {'feature_fraction': 0.6}. Best is trial#0 with value: 1.0636828463360517.\u001b[0m\n"
          ],
          "name": "stderr"
        },
        {
          "output_type": "stream",
          "text": [
            "[100]\ttraining's rmse: 0.862873\tvalid_1's rmse: 1.07484\n",
            "Early stopping, best iteration is:\n",
            "[67]\ttraining's rmse: 0.916654\tvalid_1's rmse: 1.0737\n"
          ],
          "name": "stdout"
        },
        {
          "output_type": "stream",
          "text": [
            "\n",
            "\n",
            "\n",
            "feature_fraction, val_score: 1.063683:  86%|########5 | 6/7 [00:06<00:01,  1.02s/it]\u001b[A\u001b[A\u001b[A"
          ],
          "name": "stderr"
        },
        {
          "output_type": "stream",
          "text": [
            "Training until validation scores don't improve for 50 rounds.\n"
          ],
          "name": "stdout"
        },
        {
          "output_type": "stream",
          "text": [
            "\n",
            "\n",
            "\n",
            "feature_fraction, val_score: 1.063683:  86%|########5 | 6/7 [00:07<00:01,  1.02s/it]\u001b[A\u001b[A\u001b[A\n",
            "\n",
            "\n",
            "feature_fraction, val_score: 1.063683: 100%|##########| 7/7 [00:07<00:00,  1.07s/it]\u001b[A\u001b[A\u001b[A\u001b[32m[I 2020-05-17 07:35:05,752]\u001b[0m Finished trial#6 with value: 1.0716260311646675 with parameters: {'feature_fraction': 1.0}. Best is trial#0 with value: 1.0636828463360517.\u001b[0m\n",
            "feature_fraction, val_score: 1.063683: 100%|##########| 7/7 [00:07<00:00,  1.07s/it]\n",
            "\n",
            "\n",
            "\n",
            "  0%|          | 0/20 [00:00<?, ?it/s]\u001b[A\u001b[A\u001b[A\n",
            "\n",
            "\n",
            "num_leaves, val_score: 1.063683:   0%|          | 0/20 [00:00<?, ?it/s]\u001b[A\u001b[A\u001b[A"
          ],
          "name": "stderr"
        },
        {
          "output_type": "stream",
          "text": [
            "[100]\ttraining's rmse: 0.850755\tvalid_1's rmse: 1.07567\n",
            "Early stopping, best iteration is:\n",
            "[52]\ttraining's rmse: 0.934313\tvalid_1's rmse: 1.07163\n",
            "Training until validation scores don't improve for 50 rounds.\n"
          ],
          "name": "stdout"
        },
        {
          "output_type": "stream",
          "text": [
            "\n",
            "\n",
            "\n",
            "num_leaves, val_score: 1.063683:   0%|          | 0/20 [00:02<?, ?it/s]\u001b[A\u001b[A\u001b[A\n",
            "\n",
            "\n",
            "num_leaves, val_score: 1.063683:   5%|5         | 1/20 [00:02<00:40,  2.13s/it]\u001b[A\u001b[A\u001b[A\u001b[32m[I 2020-05-17 07:35:07,990]\u001b[0m Finished trial#7 with value: 1.0769114954411931 with parameters: {'num_leaves': 161}. Best is trial#7 with value: 1.0769114954411931.\u001b[0m\n",
            "\n",
            "\n",
            "\n",
            "num_leaves, val_score: 1.063683:   5%|5         | 1/20 [00:02<00:40,  2.13s/it]\u001b[A\u001b[A\u001b[A"
          ],
          "name": "stderr"
        },
        {
          "output_type": "stream",
          "text": [
            "Early stopping, best iteration is:\n",
            "[49]\ttraining's rmse: 0.645793\tvalid_1's rmse: 1.07691\n",
            "Training until validation scores don't improve for 50 rounds.\n",
            "[100]\ttraining's rmse: 1.02092\tvalid_1's rmse: 1.07129\n",
            "[200]\ttraining's rmse: 0.982629\tvalid_1's rmse: 1.07073\n",
            "Early stopping, best iteration is:\n",
            "[164]\ttraining's rmse: 0.995256\tvalid_1's rmse: 1.06949\n"
          ],
          "name": "stdout"
        },
        {
          "output_type": "stream",
          "text": [
            "\n",
            "\n",
            "\n",
            "num_leaves, val_score: 1.063683:   5%|5         | 1/20 [00:02<00:40,  2.13s/it]\u001b[A\u001b[A\u001b[A\n",
            "\n",
            "\n",
            "num_leaves, val_score: 1.063683:  10%|#         | 2/20 [00:02<00:29,  1.66s/it]\u001b[A\u001b[A\u001b[A\u001b[32m[I 2020-05-17 07:35:08,555]\u001b[0m Finished trial#8 with value: 1.0694949906767575 with parameters: {'num_leaves': 7}. Best is trial#8 with value: 1.0694949906767575.\u001b[0m\n",
            "\n",
            "\n",
            "\n",
            "num_leaves, val_score: 1.063683:  10%|#         | 2/20 [00:02<00:29,  1.66s/it]\u001b[A\u001b[A\u001b[A"
          ],
          "name": "stderr"
        },
        {
          "output_type": "stream",
          "text": [
            "Training until validation scores don't improve for 50 rounds.\n"
          ],
          "name": "stdout"
        },
        {
          "output_type": "stream",
          "text": [
            "\n",
            "\n",
            "\n",
            "num_leaves, val_score: 1.063683:  10%|#         | 2/20 [00:03<00:29,  1.66s/it]\u001b[A\u001b[A\u001b[A\n",
            "\n",
            "\n",
            "num_leaves, val_score: 1.063683:  15%|#5        | 3/20 [00:03<00:23,  1.39s/it]\u001b[A\u001b[A\u001b[A"
          ],
          "name": "stderr"
        },
        {
          "output_type": "stream",
          "text": [
            "[100]\ttraining's rmse: 0.912586\tvalid_1's rmse: 1.07171\n",
            "Early stopping, best iteration is:\n",
            "[83]\ttraining's rmse: 0.932815\tvalid_1's rmse: 1.07071\n"
          ],
          "name": "stdout"
        },
        {
          "output_type": "stream",
          "text": [
            "\u001b[32m[I 2020-05-17 07:35:09,310]\u001b[0m Finished trial#9 with value: 1.0707120127188234 with parameters: {'num_leaves': 23}. Best is trial#8 with value: 1.0694949906767575.\u001b[0m\n",
            "\n",
            "\n",
            "\n",
            "num_leaves, val_score: 1.063683:  15%|#5        | 3/20 [00:03<00:23,  1.39s/it]\u001b[A\u001b[A\u001b[A"
          ],
          "name": "stderr"
        },
        {
          "output_type": "stream",
          "text": [
            "Training until validation scores don't improve for 50 rounds.\n"
          ],
          "name": "stdout"
        },
        {
          "output_type": "stream",
          "text": [
            "\n",
            "\n",
            "\n",
            "num_leaves, val_score: 1.063683:  15%|#5        | 3/20 [00:05<00:23,  1.39s/it]\u001b[A\u001b[A\u001b[A\n",
            "\n",
            "\n",
            "num_leaves, val_score: 1.063683:  20%|##        | 4/20 [00:05<00:23,  1.47s/it]\u001b[A\u001b[A\u001b[A"
          ],
          "name": "stderr"
        },
        {
          "output_type": "stream",
          "text": [
            "[100]\ttraining's rmse: 0.579149\tvalid_1's rmse: 1.08171\n",
            "Early stopping, best iteration is:\n",
            "[58]\ttraining's rmse: 0.723379\tvalid_1's rmse: 1.07657\n"
          ],
          "name": "stdout"
        },
        {
          "output_type": "stream",
          "text": [
            "\u001b[32m[I 2020-05-17 07:35:10,981]\u001b[0m Finished trial#10 with value: 1.0765728629610853 with parameters: {'num_leaves': 101}. Best is trial#8 with value: 1.0694949906767575.\u001b[0m\n",
            "\n",
            "\n",
            "\n",
            "num_leaves, val_score: 1.063683:  20%|##        | 4/20 [00:05<00:23,  1.47s/it]\u001b[A\u001b[A\u001b[A"
          ],
          "name": "stderr"
        },
        {
          "output_type": "stream",
          "text": [
            "Training until validation scores don't improve for 50 rounds.\n"
          ],
          "name": "stdout"
        },
        {
          "output_type": "stream",
          "text": [
            "\n",
            "\n",
            "\n",
            "num_leaves, val_score: 1.063683:  20%|##        | 4/20 [00:06<00:23,  1.47s/it]\u001b[A\u001b[A\u001b[A\n",
            "\n",
            "\n",
            "num_leaves, val_score: 1.063683:  25%|##5       | 5/20 [00:06<00:22,  1.52s/it]\u001b[A\u001b[A\u001b[A\u001b[32m[I 2020-05-17 07:35:12,618]\u001b[0m Finished trial#11 with value: 1.0737118888632997 with parameters: {'num_leaves': 106}. Best is trial#8 with value: 1.0694949906767575.\u001b[0m\n",
            "\n",
            "\n",
            "\n",
            "num_leaves, val_score: 1.063683:  25%|##5       | 5/20 [00:06<00:22,  1.52s/it]\u001b[A\u001b[A\u001b[A"
          ],
          "name": "stderr"
        },
        {
          "output_type": "stream",
          "text": [
            "[100]\ttraining's rmse: 0.563592\tvalid_1's rmse: 1.08263\n",
            "Early stopping, best iteration is:\n",
            "[50]\ttraining's rmse: 0.747965\tvalid_1's rmse: 1.07371\n",
            "Training until validation scores don't improve for 50 rounds.\n"
          ],
          "name": "stdout"
        },
        {
          "output_type": "stream",
          "text": [
            "\n",
            "\n",
            "\n",
            "num_leaves, val_score: 1.063683:  25%|##5       | 5/20 [00:09<00:22,  1.52s/it]\u001b[A\u001b[A\u001b[A\n",
            "\n",
            "\n",
            "num_leaves, val_score: 1.063683:  30%|###       | 6/20 [00:09<00:27,  1.93s/it]\u001b[A\u001b[A\u001b[A\u001b[32m[I 2020-05-17 07:35:15,509]\u001b[0m Finished trial#12 with value: 1.0851945597472838 with parameters: {'num_leaves': 252}. Best is trial#8 with value: 1.0694949906767575.\u001b[0m\n",
            "\n",
            "\n",
            "\n",
            "num_leaves, val_score: 1.063683:  30%|###       | 6/20 [00:09<00:27,  1.93s/it]\u001b[A\u001b[A\u001b[A"
          ],
          "name": "stderr"
        },
        {
          "output_type": "stream",
          "text": [
            "Early stopping, best iteration is:\n",
            "[42]\ttraining's rmse: 0.568277\tvalid_1's rmse: 1.08519\n",
            "Training until validation scores don't improve for 50 rounds.\n"
          ],
          "name": "stdout"
        },
        {
          "output_type": "stream",
          "text": [
            "\n",
            "\n",
            "\n",
            "num_leaves, val_score: 1.063683:  30%|###       | 6/20 [00:10<00:27,  1.93s/it]\u001b[A\u001b[A\u001b[A\n",
            "\n",
            "\n",
            "num_leaves, val_score: 1.063683:  35%|###5      | 7/20 [00:10<00:21,  1.64s/it]\u001b[A\u001b[A\u001b[A\u001b[32m[I 2020-05-17 07:35:16,457]\u001b[0m Finished trial#13 with value: 1.0768358178703616 with parameters: {'num_leaves': 49}. Best is trial#8 with value: 1.0694949906767575.\u001b[0m\n",
            "\n",
            "\n",
            "\n",
            "num_leaves, val_score: 1.063683:  35%|###5      | 7/20 [00:10<00:21,  1.64s/it]\u001b[A\u001b[A\u001b[A"
          ],
          "name": "stderr"
        },
        {
          "output_type": "stream",
          "text": [
            "Early stopping, best iteration is:\n",
            "[48]\ttraining's rmse: 0.899593\tvalid_1's rmse: 1.07684\n",
            "Training until validation scores don't improve for 50 rounds.\n",
            "[100]\ttraining's rmse: 0.314961\tvalid_1's rmse: 1.08646\n"
          ],
          "name": "stdout"
        },
        {
          "output_type": "stream",
          "text": [
            "\n",
            "\n",
            "\n",
            "num_leaves, val_score: 1.063683:  35%|###5      | 7/20 [00:13<00:21,  1.64s/it]\u001b[A\u001b[A\u001b[A\n",
            "\n",
            "\n",
            "num_leaves, val_score: 1.063683:  40%|####      | 8/20 [00:13<00:24,  2.08s/it]\u001b[A\u001b[A\u001b[A\u001b[32m[I 2020-05-17 07:35:19,549]\u001b[0m Finished trial#14 with value: 1.0821625157037833 with parameters: {'num_leaves': 222}. Best is trial#8 with value: 1.0694949906767575.\u001b[0m\n",
            "\n",
            "\n",
            "\n",
            "num_leaves, val_score: 1.063683:  40%|####      | 8/20 [00:13<00:24,  2.08s/it]\u001b[A\u001b[A\u001b[A"
          ],
          "name": "stderr"
        },
        {
          "output_type": "stream",
          "text": [
            "Early stopping, best iteration is:\n",
            "[59]\ttraining's rmse: 0.490701\tvalid_1's rmse: 1.08216\n",
            "Training until validation scores don't improve for 50 rounds.\n"
          ],
          "name": "stdout"
        },
        {
          "output_type": "stream",
          "text": [
            "\n",
            "\n",
            "\n",
            "num_leaves, val_score: 1.063683:  40%|####      | 8/20 [00:15<00:24,  2.08s/it]\u001b[A\u001b[A\u001b[A\n",
            "\n",
            "\n",
            "num_leaves, val_score: 1.063683:  45%|####5     | 9/20 [00:15<00:20,  1.91s/it]\u001b[A\u001b[A\u001b[A"
          ],
          "name": "stderr"
        },
        {
          "output_type": "stream",
          "text": [
            "[100]\ttraining's rmse: 0.641594\tvalid_1's rmse: 1.07717\n",
            "Early stopping, best iteration is:\n",
            "[65]\ttraining's rmse: 0.746624\tvalid_1's rmse: 1.07158\n"
          ],
          "name": "stdout"
        },
        {
          "output_type": "stream",
          "text": [
            "\u001b[32m[I 2020-05-17 07:35:21,075]\u001b[0m Finished trial#15 with value: 1.071584213020001 with parameters: {'num_leaves': 82}. Best is trial#8 with value: 1.0694949906767575.\u001b[0m\n",
            "\n",
            "\n",
            "\n",
            "num_leaves, val_score: 1.063683:  45%|####5     | 9/20 [00:15<00:20,  1.91s/it]\u001b[A\u001b[A\u001b[A"
          ],
          "name": "stderr"
        },
        {
          "output_type": "stream",
          "text": [
            "Training until validation scores don't improve for 50 rounds.\n"
          ],
          "name": "stdout"
        },
        {
          "output_type": "stream",
          "text": [
            "\n",
            "\n",
            "\n",
            "num_leaves, val_score: 1.063683:  45%|####5     | 9/20 [00:16<00:20,  1.91s/it]\u001b[A\u001b[A\u001b[A\n",
            "\n",
            "\n",
            "num_leaves, val_score: 1.063683:  50%|#####     | 10/20 [00:16<00:18,  1.86s/it]\u001b[A\u001b[A\u001b[A\u001b[32m[I 2020-05-17 07:35:22,810]\u001b[0m Finished trial#16 with value: 1.0761901680277999 with parameters: {'num_leaves': 123}. Best is trial#8 with value: 1.0694949906767575.\u001b[0m\n",
            "\n",
            "\n",
            "\n",
            "num_leaves, val_score: 1.063683:  50%|#####     | 10/20 [00:17<00:18,  1.86s/it]\u001b[A\u001b[A\u001b[A"
          ],
          "name": "stderr"
        },
        {
          "output_type": "stream",
          "text": [
            "Early stopping, best iteration is:\n",
            "[45]\ttraining's rmse: 0.739425\tvalid_1's rmse: 1.07619\n",
            "Training until validation scores don't improve for 50 rounds.\n",
            "[100]\ttraining's rmse: 1.06217\tvalid_1's rmse: 1.08076\n",
            "[200]\ttraining's rmse: 1.04451\tvalid_1's rmse: 1.07412\n"
          ],
          "name": "stdout"
        },
        {
          "output_type": "stream",
          "text": [
            "\n",
            "\n",
            "\n",
            "num_leaves, val_score: 1.063683:  50%|#####     | 10/20 [00:17<00:18,  1.86s/it]\u001b[A\u001b[A\u001b[A\n",
            "\n",
            "\n",
            "num_leaves, val_score: 1.063683:  55%|#####5    | 11/20 [00:17<00:13,  1.48s/it]\u001b[A\u001b[A\u001b[A"
          ],
          "name": "stderr"
        },
        {
          "output_type": "stream",
          "text": [
            "[300]\ttraining's rmse: 1.03241\tvalid_1's rmse: 1.07285\n",
            "Early stopping, best iteration is:\n",
            "[344]\ttraining's rmse: 1.0276\tvalid_1's rmse: 1.07229\n"
          ],
          "name": "stdout"
        },
        {
          "output_type": "stream",
          "text": [
            "\u001b[32m[I 2020-05-17 07:35:23,407]\u001b[0m Finished trial#17 with value: 1.072290421502518 with parameters: {'num_leaves': 3}. Best is trial#8 with value: 1.0694949906767575.\u001b[0m\n",
            "\n",
            "\n",
            "\n",
            "num_leaves, val_score: 1.063683:  55%|#####5    | 11/20 [00:17<00:13,  1.48s/it]\u001b[A\u001b[A\u001b[A"
          ],
          "name": "stderr"
        },
        {
          "output_type": "stream",
          "text": [
            "Training until validation scores don't improve for 50 rounds.\n",
            "[100]\ttraining's rmse: 1.08315\tvalid_1's rmse: 1.09235\n",
            "[200]\ttraining's rmse: 1.06737\tvalid_1's rmse: 1.08254\n",
            "[300]\ttraining's rmse: 1.05981\tvalid_1's rmse: 1.07882\n",
            "[400]\ttraining's rmse: 1.05518\tvalid_1's rmse: 1.07757\n",
            "[500]\ttraining's rmse: 1.05189\tvalid_1's rmse: 1.07647\n"
          ],
          "name": "stdout"
        },
        {
          "output_type": "stream",
          "text": [
            "\n",
            "\n",
            "\n",
            "num_leaves, val_score: 1.063683:  55%|#####5    | 11/20 [00:18<00:13,  1.48s/it]\u001b[A\u001b[A\u001b[A\n",
            "\n",
            "\n",
            "num_leaves, val_score: 1.063683:  60%|######    | 12/20 [00:18<00:10,  1.27s/it]\u001b[A\u001b[A\u001b[A"
          ],
          "name": "stderr"
        },
        {
          "output_type": "stream",
          "text": [
            "[600]\ttraining's rmse: 1.04932\tvalid_1's rmse: 1.07585\n",
            "[700]\ttraining's rmse: 1.0472\tvalid_1's rmse: 1.07566\n",
            "Early stopping, best iteration is:\n",
            "[728]\ttraining's rmse: 1.04667\tvalid_1's rmse: 1.07543\n"
          ],
          "name": "stdout"
        },
        {
          "output_type": "stream",
          "text": [
            "\u001b[32m[I 2020-05-17 07:35:24,183]\u001b[0m Finished trial#18 with value: 1.075426536469754 with parameters: {'num_leaves': 2}. Best is trial#8 with value: 1.0694949906767575.\u001b[0m\n",
            "\n",
            "\n",
            "\n",
            "num_leaves, val_score: 1.063683:  60%|######    | 12/20 [00:18<00:10,  1.27s/it]\u001b[A\u001b[A\u001b[A"
          ],
          "name": "stderr"
        },
        {
          "output_type": "stream",
          "text": [
            "Training until validation scores don't improve for 50 rounds.\n"
          ],
          "name": "stdout"
        },
        {
          "output_type": "stream",
          "text": [
            "\n",
            "\n",
            "\n",
            "num_leaves, val_score: 1.063683:  60%|######    | 12/20 [00:19<00:10,  1.27s/it]\u001b[A\u001b[A\u001b[A\n",
            "\n",
            "\n",
            "num_leaves, val_score: 1.063683:  65%|######5   | 13/20 [00:19<00:07,  1.14s/it]\u001b[A\u001b[A\u001b[A\u001b[32m[I 2020-05-17 07:35:25,011]\u001b[0m Finished trial#19 with value: 1.0723264872978273 with parameters: {'num_leaves': 38}. Best is trial#8 with value: 1.0694949906767575.\u001b[0m\n",
            "\n",
            "\n",
            "\n",
            "num_leaves, val_score: 1.063683:  65%|######5   | 13/20 [00:19<00:07,  1.14s/it]\u001b[A\u001b[A\u001b[A"
          ],
          "name": "stderr"
        },
        {
          "output_type": "stream",
          "text": [
            "[100]\ttraining's rmse: 0.830289\tvalid_1's rmse: 1.07305\n",
            "Early stopping, best iteration is:\n",
            "[52]\ttraining's rmse: 0.922499\tvalid_1's rmse: 1.07233\n",
            "Training until validation scores don't improve for 50 rounds.\n"
          ],
          "name": "stdout"
        },
        {
          "output_type": "stream",
          "text": [
            "\n",
            "\n",
            "\n",
            "num_leaves, val_score: 1.063683:  65%|######5   | 13/20 [00:19<00:07,  1.14s/it]\u001b[A\u001b[A\u001b[A\n",
            "\n",
            "\n",
            "num_leaves, val_score: 1.063683:  70%|#######   | 14/20 [00:19<00:06,  1.04s/it]\u001b[A\u001b[A\u001b[A\u001b[32m[I 2020-05-17 07:35:25,838]\u001b[0m Finished trial#20 with value: 1.0702532021238207 with parameters: {'num_leaves': 33}. Best is trial#8 with value: 1.0694949906767575.\u001b[0m\n",
            "\n",
            "\n",
            "\n",
            "num_leaves, val_score: 1.063683:  70%|#######   | 14/20 [00:20<00:06,  1.04s/it]\u001b[A\u001b[A\u001b[A"
          ],
          "name": "stderr"
        },
        {
          "output_type": "stream",
          "text": [
            "[100]\ttraining's rmse: 0.857097\tvalid_1's rmse: 1.07242\n",
            "Early stopping, best iteration is:\n",
            "[61]\ttraining's rmse: 0.921581\tvalid_1's rmse: 1.07025\n",
            "Training until validation scores don't improve for 50 rounds.\n"
          ],
          "name": "stdout"
        },
        {
          "output_type": "stream",
          "text": [
            "\n",
            "\n",
            "\n",
            "num_leaves, val_score: 1.063683:  70%|#######   | 14/20 [00:21<00:06,  1.04s/it]\u001b[A\u001b[A\u001b[A\n",
            "\n",
            "\n",
            "num_leaves, val_score: 1.063683:  75%|#######5  | 15/20 [00:21<00:05,  1.08s/it]\u001b[A\u001b[A\u001b[A\u001b[32m[I 2020-05-17 07:35:26,988]\u001b[0m Finished trial#21 with value: 1.0732327914371727 with parameters: {'num_leaves': 61}. Best is trial#8 with value: 1.0694949906767575.\u001b[0m\n",
            "\n",
            "\n",
            "\n",
            "num_leaves, val_score: 1.063683:  75%|#######5  | 15/20 [00:21<00:05,  1.08s/it]\u001b[A\u001b[A\u001b[A"
          ],
          "name": "stderr"
        },
        {
          "output_type": "stream",
          "text": [
            "[100]\ttraining's rmse: 0.724133\tvalid_1's rmse: 1.07852\n",
            "Early stopping, best iteration is:\n",
            "[50]\ttraining's rmse: 0.858154\tvalid_1's rmse: 1.07323\n",
            "Training until validation scores don't improve for 50 rounds.\n"
          ],
          "name": "stdout"
        },
        {
          "output_type": "stream",
          "text": [
            "\n",
            "\n",
            "\n",
            "num_leaves, val_score: 1.063683:  75%|#######5  | 15/20 [00:23<00:05,  1.08s/it]\u001b[A\u001b[A\u001b[A\n",
            "\n",
            "\n",
            "num_leaves, val_score: 1.063683:  80%|########  | 16/20 [00:23<00:05,  1.39s/it]\u001b[A\u001b[A\u001b[A\u001b[32m[I 2020-05-17 07:35:29,118]\u001b[0m Finished trial#22 with value: 1.0801882198862398 with parameters: {'num_leaves': 164}. Best is trial#8 with value: 1.0694949906767575.\u001b[0m\n",
            "\n",
            "\n",
            "\n",
            "num_leaves, val_score: 1.063683:  80%|########  | 16/20 [00:23<00:05,  1.39s/it]\u001b[A\u001b[A\u001b[A"
          ],
          "name": "stderr"
        },
        {
          "output_type": "stream",
          "text": [
            "Early stopping, best iteration is:\n",
            "[42]\ttraining's rmse: 0.685739\tvalid_1's rmse: 1.08019\n",
            "Training until validation scores don't improve for 50 rounds.\n",
            "[100]\ttraining's rmse: 1.04937\tvalid_1's rmse: 1.0771\n",
            "[200]\ttraining's rmse: 1.02705\tvalid_1's rmse: 1.07295\n"
          ],
          "name": "stdout"
        },
        {
          "output_type": "stream",
          "text": [
            "\n",
            "\n",
            "\n",
            "num_leaves, val_score: 1.063683:  80%|########  | 16/20 [00:23<00:05,  1.39s/it]\u001b[A\u001b[A\u001b[A\n",
            "\n",
            "\n",
            "num_leaves, val_score: 1.063683:  85%|########5 | 17/20 [00:23<00:03,  1.15s/it]\u001b[A\u001b[A\u001b[A\u001b[32m[I 2020-05-17 07:35:29,698]\u001b[0m Finished trial#23 with value: 1.0721921624249529 with parameters: {'num_leaves': 4}. Best is trial#8 with value: 1.0694949906767575.\u001b[0m\n",
            "\n",
            "\n",
            "\n",
            "num_leaves, val_score: 1.063683:  85%|########5 | 17/20 [00:23<00:03,  1.15s/it]\u001b[A\u001b[A\u001b[A"
          ],
          "name": "stderr"
        },
        {
          "output_type": "stream",
          "text": [
            "[300]\ttraining's rmse: 1.00938\tvalid_1's rmse: 1.07303\n",
            "Early stopping, best iteration is:\n",
            "[275]\ttraining's rmse: 1.01367\tvalid_1's rmse: 1.07219\n",
            "Training until validation scores don't improve for 50 rounds.\n"
          ],
          "name": "stdout"
        },
        {
          "output_type": "stream",
          "text": [
            "\n",
            "\n",
            "\n",
            "num_leaves, val_score: 1.063683:  85%|########5 | 17/20 [00:25<00:03,  1.15s/it]\u001b[A\u001b[A\u001b[A\n",
            "\n",
            "\n",
            "num_leaves, val_score: 1.063683:  90%|######### | 18/20 [00:25<00:02,  1.17s/it]\u001b[A\u001b[A\u001b[A\u001b[32m[I 2020-05-17 07:35:30,922]\u001b[0m Finished trial#24 with value: 1.074394877070602 with parameters: {'num_leaves': 70}. Best is trial#8 with value: 1.0694949906767575.\u001b[0m\n",
            "\n",
            "\n",
            "\n",
            "num_leaves, val_score: 1.063683:  90%|######### | 18/20 [00:25<00:02,  1.17s/it]\u001b[A\u001b[A\u001b[A"
          ],
          "name": "stderr"
        },
        {
          "output_type": "stream",
          "text": [
            "[100]\ttraining's rmse: 0.68917\tvalid_1's rmse: 1.07631\n",
            "Early stopping, best iteration is:\n",
            "[51]\ttraining's rmse: 0.831551\tvalid_1's rmse: 1.07439\n",
            "Training until validation scores don't improve for 50 rounds.\n"
          ],
          "name": "stdout"
        },
        {
          "output_type": "stream",
          "text": [
            "\n",
            "\n",
            "\n",
            "num_leaves, val_score: 1.063683:  90%|######### | 18/20 [00:25<00:02,  1.17s/it]\u001b[A\u001b[A\u001b[A\n",
            "\n",
            "\n",
            "num_leaves, val_score: 1.063683:  95%|#########5| 19/20 [00:25<00:01,  1.05s/it]\u001b[A\u001b[A\u001b[A"
          ],
          "name": "stderr"
        },
        {
          "output_type": "stream",
          "text": [
            "[100]\ttraining's rmse: 0.889953\tvalid_1's rmse: 1.06702\n",
            "Early stopping, best iteration is:\n",
            "[69]\ttraining's rmse: 0.934077\tvalid_1's rmse: 1.06438\n"
          ],
          "name": "stdout"
        },
        {
          "output_type": "stream",
          "text": [
            "\u001b[32m[I 2020-05-17 07:35:31,698]\u001b[0m Finished trial#25 with value: 1.0643805774439947 with parameters: {'num_leaves': 27}. Best is trial#25 with value: 1.0643805774439947.\u001b[0m\n",
            "\n",
            "\n",
            "\n",
            "num_leaves, val_score: 1.063683:  95%|#########5| 19/20 [00:25<00:01,  1.05s/it]\u001b[A\u001b[A\u001b[A"
          ],
          "name": "stderr"
        },
        {
          "output_type": "stream",
          "text": [
            "Training until validation scores don't improve for 50 rounds.\n"
          ],
          "name": "stdout"
        },
        {
          "output_type": "stream",
          "text": [
            "\n",
            "\n",
            "\n",
            "num_leaves, val_score: 1.063683:  95%|#########5| 19/20 [00:27<00:01,  1.05s/it]\u001b[A\u001b[A\u001b[A\n",
            "\n",
            "\n",
            "num_leaves, val_score: 1.063683: 100%|##########| 20/20 [00:27<00:00,  1.32s/it]\u001b[A\u001b[A\u001b[A\u001b[32m[I 2020-05-17 07:35:33,652]\u001b[0m Finished trial#26 with value: 1.0833278213272644 with parameters: {'num_leaves': 166}. Best is trial#25 with value: 1.0643805774439947.\u001b[0m\n",
            "num_leaves, val_score: 1.063683: 100%|##########| 20/20 [00:27<00:00,  1.39s/it]\n",
            "\n",
            "\n",
            "\n",
            "  0%|          | 0/10 [00:00<?, ?it/s]\u001b[A\u001b[A\u001b[A\n",
            "\n",
            "\n",
            "bagging, val_score: 1.063683:   0%|          | 0/10 [00:00<?, ?it/s]\u001b[A\u001b[A\u001b[A"
          ],
          "name": "stderr"
        },
        {
          "output_type": "stream",
          "text": [
            "Early stopping, best iteration is:\n",
            "[33]\ttraining's rmse: 0.748031\tvalid_1's rmse: 1.08333\n",
            "Training until validation scores don't improve for 50 rounds.\n"
          ],
          "name": "stdout"
        },
        {
          "output_type": "stream",
          "text": [
            "\n",
            "\n",
            "\n",
            "bagging, val_score: 1.063683:   0%|          | 0/10 [00:00<?, ?it/s]\u001b[A\u001b[A\u001b[A\n",
            "\n",
            "\n",
            "bagging, val_score: 1.063683:  10%|#         | 1/10 [00:00<00:06,  1.37it/s]\u001b[A\u001b[A\u001b[A\u001b[32m[I 2020-05-17 07:35:34,494]\u001b[0m Finished trial#27 with value: 1.0678998609656867 with parameters: {'bagging_fraction': 0.9752215811157565, 'bagging_freq': 1}. Best is trial#27 with value: 1.0678998609656867.\u001b[0m\n",
            "\n",
            "\n",
            "\n",
            "bagging, val_score: 1.063683:  10%|#         | 1/10 [00:00<00:06,  1.37it/s]\u001b[A\u001b[A\u001b[A"
          ],
          "name": "stderr"
        },
        {
          "output_type": "stream",
          "text": [
            "[100]\ttraining's rmse: 0.866633\tvalid_1's rmse: 1.07014\n",
            "Early stopping, best iteration is:\n",
            "[62]\ttraining's rmse: 0.929027\tvalid_1's rmse: 1.0679\n",
            "Training until validation scores don't improve for 50 rounds.\n",
            "[100]\ttraining's rmse: 0.868817\tvalid_1's rmse: 1.06691\n"
          ],
          "name": "stdout"
        },
        {
          "output_type": "stream",
          "text": [
            "\n",
            "\n",
            "\n",
            "bagging, val_score: 1.063683:  10%|#         | 1/10 [00:01<00:06,  1.37it/s]\u001b[A\u001b[A\u001b[A\n",
            "\n",
            "\n",
            "bagging, val_score: 1.063683:  20%|##        | 2/10 [00:01<00:06,  1.21it/s]\u001b[A\u001b[A\u001b[A\u001b[32m[I 2020-05-17 07:35:35,554]\u001b[0m Finished trial#28 with value: 1.0659528449529896 with parameters: {'bagging_fraction': 0.9272553038835908, 'bagging_freq': 7}. Best is trial#28 with value: 1.0659528449529896.\u001b[0m\n",
            "\n",
            "\n",
            "\n",
            "bagging, val_score: 1.063683:  20%|##        | 2/10 [00:01<00:06,  1.21it/s]\u001b[A\u001b[A\u001b[A"
          ],
          "name": "stderr"
        },
        {
          "output_type": "stream",
          "text": [
            "Early stopping, best iteration is:\n",
            "[93]\ttraining's rmse: 0.878605\tvalid_1's rmse: 1.06595\n",
            "Training until validation scores don't improve for 50 rounds.\n"
          ],
          "name": "stdout"
        },
        {
          "output_type": "stream",
          "text": [
            "\n",
            "\n",
            "\n",
            "bagging, val_score: 1.063683:  20%|##        | 2/10 [00:02<00:06,  1.21it/s]\u001b[A\u001b[A\u001b[A\n",
            "\n",
            "\n",
            "bagging, val_score: 1.063683:  30%|###       | 3/10 [00:02<00:05,  1.23it/s]\u001b[A\u001b[A\u001b[A\u001b[32m[I 2020-05-17 07:35:36,343]\u001b[0m Finished trial#29 with value: 1.0768152266887412 with parameters: {'bagging_fraction': 0.6868231448632209, 'bagging_freq': 6}. Best is trial#28 with value: 1.0659528449529896.\u001b[0m\n",
            "\n",
            "\n",
            "\n",
            "bagging, val_score: 1.063683:  30%|###       | 3/10 [00:02<00:05,  1.23it/s]\u001b[A\u001b[A\u001b[A"
          ],
          "name": "stderr"
        },
        {
          "output_type": "stream",
          "text": [
            "Early stopping, best iteration is:\n",
            "[48]\ttraining's rmse: 0.962022\tvalid_1's rmse: 1.07682\n",
            "Training until validation scores don't improve for 50 rounds.\n"
          ],
          "name": "stdout"
        },
        {
          "output_type": "stream",
          "text": [
            "\n",
            "\n",
            "\n",
            "bagging, val_score: 1.063683:  30%|###       | 3/10 [00:03<00:05,  1.23it/s]\u001b[A\u001b[A\u001b[A\n",
            "\n",
            "\n",
            "bagging, val_score: 1.063683:  40%|####      | 4/10 [00:03<00:04,  1.25it/s]\u001b[A\u001b[A\u001b[A\u001b[32m[I 2020-05-17 07:35:37,098]\u001b[0m Finished trial#30 with value: 1.075242471780135 with parameters: {'bagging_fraction': 0.6188812719019751, 'bagging_freq': 4}. Best is trial#28 with value: 1.0659528449529896.\u001b[0m\n",
            "\n",
            "\n",
            "\n",
            "bagging, val_score: 1.063683:  40%|####      | 4/10 [00:03<00:04,  1.25it/s]\u001b[A\u001b[A\u001b[A"
          ],
          "name": "stderr"
        },
        {
          "output_type": "stream",
          "text": [
            "Early stopping, best iteration is:\n",
            "[47]\ttraining's rmse: 0.964636\tvalid_1's rmse: 1.07524\n",
            "Training until validation scores don't improve for 50 rounds.\n"
          ],
          "name": "stdout"
        },
        {
          "output_type": "stream",
          "text": [
            "\n",
            "\n",
            "\n",
            "bagging, val_score: 1.063683:  40%|####      | 4/10 [00:04<00:04,  1.25it/s]\u001b[A\u001b[A\u001b[A\n",
            "\n",
            "\n",
            "bagging, val_score: 1.063683:  50%|#####     | 5/10 [00:04<00:03,  1.26it/s]\u001b[A\u001b[A\u001b[A\u001b[32m[I 2020-05-17 07:35:37,884]\u001b[0m Finished trial#31 with value: 1.0776448829504495 with parameters: {'bagging_fraction': 0.4590586266807799, 'bagging_freq': 5}. Best is trial#28 with value: 1.0659528449529896.\u001b[0m\n",
            "\n",
            "\n",
            "\n",
            "bagging, val_score: 1.063683:  50%|#####     | 5/10 [00:04<00:03,  1.26it/s]\u001b[A\u001b[A\u001b[A"
          ],
          "name": "stderr"
        },
        {
          "output_type": "stream",
          "text": [
            "[100]\ttraining's rmse: 0.88438\tvalid_1's rmse: 1.08584\n",
            "Early stopping, best iteration is:\n",
            "[55]\ttraining's rmse: 0.957222\tvalid_1's rmse: 1.07764\n",
            "Training until validation scores don't improve for 50 rounds.\n"
          ],
          "name": "stdout"
        },
        {
          "output_type": "stream",
          "text": [
            "\n",
            "\n",
            "\n",
            "bagging, val_score: 1.063683:  50%|#####     | 5/10 [00:05<00:03,  1.26it/s]\u001b[A\u001b[A\u001b[A\n",
            "\n",
            "\n",
            "bagging, val_score: 1.063683:  60%|######    | 6/10 [00:05<00:03,  1.21it/s]\u001b[A\u001b[A\u001b[A\u001b[32m[I 2020-05-17 07:35:38,786]\u001b[0m Finished trial#32 with value: 1.068329605108754 with parameters: {'bagging_fraction': 0.7912811415499185, 'bagging_freq': 5}. Best is trial#28 with value: 1.0659528449529896.\u001b[0m\n",
            "\n",
            "\n",
            "\n",
            "bagging, val_score: 1.063683:  60%|######    | 6/10 [00:05<00:03,  1.21it/s]\u001b[A\u001b[A\u001b[A"
          ],
          "name": "stderr"
        },
        {
          "output_type": "stream",
          "text": [
            "[100]\ttraining's rmse: 0.868127\tvalid_1's rmse: 1.07297\n",
            "Early stopping, best iteration is:\n",
            "[61]\ttraining's rmse: 0.933883\tvalid_1's rmse: 1.06833\n",
            "Training until validation scores don't improve for 50 rounds.\n"
          ],
          "name": "stdout"
        },
        {
          "output_type": "stream",
          "text": [
            "\n",
            "\n",
            "\n",
            "bagging, val_score: 1.063683:  60%|######    | 6/10 [00:05<00:03,  1.21it/s]\u001b[A\u001b[A\u001b[A\n",
            "\n",
            "\n",
            "bagging, val_score: 1.063683:  70%|#######   | 7/10 [00:05<00:02,  1.23it/s]\u001b[A\u001b[A\u001b[A\u001b[32m[I 2020-05-17 07:35:39,555]\u001b[0m Finished trial#33 with value: 1.0726490542571836 with parameters: {'bagging_fraction': 0.5088126213478718, 'bagging_freq': 2}. Best is trial#28 with value: 1.0659528449529896.\u001b[0m\n",
            "\n",
            "\n",
            "\n",
            "bagging, val_score: 1.063683:  70%|#######   | 7/10 [00:05<00:02,  1.23it/s]\u001b[A\u001b[A\u001b[A"
          ],
          "name": "stderr"
        },
        {
          "output_type": "stream",
          "text": [
            "[100]\ttraining's rmse: 0.879203\tvalid_1's rmse: 1.07893\n",
            "Early stopping, best iteration is:\n",
            "[50]\ttraining's rmse: 0.961619\tvalid_1's rmse: 1.07265\n",
            "Training until validation scores don't improve for 50 rounds.\n"
          ],
          "name": "stdout"
        },
        {
          "output_type": "stream",
          "text": [
            "\n",
            "\n",
            "\n",
            "bagging, val_score: 1.063683:  70%|#######   | 7/10 [00:06<00:02,  1.23it/s]\u001b[A\u001b[A\u001b[A\n",
            "\n",
            "\n",
            "bagging, val_score: 1.063683:  80%|########  | 8/10 [00:06<00:01,  1.16it/s]\u001b[A\u001b[A\u001b[A"
          ],
          "name": "stderr"
        },
        {
          "output_type": "stream",
          "text": [
            "[100]\ttraining's rmse: 0.866221\tvalid_1's rmse: 1.07364\n",
            "Early stopping, best iteration is:\n",
            "[80]\ttraining's rmse: 0.897808\tvalid_1's rmse: 1.07096\n"
          ],
          "name": "stdout"
        },
        {
          "output_type": "stream",
          "text": [
            "\u001b[32m[I 2020-05-17 07:35:40,542]\u001b[0m Finished trial#34 with value: 1.0709560165205643 with parameters: {'bagging_fraction': 0.9347552387739941, 'bagging_freq': 4}. Best is trial#28 with value: 1.0659528449529896.\u001b[0m\n",
            "\n",
            "\n",
            "\n",
            "bagging, val_score: 1.063683:  80%|########  | 8/10 [00:06<00:01,  1.16it/s]\u001b[A\u001b[A\u001b[A"
          ],
          "name": "stderr"
        },
        {
          "output_type": "stream",
          "text": [
            "Training until validation scores don't improve for 50 rounds.\n"
          ],
          "name": "stdout"
        },
        {
          "output_type": "stream",
          "text": [
            "\n",
            "\n",
            "\n",
            "bagging, val_score: 1.063683:  80%|########  | 8/10 [00:07<00:01,  1.16it/s]\u001b[A\u001b[A\u001b[A\n",
            "\n",
            "\n",
            "bagging, val_score: 1.063683:  90%|######### | 9/10 [00:07<00:00,  1.18it/s]\u001b[A\u001b[A\u001b[A\u001b[32m[I 2020-05-17 07:35:41,350]\u001b[0m Finished trial#35 with value: 1.0777432463073178 with parameters: {'bagging_fraction': 0.6846803039372749, 'bagging_freq': 7}. Best is trial#28 with value: 1.0659528449529896.\u001b[0m\n",
            "\n",
            "\n",
            "\n",
            "bagging, val_score: 1.063683:  90%|######### | 9/10 [00:07<00:00,  1.18it/s]\u001b[A\u001b[A\u001b[A"
          ],
          "name": "stderr"
        },
        {
          "output_type": "stream",
          "text": [
            "[100]\ttraining's rmse: 0.87117\tvalid_1's rmse: 1.08078\n",
            "Early stopping, best iteration is:\n",
            "[54]\ttraining's rmse: 0.948291\tvalid_1's rmse: 1.07774\n",
            "Training until validation scores don't improve for 50 rounds.\n"
          ],
          "name": "stdout"
        },
        {
          "output_type": "stream",
          "text": [
            "\n",
            "\n",
            "\n",
            "bagging, val_score: 1.063683:  90%|######### | 9/10 [00:08<00:00,  1.18it/s]\u001b[A\u001b[A\u001b[A\n",
            "\n",
            "\n",
            "bagging, val_score: 1.063683: 100%|##########| 10/10 [00:08<00:00,  1.23it/s]\u001b[A\u001b[A\u001b[A\u001b[32m[I 2020-05-17 07:35:42,077]\u001b[0m Finished trial#36 with value: 1.0767541390453979 with parameters: {'bagging_fraction': 0.6615461011206062, 'bagging_freq': 4}. Best is trial#28 with value: 1.0659528449529896.\u001b[0m\n",
            "bagging, val_score: 1.063683: 100%|##########| 10/10 [00:08<00:00,  1.19it/s]\n",
            "\n",
            "\n",
            "\n",
            "  0%|          | 0/6 [00:00<?, ?it/s]\u001b[A\u001b[A\u001b[A\n",
            "\n",
            "\n",
            "feature_fraction_stage2, val_score: 1.063683:   0%|          | 0/6 [00:00<?, ?it/s]\u001b[A\u001b[A\u001b[A"
          ],
          "name": "stderr"
        },
        {
          "output_type": "stream",
          "text": [
            "Early stopping, best iteration is:\n",
            "[40]\ttraining's rmse: 0.97811\tvalid_1's rmse: 1.07675\n",
            "Training until validation scores don't improve for 50 rounds.\n"
          ],
          "name": "stdout"
        },
        {
          "output_type": "stream",
          "text": [
            "/usr/local/lib/python3.6/dist-packages/lightgbm/engine.py:118: UserWarning:\n",
            "\n",
            "Found `num_rounds` in params. Will use it instead of argument\n",
            "\n",
            "\n",
            "\n",
            "\n",
            "feature_fraction_stage2, val_score: 1.063683:   0%|          | 0/6 [00:00<?, ?it/s]\u001b[A\u001b[A\u001b[A\n",
            "\n",
            "\n",
            "feature_fraction_stage2, val_score: 1.063683:  17%|#6        | 1/6 [00:00<00:03,  1.54it/s]\u001b[A\u001b[A\u001b[A\u001b[32m[I 2020-05-17 07:35:42,832]\u001b[0m Finished trial#37 with value: 1.0700127311036614 with parameters: {'feature_fraction': 0.42}. Best is trial#37 with value: 1.0700127311036614.\u001b[0m\n",
            "\n",
            "\n",
            "\n",
            "feature_fraction_stage2, val_score: 1.063683:  17%|#6        | 1/6 [00:00<00:03,  1.54it/s]\u001b[A\u001b[A\u001b[A"
          ],
          "name": "stderr"
        },
        {
          "output_type": "stream",
          "text": [
            "[100]\ttraining's rmse: 0.872621\tvalid_1's rmse: 1.07268\n",
            "Early stopping, best iteration is:\n",
            "[65]\ttraining's rmse: 0.926856\tvalid_1's rmse: 1.07001\n",
            "Training until validation scores don't improve for 50 rounds.\n"
          ],
          "name": "stdout"
        },
        {
          "output_type": "stream",
          "text": [
            "\n",
            "\n",
            "\n",
            "feature_fraction_stage2, val_score: 1.063683:  17%|#6        | 1/6 [00:01<00:03,  1.54it/s]\u001b[A\u001b[A\u001b[A\n",
            "\n",
            "\n",
            "feature_fraction_stage2, val_score: 1.063683:  33%|###3      | 2/6 [00:01<00:02,  1.47it/s]\u001b[A\u001b[A\u001b[A\u001b[32m[I 2020-05-17 07:35:43,582]\u001b[0m Finished trial#38 with value: 1.070440341672546 with parameters: {'feature_fraction': 0.45199999999999996}. Best is trial#37 with value: 1.0700127311036614.\u001b[0m\n",
            "\n",
            "\n",
            "\n",
            "feature_fraction_stage2, val_score: 1.063683:  33%|###3      | 2/6 [00:01<00:02,  1.47it/s]\u001b[A\u001b[A\u001b[A"
          ],
          "name": "stderr"
        },
        {
          "output_type": "stream",
          "text": [
            "[100]\ttraining's rmse: 0.86903\tvalid_1's rmse: 1.07286\n",
            "Early stopping, best iteration is:\n",
            "[61]\ttraining's rmse: 0.931144\tvalid_1's rmse: 1.07044\n",
            "Training until validation scores don't improve for 50 rounds.\n"
          ],
          "name": "stdout"
        },
        {
          "output_type": "stream",
          "text": [
            "\n",
            "\n",
            "\n",
            "feature_fraction_stage2, val_score: 1.063683:  33%|###3      | 2/6 [00:02<00:02,  1.47it/s]\u001b[A\u001b[A\u001b[A\n",
            "\n",
            "\n",
            "feature_fraction_stage2, val_score: 1.063683:  50%|#####     | 3/6 [00:02<00:02,  1.39it/s]\u001b[A\u001b[A\u001b[A"
          ],
          "name": "stderr"
        },
        {
          "output_type": "stream",
          "text": [
            "[100]\ttraining's rmse: 0.867589\tvalid_1's rmse: 1.06862\n",
            "Early stopping, best iteration is:\n",
            "[73]\ttraining's rmse: 0.908101\tvalid_1's rmse: 1.06611\n"
          ],
          "name": "stdout"
        },
        {
          "output_type": "stream",
          "text": [
            "\u001b[32m[I 2020-05-17 07:35:44,403]\u001b[0m Finished trial#39 with value: 1.066113160103564 with parameters: {'feature_fraction': 0.484}. Best is trial#39 with value: 1.066113160103564.\u001b[0m\n",
            "\n",
            "\n",
            "\n",
            "feature_fraction_stage2, val_score: 1.063683:  50%|#####     | 3/6 [00:02<00:02,  1.39it/s]\u001b[A\u001b[A\u001b[A"
          ],
          "name": "stderr"
        },
        {
          "output_type": "stream",
          "text": [
            "Training until validation scores don't improve for 50 rounds.\n"
          ],
          "name": "stdout"
        },
        {
          "output_type": "stream",
          "text": [
            "\n",
            "\n",
            "\n",
            "feature_fraction_stage2, val_score: 1.063683:  50%|#####     | 3/6 [00:03<00:02,  1.39it/s]\u001b[A\u001b[A\u001b[A\n",
            "\n",
            "\n",
            "feature_fraction_stage2, val_score: 1.063683:  67%|######6   | 4/6 [00:03<00:01,  1.30it/s]\u001b[A\u001b[A\u001b[A\u001b[32m[I 2020-05-17 07:35:45,291]\u001b[0m Finished trial#40 with value: 1.067556257950975 with parameters: {'feature_fraction': 0.58}. Best is trial#39 with value: 1.066113160103564.\u001b[0m\n",
            "\n",
            "\n",
            "\n",
            "feature_fraction_stage2, val_score: 1.063683:  67%|######6   | 4/6 [00:03<00:01,  1.30it/s]\u001b[A\u001b[A\u001b[A"
          ],
          "name": "stderr"
        },
        {
          "output_type": "stream",
          "text": [
            "[100]\ttraining's rmse: 0.861806\tvalid_1's rmse: 1.07124\n",
            "Early stopping, best iteration is:\n",
            "[62]\ttraining's rmse: 0.924762\tvalid_1's rmse: 1.06756\n",
            "Training until validation scores don't improve for 50 rounds.\n"
          ],
          "name": "stdout"
        },
        {
          "output_type": "stream",
          "text": [
            "\n",
            "\n",
            "\n",
            "feature_fraction_stage2, val_score: 1.063683:  67%|######6   | 4/6 [00:03<00:01,  1.30it/s]\u001b[A\u001b[A\u001b[A\n",
            "\n",
            "\n",
            "feature_fraction_stage2, val_score: 1.063683:  83%|########3 | 5/6 [00:03<00:00,  1.27it/s]\u001b[A\u001b[A\u001b[A\u001b[32m[I 2020-05-17 07:35:46,111]\u001b[0m Finished trial#41 with value: 1.0689339545425944 with parameters: {'feature_fraction': 0.516}. Best is trial#39 with value: 1.066113160103564.\u001b[0m\n",
            "\n",
            "\n",
            "\n",
            "feature_fraction_stage2, val_score: 1.063683:  83%|########3 | 5/6 [00:04<00:00,  1.27it/s]\u001b[A\u001b[A\u001b[A"
          ],
          "name": "stderr"
        },
        {
          "output_type": "stream",
          "text": [
            "[100]\ttraining's rmse: 0.864746\tvalid_1's rmse: 1.07063\n",
            "Early stopping, best iteration is:\n",
            "[64]\ttraining's rmse: 0.923204\tvalid_1's rmse: 1.06893\n",
            "Training until validation scores don't improve for 50 rounds.\n"
          ],
          "name": "stdout"
        },
        {
          "output_type": "stream",
          "text": [
            "\n",
            "\n",
            "\n",
            "feature_fraction_stage2, val_score: 1.063683:  83%|########3 | 5/6 [00:04<00:00,  1.27it/s]\u001b[A\u001b[A\u001b[A\n",
            "\n",
            "\n",
            "feature_fraction_stage2, val_score: 1.063683: 100%|##########| 6/6 [00:04<00:00,  1.22it/s]\u001b[A\u001b[A\u001b[A"
          ],
          "name": "stderr"
        },
        {
          "output_type": "stream",
          "text": [
            "[100]\ttraining's rmse: 0.864035\tvalid_1's rmse: 1.07283\n",
            "Early stopping, best iteration is:\n",
            "[73]\ttraining's rmse: 0.90695\tvalid_1's rmse: 1.0694\n"
          ],
          "name": "stdout"
        },
        {
          "output_type": "stream",
          "text": [
            "\u001b[32m[I 2020-05-17 07:35:47,014]\u001b[0m Finished trial#42 with value: 1.069397365899015 with parameters: {'feature_fraction': 0.5479999999999999}. Best is trial#39 with value: 1.066113160103564.\u001b[0m\n",
            "feature_fraction_stage2, val_score: 1.063683: 100%|##########| 6/6 [00:04<00:00,  1.22it/s]\n",
            "\n",
            "\n",
            "\n",
            "  0%|          | 0/20 [00:00<?, ?it/s]\u001b[A\u001b[A\u001b[A\n",
            "\n",
            "\n",
            "regularization_factors, val_score: 1.063683:   0%|          | 0/20 [00:00<?, ?it/s]\u001b[A\u001b[A\u001b[A"
          ],
          "name": "stderr"
        },
        {
          "output_type": "stream",
          "text": [
            "Training until validation scores don't improve for 50 rounds.\n"
          ],
          "name": "stdout"
        },
        {
          "output_type": "stream",
          "text": [
            "\n",
            "\n",
            "\n",
            "regularization_factors, val_score: 1.063683:   0%|          | 0/20 [00:00<?, ?it/s]\u001b[A\u001b[A\u001b[A\n",
            "\n",
            "\n",
            "regularization_factors, val_score: 1.063683:   5%|5         | 1/20 [00:00<00:13,  1.37it/s]\u001b[A\u001b[A\u001b[A\u001b[32m[I 2020-05-17 07:35:47,849]\u001b[0m Finished trial#43 with value: 1.0655676477091414 with parameters: {'lambda_l1': 0.013544491888365347, 'lambda_l2': 0.00152804335708865}. Best is trial#43 with value: 1.0655676477091414.\u001b[0m\n",
            "\n",
            "\n",
            "\n",
            "regularization_factors, val_score: 1.063683:   5%|5         | 1/20 [00:00<00:13,  1.37it/s]\u001b[A\u001b[A\u001b[A"
          ],
          "name": "stderr"
        },
        {
          "output_type": "stream",
          "text": [
            "[100]\ttraining's rmse: 0.865546\tvalid_1's rmse: 1.06685\n",
            "Early stopping, best iteration is:\n",
            "[66]\ttraining's rmse: 0.920442\tvalid_1's rmse: 1.06557\n",
            "Training until validation scores don't improve for 50 rounds.\n"
          ],
          "name": "stdout"
        },
        {
          "output_type": "stream",
          "text": [
            "\n",
            "\n",
            "\n",
            "regularization_factors, val_score: 1.063683:   5%|5         | 1/20 [00:01<00:13,  1.37it/s]\u001b[A\u001b[A\u001b[A\n",
            "\n",
            "\n",
            "regularization_factors, val_score: 1.063683:  10%|#         | 2/20 [00:01<00:14,  1.27it/s]\u001b[A\u001b[A\u001b[A"
          ],
          "name": "stderr"
        },
        {
          "output_type": "stream",
          "text": [
            "[100]\ttraining's rmse: 0.867022\tvalid_1's rmse: 1.06925\n",
            "Early stopping, best iteration is:\n",
            "[72]\ttraining's rmse: 0.909872\tvalid_1's rmse: 1.06673\n"
          ],
          "name": "stdout"
        },
        {
          "output_type": "stream",
          "text": [
            "\u001b[32m[I 2020-05-17 07:35:48,768]\u001b[0m Finished trial#44 with value: 1.0667341564039927 with parameters: {'lambda_l1': 0.08411376406536868, 'lambda_l2': 9.717855705713332e-07}. Best is trial#43 with value: 1.0655676477091414.\u001b[0m\n",
            "\n",
            "\n",
            "\n",
            "regularization_factors, val_score: 1.063683:  10%|#         | 2/20 [00:01<00:14,  1.27it/s]\u001b[A\u001b[A\u001b[A"
          ],
          "name": "stderr"
        },
        {
          "output_type": "stream",
          "text": [
            "Training until validation scores don't improve for 50 rounds.\n"
          ],
          "name": "stdout"
        },
        {
          "output_type": "stream",
          "text": [
            "\n",
            "\n",
            "\n",
            "regularization_factors, val_score: 1.063683:  10%|#         | 2/20 [00:02<00:14,  1.27it/s]\u001b[A\u001b[A\u001b[A\n",
            "\n",
            "\n",
            "regularization_factors, val_score: 1.063683:  15%|#5        | 3/20 [00:02<00:13,  1.26it/s]\u001b[A\u001b[A\u001b[A\u001b[32m[I 2020-05-17 07:35:49,585]\u001b[0m Finished trial#45 with value: 1.06368284634694 with parameters: {'lambda_l1': 2.6926098494647823e-08, 'lambda_l2': 6.751923664672282e-07}. Best is trial#45 with value: 1.06368284634694.\u001b[0m\n",
            "\n",
            "\n",
            "\n",
            "regularization_factors, val_score: 1.063683:  15%|#5        | 3/20 [00:02<00:13,  1.26it/s]\u001b[A\u001b[A\u001b[A"
          ],
          "name": "stderr"
        },
        {
          "output_type": "stream",
          "text": [
            "[100]\ttraining's rmse: 0.866911\tvalid_1's rmse: 1.06784\n",
            "Early stopping, best iteration is:\n",
            "[66]\ttraining's rmse: 0.919995\tvalid_1's rmse: 1.06368\n",
            "Training until validation scores don't improve for 50 rounds.\n"
          ],
          "name": "stdout"
        },
        {
          "output_type": "stream",
          "text": [
            "\n",
            "\n",
            "\n",
            "regularization_factors, val_score: 1.063683:  15%|#5        | 3/20 [00:03<00:13,  1.26it/s]\u001b[A\u001b[A\u001b[A\n",
            "\n",
            "\n",
            "regularization_factors, val_score: 1.063683:  20%|##        | 4/20 [00:03<00:12,  1.25it/s]\u001b[A\u001b[A\u001b[A\u001b[32m[I 2020-05-17 07:35:50,404]\u001b[0m Finished trial#46 with value: 1.0636828463347243 with parameters: {'lambda_l1': 3.4053606973680594e-07, 'lambda_l2': 1.2183028599580836e-08}. Best is trial#46 with value: 1.0636828463347243.\u001b[0m\n"
          ],
          "name": "stderr"
        },
        {
          "output_type": "stream",
          "text": [
            "[100]\ttraining's rmse: 0.866911\tvalid_1's rmse: 1.06784\n",
            "Early stopping, best iteration is:\n",
            "[66]\ttraining's rmse: 0.919995\tvalid_1's rmse: 1.06368\n"
          ],
          "name": "stdout"
        },
        {
          "output_type": "stream",
          "text": [
            "\n",
            "\n",
            "\n",
            "regularization_factors, val_score: 1.063683:  20%|##        | 4/20 [00:03<00:12,  1.25it/s]\u001b[A\u001b[A\u001b[A"
          ],
          "name": "stderr"
        },
        {
          "output_type": "stream",
          "text": [
            "Training until validation scores don't improve for 50 rounds.\n",
            "[100]\ttraining's rmse: 0.870884\tvalid_1's rmse: 1.06579\n"
          ],
          "name": "stdout"
        },
        {
          "output_type": "stream",
          "text": [
            "\n",
            "\n",
            "\n",
            "regularization_factors, val_score: 1.063683:  20%|##        | 4/20 [00:04<00:12,  1.25it/s]\u001b[A\u001b[A\u001b[A\n",
            "\n",
            "\n",
            "regularization_factors, val_score: 1.063683:  25%|##5       | 5/20 [00:04<00:12,  1.16it/s]\u001b[A\u001b[A\u001b[A\u001b[32m[I 2020-05-17 07:35:51,395]\u001b[0m Finished trial#47 with value: 1.0653808447871527 with parameters: {'lambda_l1': 1.2119864003033998, 'lambda_l2': 2.2191589407628798e-08}. Best is trial#46 with value: 1.0636828463347243.\u001b[0m\n",
            "\n",
            "\n",
            "\n",
            "regularization_factors, val_score: 1.063683:  25%|##5       | 5/20 [00:04<00:12,  1.16it/s]\u001b[A\u001b[A\u001b[A"
          ],
          "name": "stderr"
        },
        {
          "output_type": "stream",
          "text": [
            "Early stopping, best iteration is:\n",
            "[95]\ttraining's rmse: 0.879052\tvalid_1's rmse: 1.06538\n",
            "Training until validation scores don't improve for 50 rounds.\n"
          ],
          "name": "stdout"
        },
        {
          "output_type": "stream",
          "text": [
            "\n",
            "\n",
            "\n",
            "regularization_factors, val_score: 1.063683:  25%|##5       | 5/20 [00:05<00:12,  1.16it/s]\u001b[A\u001b[A\u001b[A\n",
            "\n",
            "\n",
            "regularization_factors, val_score: 1.063683:  30%|###       | 6/20 [00:05<00:11,  1.19it/s]\u001b[A\u001b[A\u001b[A\u001b[32m[I 2020-05-17 07:35:52,186]\u001b[0m Finished trial#48 with value: 1.0636828467336703 with parameters: {'lambda_l1': 1.17670556076642e-07, 'lambda_l2': 3.2914677962087305e-05}. Best is trial#46 with value: 1.0636828463347243.\u001b[0m\n",
            "\n",
            "\n",
            "\n",
            "regularization_factors, val_score: 1.063683:  30%|###       | 6/20 [00:05<00:11,  1.19it/s]\u001b[A\u001b[A\u001b[A"
          ],
          "name": "stderr"
        },
        {
          "output_type": "stream",
          "text": [
            "[100]\ttraining's rmse: 0.866911\tvalid_1's rmse: 1.06784\n",
            "Early stopping, best iteration is:\n",
            "[66]\ttraining's rmse: 0.919995\tvalid_1's rmse: 1.06368\n",
            "Training until validation scores don't improve for 50 rounds.\n"
          ],
          "name": "stdout"
        },
        {
          "output_type": "stream",
          "text": [
            "\n",
            "\n",
            "\n",
            "regularization_factors, val_score: 1.063683:  30%|###       | 6/20 [00:05<00:11,  1.19it/s]\u001b[A\u001b[A\u001b[A\n",
            "\n",
            "\n",
            "regularization_factors, val_score: 1.063683:  35%|###5      | 7/20 [00:05<00:11,  1.18it/s]\u001b[A\u001b[A\u001b[A"
          ],
          "name": "stderr"
        },
        {
          "output_type": "stream",
          "text": [
            "[100]\ttraining's rmse: 0.867466\tvalid_1's rmse: 1.07121\n",
            "Early stopping, best iteration is:\n",
            "[73]\ttraining's rmse: 0.91003\tvalid_1's rmse: 1.0695\n"
          ],
          "name": "stdout"
        },
        {
          "output_type": "stream",
          "text": [
            "\u001b[32m[I 2020-05-17 07:35:53,055]\u001b[0m Finished trial#49 with value: 1.0695029460910241 with parameters: {'lambda_l1': 1.4813167682669637e-08, 'lambda_l2': 0.06598122224182926}. Best is trial#46 with value: 1.0636828463347243.\u001b[0m\n",
            "\n",
            "\n",
            "\n",
            "regularization_factors, val_score: 1.063683:  35%|###5      | 7/20 [00:06<00:11,  1.18it/s]\u001b[A\u001b[A\u001b[A"
          ],
          "name": "stderr"
        },
        {
          "output_type": "stream",
          "text": [
            "Training until validation scores don't improve for 50 rounds.\n"
          ],
          "name": "stdout"
        },
        {
          "output_type": "stream",
          "text": [
            "\n",
            "\n",
            "\n",
            "regularization_factors, val_score: 1.063683:  35%|###5      | 7/20 [00:06<00:11,  1.18it/s]\u001b[A\u001b[A\u001b[A\n",
            "\n",
            "\n",
            "regularization_factors, val_score: 1.063683:  40%|####      | 8/20 [00:06<00:10,  1.17it/s]\u001b[A\u001b[A\u001b[A\u001b[32m[I 2020-05-17 07:35:53,917]\u001b[0m Finished trial#50 with value: 1.068933603989353 with parameters: {'lambda_l1': 2.581073864887048e-05, 'lambda_l2': 4.10155118417228}. Best is trial#46 with value: 1.0636828463347243.\u001b[0m\n",
            "\n",
            "\n",
            "\n",
            "regularization_factors, val_score: 1.063683:  40%|####      | 8/20 [00:06<00:10,  1.17it/s]\u001b[A\u001b[A\u001b[A"
          ],
          "name": "stderr"
        },
        {
          "output_type": "stream",
          "text": [
            "[100]\ttraining's rmse: 0.874093\tvalid_1's rmse: 1.07259\n",
            "Early stopping, best iteration is:\n",
            "[67]\ttraining's rmse: 0.925017\tvalid_1's rmse: 1.06893\n",
            "Training until validation scores don't improve for 50 rounds.\n"
          ],
          "name": "stdout"
        },
        {
          "output_type": "stream",
          "text": [
            "\n",
            "\n",
            "\n",
            "regularization_factors, val_score: 1.063683:  40%|####      | 8/20 [00:07<00:10,  1.17it/s]\u001b[A\u001b[A\u001b[A\n",
            "\n",
            "\n",
            "regularization_factors, val_score: 1.063683:  45%|####5     | 9/20 [00:07<00:09,  1.16it/s]\u001b[A\u001b[A\u001b[A"
          ],
          "name": "stderr"
        },
        {
          "output_type": "stream",
          "text": [
            "[100]\ttraining's rmse: 0.869581\tvalid_1's rmse: 1.06658\n",
            "Early stopping, best iteration is:\n",
            "[74]\ttraining's rmse: 0.908922\tvalid_1's rmse: 1.06542\n"
          ],
          "name": "stdout"
        },
        {
          "output_type": "stream",
          "text": [
            "\u001b[32m[I 2020-05-17 07:35:54,806]\u001b[0m Finished trial#51 with value: 1.0654209264881995 with parameters: {'lambda_l1': 0.10506503731159787, 'lambda_l2': 1.5424814984319317}. Best is trial#46 with value: 1.0636828463347243.\u001b[0m\n",
            "\n",
            "\n",
            "\n",
            "regularization_factors, val_score: 1.063683:  45%|####5     | 9/20 [00:07<00:09,  1.16it/s]\u001b[A\u001b[A\u001b[A"
          ],
          "name": "stderr"
        },
        {
          "output_type": "stream",
          "text": [
            "Training until validation scores don't improve for 50 rounds.\n"
          ],
          "name": "stdout"
        },
        {
          "output_type": "stream",
          "text": [
            "\n",
            "\n",
            "\n",
            "regularization_factors, val_score: 1.063683:  45%|####5     | 9/20 [00:08<00:09,  1.16it/s]\u001b[A\u001b[A\u001b[A\n",
            "\n",
            "\n",
            "regularization_factors, val_score: 1.063683:  50%|#####     | 10/20 [00:08<00:08,  1.17it/s]\u001b[A\u001b[A\u001b[A"
          ],
          "name": "stderr"
        },
        {
          "output_type": "stream",
          "text": [
            "[100]\ttraining's rmse: 0.866911\tvalid_1's rmse: 1.06784\n",
            "Early stopping, best iteration is:\n",
            "[66]\ttraining's rmse: 0.919995\tvalid_1's rmse: 1.06368\n"
          ],
          "name": "stdout"
        },
        {
          "output_type": "stream",
          "text": [
            "\u001b[32m[I 2020-05-17 07:35:55,630]\u001b[0m Finished trial#52 with value: 1.0636828462488637 with parameters: {'lambda_l1': 8.343993155967588e-06, 'lambda_l2': 1.789680643053177e-05}. Best is trial#52 with value: 1.0636828462488637.\u001b[0m\n",
            "\n",
            "\n",
            "\n",
            "regularization_factors, val_score: 1.063683:  50%|#####     | 10/20 [00:08<00:08,  1.17it/s]\u001b[A\u001b[A\u001b[A"
          ],
          "name": "stderr"
        },
        {
          "output_type": "stream",
          "text": [
            "Training until validation scores don't improve for 50 rounds.\n"
          ],
          "name": "stdout"
        },
        {
          "output_type": "stream",
          "text": [
            "\n",
            "\n",
            "\n",
            "regularization_factors, val_score: 1.063683:  50%|#####     | 10/20 [00:09<00:08,  1.17it/s]\u001b[A\u001b[A\u001b[A\n",
            "\n",
            "\n",
            "regularization_factors, val_score: 1.063683:  55%|#####5    | 11/20 [00:09<00:07,  1.19it/s]\u001b[A\u001b[A\u001b[A\u001b[32m[I 2020-05-17 07:35:56,444]\u001b[0m Finished trial#53 with value: 1.0636828474712836 with parameters: {'lambda_l1': 2.3708626305980677e-05, 'lambda_l2': 0.00017706917981471688}. Best is trial#52 with value: 1.0636828462488637.\u001b[0m\n",
            "\n",
            "\n",
            "\n",
            "regularization_factors, val_score: 1.063683:  55%|#####5    | 11/20 [00:09<00:07,  1.19it/s]\u001b[A\u001b[A\u001b[A"
          ],
          "name": "stderr"
        },
        {
          "output_type": "stream",
          "text": [
            "[100]\ttraining's rmse: 0.866912\tvalid_1's rmse: 1.06784\n",
            "Early stopping, best iteration is:\n",
            "[66]\ttraining's rmse: 0.919996\tvalid_1's rmse: 1.06368\n",
            "Training until validation scores don't improve for 50 rounds.\n"
          ],
          "name": "stdout"
        },
        {
          "output_type": "stream",
          "text": [
            "\n",
            "\n",
            "\n",
            "regularization_factors, val_score: 1.063683:  55%|#####5    | 11/20 [00:10<00:07,  1.19it/s]\u001b[A\u001b[A\u001b[A\n",
            "\n",
            "\n",
            "regularization_factors, val_score: 1.063683:  60%|######    | 12/20 [00:10<00:06,  1.19it/s]\u001b[A\u001b[A\u001b[A\u001b[32m[I 2020-05-17 07:35:57,273]\u001b[0m Finished trial#54 with value: 1.0636828462397534 with parameters: {'lambda_l1': 2.594184130200492e-06, 'lambda_l2': 1.4213506153979463e-08}. Best is trial#54 with value: 1.0636828462397534.\u001b[0m\n",
            "\n",
            "\n",
            "\n",
            "regularization_factors, val_score: 1.063683:  60%|######    | 12/20 [00:10<00:06,  1.19it/s]\u001b[A\u001b[A\u001b[A"
          ],
          "name": "stderr"
        },
        {
          "output_type": "stream",
          "text": [
            "[100]\ttraining's rmse: 0.866911\tvalid_1's rmse: 1.06784\n",
            "Early stopping, best iteration is:\n",
            "[66]\ttraining's rmse: 0.919995\tvalid_1's rmse: 1.06368\n",
            "Training until validation scores don't improve for 50 rounds.\n"
          ],
          "name": "stdout"
        },
        {
          "output_type": "stream",
          "text": [
            "\n",
            "\n",
            "\n",
            "regularization_factors, val_score: 1.063683:  60%|######    | 12/20 [00:10<00:06,  1.19it/s]\u001b[A\u001b[A\u001b[A\n",
            "\n",
            "\n",
            "regularization_factors, val_score: 1.063683:  65%|######5   | 13/20 [00:10<00:05,  1.20it/s]\u001b[A\u001b[A\u001b[A\u001b[32m[I 2020-05-17 07:35:58,110]\u001b[0m Finished trial#55 with value: 1.063682846201733 with parameters: {'lambda_l1': 3.701618929801135e-06, 'lambda_l2': 8.296410973619709e-07}. Best is trial#55 with value: 1.063682846201733.\u001b[0m\n",
            "\n",
            "\n",
            "\n",
            "regularization_factors, val_score: 1.063683:  65%|######5   | 13/20 [00:11<00:05,  1.20it/s]\u001b[A\u001b[A\u001b[A"
          ],
          "name": "stderr"
        },
        {
          "output_type": "stream",
          "text": [
            "[100]\ttraining's rmse: 0.866911\tvalid_1's rmse: 1.06784\n",
            "Early stopping, best iteration is:\n",
            "[66]\ttraining's rmse: 0.919995\tvalid_1's rmse: 1.06368\n",
            "Training until validation scores don't improve for 50 rounds.\n"
          ],
          "name": "stdout"
        },
        {
          "output_type": "stream",
          "text": [
            "\n",
            "\n",
            "\n",
            "regularization_factors, val_score: 1.063683:  65%|######5   | 13/20 [00:11<00:05,  1.20it/s]\u001b[A\u001b[A\u001b[A\n",
            "\n",
            "\n",
            "regularization_factors, val_score: 1.063683:  70%|#######   | 14/20 [00:11<00:05,  1.19it/s]\u001b[A\u001b[A\u001b[A\u001b[32m[I 2020-05-17 07:35:58,969]\u001b[0m Finished trial#56 with value: 1.06451313550905 with parameters: {'lambda_l1': 0.0007705501858732188, 'lambda_l2': 1.7061468205646441e-07}. Best is trial#55 with value: 1.063682846201733.\u001b[0m\n",
            "\n",
            "\n",
            "\n",
            "regularization_factors, val_score: 1.063683:  70%|#######   | 14/20 [00:11<00:05,  1.19it/s]\u001b[A\u001b[A\u001b[A"
          ],
          "name": "stderr"
        },
        {
          "output_type": "stream",
          "text": [
            "[100]\ttraining's rmse: 0.865506\tvalid_1's rmse: 1.06701\n",
            "Early stopping, best iteration is:\n",
            "[62]\ttraining's rmse: 0.927515\tvalid_1's rmse: 1.06451\n",
            "Training until validation scores don't improve for 50 rounds.\n"
          ],
          "name": "stdout"
        },
        {
          "output_type": "stream",
          "text": [
            "\n",
            "\n",
            "\n",
            "regularization_factors, val_score: 1.063683:  70%|#######   | 14/20 [00:12<00:05,  1.19it/s]\u001b[A\u001b[A\u001b[A\n",
            "\n",
            "\n",
            "regularization_factors, val_score: 1.063683:  75%|#######5  | 15/20 [00:12<00:04,  1.20it/s]\u001b[A\u001b[A\u001b[A\u001b[32m[I 2020-05-17 07:35:59,782]\u001b[0m Finished trial#57 with value: 1.063682846268311 with parameters: {'lambda_l1': 1.7064741927203698e-06, 'lambda_l2': 1.790118259999705e-08}. Best is trial#55 with value: 1.063682846201733.\u001b[0m\n",
            "\n",
            "\n",
            "\n",
            "regularization_factors, val_score: 1.063683:  75%|#######5  | 15/20 [00:12<00:04,  1.20it/s]\u001b[A\u001b[A\u001b[A"
          ],
          "name": "stderr"
        },
        {
          "output_type": "stream",
          "text": [
            "[100]\ttraining's rmse: 0.866911\tvalid_1's rmse: 1.06784\n",
            "Early stopping, best iteration is:\n",
            "[66]\ttraining's rmse: 0.919995\tvalid_1's rmse: 1.06368\n",
            "Training until validation scores don't improve for 50 rounds.\n"
          ],
          "name": "stdout"
        },
        {
          "output_type": "stream",
          "text": [
            "\n",
            "\n",
            "\n",
            "regularization_factors, val_score: 1.063683:  75%|#######5  | 15/20 [00:13<00:04,  1.20it/s]\u001b[A\u001b[A\u001b[A\n",
            "\n",
            "\n",
            "regularization_factors, val_score: 1.063683:  80%|########  | 16/20 [00:13<00:03,  1.21it/s]\u001b[A\u001b[A\u001b[A\u001b[32m[I 2020-05-17 07:36:00,586]\u001b[0m Finished trial#58 with value: 1.063682826843939 with parameters: {'lambda_l1': 0.0005463572231264871, 'lambda_l2': 6.500226272806794e-06}. Best is trial#58 with value: 1.063682826843939.\u001b[0m\n",
            "\n",
            "\n",
            "\n",
            "regularization_factors, val_score: 1.063683:  80%|########  | 16/20 [00:13<00:03,  1.21it/s]\u001b[A\u001b[A\u001b[A"
          ],
          "name": "stderr"
        },
        {
          "output_type": "stream",
          "text": [
            "[100]\ttraining's rmse: 0.866869\tvalid_1's rmse: 1.06783\n",
            "Early stopping, best iteration is:\n",
            "[66]\ttraining's rmse: 0.919997\tvalid_1's rmse: 1.06368\n",
            "Training until validation scores don't improve for 50 rounds.\n"
          ],
          "name": "stdout"
        },
        {
          "output_type": "stream",
          "text": [
            "\n",
            "\n",
            "\n",
            "regularization_factors, val_score: 1.063683:  80%|########  | 16/20 [00:14<00:03,  1.21it/s]\u001b[A\u001b[A\u001b[A\n",
            "\n",
            "\n",
            "regularization_factors, val_score: 1.063683:  85%|########5 | 17/20 [00:14<00:02,  1.22it/s]\u001b[A\u001b[A\u001b[A\u001b[32m[I 2020-05-17 07:36:01,393]\u001b[0m Finished trial#59 with value: 1.0636828262740703 with parameters: {'lambda_l1': 0.000561894863885159, 'lambda_l2': 5.5008134405054385e-06}. Best is trial#59 with value: 1.0636828262740703.\u001b[0m\n",
            "\n",
            "\n",
            "\n",
            "regularization_factors, val_score: 1.063683:  85%|########5 | 17/20 [00:14<00:02,  1.22it/s]\u001b[A\u001b[A\u001b[A"
          ],
          "name": "stderr"
        },
        {
          "output_type": "stream",
          "text": [
            "[100]\ttraining's rmse: 0.866869\tvalid_1's rmse: 1.06783\n",
            "Early stopping, best iteration is:\n",
            "[66]\ttraining's rmse: 0.919997\tvalid_1's rmse: 1.06368\n",
            "Training until validation scores don't improve for 50 rounds.\n"
          ],
          "name": "stdout"
        },
        {
          "output_type": "stream",
          "text": [
            "\n",
            "\n",
            "\n",
            "regularization_factors, val_score: 1.063683:  85%|########5 | 17/20 [00:15<00:02,  1.22it/s]\u001b[A\u001b[A\u001b[A\n",
            "\n",
            "\n",
            "regularization_factors, val_score: 1.063683:  90%|######### | 18/20 [00:15<00:01,  1.22it/s]\u001b[A\u001b[A\u001b[A\u001b[32m[I 2020-05-17 07:36:02,202]\u001b[0m Finished trial#60 with value: 1.0645131453098051 with parameters: {'lambda_l1': 0.0005503745736730356, 'lambda_l2': 0.003144769765319427}. Best is trial#59 with value: 1.0636828262740703.\u001b[0m\n",
            "\n",
            "\n",
            "\n",
            "regularization_factors, val_score: 1.063683:  90%|######### | 18/20 [00:15<00:01,  1.22it/s]\u001b[A\u001b[A\u001b[A"
          ],
          "name": "stderr"
        },
        {
          "output_type": "stream",
          "text": [
            "[100]\ttraining's rmse: 0.865513\tvalid_1's rmse: 1.06701\n",
            "Early stopping, best iteration is:\n",
            "[62]\ttraining's rmse: 0.927519\tvalid_1's rmse: 1.06451\n",
            "Training until validation scores don't improve for 50 rounds.\n"
          ],
          "name": "stdout"
        },
        {
          "output_type": "stream",
          "text": [
            "\n",
            "\n",
            "\n",
            "regularization_factors, val_score: 1.063683:  90%|######### | 18/20 [00:15<00:01,  1.22it/s]\u001b[A\u001b[A\u001b[A\n",
            "\n",
            "\n",
            "regularization_factors, val_score: 1.063683:  95%|#########5| 19/20 [00:15<00:00,  1.22it/s]\u001b[A\u001b[A\u001b[A\u001b[32m[I 2020-05-17 07:36:03,024]\u001b[0m Finished trial#61 with value: 1.0645129721723656 with parameters: {'lambda_l1': 0.005259025871624937, 'lambda_l2': 1.1723658376968341e-05}. Best is trial#59 with value: 1.0636828262740703.\u001b[0m\n",
            "\n",
            "\n",
            "\n",
            "regularization_factors, val_score: 1.063683:  95%|#########5| 19/20 [00:16<00:00,  1.22it/s]\u001b[A\u001b[A\u001b[A"
          ],
          "name": "stderr"
        },
        {
          "output_type": "stream",
          "text": [
            "[100]\ttraining's rmse: 0.866271\tvalid_1's rmse: 1.06711\n",
            "Early stopping, best iteration is:\n",
            "[62]\ttraining's rmse: 0.927529\tvalid_1's rmse: 1.06451\n",
            "Training until validation scores don't improve for 50 rounds.\n"
          ],
          "name": "stdout"
        },
        {
          "output_type": "stream",
          "text": [
            "\n",
            "\n",
            "\n",
            "regularization_factors, val_score: 1.063683:  95%|#########5| 19/20 [00:16<00:00,  1.22it/s]\u001b[A\u001b[A\u001b[A\n",
            "\n",
            "\n",
            "regularization_factors, val_score: 1.063683: 100%|##########| 20/20 [00:16<00:00,  1.23it/s]\u001b[A\u001b[A\u001b[A\u001b[32m[I 2020-05-17 07:36:03,834]\u001b[0m Finished trial#62 with value: 1.063682840704625 with parameters: {'lambda_l1': 0.0001580880818558902, 'lambda_l2': 4.225533152939255e-06}. Best is trial#59 with value: 1.0636828262740703.\u001b[0m\n",
            "regularization_factors, val_score: 1.063683: 100%|##########| 20/20 [00:16<00:00,  1.19it/s]\n",
            "\n",
            "\n",
            "\n",
            "  0%|          | 0/5 [00:00<?, ?it/s]\u001b[A\u001b[A\u001b[A\n",
            "\n",
            "\n"
          ],
          "name": "stderr"
        },
        {
          "output_type": "stream",
          "text": [
            "[100]\ttraining's rmse: 0.866912\tvalid_1's rmse: 1.06784\n",
            "Early stopping, best iteration is:\n",
            "[66]\ttraining's rmse: 0.919996\tvalid_1's rmse: 1.06368\n"
          ],
          "name": "stdout"
        },
        {
          "output_type": "stream",
          "text": [
            "\rmin_data_in_leaf, val_score: 1.063683:   0%|          | 0/5 [00:00<?, ?it/s]\u001b[A\u001b[A\u001b[A/usr/local/lib/python3.6/dist-packages/lightgbm/engine.py:118: UserWarning:\n",
            "\n",
            "Found `num_rounds` in params. Will use it instead of argument\n",
            "\n"
          ],
          "name": "stderr"
        },
        {
          "output_type": "stream",
          "text": [
            "Training until validation scores don't improve for 50 rounds.\n"
          ],
          "name": "stdout"
        },
        {
          "output_type": "stream",
          "text": [
            "\n",
            "\n",
            "\n",
            "min_data_in_leaf, val_score: 1.063683:   0%|          | 0/5 [00:00<?, ?it/s]\u001b[A\u001b[A\u001b[A\n",
            "\n",
            "\n",
            "min_data_in_leaf, val_score: 1.063683:  20%|##        | 1/5 [00:00<00:02,  1.40it/s]\u001b[A\u001b[A\u001b[A"
          ],
          "name": "stderr"
        },
        {
          "output_type": "stream",
          "text": [
            "[100]\ttraining's rmse: 0.882081\tvalid_1's rmse: 1.06857\n",
            "Early stopping, best iteration is:\n",
            "[70]\ttraining's rmse: 0.926403\tvalid_1's rmse: 1.06524\n"
          ],
          "name": "stdout"
        },
        {
          "output_type": "stream",
          "text": [
            "\u001b[32m[I 2020-05-17 07:36:04,667]\u001b[0m Finished trial#63 with value: 1.06524166750209 with parameters: {'min_child_samples': 100}. Best is trial#63 with value: 1.06524166750209.\u001b[0m\n",
            "\n",
            "\n",
            "\n",
            "min_data_in_leaf, val_score: 1.063683:  20%|##        | 1/5 [00:00<00:02,  1.40it/s]\u001b[A\u001b[A\u001b[A"
          ],
          "name": "stderr"
        },
        {
          "output_type": "stream",
          "text": [
            "Training until validation scores don't improve for 50 rounds.\n"
          ],
          "name": "stdout"
        },
        {
          "output_type": "stream",
          "text": [
            "\n",
            "\n",
            "\n",
            "min_data_in_leaf, val_score: 1.063683:  20%|##        | 1/5 [00:01<00:02,  1.40it/s]\u001b[A\u001b[A\u001b[A\n",
            "\n",
            "\n",
            "min_data_in_leaf, val_score: 1.063683:  40%|####      | 2/5 [00:01<00:02,  1.37it/s]\u001b[A\u001b[A\u001b[A\u001b[32m[I 2020-05-17 07:36:05,418]\u001b[0m Finished trial#64 with value: 1.0692877586313285 with parameters: {'min_child_samples': 50}. Best is trial#63 with value: 1.06524166750209.\u001b[0m\n",
            "\n",
            "\n",
            "\n",
            "min_data_in_leaf, val_score: 1.063683:  40%|####      | 2/5 [00:01<00:02,  1.37it/s]\u001b[A\u001b[A\u001b[A"
          ],
          "name": "stderr"
        },
        {
          "output_type": "stream",
          "text": [
            "[100]\ttraining's rmse: 0.874677\tvalid_1's rmse: 1.07336\n",
            "Early stopping, best iteration is:\n",
            "[56]\ttraining's rmse: 0.944856\tvalid_1's rmse: 1.06929\n",
            "Training until validation scores don't improve for 50 rounds.\n"
          ],
          "name": "stdout"
        },
        {
          "output_type": "stream",
          "text": [
            "\n",
            "\n",
            "\n",
            "min_data_in_leaf, val_score: 1.063683:  40%|####      | 2/5 [00:02<00:02,  1.37it/s]\u001b[A\u001b[A\u001b[A\n",
            "\n",
            "\n",
            "min_data_in_leaf, val_score: 1.063683:  60%|######    | 3/5 [00:02<00:01,  1.30it/s]\u001b[A\u001b[A\u001b[A"
          ],
          "name": "stderr"
        },
        {
          "output_type": "stream",
          "text": [
            "[100]\ttraining's rmse: 0.86317\tvalid_1's rmse: 1.07205\n",
            "Early stopping, best iteration is:\n",
            "[68]\ttraining's rmse: 0.915023\tvalid_1's rmse: 1.06878\n"
          ],
          "name": "stdout"
        },
        {
          "output_type": "stream",
          "text": [
            "\u001b[32m[I 2020-05-17 07:36:06,283]\u001b[0m Finished trial#65 with value: 1.0687843546501672 with parameters: {'min_child_samples': 10}. Best is trial#63 with value: 1.06524166750209.\u001b[0m\n",
            "\n",
            "\n",
            "\n",
            "min_data_in_leaf, val_score: 1.063683:  60%|######    | 3/5 [00:02<00:01,  1.30it/s]\u001b[A\u001b[A\u001b[A"
          ],
          "name": "stderr"
        },
        {
          "output_type": "stream",
          "text": [
            "Training until validation scores don't improve for 50 rounds.\n"
          ],
          "name": "stdout"
        },
        {
          "output_type": "stream",
          "text": [
            "\n",
            "\n",
            "\n",
            "min_data_in_leaf, val_score: 1.063683:  60%|######    | 3/5 [00:03<00:01,  1.30it/s]\u001b[A\u001b[A\u001b[A\n",
            "\n",
            "\n",
            "min_data_in_leaf, val_score: 1.063683:  80%|########  | 4/5 [00:03<00:00,  1.26it/s]\u001b[A\u001b[A\u001b[A\u001b[32m[I 2020-05-17 07:36:07,142]\u001b[0m Finished trial#66 with value: 1.0687984733418983 with parameters: {'min_child_samples': 5}. Best is trial#63 with value: 1.06524166750209.\u001b[0m\n",
            "\n",
            "\n",
            "\n",
            "min_data_in_leaf, val_score: 1.063683:  80%|########  | 4/5 [00:03<00:00,  1.26it/s]\u001b[A\u001b[A\u001b[A"
          ],
          "name": "stderr"
        },
        {
          "output_type": "stream",
          "text": [
            "[100]\ttraining's rmse: 0.860976\tvalid_1's rmse: 1.07241\n",
            "Early stopping, best iteration is:\n",
            "[62]\ttraining's rmse: 0.923301\tvalid_1's rmse: 1.0688\n",
            "Training until validation scores don't improve for 50 rounds.\n"
          ],
          "name": "stdout"
        },
        {
          "output_type": "stream",
          "text": [
            "\n",
            "\n",
            "\n",
            "min_data_in_leaf, val_score: 1.063683:  80%|########  | 4/5 [00:04<00:00,  1.26it/s]\u001b[A\u001b[A\u001b[A\n",
            "\n",
            "\n",
            "min_data_in_leaf, val_score: 1.063683: 100%|##########| 5/5 [00:04<00:00,  1.20it/s]\u001b[A\u001b[A\u001b[A\u001b[32m[I 2020-05-17 07:36:08,064]\u001b[0m Finished trial#67 with value: 1.0689961083942225 with parameters: {'min_child_samples': 25}. Best is trial#63 with value: 1.06524166750209.\u001b[0m\n"
          ],
          "name": "stderr"
        },
        {
          "output_type": "stream",
          "text": [
            "[100]\ttraining's rmse: 0.869244\tvalid_1's rmse: 1.07066\n",
            "Early stopping, best iteration is:\n",
            "[87]\ttraining's rmse: 0.88805\tvalid_1's rmse: 1.069\n"
          ],
          "name": "stdout"
        },
        {
          "output_type": "stream",
          "text": [
            "\rmin_data_in_leaf, val_score: 1.063683: 100%|##########| 5/5 [00:04<00:00,  1.18it/s]\n"
          ],
          "name": "stderr"
        },
        {
          "output_type": "stream",
          "text": [
            "Training until validation scores don't improve for 50 rounds.\n",
            "[100]\ttraining's rmse: 0.866869\tvalid_1's rmse: 1.06783\n",
            "Early stopping, best iteration is:\n",
            "[66]\ttraining's rmse: 0.919997\tvalid_1's rmse: 1.06368\n"
          ],
          "name": "stdout"
        },
        {
          "output_type": "stream",
          "text": [
            "/usr/local/lib/python3.6/dist-packages/optuna/_experimental.py:90: ExperimentalWarning:\n",
            "\n",
            "train is experimental (supported from v0.18.0). The interface can change in the future.\n",
            "\n",
            "\n",
            "\n",
            "\n",
            "  0%|          | 0/7 [00:00<?, ?it/s]\u001b[A\u001b[A\u001b[A\n",
            "\n",
            "\n",
            "feature_fraction, val_score: inf:   0%|          | 0/7 [00:00<?, ?it/s]\u001b[A\u001b[A\u001b[A"
          ],
          "name": "stderr"
        },
        {
          "output_type": "stream",
          "text": [
            "Train LGB\n"
          ],
          "name": "stdout"
        },
        {
          "output_type": "stream",
          "text": [
            "/usr/local/lib/python3.6/dist-packages/lightgbm/engine.py:118: UserWarning:\n",
            "\n",
            "Found `num_rounds` in params. Will use it instead of argument\n",
            "\n",
            "/usr/local/lib/python3.6/dist-packages/lightgbm/basic.py:762: UserWarning:\n",
            "\n",
            "categorical_feature in param dict is overridden.\n",
            "\n"
          ],
          "name": "stderr"
        },
        {
          "output_type": "stream",
          "text": [
            "Training until validation scores don't improve for 50 rounds.\n"
          ],
          "name": "stdout"
        },
        {
          "output_type": "stream",
          "text": [
            "\n",
            "\n",
            "\n",
            "feature_fraction, val_score: 1.076589:   0%|          | 0/7 [00:24<?, ?it/s]\u001b[A\u001b[A\u001b[A\n",
            "\n",
            "\n",
            "feature_fraction, val_score: 1.076589:  14%|#4        | 1/7 [00:24<02:24, 24.09s/it]\u001b[A\u001b[A\u001b[A\u001b[32m[I 2020-05-17 07:36:37,581]\u001b[0m Finished trial#0 with value: 1.0765887611977356 with parameters: {'feature_fraction': 0.8999999999999999}. Best is trial#0 with value: 1.0765887611977356.\u001b[0m\n",
            "\n",
            "\n",
            "\n",
            "feature_fraction, val_score: 1.076589:  14%|#4        | 1/7 [00:24<02:24, 24.09s/it]\u001b[A\u001b[A\u001b[A"
          ],
          "name": "stderr"
        },
        {
          "output_type": "stream",
          "text": [
            "Early stopping, best iteration is:\n",
            "[41]\ttraining's rmse: 0.910185\tvalid_1's rmse: 1.07659\n",
            "Training until validation scores don't improve for 50 rounds.\n",
            "[100]\ttraining's rmse: 0.757373\tvalid_1's rmse: 1.08235\n"
          ],
          "name": "stdout"
        },
        {
          "output_type": "stream",
          "text": [
            "\n",
            "\n",
            "\n",
            "feature_fraction, val_score: 1.076589:  14%|#4        | 1/7 [00:38<02:24, 24.09s/it]\u001b[A\u001b[A\u001b[A\n",
            "\n",
            "\n",
            "feature_fraction, val_score: 1.076589:  29%|##8       | 2/7 [00:38<01:46, 21.32s/it]\u001b[A\u001b[A\u001b[A\u001b[32m[I 2020-05-17 07:36:52,440]\u001b[0m Finished trial#1 with value: 1.081102247654107 with parameters: {'feature_fraction': 0.5}. Best is trial#0 with value: 1.0765887611977356.\u001b[0m\n",
            "\n",
            "\n",
            "\n",
            "feature_fraction, val_score: 1.076589:  29%|##8       | 2/7 [00:39<01:46, 21.32s/it]\u001b[A\u001b[A\u001b[A"
          ],
          "name": "stderr"
        },
        {
          "output_type": "stream",
          "text": [
            "Early stopping, best iteration is:\n",
            "[63]\ttraining's rmse: 0.850229\tvalid_1's rmse: 1.0811\n",
            "Training until validation scores don't improve for 50 rounds.\n",
            "[100]\ttraining's rmse: 0.748215\tvalid_1's rmse: 1.08183\n"
          ],
          "name": "stdout"
        },
        {
          "output_type": "stream",
          "text": [
            "\n",
            "\n",
            "\n",
            "feature_fraction, val_score: 1.076589:  29%|##8       | 2/7 [00:58<01:46, 21.32s/it]\u001b[A\u001b[A\u001b[A\n",
            "\n",
            "\n",
            "feature_fraction, val_score: 1.076589:  43%|####2     | 3/7 [00:58<01:23, 20.77s/it]\u001b[A\u001b[A\u001b[A\u001b[32m[I 2020-05-17 07:37:11,932]\u001b[0m Finished trial#2 with value: 1.0808844056612539 with parameters: {'feature_fraction': 0.7}. Best is trial#0 with value: 1.0765887611977356.\u001b[0m\n",
            "\n",
            "\n",
            "\n",
            "feature_fraction, val_score: 1.076589:  43%|####2     | 3/7 [00:58<01:23, 20.77s/it]\u001b[A\u001b[A\u001b[A"
          ],
          "name": "stderr"
        },
        {
          "output_type": "stream",
          "text": [
            "Early stopping, best iteration is:\n",
            "[58]\ttraining's rmse: 0.857303\tvalid_1's rmse: 1.08088\n",
            "Training until validation scores don't improve for 50 rounds.\n",
            "[100]\ttraining's rmse: 0.753555\tvalid_1's rmse: 1.07775\n"
          ],
          "name": "stdout"
        },
        {
          "output_type": "stream",
          "text": [
            "\n",
            "\n",
            "\n",
            "feature_fraction, val_score: 1.075399:  43%|####2     | 3/7 [01:15<01:23, 20.77s/it]\u001b[A\u001b[A\u001b[A\n",
            "\n",
            "\n",
            "feature_fraction, val_score: 1.075399:  57%|#####7    | 4/7 [01:15<00:58, 19.55s/it]\u001b[A\u001b[A\u001b[A\u001b[32m[I 2020-05-17 07:37:28,643]\u001b[0m Finished trial#3 with value: 1.0753985325160924 with parameters: {'feature_fraction': 0.6}. Best is trial#3 with value: 1.0753985325160924.\u001b[0m\n",
            "\n",
            "\n",
            "\n",
            "feature_fraction, val_score: 1.075399:  57%|#####7    | 4/7 [01:15<00:58, 19.55s/it]\u001b[A\u001b[A\u001b[A"
          ],
          "name": "stderr"
        },
        {
          "output_type": "stream",
          "text": [
            "Early stopping, best iteration is:\n",
            "[58]\ttraining's rmse: 0.862135\tvalid_1's rmse: 1.0754\n",
            "Training until validation scores don't improve for 50 rounds.\n",
            "[100]\ttraining's rmse: 0.742382\tvalid_1's rmse: 1.0805\n"
          ],
          "name": "stdout"
        },
        {
          "output_type": "stream",
          "text": [
            "\n",
            "\n",
            "\n",
            "feature_fraction, val_score: 1.075399:  57%|#####7    | 4/7 [01:41<00:58, 19.55s/it]\u001b[A\u001b[A\u001b[A\n",
            "\n",
            "\n",
            "feature_fraction, val_score: 1.075399:  71%|#######1  | 5/7 [01:41<00:43, 21.56s/it]\u001b[A\u001b[A\u001b[A\u001b[32m[I 2020-05-17 07:37:54,883]\u001b[0m Finished trial#4 with value: 1.0756976075289901 with parameters: {'feature_fraction': 1.0}. Best is trial#3 with value: 1.0753985325160924.\u001b[0m\n",
            "\n",
            "\n",
            "\n",
            "feature_fraction, val_score: 1.075399:  71%|#######1  | 5/7 [01:41<00:43, 21.56s/it]\u001b[A\u001b[A\u001b[A"
          ],
          "name": "stderr"
        },
        {
          "output_type": "stream",
          "text": [
            "Early stopping, best iteration is:\n",
            "[54]\ttraining's rmse: 0.865039\tvalid_1's rmse: 1.0757\n",
            "Training until validation scores don't improve for 50 rounds.\n",
            "[100]\ttraining's rmse: 0.761887\tvalid_1's rmse: 1.08473\n"
          ],
          "name": "stdout"
        },
        {
          "output_type": "stream",
          "text": [
            "\n",
            "\n",
            "\n",
            "feature_fraction, val_score: 1.075399:  71%|#######1  | 5/7 [01:53<00:43, 21.56s/it]\u001b[A\u001b[A\u001b[A\n",
            "\n",
            "\n",
            "feature_fraction, val_score: 1.075399:  86%|########5 | 6/7 [01:53<00:18, 18.74s/it]\u001b[A\u001b[A\u001b[A\u001b[32m[I 2020-05-17 07:38:07,056]\u001b[0m Finished trial#5 with value: 1.0815806721868777 with parameters: {'feature_fraction': 0.4}. Best is trial#3 with value: 1.0753985325160924.\u001b[0m\n",
            "\n",
            "\n",
            "\n",
            "feature_fraction, val_score: 1.075399:  86%|########5 | 6/7 [01:53<00:18, 18.74s/it]\u001b[A\u001b[A\u001b[A"
          ],
          "name": "stderr"
        },
        {
          "output_type": "stream",
          "text": [
            "Early stopping, best iteration is:\n",
            "[65]\ttraining's rmse: 0.850761\tvalid_1's rmse: 1.08158\n",
            "Training until validation scores don't improve for 50 rounds.\n",
            "[100]\ttraining's rmse: 0.747592\tvalid_1's rmse: 1.0783\n"
          ],
          "name": "stdout"
        },
        {
          "output_type": "stream",
          "text": [
            "\n",
            "\n",
            "\n",
            "feature_fraction, val_score: 1.075399:  86%|########5 | 6/7 [02:16<00:18, 18.74s/it]\u001b[A\u001b[A\u001b[A\n",
            "\n",
            "\n",
            "feature_fraction, val_score: 1.075399: 100%|##########| 7/7 [02:16<00:00, 19.94s/it]\u001b[A\u001b[A\u001b[A\u001b[32m[I 2020-05-17 07:38:29,802]\u001b[0m Finished trial#6 with value: 1.0762243607874888 with parameters: {'feature_fraction': 0.8}. Best is trial#3 with value: 1.0753985325160924.\u001b[0m\n",
            "feature_fraction, val_score: 1.075399: 100%|##########| 7/7 [02:16<00:00, 19.49s/it]\n",
            "\n",
            "\n",
            "\n",
            "  0%|          | 0/20 [00:00<?, ?it/s]\u001b[A\u001b[A\u001b[A\n",
            "\n",
            "\n",
            "num_leaves, val_score: 1.075399:   0%|          | 0/20 [00:00<?, ?it/s]\u001b[A\u001b[A\u001b[A"
          ],
          "name": "stderr"
        },
        {
          "output_type": "stream",
          "text": [
            "Early stopping, best iteration is:\n",
            "[62]\ttraining's rmse: 0.846313\tvalid_1's rmse: 1.07622\n",
            "Training until validation scores don't improve for 50 rounds.\n"
          ],
          "name": "stdout"
        },
        {
          "output_type": "stream",
          "text": [
            "\n",
            "\n",
            "\n",
            "num_leaves, val_score: 1.075399:   0%|          | 0/20 [01:17<?, ?it/s]\u001b[A\u001b[A\u001b[A\n",
            "\n",
            "\n",
            "num_leaves, val_score: 1.075399:   5%|5         | 1/20 [01:17<24:31, 77.47s/it]\u001b[A\u001b[A\u001b[A"
          ],
          "name": "stderr"
        },
        {
          "output_type": "stream",
          "text": [
            "Early stopping, best iteration is:\n",
            "[38]\ttraining's rmse: 0.445625\tvalid_1's rmse: 1.09671\n"
          ],
          "name": "stdout"
        },
        {
          "output_type": "stream",
          "text": [
            "\u001b[32m[I 2020-05-17 07:39:47,380]\u001b[0m Finished trial#7 with value: 1.096714934876859 with parameters: {'num_leaves': 218}. Best is trial#7 with value: 1.096714934876859.\u001b[0m\n",
            "\n",
            "\n",
            "\n",
            "num_leaves, val_score: 1.075399:   5%|5         | 1/20 [01:17<24:31, 77.47s/it]\u001b[A\u001b[A\u001b[A"
          ],
          "name": "stderr"
        },
        {
          "output_type": "stream",
          "text": [
            "Training until validation scores don't improve for 50 rounds.\n"
          ],
          "name": "stdout"
        },
        {
          "output_type": "stream",
          "text": [
            "\n",
            "\n",
            "\n",
            "num_leaves, val_score: 1.075399:   5%|5         | 1/20 [01:50<24:31, 77.47s/it]\u001b[A\u001b[A\u001b[A\n",
            "\n",
            "\n",
            "num_leaves, val_score: 1.075399:  10%|#         | 2/20 [01:50<19:15, 64.20s/it]\u001b[A\u001b[A\u001b[A\u001b[32m[I 2020-05-17 07:40:20,624]\u001b[0m Finished trial#8 with value: 1.0802306779583866 with parameters: {'num_leaves': 87}. Best is trial#8 with value: 1.0802306779583866.\u001b[0m\n",
            "\n",
            "\n",
            "\n",
            "num_leaves, val_score: 1.075399:  10%|#         | 2/20 [01:50<19:15, 64.20s/it]\u001b[A\u001b[A\u001b[A"
          ],
          "name": "stderr"
        },
        {
          "output_type": "stream",
          "text": [
            "Early stopping, best iteration is:\n",
            "[38]\ttraining's rmse: 0.722632\tvalid_1's rmse: 1.08023\n",
            "Training until validation scores don't improve for 50 rounds.\n"
          ],
          "name": "stdout"
        },
        {
          "output_type": "stream",
          "text": [
            "\n",
            "\n",
            "\n",
            "num_leaves, val_score: 1.075399:  10%|#         | 2/20 [02:14<19:15, 64.20s/it]\u001b[A\u001b[A\u001b[A\n",
            "\n",
            "\n",
            "num_leaves, val_score: 1.075399:  15%|#5        | 3/20 [02:14<14:47, 52.21s/it]\u001b[A\u001b[A\u001b[A\u001b[32m[I 2020-05-17 07:40:44,886]\u001b[0m Finished trial#9 with value: 1.0818054621436237 with parameters: {'num_leaves': 59}. Best is trial#8 with value: 1.0802306779583866.\u001b[0m\n",
            "\n",
            "\n",
            "\n",
            "num_leaves, val_score: 1.075399:  15%|#5        | 3/20 [02:15<14:47, 52.21s/it]\u001b[A\u001b[A\u001b[A"
          ],
          "name": "stderr"
        },
        {
          "output_type": "stream",
          "text": [
            "Early stopping, best iteration is:\n",
            "[38]\ttraining's rmse: 0.813869\tvalid_1's rmse: 1.08181\n",
            "Training until validation scores don't improve for 50 rounds.\n"
          ],
          "name": "stdout"
        },
        {
          "output_type": "stream",
          "text": [
            "\n",
            "\n",
            "\n",
            "num_leaves, val_score: 1.075399:  15%|#5        | 3/20 [03:21<14:47, 52.21s/it]\u001b[A\u001b[A\u001b[A\n",
            "\n",
            "\n",
            "num_leaves, val_score: 1.075399:  20%|##        | 4/20 [03:21<15:02, 56.39s/it]\u001b[A\u001b[A\u001b[A"
          ],
          "name": "stderr"
        },
        {
          "output_type": "stream",
          "text": [
            "Early stopping, best iteration is:\n",
            "[28]\ttraining's rmse: 0.541879\tvalid_1's rmse: 1.09567\n"
          ],
          "name": "stdout"
        },
        {
          "output_type": "stream",
          "text": [
            "\u001b[32m[I 2020-05-17 07:41:51,006]\u001b[0m Finished trial#10 with value: 1.095674414097418 with parameters: {'num_leaves': 227}. Best is trial#8 with value: 1.0802306779583866.\u001b[0m\n",
            "\n",
            "\n",
            "\n",
            "num_leaves, val_score: 1.075399:  20%|##        | 4/20 [03:21<15:02, 56.39s/it]\u001b[A\u001b[A\u001b[A"
          ],
          "name": "stderr"
        },
        {
          "output_type": "stream",
          "text": [
            "Training until validation scores don't improve for 50 rounds.\n"
          ],
          "name": "stdout"
        },
        {
          "output_type": "stream",
          "text": [
            "\n",
            "\n",
            "\n",
            "num_leaves, val_score: 1.075399:  20%|##        | 4/20 [04:25<15:02, 56.39s/it]\u001b[A\u001b[A\u001b[A\n",
            "\n",
            "\n",
            "num_leaves, val_score: 1.075399:  25%|##5       | 5/20 [04:25<14:41, 58.75s/it]\u001b[A\u001b[A\u001b[A"
          ],
          "name": "stderr"
        },
        {
          "output_type": "stream",
          "text": [
            "Early stopping, best iteration is:\n",
            "[31]\ttraining's rmse: 0.531055\tvalid_1's rmse: 1.08453\n"
          ],
          "name": "stdout"
        },
        {
          "output_type": "stream",
          "text": [
            "\u001b[32m[I 2020-05-17 07:42:55,273]\u001b[0m Finished trial#11 with value: 1.0845265951147134 with parameters: {'num_leaves': 209}. Best is trial#8 with value: 1.0802306779583866.\u001b[0m\n",
            "\n",
            "\n",
            "\n",
            "num_leaves, val_score: 1.075399:  25%|##5       | 5/20 [04:25<14:41, 58.75s/it]\u001b[A\u001b[A\u001b[A"
          ],
          "name": "stderr"
        },
        {
          "output_type": "stream",
          "text": [
            "Training until validation scores don't improve for 50 rounds.\n"
          ],
          "name": "stdout"
        },
        {
          "output_type": "stream",
          "text": [
            "\n",
            "\n",
            "\n",
            "num_leaves, val_score: 1.075399:  25%|##5       | 5/20 [04:42<14:41, 58.75s/it]\u001b[A\u001b[A\u001b[A\n",
            "\n",
            "\n",
            "num_leaves, val_score: 1.075399:  30%|###       | 6/20 [04:42<10:46, 46.17s/it]\u001b[A\u001b[A\u001b[A\u001b[32m[I 2020-05-17 07:43:12,083]\u001b[0m Finished trial#12 with value: 1.0758041007735457 with parameters: {'num_leaves': 40}. Best is trial#12 with value: 1.0758041007735457.\u001b[0m\n",
            "\n",
            "\n",
            "\n",
            "num_leaves, val_score: 1.075399:  30%|###       | 6/20 [04:42<10:46, 46.17s/it]\u001b[A\u001b[A\u001b[A"
          ],
          "name": "stderr"
        },
        {
          "output_type": "stream",
          "text": [
            "Early stopping, best iteration is:\n",
            "[37]\ttraining's rmse: 0.89096\tvalid_1's rmse: 1.0758\n",
            "Training until validation scores don't improve for 50 rounds.\n"
          ],
          "name": "stdout"
        },
        {
          "output_type": "stream",
          "text": [
            "\n",
            "\n",
            "\n",
            "num_leaves, val_score: 1.075399:  30%|###       | 6/20 [06:08<10:46, 46.17s/it]\u001b[A\u001b[A\u001b[A\n",
            "\n",
            "\n",
            "num_leaves, val_score: 1.075399:  35%|###5      | 7/20 [06:08<12:35, 58.12s/it]\u001b[A\u001b[A\u001b[A"
          ],
          "name": "stderr"
        },
        {
          "output_type": "stream",
          "text": [
            "Early stopping, best iteration is:\n",
            "[49]\ttraining's rmse: 0.326095\tvalid_1's rmse: 1.09572\n"
          ],
          "name": "stdout"
        },
        {
          "output_type": "stream",
          "text": [
            "\u001b[32m[I 2020-05-17 07:44:38,074]\u001b[0m Finished trial#13 with value: 1.0957190854881864 with parameters: {'num_leaves': 239}. Best is trial#12 with value: 1.0758041007735457.\u001b[0m\n",
            "\n",
            "\n",
            "\n",
            "num_leaves, val_score: 1.075399:  35%|###5      | 7/20 [06:08<12:35, 58.12s/it]\u001b[A\u001b[A\u001b[A"
          ],
          "name": "stderr"
        },
        {
          "output_type": "stream",
          "text": [
            "Training until validation scores don't improve for 50 rounds.\n"
          ],
          "name": "stdout"
        },
        {
          "output_type": "stream",
          "text": [
            "\n",
            "\n",
            "\n",
            "num_leaves, val_score: 1.075399:  35%|###5      | 7/20 [07:08<12:35, 58.12s/it]\u001b[A\u001b[A\u001b[A\n",
            "\n",
            "\n",
            "num_leaves, val_score: 1.075399:  40%|####      | 8/20 [07:08<11:43, 58.65s/it]\u001b[A\u001b[A\u001b[A\u001b[32m[I 2020-05-17 07:45:37,970]\u001b[0m Finished trial#14 with value: 1.095056904491447 with parameters: {'num_leaves': 169}. Best is trial#12 with value: 1.0758041007735457.\u001b[0m\n",
            "\n",
            "\n",
            "\n",
            "num_leaves, val_score: 1.075399:  40%|####      | 8/20 [07:08<11:43, 58.65s/it]\u001b[A\u001b[A\u001b[A"
          ],
          "name": "stderr"
        },
        {
          "output_type": "stream",
          "text": [
            "Early stopping, best iteration is:\n",
            "[42]\ttraining's rmse: 0.488752\tvalid_1's rmse: 1.09506\n",
            "Training until validation scores don't improve for 50 rounds.\n"
          ],
          "name": "stdout"
        },
        {
          "output_type": "stream",
          "text": [
            "\n",
            "\n",
            "\n",
            "num_leaves, val_score: 1.075399:  40%|####      | 8/20 [07:42<11:43, 58.65s/it]\u001b[A\u001b[A\u001b[A\n",
            "\n",
            "\n",
            "num_leaves, val_score: 1.075399:  45%|####5     | 9/20 [07:42<09:24, 51.33s/it]\u001b[A\u001b[A\u001b[A\u001b[32m[I 2020-05-17 07:46:12,218]\u001b[0m Finished trial#15 with value: 1.0874628576845233 with parameters: {'num_leaves': 95}. Best is trial#12 with value: 1.0758041007735457.\u001b[0m\n",
            "\n",
            "\n",
            "\n",
            "num_leaves, val_score: 1.075399:  45%|####5     | 9/20 [07:42<09:24, 51.33s/it]\u001b[A\u001b[A\u001b[A"
          ],
          "name": "stderr"
        },
        {
          "output_type": "stream",
          "text": [
            "Early stopping, best iteration is:\n",
            "[35]\ttraining's rmse: 0.723093\tvalid_1's rmse: 1.08746\n",
            "Training until validation scores don't improve for 50 rounds.\n"
          ],
          "name": "stdout"
        },
        {
          "output_type": "stream",
          "text": [
            "\n",
            "\n",
            "\n",
            "num_leaves, val_score: 1.075399:  45%|####5     | 9/20 [08:27<09:24, 51.33s/it]\u001b[A\u001b[A\u001b[A\n",
            "\n",
            "\n",
            "num_leaves, val_score: 1.075399:  50%|#####     | 10/20 [08:27<08:15, 49.51s/it]\u001b[A\u001b[A\u001b[A\u001b[32m[I 2020-05-17 07:46:57,478]\u001b[0m Finished trial#16 with value: 1.0894523375924543 with parameters: {'num_leaves': 145}. Best is trial#12 with value: 1.0758041007735457.\u001b[0m\n",
            "\n",
            "\n",
            "\n",
            "num_leaves, val_score: 1.075399:  50%|#####     | 10/20 [08:27<08:15, 49.51s/it]\u001b[A\u001b[A\u001b[A"
          ],
          "name": "stderr"
        },
        {
          "output_type": "stream",
          "text": [
            "Early stopping, best iteration is:\n",
            "[27]\ttraining's rmse: 0.684795\tvalid_1's rmse: 1.08945\n",
            "Training until validation scores don't improve for 50 rounds.\n",
            "[100]\ttraining's rmse: 1.05414\tvalid_1's rmse: 1.08362\n",
            "[200]\ttraining's rmse: 1.02915\tvalid_1's rmse: 1.07773\n",
            "[300]\ttraining's rmse: 1.01005\tvalid_1's rmse: 1.07698\n"
          ],
          "name": "stdout"
        },
        {
          "output_type": "stream",
          "text": [
            "\n",
            "\n",
            "\n",
            "num_leaves, val_score: 1.075399:  50%|#####     | 10/20 [08:34<08:15, 49.51s/it]\u001b[A\u001b[A\u001b[A\n",
            "\n",
            "\n",
            "num_leaves, val_score: 1.075399:  55%|#####5    | 11/20 [08:34<05:31, 36.81s/it]\u001b[A\u001b[A\u001b[A\u001b[32m[I 2020-05-17 07:47:04,664]\u001b[0m Finished trial#17 with value: 1.0767222521284485 with parameters: {'num_leaves': 3}. Best is trial#12 with value: 1.0758041007735457.\u001b[0m\n",
            "\n",
            "\n",
            "\n",
            "num_leaves, val_score: 1.075399:  55%|#####5    | 11/20 [08:34<05:31, 36.81s/it]\u001b[A\u001b[A\u001b[A"
          ],
          "name": "stderr"
        },
        {
          "output_type": "stream",
          "text": [
            "Early stopping, best iteration is:\n",
            "[297]\ttraining's rmse: 1.01054\tvalid_1's rmse: 1.07672\n",
            "Training until validation scores don't improve for 50 rounds.\n",
            "[100]\ttraining's rmse: 0.913108\tvalid_1's rmse: 1.07795\n"
          ],
          "name": "stdout"
        },
        {
          "output_type": "stream",
          "text": [
            "\n",
            "\n",
            "\n",
            "num_leaves, val_score: 1.075399:  55%|#####5    | 11/20 [08:46<05:31, 36.81s/it]\u001b[A\u001b[A\u001b[A\n",
            "\n",
            "\n",
            "num_leaves, val_score: 1.075399:  60%|######    | 12/20 [08:46<03:54, 29.36s/it]\u001b[A\u001b[A\u001b[A\u001b[32m[I 2020-05-17 07:47:16,649]\u001b[0m Finished trial#18 with value: 1.0768827686769873 with parameters: {'num_leaves': 14}. Best is trial#12 with value: 1.0758041007735457.\u001b[0m\n",
            "\n",
            "\n",
            "\n",
            "num_leaves, val_score: 1.075399:  60%|######    | 12/20 [08:46<03:54, 29.36s/it]\u001b[A\u001b[A\u001b[A"
          ],
          "name": "stderr"
        },
        {
          "output_type": "stream",
          "text": [
            "Early stopping, best iteration is:\n",
            "[106]\ttraining's rmse: 0.905539\tvalid_1's rmse: 1.07688\n",
            "Training until validation scores don't improve for 50 rounds.\n",
            "[100]\ttraining's rmse: 1.08049\tvalid_1's rmse: 1.09497\n",
            "[200]\ttraining's rmse: 1.06093\tvalid_1's rmse: 1.08565\n",
            "[300]\ttraining's rmse: 1.05039\tvalid_1's rmse: 1.08245\n",
            "[400]\ttraining's rmse: 1.04288\tvalid_1's rmse: 1.08175\n",
            "[500]\ttraining's rmse: 1.03671\tvalid_1's rmse: 1.0816\n"
          ],
          "name": "stdout"
        },
        {
          "output_type": "stream",
          "text": [
            "\n",
            "\n",
            "\n",
            "num_leaves, val_score: 1.075399:  60%|######    | 12/20 [08:53<03:54, 29.36s/it]\u001b[A\u001b[A\u001b[A\n",
            "\n",
            "\n",
            "num_leaves, val_score: 1.075399:  65%|######5   | 13/20 [08:53<02:38, 22.65s/it]\u001b[A\u001b[A\u001b[A\u001b[32m[I 2020-05-17 07:47:23,641]\u001b[0m Finished trial#19 with value: 1.081288676109625 with parameters: {'num_leaves': 2}. Best is trial#12 with value: 1.0758041007735457.\u001b[0m\n",
            "\n",
            "\n",
            "\n",
            "num_leaves, val_score: 1.075399:  65%|######5   | 13/20 [08:53<02:38, 22.65s/it]\u001b[A\u001b[A\u001b[A"
          ],
          "name": "stderr"
        },
        {
          "output_type": "stream",
          "text": [
            "Early stopping, best iteration is:\n",
            "[494]\ttraining's rmse: 1.03706\tvalid_1's rmse: 1.08129\n",
            "Training until validation scores don't improve for 50 rounds.\n"
          ],
          "name": "stdout"
        },
        {
          "output_type": "stream",
          "text": [
            "\n",
            "\n",
            "\n",
            "num_leaves, val_score: 1.075399:  65%|######5   | 13/20 [09:10<02:38, 22.65s/it]\u001b[A\u001b[A\u001b[A\n",
            "\n",
            "\n",
            "num_leaves, val_score: 1.075399:  70%|#######   | 14/20 [09:10<02:05, 20.85s/it]\u001b[A\u001b[A\u001b[A\u001b[32m[I 2020-05-17 07:47:40,296]\u001b[0m Finished trial#20 with value: 1.0765867085253458 with parameters: {'num_leaves': 35}. Best is trial#12 with value: 1.0758041007735457.\u001b[0m\n",
            "\n",
            "\n",
            "\n",
            "num_leaves, val_score: 1.075399:  70%|#######   | 14/20 [09:10<02:05, 20.85s/it]\u001b[A\u001b[A\u001b[A"
          ],
          "name": "stderr"
        },
        {
          "output_type": "stream",
          "text": [
            "Early stopping, best iteration is:\n",
            "[47]\ttraining's rmse: 0.874372\tvalid_1's rmse: 1.07659\n",
            "Training until validation scores don't improve for 50 rounds.\n",
            "[100]\ttraining's rmse: 0.695587\tvalid_1's rmse: 1.07667\n"
          ],
          "name": "stdout"
        },
        {
          "output_type": "stream",
          "text": [
            "\n",
            "\n",
            "\n",
            "num_leaves, val_score: 1.073545:  70%|#######   | 14/20 [09:32<02:05, 20.85s/it]\u001b[A\u001b[A\u001b[A\n",
            "\n",
            "\n",
            "num_leaves, val_score: 1.073545:  75%|#######5  | 15/20 [09:32<01:46, 21.28s/it]\u001b[A\u001b[A\u001b[A\u001b[32m[I 2020-05-17 07:48:02,565]\u001b[0m Finished trial#21 with value: 1.0735445058949353 with parameters: {'num_leaves': 38}. Best is trial#21 with value: 1.0735445058949353.\u001b[0m\n",
            "\n",
            "\n",
            "\n",
            "num_leaves, val_score: 1.073545:  75%|#######5  | 15/20 [09:32<01:46, 21.28s/it]\u001b[A\u001b[A\u001b[A"
          ],
          "name": "stderr"
        },
        {
          "output_type": "stream",
          "text": [
            "Early stopping, best iteration is:\n",
            "[74]\ttraining's rmse: 0.767815\tvalid_1's rmse: 1.07354\n",
            "Training until validation scores don't improve for 50 rounds.\n"
          ],
          "name": "stdout"
        },
        {
          "output_type": "stream",
          "text": [
            "\n",
            "\n",
            "\n",
            "num_leaves, val_score: 1.073545:  75%|#######5  | 15/20 [09:55<01:46, 21.28s/it]\u001b[A\u001b[A\u001b[A\n",
            "\n",
            "\n",
            "num_leaves, val_score: 1.073545:  80%|########  | 16/20 [09:55<01:27, 21.86s/it]\u001b[A\u001b[A\u001b[A\u001b[32m[I 2020-05-17 07:48:25,794]\u001b[0m Finished trial#22 with value: 1.0826955746367983 with parameters: {'num_leaves': 57}. Best is trial#21 with value: 1.0735445058949353.\u001b[0m\n",
            "\n",
            "\n",
            "\n",
            "num_leaves, val_score: 1.073545:  80%|########  | 16/20 [09:55<01:27, 21.86s/it]\u001b[A\u001b[A\u001b[A"
          ],
          "name": "stderr"
        },
        {
          "output_type": "stream",
          "text": [
            "Early stopping, best iteration is:\n",
            "[39]\ttraining's rmse: 0.815691\tvalid_1's rmse: 1.0827\n",
            "Training until validation scores don't improve for 50 rounds.\n"
          ],
          "name": "stdout"
        },
        {
          "output_type": "stream",
          "text": [
            "\n",
            "\n",
            "\n",
            "num_leaves, val_score: 1.073545:  80%|########  | 16/20 [10:30<01:27, 21.86s/it]\u001b[A\u001b[A\u001b[A\n",
            "\n",
            "\n",
            "num_leaves, val_score: 1.073545:  85%|########5 | 17/20 [10:30<01:16, 25.61s/it]\u001b[A\u001b[A\u001b[A\u001b[32m[I 2020-05-17 07:49:00,148]\u001b[0m Finished trial#23 with value: 1.0877770283457184 with parameters: {'num_leaves': 102}. Best is trial#21 with value: 1.0735445058949353.\u001b[0m\n",
            "\n",
            "\n",
            "\n",
            "num_leaves, val_score: 1.073545:  85%|########5 | 17/20 [10:30<01:16, 25.61s/it]\u001b[A\u001b[A\u001b[A"
          ],
          "name": "stderr"
        },
        {
          "output_type": "stream",
          "text": [
            "Early stopping, best iteration is:\n",
            "[29]\ttraining's rmse: 0.754075\tvalid_1's rmse: 1.08778\n",
            "Training until validation scores don't improve for 50 rounds.\n"
          ],
          "name": "stdout"
        },
        {
          "output_type": "stream",
          "text": [
            "\n",
            "\n",
            "\n",
            "num_leaves, val_score: 1.073545:  85%|########5 | 17/20 [10:47<01:16, 25.61s/it]\u001b[A\u001b[A\u001b[A\n",
            "\n",
            "\n",
            "num_leaves, val_score: 1.073545:  90%|######### | 18/20 [10:47<00:45, 22.99s/it]\u001b[A\u001b[A\u001b[A\u001b[32m[I 2020-05-17 07:49:17,037]\u001b[0m Finished trial#24 with value: 1.0758041007735457 with parameters: {'num_leaves': 40}. Best is trial#21 with value: 1.0735445058949353.\u001b[0m\n",
            "\n",
            "\n",
            "\n",
            "num_leaves, val_score: 1.073545:  90%|######### | 18/20 [10:47<00:45, 22.99s/it]\u001b[A\u001b[A\u001b[A"
          ],
          "name": "stderr"
        },
        {
          "output_type": "stream",
          "text": [
            "Early stopping, best iteration is:\n",
            "[37]\ttraining's rmse: 0.89096\tvalid_1's rmse: 1.0758\n",
            "Training until validation scores don't improve for 50 rounds.\n"
          ],
          "name": "stdout"
        },
        {
          "output_type": "stream",
          "text": [
            "\n",
            "\n",
            "\n",
            "num_leaves, val_score: 1.073545:  90%|######### | 18/20 [11:34<00:45, 22.99s/it]\u001b[A\u001b[A\u001b[A\n",
            "\n",
            "\n",
            "num_leaves, val_score: 1.073545:  95%|#########5| 19/20 [11:34<00:30, 30.27s/it]\u001b[A\u001b[A\u001b[A\u001b[32m[I 2020-05-17 07:50:04,295]\u001b[0m Finished trial#25 with value: 1.0883381252283097 with parameters: {'num_leaves': 122}. Best is trial#21 with value: 1.0735445058949353.\u001b[0m\n",
            "\n",
            "\n",
            "\n",
            "num_leaves, val_score: 1.073545:  95%|#########5| 19/20 [11:34<00:30, 30.27s/it]\u001b[A\u001b[A\u001b[A"
          ],
          "name": "stderr"
        },
        {
          "output_type": "stream",
          "text": [
            "Early stopping, best iteration is:\n",
            "[33]\ttraining's rmse: 0.669968\tvalid_1's rmse: 1.08834\n",
            "Training until validation scores don't improve for 50 rounds.\n",
            "[100]\ttraining's rmse: 0.761758\tvalid_1's rmse: 1.0797\n"
          ],
          "name": "stdout"
        },
        {
          "output_type": "stream",
          "text": [
            "\n",
            "\n",
            "\n",
            "num_leaves, val_score: 1.073545:  95%|#########5| 19/20 [11:50<00:30, 30.27s/it]\u001b[A\u001b[A\u001b[A\n",
            "\n",
            "\n",
            "num_leaves, val_score: 1.073545: 100%|##########| 20/20 [11:50<00:00, 26.09s/it]\u001b[A\u001b[A\u001b[A\u001b[32m[I 2020-05-17 07:50:20,635]\u001b[0m Finished trial#26 with value: 1.0757324853285632 with parameters: {'num_leaves': 30}. Best is trial#21 with value: 1.0735445058949353.\u001b[0m\n",
            "num_leaves, val_score: 1.073545: 100%|##########| 20/20 [11:50<00:00, 35.54s/it]\n",
            "\n",
            "\n",
            "\n",
            "  0%|          | 0/10 [00:00<?, ?it/s]\u001b[A\u001b[A\u001b[A\n",
            "\n",
            "\n",
            "bagging, val_score: 1.073545:   0%|          | 0/10 [00:00<?, ?it/s]\u001b[A\u001b[A\u001b[A"
          ],
          "name": "stderr"
        },
        {
          "output_type": "stream",
          "text": [
            "Early stopping, best iteration is:\n",
            "[61]\ttraining's rmse: 0.856294\tvalid_1's rmse: 1.07573\n",
            "Training until validation scores don't improve for 50 rounds.\n",
            "[100]\ttraining's rmse: 0.699633\tvalid_1's rmse: 1.08981\n"
          ],
          "name": "stdout"
        },
        {
          "output_type": "stream",
          "text": [
            "\n",
            "\n",
            "\n",
            "bagging, val_score: 1.073545:   0%|          | 0/10 [00:21<?, ?it/s]\u001b[A\u001b[A\u001b[A\n",
            "\n",
            "\n",
            "bagging, val_score: 1.073545:  10%|#         | 1/10 [00:21<03:11, 21.24s/it]\u001b[A\u001b[A\u001b[A\u001b[32m[I 2020-05-17 07:50:41,988]\u001b[0m Finished trial#27 with value: 1.085055016612084 with parameters: {'bagging_fraction': 0.7694779182413942, 'bagging_freq': 1}. Best is trial#27 with value: 1.085055016612084.\u001b[0m\n",
            "\n",
            "\n",
            "\n",
            "bagging, val_score: 1.073545:  10%|#         | 1/10 [00:21<03:11, 21.24s/it]\u001b[A\u001b[A\u001b[A"
          ],
          "name": "stderr"
        },
        {
          "output_type": "stream",
          "text": [
            "Early stopping, best iteration is:\n",
            "[69]\ttraining's rmse: 0.789203\tvalid_1's rmse: 1.08506\n",
            "Training until validation scores don't improve for 50 rounds.\n"
          ],
          "name": "stdout"
        },
        {
          "output_type": "stream",
          "text": [
            "\n",
            "\n",
            "\n",
            "bagging, val_score: 1.073545:  10%|#         | 1/10 [00:35<03:11, 21.24s/it]\u001b[A\u001b[A\u001b[A\n",
            "\n",
            "\n",
            "bagging, val_score: 1.073545:  20%|##        | 2/10 [00:35<02:32, 19.10s/it]\u001b[A\u001b[A\u001b[A\u001b[32m[I 2020-05-17 07:50:56,094]\u001b[0m Finished trial#28 with value: 1.0920055062393739 with parameters: {'bagging_fraction': 0.5103498108183036, 'bagging_freq': 2}. Best is trial#27 with value: 1.085055016612084.\u001b[0m\n",
            "\n",
            "\n",
            "\n",
            "bagging, val_score: 1.073545:  20%|##        | 2/10 [00:35<02:32, 19.10s/it]\u001b[A\u001b[A\u001b[A"
          ],
          "name": "stderr"
        },
        {
          "output_type": "stream",
          "text": [
            "Early stopping, best iteration is:\n",
            "[33]\ttraining's rmse: 0.930291\tvalid_1's rmse: 1.09201\n",
            "Training until validation scores don't improve for 50 rounds.\n"
          ],
          "name": "stdout"
        },
        {
          "output_type": "stream",
          "text": [
            "\n",
            "\n",
            "\n",
            "bagging, val_score: 1.073545:  20%|##        | 2/10 [00:52<02:32, 19.10s/it]\u001b[A\u001b[A\u001b[A\n",
            "\n",
            "\n",
            "bagging, val_score: 1.073545:  30%|###       | 3/10 [00:52<02:09, 18.47s/it]\u001b[A\u001b[A\u001b[A\u001b[32m[I 2020-05-17 07:51:13,104]\u001b[0m Finished trial#29 with value: 1.0905841605022168 with parameters: {'bagging_fraction': 0.60302987296661, 'bagging_freq': 1}. Best is trial#27 with value: 1.085055016612084.\u001b[0m\n",
            "\n",
            "\n",
            "\n",
            "bagging, val_score: 1.073545:  30%|###       | 3/10 [00:52<02:09, 18.47s/it]\u001b[A\u001b[A\u001b[A"
          ],
          "name": "stderr"
        },
        {
          "output_type": "stream",
          "text": [
            "Early stopping, best iteration is:\n",
            "[46]\ttraining's rmse: 0.875694\tvalid_1's rmse: 1.09058\n",
            "Training until validation scores don't improve for 50 rounds.\n"
          ],
          "name": "stdout"
        },
        {
          "output_type": "stream",
          "text": [
            "\n",
            "\n",
            "\n",
            "bagging, val_score: 1.073545:  30%|###       | 3/10 [01:09<02:09, 18.47s/it]\u001b[A\u001b[A\u001b[A\n",
            "\n",
            "\n",
            "bagging, val_score: 1.073545:  40%|####      | 4/10 [01:09<01:48, 18.13s/it]\u001b[A\u001b[A\u001b[A\u001b[32m[I 2020-05-17 07:51:30,422]\u001b[0m Finished trial#30 with value: 1.078966185538519 with parameters: {'bagging_fraction': 0.9904729871510269, 'bagging_freq': 2}. Best is trial#30 with value: 1.078966185538519.\u001b[0m\n",
            "\n",
            "\n",
            "\n",
            "bagging, val_score: 1.073545:  40%|####      | 4/10 [01:09<01:48, 18.13s/it]\u001b[A\u001b[A\u001b[A"
          ],
          "name": "stderr"
        },
        {
          "output_type": "stream",
          "text": [
            "Early stopping, best iteration is:\n",
            "[42]\ttraining's rmse: 0.878809\tvalid_1's rmse: 1.07897\n",
            "Training until validation scores don't improve for 50 rounds.\n"
          ],
          "name": "stdout"
        },
        {
          "output_type": "stream",
          "text": [
            "\n",
            "\n",
            "\n",
            "bagging, val_score: 1.073545:  40%|####      | 4/10 [01:22<01:48, 18.13s/it]\u001b[A\u001b[A\u001b[A\n",
            "\n",
            "\n",
            "bagging, val_score: 1.073545:  50%|#####     | 5/10 [01:22<01:22, 16.54s/it]\u001b[A\u001b[A\u001b[A\u001b[32m[I 2020-05-17 07:51:43,272]\u001b[0m Finished trial#31 with value: 1.0985907902771646 with parameters: {'bagging_fraction': 0.44190240836998884, 'bagging_freq': 4}. Best is trial#30 with value: 1.078966185538519.\u001b[0m\n",
            "\n",
            "\n",
            "\n",
            "bagging, val_score: 1.073545:  50%|#####     | 5/10 [01:22<01:22, 16.54s/it]\u001b[A\u001b[A\u001b[A"
          ],
          "name": "stderr"
        },
        {
          "output_type": "stream",
          "text": [
            "Early stopping, best iteration is:\n",
            "[28]\ttraining's rmse: 0.962578\tvalid_1's rmse: 1.09859\n",
            "Training until validation scores don't improve for 50 rounds.\n"
          ],
          "name": "stdout"
        },
        {
          "output_type": "stream",
          "text": [
            "\n",
            "\n",
            "\n",
            "bagging, val_score: 1.073545:  50%|#####     | 5/10 [01:38<01:22, 16.54s/it]\u001b[A\u001b[A\u001b[A\n",
            "\n",
            "\n",
            "bagging, val_score: 1.073545:  60%|######    | 6/10 [01:38<01:05, 16.28s/it]\u001b[A\u001b[A\u001b[A\u001b[32m[I 2020-05-17 07:51:58,939]\u001b[0m Finished trial#32 with value: 1.0868816371018593 with parameters: {'bagging_fraction': 0.597684049045006, 'bagging_freq': 2}. Best is trial#30 with value: 1.078966185538519.\u001b[0m\n",
            "\n",
            "\n",
            "\n",
            "bagging, val_score: 1.073545:  60%|######    | 6/10 [01:38<01:05, 16.28s/it]\u001b[A\u001b[A\u001b[A"
          ],
          "name": "stderr"
        },
        {
          "output_type": "stream",
          "text": [
            "Early stopping, best iteration is:\n",
            "[40]\ttraining's rmse: 0.896532\tvalid_1's rmse: 1.08688\n",
            "Training until validation scores don't improve for 50 rounds.\n",
            "[100]\ttraining's rmse: 0.695808\tvalid_1's rmse: 1.08336\n"
          ],
          "name": "stdout"
        },
        {
          "output_type": "stream",
          "text": [
            "\n",
            "\n",
            "\n",
            "bagging, val_score: 1.073545:  60%|######    | 6/10 [01:57<01:05, 16.28s/it]\u001b[A\u001b[A\u001b[A\n",
            "\n",
            "\n",
            "bagging, val_score: 1.073545:  70%|#######   | 7/10 [01:57<00:51, 17.04s/it]\u001b[A\u001b[A\u001b[A\u001b[32m[I 2020-05-17 07:52:17,764]\u001b[0m Finished trial#33 with value: 1.0786014857495443 with parameters: {'bagging_fraction': 0.9210538467723645, 'bagging_freq': 3}. Best is trial#33 with value: 1.0786014857495443.\u001b[0m\n",
            "\n",
            "\n",
            "\n",
            "bagging, val_score: 1.073545:  70%|#######   | 7/10 [01:57<00:51, 17.04s/it]\u001b[A\u001b[A\u001b[A"
          ],
          "name": "stderr"
        },
        {
          "output_type": "stream",
          "text": [
            "Early stopping, best iteration is:\n",
            "[53]\ttraining's rmse: 0.83748\tvalid_1's rmse: 1.0786\n",
            "Training until validation scores don't improve for 50 rounds.\n",
            "[100]\ttraining's rmse: 0.697357\tvalid_1's rmse: 1.08414\n"
          ],
          "name": "stdout"
        },
        {
          "output_type": "stream",
          "text": [
            "\n",
            "\n",
            "\n",
            "bagging, val_score: 1.073545:  70%|#######   | 7/10 [02:18<00:51, 17.04s/it]\u001b[A\u001b[A\u001b[A\n",
            "\n",
            "\n",
            "bagging, val_score: 1.073545:  80%|########  | 8/10 [02:18<00:37, 18.51s/it]\u001b[A\u001b[A\u001b[A\u001b[32m[I 2020-05-17 07:52:39,698]\u001b[0m Finished trial#34 with value: 1.0814905598341669 with parameters: {'bagging_fraction': 0.8993886446485626, 'bagging_freq': 2}. Best is trial#33 with value: 1.0786014857495443.\u001b[0m\n",
            "\n",
            "\n",
            "\n",
            "bagging, val_score: 1.073545:  80%|########  | 8/10 [02:19<00:37, 18.51s/it]\u001b[A\u001b[A\u001b[A"
          ],
          "name": "stderr"
        },
        {
          "output_type": "stream",
          "text": [
            "Early stopping, best iteration is:\n",
            "[71]\ttraining's rmse: 0.779412\tvalid_1's rmse: 1.08149\n",
            "Training until validation scores don't improve for 50 rounds.\n"
          ],
          "name": "stdout"
        },
        {
          "output_type": "stream",
          "text": [
            "\n",
            "\n",
            "\n",
            "bagging, val_score: 1.073545:  80%|########  | 8/10 [02:36<00:37, 18.51s/it]\u001b[A\u001b[A\u001b[A\n",
            "\n",
            "\n",
            "bagging, val_score: 1.073545:  90%|######### | 9/10 [02:36<00:18, 18.16s/it]\u001b[A\u001b[A\u001b[A\u001b[32m[I 2020-05-17 07:52:57,045]\u001b[0m Finished trial#35 with value: 1.0804331498020712 with parameters: {'bagging_fraction': 0.8115075835557325, 'bagging_freq': 3}. Best is trial#33 with value: 1.0786014857495443.\u001b[0m\n",
            "\n",
            "\n",
            "\n",
            "bagging, val_score: 1.073545:  90%|######### | 9/10 [02:36<00:18, 18.16s/it]\u001b[A\u001b[A\u001b[A"
          ],
          "name": "stderr"
        },
        {
          "output_type": "stream",
          "text": [
            "Early stopping, best iteration is:\n",
            "[46]\ttraining's rmse: 0.867105\tvalid_1's rmse: 1.08043\n",
            "Training until validation scores don't improve for 50 rounds.\n"
          ],
          "name": "stdout"
        },
        {
          "output_type": "stream",
          "text": [
            "\n",
            "\n",
            "\n",
            "bagging, val_score: 1.073545:  90%|######### | 9/10 [02:52<00:18, 18.16s/it]\u001b[A\u001b[A\u001b[A\n",
            "\n",
            "\n",
            "bagging, val_score: 1.073545: 100%|##########| 10/10 [02:52<00:00, 17.53s/it]\u001b[A\u001b[A\u001b[A\u001b[32m[I 2020-05-17 07:53:13,096]\u001b[0m Finished trial#36 with value: 1.0851516922981954 with parameters: {'bagging_fraction': 0.626748881065984, 'bagging_freq': 2}. Best is trial#33 with value: 1.0786014857495443.\u001b[0m\n",
            "bagging, val_score: 1.073545: 100%|##########| 10/10 [02:52<00:00, 17.25s/it]\n",
            "\n",
            "\n",
            "\n",
            "  0%|          | 0/6 [00:00<?, ?it/s]\u001b[A\u001b[A\u001b[A\n",
            "\n",
            "\n",
            "feature_fraction_stage2, val_score: 1.073545:   0%|          | 0/6 [00:00<?, ?it/s]\u001b[A\u001b[A\u001b[A"
          ],
          "name": "stderr"
        },
        {
          "output_type": "stream",
          "text": [
            "Early stopping, best iteration is:\n",
            "[42]\ttraining's rmse: 0.888815\tvalid_1's rmse: 1.08515\n"
          ],
          "name": "stdout"
        },
        {
          "output_type": "stream",
          "text": [
            "/usr/local/lib/python3.6/dist-packages/lightgbm/engine.py:118: UserWarning:\n",
            "\n",
            "Found `num_rounds` in params. Will use it instead of argument\n",
            "\n"
          ],
          "name": "stderr"
        },
        {
          "output_type": "stream",
          "text": [
            "Training until validation scores don't improve for 50 rounds.\n",
            "[100]\ttraining's rmse: 0.693241\tvalid_1's rmse: 1.08658\n"
          ],
          "name": "stdout"
        },
        {
          "output_type": "stream",
          "text": [
            "\n",
            "\n",
            "\n",
            "feature_fraction_stage2, val_score: 1.073545:   0%|          | 0/6 [00:19<?, ?it/s]\u001b[A\u001b[A\u001b[A\n",
            "\n",
            "\n",
            "feature_fraction_stage2, val_score: 1.073545:  17%|#6        | 1/6 [00:19<01:38, 19.62s/it]\u001b[A\u001b[A\u001b[A\u001b[32m[I 2020-05-17 07:53:32,821]\u001b[0m Finished trial#37 with value: 1.0821882798541738 with parameters: {'feature_fraction': 0.6479999999999999}. Best is trial#37 with value: 1.0821882798541738.\u001b[0m\n",
            "\n",
            "\n",
            "\n",
            "feature_fraction_stage2, val_score: 1.073545:  17%|#6        | 1/6 [00:19<01:38, 19.62s/it]\u001b[A\u001b[A\u001b[A"
          ],
          "name": "stderr"
        },
        {
          "output_type": "stream",
          "text": [
            "Early stopping, best iteration is:\n",
            "[52]\ttraining's rmse: 0.838371\tvalid_1's rmse: 1.08219\n",
            "Training until validation scores don't improve for 50 rounds.\n",
            "[100]\ttraining's rmse: 0.699431\tvalid_1's rmse: 1.08265\n"
          ],
          "name": "stdout"
        },
        {
          "output_type": "stream",
          "text": [
            "\n",
            "\n",
            "\n",
            "feature_fraction_stage2, val_score: 1.073545:  17%|#6        | 1/6 [00:40<01:38, 19.62s/it]\u001b[A\u001b[A\u001b[A\n",
            "\n",
            "\n",
            "feature_fraction_stage2, val_score: 1.073545:  33%|###3      | 2/6 [00:40<01:20, 20.01s/it]\u001b[A\u001b[A\u001b[A\u001b[32m[I 2020-05-17 07:53:53,758]\u001b[0m Finished trial#38 with value: 1.080034098023867 with parameters: {'feature_fraction': 0.552}. Best is trial#38 with value: 1.080034098023867.\u001b[0m\n",
            "\n",
            "\n",
            "\n",
            "feature_fraction_stage2, val_score: 1.073545:  33%|###3      | 2/6 [00:40<01:20, 20.01s/it]\u001b[A\u001b[A\u001b[A"
          ],
          "name": "stderr"
        },
        {
          "output_type": "stream",
          "text": [
            "Early stopping, best iteration is:\n",
            "[82]\ttraining's rmse: 0.748451\tvalid_1's rmse: 1.08003\n",
            "Training until validation scores don't improve for 50 rounds.\n"
          ],
          "name": "stdout"
        },
        {
          "output_type": "stream",
          "text": [
            "\n",
            "\n",
            "\n",
            "feature_fraction_stage2, val_score: 1.073545:  33%|###3      | 2/6 [00:58<01:20, 20.01s/it]\u001b[A\u001b[A\u001b[A\n",
            "\n",
            "\n",
            "feature_fraction_stage2, val_score: 1.073545:  50%|#####     | 3/6 [00:58<00:58, 19.49s/it]\u001b[A\u001b[A\u001b[A\u001b[32m[I 2020-05-17 07:54:12,002]\u001b[0m Finished trial#39 with value: 1.0767103069168822 with parameters: {'feature_fraction': 0.616}. Best is trial#39 with value: 1.0767103069168822.\u001b[0m\n",
            "\n",
            "\n",
            "\n",
            "feature_fraction_stage2, val_score: 1.073545:  50%|#####     | 3/6 [00:58<00:58, 19.49s/it]\u001b[A\u001b[A\u001b[A"
          ],
          "name": "stderr"
        },
        {
          "output_type": "stream",
          "text": [
            "Early stopping, best iteration is:\n",
            "[49]\ttraining's rmse: 0.85092\tvalid_1's rmse: 1.07671\n",
            "Training until validation scores don't improve for 50 rounds.\n"
          ],
          "name": "stdout"
        },
        {
          "output_type": "stream",
          "text": [
            "\n",
            "\n",
            "\n",
            "feature_fraction_stage2, val_score: 1.073545:  50%|#####     | 3/6 [01:15<00:58, 19.49s/it]\u001b[A\u001b[A\u001b[A\n",
            "\n",
            "\n",
            "feature_fraction_stage2, val_score: 1.073545:  67%|######6   | 4/6 [01:15<00:37, 18.51s/it]\u001b[A\u001b[A\u001b[A\u001b[32m[I 2020-05-17 07:54:28,236]\u001b[0m Finished trial#40 with value: 1.083464159769177 with parameters: {'feature_fraction': 0.584}. Best is trial#39 with value: 1.0767103069168822.\u001b[0m\n",
            "\n",
            "\n",
            "\n",
            "feature_fraction_stage2, val_score: 1.073545:  67%|######6   | 4/6 [01:15<00:37, 18.51s/it]\u001b[A\u001b[A\u001b[A"
          ],
          "name": "stderr"
        },
        {
          "output_type": "stream",
          "text": [
            "Early stopping, best iteration is:\n",
            "[41]\ttraining's rmse: 0.882541\tvalid_1's rmse: 1.08346\n",
            "Training until validation scores don't improve for 50 rounds.\n",
            "[100]\ttraining's rmse: 0.7021\tvalid_1's rmse: 1.07893\n"
          ],
          "name": "stdout"
        },
        {
          "output_type": "stream",
          "text": [
            "\n",
            "\n",
            "\n",
            "feature_fraction_stage2, val_score: 1.073545:  67%|######6   | 4/6 [01:31<00:37, 18.51s/it]\u001b[A\u001b[A\u001b[A\n",
            "\n",
            "\n",
            "feature_fraction_stage2, val_score: 1.073545:  83%|########3 | 5/6 [01:31<00:17, 17.86s/it]\u001b[A\u001b[A\u001b[A\u001b[32m[I 2020-05-17 07:54:44,572]\u001b[0m Finished trial#41 with value: 1.0769144711669656 with parameters: {'feature_fraction': 0.52}. Best is trial#39 with value: 1.0767103069168822.\u001b[0m\n",
            "\n",
            "\n",
            "\n",
            "feature_fraction_stage2, val_score: 1.073545:  83%|########3 | 5/6 [01:31<00:17, 17.86s/it]\u001b[A\u001b[A\u001b[A"
          ],
          "name": "stderr"
        },
        {
          "output_type": "stream",
          "text": [
            "Early stopping, best iteration is:\n",
            "[56]\ttraining's rmse: 0.830487\tvalid_1's rmse: 1.07691\n",
            "Training until validation scores don't improve for 50 rounds.\n"
          ],
          "name": "stdout"
        },
        {
          "output_type": "stream",
          "text": [
            "\n",
            "\n",
            "\n",
            "feature_fraction_stage2, val_score: 1.073545:  83%|########3 | 5/6 [01:49<00:17, 17.86s/it]\u001b[A\u001b[A\u001b[A\n",
            "\n",
            "\n",
            "feature_fraction_stage2, val_score: 1.073545: 100%|##########| 6/6 [01:49<00:00, 18.05s/it]\u001b[A\u001b[A\u001b[A\u001b[32m[I 2020-05-17 07:55:03,083]\u001b[0m Finished trial#42 with value: 1.0785031391505375 with parameters: {'feature_fraction': 0.6799999999999999}. Best is trial#39 with value: 1.0767103069168822.\u001b[0m\n",
            "feature_fraction_stage2, val_score: 1.073545: 100%|##########| 6/6 [01:49<00:00, 18.33s/it]\n",
            "\n",
            "\n",
            "\n",
            "  0%|          | 0/20 [00:00<?, ?it/s]\u001b[A\u001b[A\u001b[A\n",
            "\n",
            "\n",
            "regularization_factors, val_score: 1.073545:   0%|          | 0/20 [00:00<?, ?it/s]\u001b[A\u001b[A\u001b[A"
          ],
          "name": "stderr"
        },
        {
          "output_type": "stream",
          "text": [
            "Early stopping, best iteration is:\n",
            "[41]\ttraining's rmse: 0.881241\tvalid_1's rmse: 1.0785\n",
            "Training until validation scores don't improve for 50 rounds.\n",
            "[100]\ttraining's rmse: 0.706468\tvalid_1's rmse: 1.08138\n"
          ],
          "name": "stdout"
        },
        {
          "output_type": "stream",
          "text": [
            "\n",
            "\n",
            "\n",
            "regularization_factors, val_score: 1.073545:   0%|          | 0/20 [00:19<?, ?it/s]\u001b[A\u001b[A\u001b[A\n",
            "\n",
            "\n",
            "regularization_factors, val_score: 1.073545:   5%|5         | 1/20 [00:19<06:03, 19.14s/it]\u001b[A\u001b[A\u001b[A\u001b[32m[I 2020-05-17 07:55:22,325]\u001b[0m Finished trial#43 with value: 1.0766916350382665 with parameters: {'lambda_l1': 1.3183481569883734e-05, 'lambda_l2': 3.564857185361809}. Best is trial#43 with value: 1.0766916350382665.\u001b[0m\n",
            "\n",
            "\n",
            "\n",
            "regularization_factors, val_score: 1.073545:   5%|5         | 1/20 [00:19<06:03, 19.14s/it]\u001b[A\u001b[A\u001b[A"
          ],
          "name": "stderr"
        },
        {
          "output_type": "stream",
          "text": [
            "Early stopping, best iteration is:\n",
            "[52]\ttraining's rmse: 0.846626\tvalid_1's rmse: 1.07669\n",
            "Training until validation scores don't improve for 50 rounds.\n",
            "[100]\ttraining's rmse: 0.695587\tvalid_1's rmse: 1.07667\n"
          ],
          "name": "stdout"
        },
        {
          "output_type": "stream",
          "text": [
            "\n",
            "\n",
            "\n",
            "regularization_factors, val_score: 1.073545:   5%|5         | 1/20 [00:40<06:03, 19.14s/it]\u001b[A\u001b[A\u001b[A\n",
            "\n",
            "\n",
            "regularization_factors, val_score: 1.073545:  10%|#         | 2/20 [00:40<05:57, 19.85s/it]\u001b[A\u001b[A\u001b[A\u001b[32m[I 2020-05-17 07:55:43,832]\u001b[0m Finished trial#44 with value: 1.0735445017283307 with parameters: {'lambda_l1': 2.97577426641132e-06, 'lambda_l2': 1.6387173230469006e-05}. Best is trial#44 with value: 1.0735445017283307.\u001b[0m\n",
            "\n",
            "\n",
            "\n",
            "regularization_factors, val_score: 1.073545:  10%|#         | 2/20 [00:40<05:57, 19.85s/it]\u001b[A\u001b[A\u001b[A"
          ],
          "name": "stderr"
        },
        {
          "output_type": "stream",
          "text": [
            "Early stopping, best iteration is:\n",
            "[74]\ttraining's rmse: 0.767815\tvalid_1's rmse: 1.07354\n",
            "Training until validation scores don't improve for 50 rounds.\n"
          ],
          "name": "stdout"
        },
        {
          "output_type": "stream",
          "text": [
            "\n",
            "\n",
            "\n",
            "regularization_factors, val_score: 1.073545:  10%|#         | 2/20 [00:58<05:57, 19.85s/it]\u001b[A\u001b[A\u001b[A\n",
            "\n",
            "\n",
            "regularization_factors, val_score: 1.073545:  15%|#5        | 3/20 [00:58<05:29, 19.37s/it]\u001b[A\u001b[A\u001b[A\u001b[32m[I 2020-05-17 07:56:02,097]\u001b[0m Finished trial#45 with value: 1.079329969630281 with parameters: {'lambda_l1': 0.018088575405827628, 'lambda_l2': 2.568621084124887}. Best is trial#44 with value: 1.0735445017283307.\u001b[0m\n",
            "\n",
            "\n",
            "\n",
            "regularization_factors, val_score: 1.073545:  15%|#5        | 3/20 [00:59<05:29, 19.37s/it]\u001b[A\u001b[A\u001b[A"
          ],
          "name": "stderr"
        },
        {
          "output_type": "stream",
          "text": [
            "Early stopping, best iteration is:\n",
            "[47]\ttraining's rmse: 0.863832\tvalid_1's rmse: 1.07933\n",
            "Training until validation scores don't improve for 50 rounds.\n",
            "[100]\ttraining's rmse: 0.695587\tvalid_1's rmse: 1.07667\n"
          ],
          "name": "stdout"
        },
        {
          "output_type": "stream",
          "text": [
            "\n",
            "\n",
            "\n",
            "regularization_factors, val_score: 1.073545:  15%|#5        | 3/20 [01:20<05:29, 19.37s/it]\u001b[A\u001b[A\u001b[A\n",
            "\n",
            "\n",
            "regularization_factors, val_score: 1.073545:  20%|##        | 4/20 [01:20<05:20, 20.01s/it]\u001b[A\u001b[A\u001b[A\u001b[32m[I 2020-05-17 07:56:23,579]\u001b[0m Finished trial#46 with value: 1.0735445010079998 with parameters: {'lambda_l1': 1.1726570429609683e-05, 'lambda_l2': 2.658777907491086e-06}. Best is trial#46 with value: 1.0735445010079998.\u001b[0m\n",
            "\n",
            "\n",
            "\n",
            "regularization_factors, val_score: 1.073545:  20%|##        | 4/20 [01:20<05:20, 20.01s/it]\u001b[A\u001b[A\u001b[A"
          ],
          "name": "stderr"
        },
        {
          "output_type": "stream",
          "text": [
            "Early stopping, best iteration is:\n",
            "[74]\ttraining's rmse: 0.767815\tvalid_1's rmse: 1.07354\n",
            "Training until validation scores don't improve for 50 rounds.\n",
            "[100]\ttraining's rmse: 0.695588\tvalid_1's rmse: 1.07667\n"
          ],
          "name": "stdout"
        },
        {
          "output_type": "stream",
          "text": [
            "\n",
            "\n",
            "\n",
            "regularization_factors, val_score: 1.073544:  20%|##        | 4/20 [01:41<05:20, 20.01s/it]\u001b[A\u001b[A\u001b[A\n",
            "\n",
            "\n",
            "regularization_factors, val_score: 1.073544:  25%|##5       | 5/20 [01:41<05:06, 20.46s/it]\u001b[A\u001b[A\u001b[A\u001b[32m[I 2020-05-17 07:56:45,110]\u001b[0m Finished trial#47 with value: 1.0735444790312685 with parameters: {'lambda_l1': 5.239080436842925e-05, 'lambda_l2': 3.844940253269527e-05}. Best is trial#47 with value: 1.0735444790312685.\u001b[0m\n",
            "\n",
            "\n",
            "\n",
            "regularization_factors, val_score: 1.073544:  25%|##5       | 5/20 [01:42<05:06, 20.46s/it]\u001b[A\u001b[A\u001b[A"
          ],
          "name": "stderr"
        },
        {
          "output_type": "stream",
          "text": [
            "Early stopping, best iteration is:\n",
            "[74]\ttraining's rmse: 0.767815\tvalid_1's rmse: 1.07354\n",
            "Training until validation scores don't improve for 50 rounds.\n",
            "[100]\ttraining's rmse: 0.695589\tvalid_1's rmse: 1.07667\n"
          ],
          "name": "stdout"
        },
        {
          "output_type": "stream",
          "text": [
            "\n",
            "\n",
            "\n",
            "regularization_factors, val_score: 1.073544:  25%|##5       | 5/20 [02:03<05:06, 20.46s/it]\u001b[A\u001b[A\u001b[A\n",
            "\n",
            "\n",
            "regularization_factors, val_score: 1.073544:  30%|###       | 6/20 [02:03<04:51, 20.81s/it]\u001b[A\u001b[A\u001b[A\u001b[32m[I 2020-05-17 07:57:06,739]\u001b[0m Finished trial#48 with value: 1.0735444104790026 with parameters: {'lambda_l1': 0.00017866757109406714, 'lambda_l2': 0.0001511404025347395}. Best is trial#48 with value: 1.0735444104790026.\u001b[0m\n",
            "\n",
            "\n",
            "\n",
            "regularization_factors, val_score: 1.073544:  30%|###       | 6/20 [02:03<04:51, 20.81s/it]\u001b[A\u001b[A\u001b[A"
          ],
          "name": "stderr"
        },
        {
          "output_type": "stream",
          "text": [
            "Early stopping, best iteration is:\n",
            "[74]\ttraining's rmse: 0.767816\tvalid_1's rmse: 1.07354\n",
            "Training until validation scores don't improve for 50 rounds.\n",
            "[100]\ttraining's rmse: 0.704974\tvalid_1's rmse: 1.08145\n"
          ],
          "name": "stdout"
        },
        {
          "output_type": "stream",
          "text": [
            "\n",
            "\n",
            "\n",
            "regularization_factors, val_score: 1.073544:  30%|###       | 6/20 [02:24<04:51, 20.81s/it]\u001b[A\u001b[A\u001b[A\n",
            "\n",
            "\n",
            "regularization_factors, val_score: 1.073544:  35%|###5      | 7/20 [02:24<04:32, 20.98s/it]\u001b[A\u001b[A\u001b[A\u001b[32m[I 2020-05-17 07:57:28,090]\u001b[0m Finished trial#49 with value: 1.0785348023332015 with parameters: {'lambda_l1': 2.089561093881859, 'lambda_l2': 0.03478435845348302}. Best is trial#48 with value: 1.0735444104790026.\u001b[0m\n",
            "\n",
            "\n",
            "\n",
            "regularization_factors, val_score: 1.073544:  35%|###5      | 7/20 [02:25<04:32, 20.98s/it]\u001b[A\u001b[A\u001b[A"
          ],
          "name": "stderr"
        },
        {
          "output_type": "stream",
          "text": [
            "Early stopping, best iteration is:\n",
            "[66]\ttraining's rmse: 0.800975\tvalid_1's rmse: 1.07853\n",
            "Training until validation scores don't improve for 50 rounds.\n",
            "[100]\ttraining's rmse: 0.696839\tvalid_1's rmse: 1.0776\n"
          ],
          "name": "stdout"
        },
        {
          "output_type": "stream",
          "text": [
            "\n",
            "\n",
            "\n",
            "regularization_factors, val_score: 1.073544:  35%|###5      | 7/20 [02:47<04:32, 20.98s/it]\u001b[A\u001b[A\u001b[A\n",
            "\n",
            "\n",
            "regularization_factors, val_score: 1.073544:  40%|####      | 8/20 [02:47<04:16, 21.34s/it]\u001b[A\u001b[A\u001b[A\u001b[32m[I 2020-05-17 07:57:50,280]\u001b[0m Finished trial#50 with value: 1.0740904669148175 with parameters: {'lambda_l1': 0.03874212582050797, 'lambda_l2': 2.989559304497002e-08}. Best is trial#48 with value: 1.0735444104790026.\u001b[0m\n",
            "\n",
            "\n",
            "\n",
            "regularization_factors, val_score: 1.073544:  40%|####      | 8/20 [02:47<04:16, 21.34s/it]\u001b[A\u001b[A\u001b[A"
          ],
          "name": "stderr"
        },
        {
          "output_type": "stream",
          "text": [
            "Early stopping, best iteration is:\n",
            "[75]\ttraining's rmse: 0.766423\tvalid_1's rmse: 1.07409\n",
            "Training until validation scores don't improve for 50 rounds.\n"
          ],
          "name": "stdout"
        },
        {
          "output_type": "stream",
          "text": [
            "\n",
            "\n",
            "\n",
            "regularization_factors, val_score: 1.073544:  40%|####      | 8/20 [03:04<04:16, 21.34s/it]\u001b[A\u001b[A\u001b[A\n",
            "\n",
            "\n",
            "regularization_factors, val_score: 1.073544:  45%|####5     | 9/20 [03:04<03:41, 20.15s/it]\u001b[A\u001b[A\u001b[A\u001b[32m[I 2020-05-17 07:58:07,638]\u001b[0m Finished trial#51 with value: 1.0778245734661187 with parameters: {'lambda_l1': 6.006493117288527, 'lambda_l2': 1.2963300985352692e-06}. Best is trial#48 with value: 1.0735444104790026.\u001b[0m\n",
            "\n",
            "\n",
            "\n",
            "regularization_factors, val_score: 1.073544:  45%|####5     | 9/20 [03:04<03:41, 20.15s/it]\u001b[A\u001b[A\u001b[A"
          ],
          "name": "stderr"
        },
        {
          "output_type": "stream",
          "text": [
            "Early stopping, best iteration is:\n",
            "[45]\ttraining's rmse: 0.885515\tvalid_1's rmse: 1.07782\n",
            "Training until validation scores don't improve for 50 rounds.\n",
            "[100]\ttraining's rmse: 0.695588\tvalid_1's rmse: 1.07667\n"
          ],
          "name": "stdout"
        },
        {
          "output_type": "stream",
          "text": [
            "\n",
            "\n",
            "\n",
            "regularization_factors, val_score: 1.073544:  45%|####5     | 9/20 [03:26<03:41, 20.15s/it]\u001b[A\u001b[A\u001b[A\n",
            "\n",
            "\n",
            "regularization_factors, val_score: 1.073544:  50%|#####     | 10/20 [03:26<03:25, 20.57s/it]\u001b[A\u001b[A\u001b[A\u001b[32m[I 2020-05-17 07:58:29,200]\u001b[0m Finished trial#52 with value: 1.073544477333246 with parameters: {'lambda_l1': 2.8625776861652545e-06, 'lambda_l2': 0.00014716970780618717}. Best is trial#48 with value: 1.0735444104790026.\u001b[0m\n",
            "\n",
            "\n",
            "\n",
            "regularization_factors, val_score: 1.073544:  50%|#####     | 10/20 [03:26<03:25, 20.57s/it]\u001b[A\u001b[A\u001b[A"
          ],
          "name": "stderr"
        },
        {
          "output_type": "stream",
          "text": [
            "Early stopping, best iteration is:\n",
            "[74]\ttraining's rmse: 0.767815\tvalid_1's rmse: 1.07354\n",
            "Training until validation scores don't improve for 50 rounds.\n",
            "[100]\ttraining's rmse: 0.696316\tvalid_1's rmse: 1.07921\n"
          ],
          "name": "stdout"
        },
        {
          "output_type": "stream",
          "text": [
            "\n",
            "\n",
            "\n",
            "regularization_factors, val_score: 1.073544:  50%|#####     | 10/20 [03:46<03:25, 20.57s/it]\u001b[A\u001b[A\u001b[A\n",
            "\n",
            "\n",
            "regularization_factors, val_score: 1.073544:  55%|#####5    | 11/20 [03:46<03:03, 20.42s/it]\u001b[A\u001b[A\u001b[A\u001b[32m[I 2020-05-17 07:58:49,274]\u001b[0m Finished trial#53 with value: 1.0751348087416 with parameters: {'lambda_l1': 1.1391880914374692e-08, 'lambda_l2': 0.014163536615092485}. Best is trial#48 with value: 1.0735444104790026.\u001b[0m\n",
            "\n",
            "\n",
            "\n",
            "regularization_factors, val_score: 1.073544:  55%|#####5    | 11/20 [03:46<03:03, 20.42s/it]\u001b[A\u001b[A\u001b[A"
          ],
          "name": "stderr"
        },
        {
          "output_type": "stream",
          "text": [
            "Early stopping, best iteration is:\n",
            "[63]\ttraining's rmse: 0.802235\tvalid_1's rmse: 1.07513\n",
            "Training until validation scores don't improve for 50 rounds.\n",
            "[100]\ttraining's rmse: 0.695595\tvalid_1's rmse: 1.07667\n"
          ],
          "name": "stdout"
        },
        {
          "output_type": "stream",
          "text": [
            "\n",
            "\n",
            "\n",
            "regularization_factors, val_score: 1.073544:  55%|#####5    | 11/20 [04:07<03:03, 20.42s/it]\u001b[A\u001b[A\u001b[A\n",
            "\n",
            "\n",
            "regularization_factors, val_score: 1.073544:  60%|######    | 12/20 [04:07<02:46, 20.76s/it]\u001b[A\u001b[A\u001b[A\u001b[32m[I 2020-05-17 07:59:10,828]\u001b[0m Finished trial#54 with value: 1.0735441853467989 with parameters: {'lambda_l1': 1.2347298048519473e-07, 'lambda_l2': 0.0017132976290994296}. Best is trial#54 with value: 1.0735441853467989.\u001b[0m\n",
            "\n",
            "\n",
            "\n",
            "regularization_factors, val_score: 1.073544:  60%|######    | 12/20 [04:07<02:46, 20.76s/it]\u001b[A\u001b[A\u001b[A"
          ],
          "name": "stderr"
        },
        {
          "output_type": "stream",
          "text": [
            "Early stopping, best iteration is:\n",
            "[74]\ttraining's rmse: 0.767821\tvalid_1's rmse: 1.07354\n",
            "Training until validation scores don't improve for 50 rounds.\n",
            "[100]\ttraining's rmse: 0.695608\tvalid_1's rmse: 1.07667\n"
          ],
          "name": "stdout"
        },
        {
          "output_type": "stream",
          "text": [
            "\n",
            "\n",
            "\n",
            "regularization_factors, val_score: 1.073544:  60%|######    | 12/20 [04:29<02:46, 20.76s/it]\u001b[A\u001b[A\u001b[A\n",
            "\n",
            "\n",
            "regularization_factors, val_score: 1.073544:  65%|######5   | 13/20 [04:29<02:27, 21.01s/it]\u001b[A\u001b[A\u001b[A\u001b[32m[I 2020-05-17 07:59:32,427]\u001b[0m Finished trial#55 with value: 1.0735436307148658 with parameters: {'lambda_l1': 1.1133041360608504e-08, 'lambda_l2': 0.004678671006740895}. Best is trial#55 with value: 1.0735436307148658.\u001b[0m\n",
            "\n",
            "\n",
            "\n",
            "regularization_factors, val_score: 1.073544:  65%|######5   | 13/20 [04:29<02:27, 21.01s/it]\u001b[A\u001b[A\u001b[A"
          ],
          "name": "stderr"
        },
        {
          "output_type": "stream",
          "text": [
            "Early stopping, best iteration is:\n",
            "[74]\ttraining's rmse: 0.767831\tvalid_1's rmse: 1.07354\n",
            "Training until validation scores don't improve for 50 rounds.\n",
            "[100]\ttraining's rmse: 0.696259\tvalid_1's rmse: 1.08122\n"
          ],
          "name": "stdout"
        },
        {
          "output_type": "stream",
          "text": [
            "\n",
            "\n",
            "\n",
            "regularization_factors, val_score: 1.073544:  65%|######5   | 13/20 [04:55<02:27, 21.01s/it]\u001b[A\u001b[A\u001b[A\n",
            "\n",
            "\n",
            "regularization_factors, val_score: 1.073544:  70%|#######   | 14/20 [04:55<02:15, 22.55s/it]\u001b[A\u001b[A\u001b[A\u001b[32m[I 2020-05-17 07:59:58,549]\u001b[0m Finished trial#56 with value: 1.076617433938418 with parameters: {'lambda_l1': 1.3811448206241249e-08, 'lambda_l2': 0.008975904371708397}. Best is trial#55 with value: 1.0735436307148658.\u001b[0m\n",
            "\n",
            "\n",
            "\n",
            "regularization_factors, val_score: 1.073544:  70%|#######   | 14/20 [04:55<02:15, 22.55s/it]\u001b[A\u001b[A\u001b[A"
          ],
          "name": "stderr"
        },
        {
          "output_type": "stream",
          "text": [
            "Early stopping, best iteration is:\n",
            "[70]\ttraining's rmse: 0.779677\tvalid_1's rmse: 1.07662\n",
            "Training until validation scores don't improve for 50 rounds.\n"
          ],
          "name": "stdout"
        },
        {
          "output_type": "stream",
          "text": [
            "\n",
            "\n",
            "\n",
            "regularization_factors, val_score: 1.073544:  70%|#######   | 14/20 [05:12<02:15, 22.55s/it]\u001b[A\u001b[A\u001b[A\n",
            "\n",
            "\n",
            "regularization_factors, val_score: 1.073544:  75%|#######5  | 15/20 [05:12<01:44, 21.00s/it]\u001b[A\u001b[A\u001b[A\u001b[32m[I 2020-05-17 08:00:15,926]\u001b[0m Finished trial#57 with value: 1.0754017482253806 with parameters: {'lambda_l1': 1.1653833183145099e-07, 'lambda_l2': 0.18115530410082414}. Best is trial#55 with value: 1.0735436307148658.\u001b[0m\n",
            "\n",
            "\n",
            "\n",
            "regularization_factors, val_score: 1.073544:  75%|#######5  | 15/20 [05:12<01:44, 21.00s/it]\u001b[A\u001b[A\u001b[A"
          ],
          "name": "stderr"
        },
        {
          "output_type": "stream",
          "text": [
            "Early stopping, best iteration is:\n",
            "[45]\ttraining's rmse: 0.867658\tvalid_1's rmse: 1.0754\n",
            "Training until validation scores don't improve for 50 rounds.\n",
            "[100]\ttraining's rmse: 0.695594\tvalid_1's rmse: 1.07667\n"
          ],
          "name": "stdout"
        },
        {
          "output_type": "stream",
          "text": [
            "\n",
            "\n",
            "\n",
            "regularization_factors, val_score: 1.073544:  75%|#######5  | 15/20 [05:34<01:44, 21.00s/it]\u001b[A\u001b[A\u001b[A\n",
            "\n",
            "\n",
            "regularization_factors, val_score: 1.073544:  80%|########  | 16/20 [05:34<01:24, 21.19s/it]\u001b[A\u001b[A\u001b[A\u001b[32m[I 2020-05-17 08:00:37,564]\u001b[0m Finished trial#58 with value: 1.0735442298011149 with parameters: {'lambda_l1': 1.204987022623955e-07, 'lambda_l2': 0.0014754041907819049}. Best is trial#55 with value: 1.0735436307148658.\u001b[0m\n",
            "\n",
            "\n",
            "\n",
            "regularization_factors, val_score: 1.073544:  80%|########  | 16/20 [05:34<01:24, 21.19s/it]\u001b[A\u001b[A\u001b[A"
          ],
          "name": "stderr"
        },
        {
          "output_type": "stream",
          "text": [
            "Early stopping, best iteration is:\n",
            "[74]\ttraining's rmse: 0.76782\tvalid_1's rmse: 1.07354\n",
            "Training until validation scores don't improve for 50 rounds.\n"
          ],
          "name": "stdout"
        },
        {
          "output_type": "stream",
          "text": [
            "\n",
            "\n",
            "\n",
            "regularization_factors, val_score: 1.073544:  80%|########  | 16/20 [05:51<01:24, 21.19s/it]\u001b[A\u001b[A\u001b[A\n",
            "\n",
            "\n",
            "regularization_factors, val_score: 1.073544:  85%|########5 | 17/20 [05:51<01:00, 20.10s/it]\u001b[A\u001b[A\u001b[A\u001b[32m[I 2020-05-17 08:00:55,134]\u001b[0m Finished trial#59 with value: 1.0772027399544861 with parameters: {'lambda_l1': 2.0988832621561231e-07, 'lambda_l2': 0.30069678021322227}. Best is trial#55 with value: 1.0735436307148658.\u001b[0m\n",
            "\n",
            "\n",
            "\n",
            "regularization_factors, val_score: 1.073544:  85%|########5 | 17/20 [05:52<01:00, 20.10s/it]\u001b[A\u001b[A\u001b[A"
          ],
          "name": "stderr"
        },
        {
          "output_type": "stream",
          "text": [
            "Early stopping, best iteration is:\n",
            "[46]\ttraining's rmse: 0.86263\tvalid_1's rmse: 1.0772\n",
            "Training until validation scores don't improve for 50 rounds.\n",
            "[100]\ttraining's rmse: 0.695596\tvalid_1's rmse: 1.07667\n"
          ],
          "name": "stdout"
        },
        {
          "output_type": "stream",
          "text": [
            "\n",
            "\n",
            "\n",
            "regularization_factors, val_score: 1.073544:  85%|########5 | 17/20 [06:13<01:00, 20.10s/it]\u001b[A\u001b[A\u001b[A\n",
            "\n",
            "\n",
            "regularization_factors, val_score: 1.073544:  90%|######### | 18/20 [06:13<00:41, 20.63s/it]\u001b[A\u001b[A\u001b[A\u001b[32m[I 2020-05-17 08:01:16,996]\u001b[0m Finished trial#60 with value: 1.073544147803878 with parameters: {'lambda_l1': 1.0438809101596734e-08, 'lambda_l2': 0.001914215683205504}. Best is trial#55 with value: 1.0735436307148658.\u001b[0m\n",
            "\n",
            "\n",
            "\n",
            "regularization_factors, val_score: 1.073544:  90%|######### | 18/20 [06:13<00:41, 20.63s/it]\u001b[A\u001b[A\u001b[A"
          ],
          "name": "stderr"
        },
        {
          "output_type": "stream",
          "text": [
            "Early stopping, best iteration is:\n",
            "[74]\ttraining's rmse: 0.767821\tvalid_1's rmse: 1.07354\n",
            "Training until validation scores don't improve for 50 rounds.\n",
            "[100]\ttraining's rmse: 0.697231\tvalid_1's rmse: 1.08122\n"
          ],
          "name": "stdout"
        },
        {
          "output_type": "stream",
          "text": [
            "\n",
            "\n",
            "\n",
            "regularization_factors, val_score: 1.073544:  90%|######### | 18/20 [06:36<00:41, 20.63s/it]\u001b[A\u001b[A\u001b[A\n",
            "\n",
            "\n",
            "regularization_factors, val_score: 1.073544:  95%|#########5| 19/20 [06:36<00:21, 21.19s/it]\u001b[A\u001b[A\u001b[A\u001b[32m[I 2020-05-17 08:01:39,493]\u001b[0m Finished trial#61 with value: 1.0765248582868894 with parameters: {'lambda_l1': 0.0032895123939533253, 'lambda_l2': 0.0017556068024892058}. Best is trial#55 with value: 1.0735436307148658.\u001b[0m\n",
            "\n",
            "\n",
            "\n",
            "regularization_factors, val_score: 1.073544:  95%|#########5| 19/20 [06:36<00:21, 21.19s/it]\u001b[A\u001b[A\u001b[A"
          ],
          "name": "stderr"
        },
        {
          "output_type": "stream",
          "text": [
            "Early stopping, best iteration is:\n",
            "[78]\ttraining's rmse: 0.756693\tvalid_1's rmse: 1.07652\n",
            "Training until validation scores don't improve for 50 rounds.\n"
          ],
          "name": "stdout"
        },
        {
          "output_type": "stream",
          "text": [
            "\n",
            "\n",
            "\n",
            "regularization_factors, val_score: 1.073544:  95%|#########5| 19/20 [06:54<00:21, 21.19s/it]\u001b[A\u001b[A\u001b[A\n",
            "\n",
            "\n",
            "regularization_factors, val_score: 1.073544: 100%|##########| 20/20 [06:54<00:00, 20.37s/it]\u001b[A\u001b[A\u001b[A"
          ],
          "name": "stderr"
        },
        {
          "output_type": "stream",
          "text": [
            "[100]\ttraining's rmse: 0.695522\tvalid_1's rmse: 1.0793\n",
            "Early stopping, best iteration is:\n",
            "[51]\ttraining's rmse: 0.844013\tvalid_1's rmse: 1.07574\n"
          ],
          "name": "stdout"
        },
        {
          "output_type": "stream",
          "text": [
            "\u001b[32m[I 2020-05-17 08:01:57,953]\u001b[0m Finished trial#62 with value: 1.0757356242363356 with parameters: {'lambda_l1': 3.0326480951360954e-08, 'lambda_l2': 0.14995178772545292}. Best is trial#55 with value: 1.0735436307148658.\u001b[0m\n",
            "regularization_factors, val_score: 1.073544: 100%|##########| 20/20 [06:54<00:00, 20.74s/it]\n",
            "\n",
            "\n",
            "\n",
            "  0%|          | 0/5 [00:00<?, ?it/s]\u001b[A\u001b[A\u001b[A\n",
            "\n",
            "\n",
            "min_data_in_leaf, val_score: 1.073544:   0%|          | 0/5 [00:00<?, ?it/s]\u001b[A\u001b[A\u001b[A/usr/local/lib/python3.6/dist-packages/lightgbm/engine.py:118: UserWarning:\n",
            "\n",
            "Found `num_rounds` in params. Will use it instead of argument\n",
            "\n"
          ],
          "name": "stderr"
        },
        {
          "output_type": "stream",
          "text": [
            "Training until validation scores don't improve for 50 rounds.\n",
            "[100]\ttraining's rmse: 0.693617\tvalid_1's rmse: 1.08068\n"
          ],
          "name": "stdout"
        },
        {
          "output_type": "stream",
          "text": [
            "\n",
            "\n",
            "\n",
            "min_data_in_leaf, val_score: 1.073544:   0%|          | 0/5 [00:21<?, ?it/s]\u001b[A\u001b[A\u001b[A\n",
            "\n",
            "\n",
            "min_data_in_leaf, val_score: 1.073544:  20%|##        | 1/5 [00:21<01:27, 21.94s/it]\u001b[A\u001b[A\u001b[A\u001b[32m[I 2020-05-17 08:02:20,002]\u001b[0m Finished trial#63 with value: 1.0775570674497639 with parameters: {'min_child_samples': 10}. Best is trial#63 with value: 1.0775570674497639.\u001b[0m\n",
            "\n",
            "\n",
            "\n",
            "min_data_in_leaf, val_score: 1.073544:  20%|##        | 1/5 [00:22<01:27, 21.94s/it]\u001b[A\u001b[A\u001b[A"
          ],
          "name": "stderr"
        },
        {
          "output_type": "stream",
          "text": [
            "Early stopping, best iteration is:\n",
            "[66]\ttraining's rmse: 0.791153\tvalid_1's rmse: 1.07756\n",
            "Training until validation scores don't improve for 50 rounds.\n"
          ],
          "name": "stdout"
        },
        {
          "output_type": "stream",
          "text": [
            "\n",
            "\n",
            "\n",
            "min_data_in_leaf, val_score: 1.073544:  20%|##        | 1/5 [00:34<01:27, 21.94s/it]\u001b[A\u001b[A\u001b[A\n",
            "\n",
            "\n",
            "min_data_in_leaf, val_score: 1.073544:  40%|####      | 2/5 [00:34<00:57, 19.27s/it]\u001b[A\u001b[A\u001b[A\u001b[32m[I 2020-05-17 08:02:33,048]\u001b[0m Finished trial#64 with value: 1.0779332661839045 with parameters: {'min_child_samples': 100}. Best is trial#63 with value: 1.0775570674497639.\u001b[0m\n",
            "\n",
            "\n",
            "\n",
            "min_data_in_leaf, val_score: 1.073544:  40%|####      | 2/5 [00:35<00:57, 19.27s/it]\u001b[A\u001b[A\u001b[A"
          ],
          "name": "stderr"
        },
        {
          "output_type": "stream",
          "text": [
            "Early stopping, best iteration is:\n",
            "[35]\ttraining's rmse: 0.916925\tvalid_1's rmse: 1.07793\n",
            "Training until validation scores don't improve for 50 rounds.\n",
            "[100]\ttraining's rmse: 0.694898\tvalid_1's rmse: 1.08056\n"
          ],
          "name": "stdout"
        },
        {
          "output_type": "stream",
          "text": [
            "\n",
            "\n",
            "\n",
            "min_data_in_leaf, val_score: 1.073544:  40%|####      | 2/5 [00:58<00:57, 19.27s/it]\u001b[A\u001b[A\u001b[A\n",
            "\n",
            "\n",
            "min_data_in_leaf, val_score: 1.073544:  60%|######    | 3/5 [00:58<00:40, 20.40s/it]\u001b[A\u001b[A\u001b[A\u001b[32m[I 2020-05-17 08:02:56,079]\u001b[0m Finished trial#65 with value: 1.0759617002780022 with parameters: {'min_child_samples': 5}. Best is trial#65 with value: 1.0759617002780022.\u001b[0m\n",
            "\n",
            "\n",
            "\n",
            "min_data_in_leaf, val_score: 1.073544:  60%|######    | 3/5 [00:58<00:40, 20.40s/it]\u001b[A\u001b[A\u001b[A"
          ],
          "name": "stderr"
        },
        {
          "output_type": "stream",
          "text": [
            "Early stopping, best iteration is:\n",
            "[63]\ttraining's rmse: 0.801122\tvalid_1's rmse: 1.07596\n",
            "Training until validation scores don't improve for 50 rounds.\n"
          ],
          "name": "stdout"
        },
        {
          "output_type": "stream",
          "text": [
            "\n",
            "\n",
            "\n",
            "min_data_in_leaf, val_score: 1.073544:  60%|######    | 3/5 [01:12<00:40, 20.40s/it]\u001b[A\u001b[A\u001b[A\n",
            "\n",
            "\n",
            "min_data_in_leaf, val_score: 1.073544:  80%|########  | 4/5 [01:12<00:18, 18.66s/it]\u001b[A\u001b[A\u001b[A\u001b[32m[I 2020-05-17 08:03:10,687]\u001b[0m Finished trial#66 with value: 1.07877336611009 with parameters: {'min_child_samples': 50}. Best is trial#65 with value: 1.0759617002780022.\u001b[0m\n",
            "\n",
            "\n",
            "\n",
            "min_data_in_leaf, val_score: 1.073544:  80%|########  | 4/5 [01:12<00:18, 18.66s/it]\u001b[A\u001b[A\u001b[A"
          ],
          "name": "stderr"
        },
        {
          "output_type": "stream",
          "text": [
            "Early stopping, best iteration is:\n",
            "[38]\ttraining's rmse: 0.89859\tvalid_1's rmse: 1.07877\n",
            "Training until validation scores don't improve for 50 rounds.\n"
          ],
          "name": "stdout"
        },
        {
          "output_type": "stream",
          "text": [
            "\n",
            "\n",
            "\n",
            "min_data_in_leaf, val_score: 1.073544:  80%|########  | 4/5 [01:28<00:18, 18.66s/it]\u001b[A\u001b[A\u001b[A\n",
            "\n",
            "\n",
            "min_data_in_leaf, val_score: 1.073544: 100%|##########| 5/5 [01:28<00:00, 17.81s/it]\u001b[A\u001b[A\u001b[A\u001b[32m[I 2020-05-17 08:03:26,514]\u001b[0m Finished trial#67 with value: 1.0768718793719356 with parameters: {'min_child_samples': 25}. Best is trial#65 with value: 1.0759617002780022.\u001b[0m\n",
            "min_data_in_leaf, val_score: 1.073544: 100%|##########| 5/5 [01:28<00:00, 17.71s/it]"
          ],
          "name": "stderr"
        },
        {
          "output_type": "stream",
          "text": [
            "Early stopping, best iteration is:\n",
            "[39]\ttraining's rmse: 0.891593\tvalid_1's rmse: 1.07687\n"
          ],
          "name": "stdout"
        },
        {
          "output_type": "stream",
          "text": [
            "\n"
          ],
          "name": "stderr"
        },
        {
          "output_type": "stream",
          "text": [
            "Training until validation scores don't improve for 50 rounds.\n",
            "[100]\ttraining's rmse: 0.695608\tvalid_1's rmse: 1.07667\n",
            "Early stopping, best iteration is:\n",
            "[74]\ttraining's rmse: 0.767831\tvalid_1's rmse: 1.07354\n"
          ],
          "name": "stdout"
        },
        {
          "output_type": "stream",
          "text": [
            "/usr/local/lib/python3.6/dist-packages/optuna/_experimental.py:90: ExperimentalWarning:\n",
            "\n",
            "train is experimental (supported from v0.18.0). The interface can change in the future.\n",
            "\n",
            "\n",
            "\n",
            "\n",
            "  0%|          | 0/7 [00:00<?, ?it/s]\u001b[A\u001b[A\u001b[A\n",
            "\n",
            "\n",
            "feature_fraction, val_score: inf:   0%|          | 0/7 [00:00<?, ?it/s]\u001b[A\u001b[A\u001b[A"
          ],
          "name": "stderr"
        },
        {
          "output_type": "stream",
          "text": [
            "Train LGB\n",
            "Training until validation scores don't improve for 50 rounds.\n"
          ],
          "name": "stdout"
        },
        {
          "output_type": "stream",
          "text": [
            "/usr/local/lib/python3.6/dist-packages/lightgbm/engine.py:118: UserWarning:\n",
            "\n",
            "Found `num_rounds` in params. Will use it instead of argument\n",
            "\n",
            "/usr/local/lib/python3.6/dist-packages/lightgbm/basic.py:762: UserWarning:\n",
            "\n",
            "categorical_feature in param dict is overridden.\n",
            "\n",
            "\n",
            "\n",
            "\n",
            "feature_fraction, val_score: 1.076362:   0%|          | 0/7 [00:00<?, ?it/s]\u001b[A\u001b[A\u001b[A\n",
            "\n",
            "\n",
            "feature_fraction, val_score: 1.076362:  14%|#4        | 1/7 [00:00<00:05,  1.02it/s]\u001b[A\u001b[A\u001b[A\u001b[32m[I 2020-05-17 08:03:49,971]\u001b[0m Finished trial#0 with value: 1.0763615466935759 with parameters: {'feature_fraction': 0.7}. Best is trial#0 with value: 1.0763615466935759.\u001b[0m\n",
            "\n",
            "\n",
            "\n",
            "feature_fraction, val_score: 1.076362:  14%|#4        | 1/7 [00:01<00:05,  1.02it/s]\u001b[A\u001b[A\u001b[A"
          ],
          "name": "stderr"
        },
        {
          "output_type": "stream",
          "text": [
            "[100]\ttraining's rmse: 0.859815\tvalid_1's rmse: 1.07817\n",
            "Early stopping, best iteration is:\n",
            "[64]\ttraining's rmse: 0.916562\tvalid_1's rmse: 1.07636\n",
            "Training until validation scores don't improve for 50 rounds.\n"
          ],
          "name": "stdout"
        },
        {
          "output_type": "stream",
          "text": [
            "\n",
            "\n",
            "\n",
            "feature_fraction, val_score: 1.075094:  14%|#4        | 1/7 [00:02<00:05,  1.02it/s]\u001b[A\u001b[A\u001b[A\n",
            "\n",
            "\n",
            "feature_fraction, val_score: 1.075094:  29%|##8       | 2/7 [00:02<00:04,  1.00it/s]\u001b[A\u001b[A\u001b[A\u001b[32m[I 2020-05-17 08:03:50,997]\u001b[0m Finished trial#1 with value: 1.0750942963589036 with parameters: {'feature_fraction': 0.8999999999999999}. Best is trial#1 with value: 1.0750942963589036.\u001b[0m\n",
            "\n",
            "\n",
            "\n",
            "feature_fraction, val_score: 1.075094:  29%|##8       | 2/7 [00:02<00:04,  1.00it/s]\u001b[A\u001b[A\u001b[A"
          ],
          "name": "stderr"
        },
        {
          "output_type": "stream",
          "text": [
            "Early stopping, best iteration is:\n",
            "[48]\ttraining's rmse: 0.943586\tvalid_1's rmse: 1.07509\n",
            "Training until validation scores don't improve for 50 rounds.\n",
            "[100]\ttraining's rmse: 0.863317\tvalid_1's rmse: 1.07536\n",
            "Early stopping, best iteration is:\n",
            "[95]\ttraining's rmse: 0.870858\tvalid_1's rmse: 1.07485\n"
          ],
          "name": "stdout"
        },
        {
          "output_type": "stream",
          "text": [
            "\n",
            "\n",
            "\n",
            "feature_fraction, val_score: 1.074847:  29%|##8       | 2/7 [00:02<00:04,  1.00it/s]\u001b[A\u001b[A\u001b[A\n",
            "\n",
            "\n",
            "feature_fraction, val_score: 1.074847:  43%|####2     | 3/7 [00:02<00:03,  1.03it/s]\u001b[A\u001b[A\u001b[A\u001b[32m[I 2020-05-17 08:03:51,908]\u001b[0m Finished trial#2 with value: 1.0748472461832075 with parameters: {'feature_fraction': 0.5}. Best is trial#2 with value: 1.0748472461832075.\u001b[0m\n",
            "\n",
            "\n",
            "\n",
            "feature_fraction, val_score: 1.074847:  43%|####2     | 3/7 [00:03<00:03,  1.03it/s]\u001b[A\u001b[A\u001b[A"
          ],
          "name": "stderr"
        },
        {
          "output_type": "stream",
          "text": [
            "Training until validation scores don't improve for 50 rounds.\n"
          ],
          "name": "stdout"
        },
        {
          "output_type": "stream",
          "text": [
            "\n",
            "\n",
            "\n",
            "feature_fraction, val_score: 1.074847:  43%|####2     | 3/7 [00:03<00:03,  1.03it/s]\u001b[A\u001b[A\u001b[A\n",
            "\n",
            "\n",
            "feature_fraction, val_score: 1.074847:  57%|#####7    | 4/7 [00:03<00:02,  1.10it/s]\u001b[A\u001b[A\u001b[A\u001b[32m[I 2020-05-17 08:03:52,694]\u001b[0m Finished trial#3 with value: 1.0751956373299734 with parameters: {'feature_fraction': 0.6}. Best is trial#2 with value: 1.0748472461832075.\u001b[0m\n",
            "\n",
            "\n",
            "\n",
            "feature_fraction, val_score: 1.074847:  57%|#####7    | 4/7 [00:03<00:02,  1.10it/s]\u001b[A\u001b[A\u001b[A"
          ],
          "name": "stderr"
        },
        {
          "output_type": "stream",
          "text": [
            "[100]\ttraining's rmse: 0.862763\tvalid_1's rmse: 1.07786\n",
            "Early stopping, best iteration is:\n",
            "[50]\ttraining's rmse: 0.94676\tvalid_1's rmse: 1.0752\n",
            "Training until validation scores don't improve for 50 rounds.\n"
          ],
          "name": "stdout"
        },
        {
          "output_type": "stream",
          "text": [
            "\n",
            "\n",
            "\n",
            "feature_fraction, val_score: 1.074847:  57%|#####7    | 4/7 [00:04<00:02,  1.10it/s]\u001b[A\u001b[A\u001b[A\n",
            "\n",
            "\n",
            "feature_fraction, val_score: 1.074847:  71%|#######1  | 5/7 [00:04<00:01,  1.10it/s]\u001b[A\u001b[A\u001b[A\u001b[32m[I 2020-05-17 08:03:53,589]\u001b[0m Finished trial#4 with value: 1.0753495154171036 with parameters: {'feature_fraction': 0.8}. Best is trial#2 with value: 1.0748472461832075.\u001b[0m\n",
            "\n",
            "\n",
            "\n",
            "feature_fraction, val_score: 1.074847:  71%|#######1  | 5/7 [00:04<00:01,  1.10it/s]\u001b[A\u001b[A\u001b[A"
          ],
          "name": "stderr"
        },
        {
          "output_type": "stream",
          "text": [
            "Early stopping, best iteration is:\n",
            "[44]\ttraining's rmse: 0.953322\tvalid_1's rmse: 1.07535\n",
            "Training until validation scores don't improve for 50 rounds.\n"
          ],
          "name": "stdout"
        },
        {
          "output_type": "stream",
          "text": [
            "\n",
            "\n",
            "\n",
            "feature_fraction, val_score: 1.074847:  71%|#######1  | 5/7 [00:05<00:01,  1.10it/s]\u001b[A\u001b[A\u001b[A\n",
            "\n",
            "\n",
            "feature_fraction, val_score: 1.074847:  86%|########5 | 6/7 [00:05<00:00,  1.17it/s]\u001b[A\u001b[A\u001b[A"
          ],
          "name": "stderr"
        },
        {
          "output_type": "stream",
          "text": [
            "[100]\ttraining's rmse: 0.873551\tvalid_1's rmse: 1.08018\n",
            "Early stopping, best iteration is:\n",
            "[79]\ttraining's rmse: 0.904951\tvalid_1's rmse: 1.07899\n"
          ],
          "name": "stdout"
        },
        {
          "output_type": "stream",
          "text": [
            "\u001b[32m[I 2020-05-17 08:03:54,329]\u001b[0m Finished trial#5 with value: 1.0789913678118368 with parameters: {'feature_fraction': 0.4}. Best is trial#2 with value: 1.0748472461832075.\u001b[0m\n",
            "\n",
            "\n",
            "\n",
            "feature_fraction, val_score: 1.074847:  86%|########5 | 6/7 [00:05<00:00,  1.17it/s]\u001b[A\u001b[A\u001b[A"
          ],
          "name": "stderr"
        },
        {
          "output_type": "stream",
          "text": [
            "Training until validation scores don't improve for 50 rounds.\n"
          ],
          "name": "stdout"
        },
        {
          "output_type": "stream",
          "text": [
            "\n",
            "\n",
            "\n",
            "feature_fraction, val_score: 1.074847:  86%|########5 | 6/7 [00:06<00:00,  1.17it/s]\u001b[A\u001b[A\u001b[A\n",
            "\n",
            "\n",
            "feature_fraction, val_score: 1.074847: 100%|##########| 7/7 [00:06<00:00,  1.03it/s]\u001b[A\u001b[A\u001b[A"
          ],
          "name": "stderr"
        },
        {
          "output_type": "stream",
          "text": [
            "[100]\ttraining's rmse: 0.848655\tvalid_1's rmse: 1.07958\n",
            "Early stopping, best iteration is:\n",
            "[64]\ttraining's rmse: 0.908444\tvalid_1's rmse: 1.07556\n"
          ],
          "name": "stdout"
        },
        {
          "output_type": "stream",
          "text": [
            "\u001b[32m[I 2020-05-17 08:03:55,577]\u001b[0m Finished trial#6 with value: 1.0755611375814844 with parameters: {'feature_fraction': 1.0}. Best is trial#2 with value: 1.0748472461832075.\u001b[0m\n",
            "feature_fraction, val_score: 1.074847: 100%|##########| 7/7 [00:06<00:00,  1.05it/s]\n",
            "\n",
            "\n",
            "\n",
            "  0%|          | 0/20 [00:00<?, ?it/s]\u001b[A\u001b[A\u001b[A\n",
            "\n",
            "\n",
            "num_leaves, val_score: 1.074847:   0%|          | 0/20 [00:00<?, ?it/s]\u001b[A\u001b[A\u001b[A"
          ],
          "name": "stderr"
        },
        {
          "output_type": "stream",
          "text": [
            "Training until validation scores don't improve for 50 rounds.\n"
          ],
          "name": "stdout"
        },
        {
          "output_type": "stream",
          "text": [
            "\n",
            "\n",
            "\n",
            "num_leaves, val_score: 1.074847:   0%|          | 0/20 [00:00<?, ?it/s]\u001b[A\u001b[A\u001b[A\n",
            "\n",
            "\n",
            "num_leaves, val_score: 1.074847:   5%|5         | 1/20 [00:00<00:18,  1.05it/s]\u001b[A\u001b[A\u001b[A\u001b[32m[I 2020-05-17 08:03:56,632]\u001b[0m Finished trial#7 with value: 1.076483000107397 with parameters: {'num_leaves': 52}. Best is trial#7 with value: 1.076483000107397.\u001b[0m\n",
            "\n",
            "\n",
            "\n",
            "num_leaves, val_score: 1.074847:   5%|5         | 1/20 [00:01<00:18,  1.05it/s]\u001b[A\u001b[A\u001b[A"
          ],
          "name": "stderr"
        },
        {
          "output_type": "stream",
          "text": [
            "[100]\ttraining's rmse: 0.76334\tvalid_1's rmse: 1.08095\n",
            "Early stopping, best iteration is:\n",
            "[59]\ttraining's rmse: 0.858772\tvalid_1's rmse: 1.07648\n",
            "Training until validation scores don't improve for 50 rounds.\n"
          ],
          "name": "stdout"
        },
        {
          "output_type": "stream",
          "text": [
            "\n",
            "\n",
            "\n",
            "num_leaves, val_score: 1.074847:   5%|5         | 1/20 [00:03<00:18,  1.05it/s]\u001b[A\u001b[A\u001b[A\n",
            "\n",
            "\n",
            "num_leaves, val_score: 1.074847:  10%|#         | 2/20 [00:03<00:24,  1.35s/it]\u001b[A\u001b[A\u001b[A\u001b[32m[I 2020-05-17 08:03:58,915]\u001b[0m Finished trial#8 with value: 1.0877115395371864 with parameters: {'num_leaves': 173}. Best is trial#7 with value: 1.076483000107397.\u001b[0m\n",
            "\n",
            "\n",
            "\n",
            "num_leaves, val_score: 1.074847:  10%|#         | 2/20 [00:03<00:24,  1.35s/it]\u001b[A\u001b[A\u001b[A"
          ],
          "name": "stderr"
        },
        {
          "output_type": "stream",
          "text": [
            "Early stopping, best iteration is:\n",
            "[49]\ttraining's rmse: 0.624905\tvalid_1's rmse: 1.08771\n",
            "Training until validation scores don't improve for 50 rounds.\n"
          ],
          "name": "stdout"
        },
        {
          "output_type": "stream",
          "text": [
            "\n",
            "\n",
            "\n",
            "num_leaves, val_score: 1.074847:  10%|#         | 2/20 [00:05<00:24,  1.35s/it]\u001b[A\u001b[A\u001b[A\n",
            "\n",
            "\n",
            "num_leaves, val_score: 1.074847:  15%|#5        | 3/20 [00:05<00:26,  1.56s/it]\u001b[A\u001b[A\u001b[A\u001b[32m[I 2020-05-17 08:04:00,957]\u001b[0m Finished trial#9 with value: 1.0936330792164302 with parameters: {'num_leaves': 187}. Best is trial#7 with value: 1.076483000107397.\u001b[0m\n",
            "\n",
            "\n",
            "\n",
            "num_leaves, val_score: 1.074847:  15%|#5        | 3/20 [00:05<00:26,  1.56s/it]\u001b[A\u001b[A\u001b[A"
          ],
          "name": "stderr"
        },
        {
          "output_type": "stream",
          "text": [
            "Early stopping, best iteration is:\n",
            "[31]\ttraining's rmse: 0.737748\tvalid_1's rmse: 1.09363\n",
            "Training until validation scores don't improve for 50 rounds.\n"
          ],
          "name": "stdout"
        },
        {
          "output_type": "stream",
          "text": [
            "\n",
            "\n",
            "\n",
            "num_leaves, val_score: 1.074847:  15%|#5        | 3/20 [00:06<00:26,  1.56s/it]\u001b[A\u001b[A\u001b[A\n",
            "\n",
            "\n",
            "num_leaves, val_score: 1.074847:  20%|##        | 4/20 [00:06<00:23,  1.46s/it]\u001b[A\u001b[A\u001b[A\u001b[32m[I 2020-05-17 08:04:02,174]\u001b[0m Finished trial#10 with value: 1.0867092993231993 with parameters: {'num_leaves': 76}. Best is trial#7 with value: 1.076483000107397.\u001b[0m\n",
            "\n",
            "\n",
            "\n",
            "num_leaves, val_score: 1.074847:  20%|##        | 4/20 [00:06<00:23,  1.46s/it]\u001b[A\u001b[A\u001b[A"
          ],
          "name": "stderr"
        },
        {
          "output_type": "stream",
          "text": [
            "Early stopping, best iteration is:\n",
            "[45]\ttraining's rmse: 0.836783\tvalid_1's rmse: 1.08671\n",
            "Training until validation scores don't improve for 50 rounds.\n"
          ],
          "name": "stdout"
        },
        {
          "output_type": "stream",
          "text": [
            "\n",
            "\n",
            "\n",
            "num_leaves, val_score: 1.074847:  20%|##        | 4/20 [00:08<00:23,  1.46s/it]\u001b[A\u001b[A\u001b[A\n",
            "\n",
            "\n",
            "num_leaves, val_score: 1.074847:  25%|##5       | 5/20 [00:08<00:23,  1.55s/it]\u001b[A\u001b[A\u001b[A\u001b[32m[I 2020-05-17 08:04:03,965]\u001b[0m Finished trial#11 with value: 1.0840102996550642 with parameters: {'num_leaves': 138}. Best is trial#7 with value: 1.076483000107397.\u001b[0m\n",
            "\n",
            "\n",
            "\n",
            "num_leaves, val_score: 1.074847:  25%|##5       | 5/20 [00:08<00:23,  1.55s/it]\u001b[A\u001b[A\u001b[A"
          ],
          "name": "stderr"
        },
        {
          "output_type": "stream",
          "text": [
            "Early stopping, best iteration is:\n",
            "[40]\ttraining's rmse: 0.74118\tvalid_1's rmse: 1.08401\n",
            "Training until validation scores don't improve for 50 rounds.\n"
          ],
          "name": "stdout"
        },
        {
          "output_type": "stream",
          "text": [
            "\n",
            "\n",
            "\n",
            "num_leaves, val_score: 1.074847:  25%|##5       | 5/20 [00:09<00:23,  1.55s/it]\u001b[A\u001b[A\u001b[A\n",
            "\n",
            "\n",
            "num_leaves, val_score: 1.074847:  30%|###       | 6/20 [00:09<00:20,  1.47s/it]\u001b[A\u001b[A\u001b[A\u001b[32m[I 2020-05-17 08:04:05,234]\u001b[0m Finished trial#12 with value: 1.0785719154131557 with parameters: {'num_leaves': 79}. Best is trial#7 with value: 1.076483000107397.\u001b[0m\n",
            "\n",
            "\n",
            "\n",
            "num_leaves, val_score: 1.074847:  30%|###       | 6/20 [00:09<00:20,  1.47s/it]\u001b[A\u001b[A\u001b[A"
          ],
          "name": "stderr"
        },
        {
          "output_type": "stream",
          "text": [
            "Early stopping, best iteration is:\n",
            "[49]\ttraining's rmse: 0.815113\tvalid_1's rmse: 1.07857\n",
            "Training until validation scores don't improve for 50 rounds.\n"
          ],
          "name": "stdout"
        },
        {
          "output_type": "stream",
          "text": [
            "\n",
            "\n",
            "\n",
            "num_leaves, val_score: 1.074847:  30%|###       | 6/20 [00:10<00:20,  1.47s/it]\u001b[A\u001b[A\u001b[A\n",
            "\n",
            "\n",
            "num_leaves, val_score: 1.074847:  35%|###5      | 7/20 [00:10<00:18,  1.46s/it]\u001b[A\u001b[A\u001b[A\u001b[32m[I 2020-05-17 08:04:06,673]\u001b[0m Finished trial#13 with value: 1.0840163166275902 with parameters: {'num_leaves': 109}. Best is trial#7 with value: 1.076483000107397.\u001b[0m\n",
            "\n",
            "\n",
            "\n",
            "num_leaves, val_score: 1.074847:  35%|###5      | 7/20 [00:11<00:18,  1.46s/it]\u001b[A\u001b[A\u001b[A"
          ],
          "name": "stderr"
        },
        {
          "output_type": "stream",
          "text": [
            "Early stopping, best iteration is:\n",
            "[35]\ttraining's rmse: 0.821405\tvalid_1's rmse: 1.08402\n",
            "Training until validation scores don't improve for 50 rounds.\n"
          ],
          "name": "stdout"
        },
        {
          "output_type": "stream",
          "text": [
            "\n",
            "\n",
            "\n",
            "num_leaves, val_score: 1.074847:  35%|###5      | 7/20 [00:12<00:18,  1.46s/it]\u001b[A\u001b[A\u001b[A\n",
            "\n",
            "\n",
            "num_leaves, val_score: 1.074847:  40%|####      | 8/20 [00:12<00:16,  1.37s/it]\u001b[A\u001b[A\u001b[A\u001b[32m[I 2020-05-17 08:04:07,844]\u001b[0m Finished trial#14 with value: 1.0869742172888328 with parameters: {'num_leaves': 72}. Best is trial#7 with value: 1.076483000107397.\u001b[0m\n",
            "\n",
            "\n",
            "\n",
            "num_leaves, val_score: 1.074847:  40%|####      | 8/20 [00:12<00:16,  1.37s/it]\u001b[A\u001b[A\u001b[A"
          ],
          "name": "stderr"
        },
        {
          "output_type": "stream",
          "text": [
            "Early stopping, best iteration is:\n",
            "[48]\ttraining's rmse: 0.834507\tvalid_1's rmse: 1.08697\n",
            "Training until validation scores don't improve for 50 rounds.\n"
          ],
          "name": "stdout"
        },
        {
          "output_type": "stream",
          "text": [
            "\n",
            "\n",
            "\n",
            "num_leaves, val_score: 1.074847:  40%|####      | 8/20 [00:14<00:16,  1.37s/it]\u001b[A\u001b[A\u001b[A\n",
            "\n",
            "\n",
            "num_leaves, val_score: 1.074847:  45%|####5     | 9/20 [00:14<00:19,  1.76s/it]\u001b[A\u001b[A\u001b[A\u001b[32m[I 2020-05-17 08:04:10,496]\u001b[0m Finished trial#15 with value: 1.0925405950028875 with parameters: {'num_leaves': 213}. Best is trial#7 with value: 1.076483000107397.\u001b[0m\n",
            "\n",
            "\n",
            "\n",
            "num_leaves, val_score: 1.074847:  45%|####5     | 9/20 [00:14<00:19,  1.76s/it]\u001b[A\u001b[A\u001b[A"
          ],
          "name": "stderr"
        },
        {
          "output_type": "stream",
          "text": [
            "[100]\ttraining's rmse: 0.328787\tvalid_1's rmse: 1.09752\n",
            "Early stopping, best iteration is:\n",
            "[50]\ttraining's rmse: 0.556436\tvalid_1's rmse: 1.09254\n",
            "Training until validation scores don't improve for 50 rounds.\n"
          ],
          "name": "stdout"
        },
        {
          "output_type": "stream",
          "text": [
            "\n",
            "\n",
            "\n",
            "num_leaves, val_score: 1.074847:  45%|####5     | 9/20 [00:17<00:19,  1.76s/it]\u001b[A\u001b[A\u001b[A\n",
            "\n",
            "\n",
            "num_leaves, val_score: 1.074847:  50%|#####     | 10/20 [00:17<00:19,  1.93s/it]\u001b[A\u001b[A\u001b[A\u001b[32m[I 2020-05-17 08:04:12,813]\u001b[0m Finished trial#16 with value: 1.0915541796263368 with parameters: {'num_leaves': 222}. Best is trial#7 with value: 1.076483000107397.\u001b[0m\n",
            "\n",
            "\n",
            "\n",
            "num_leaves, val_score: 1.074847:  50%|#####     | 10/20 [00:17<00:19,  1.93s/it]\u001b[A\u001b[A\u001b[A"
          ],
          "name": "stderr"
        },
        {
          "output_type": "stream",
          "text": [
            "Early stopping, best iteration is:\n",
            "[31]\ttraining's rmse: 0.696356\tvalid_1's rmse: 1.09155\n",
            "Training until validation scores don't improve for 50 rounds.\n",
            "[100]\ttraining's rmse: 1.08546\tvalid_1's rmse: 1.09508\n",
            "[200]\ttraining's rmse: 1.06904\tvalid_1's rmse: 1.08471\n",
            "[300]\ttraining's rmse: 1.06043\tvalid_1's rmse: 1.08126\n"
          ],
          "name": "stdout"
        },
        {
          "output_type": "stream",
          "text": [
            "\n",
            "\n",
            "\n",
            "num_leaves, val_score: 1.074847:  50%|#####     | 10/20 [00:17<00:19,  1.93s/it]\u001b[A\u001b[A\u001b[A"
          ],
          "name": "stderr"
        },
        {
          "output_type": "stream",
          "text": [
            "[400]\ttraining's rmse: 1.05496\tvalid_1's rmse: 1.07971\n",
            "[500]\ttraining's rmse: 1.0511\tvalid_1's rmse: 1.07944\n",
            "[600]\ttraining's rmse: 1.04817\tvalid_1's rmse: 1.07923\n",
            "Early stopping, best iteration is:\n",
            "[584]\ttraining's rmse: 1.0486\tvalid_1's rmse: 1.07905\n"
          ],
          "name": "stdout"
        },
        {
          "output_type": "stream",
          "text": [
            "\n",
            "\n",
            "\n",
            "num_leaves, val_score: 1.074847:  55%|#####5    | 11/20 [00:17<00:13,  1.54s/it]\u001b[A\u001b[A\u001b[A\u001b[32m[I 2020-05-17 08:04:13,448]\u001b[0m Finished trial#17 with value: 1.0790467623053828 with parameters: {'num_leaves': 2}. Best is trial#7 with value: 1.076483000107397.\u001b[0m\n",
            "\n",
            "\n",
            "\n",
            "num_leaves, val_score: 1.074847:  55%|#####5    | 11/20 [00:17<00:13,  1.54s/it]\u001b[A\u001b[A\u001b[A"
          ],
          "name": "stderr"
        },
        {
          "output_type": "stream",
          "text": [
            "Training until validation scores don't improve for 50 rounds.\n"
          ],
          "name": "stdout"
        },
        {
          "output_type": "stream",
          "text": [
            "\n",
            "\n",
            "\n",
            "num_leaves, val_score: 1.073229:  55%|#####5    | 11/20 [00:18<00:13,  1.54s/it]\u001b[A\u001b[A\u001b[A\n",
            "\n",
            "\n",
            "num_leaves, val_score: 1.073229:  60%|######    | 12/20 [00:18<00:09,  1.22s/it]\u001b[A\u001b[A\u001b[A"
          ],
          "name": "stderr"
        },
        {
          "output_type": "stream",
          "text": [
            "[100]\ttraining's rmse: 1.02889\tvalid_1's rmse: 1.07427\n",
            "Early stopping, best iteration is:\n",
            "[136]\ttraining's rmse: 1.01573\tvalid_1's rmse: 1.07323\n"
          ],
          "name": "stdout"
        },
        {
          "output_type": "stream",
          "text": [
            "\u001b[32m[I 2020-05-17 08:04:13,935]\u001b[0m Finished trial#18 with value: 1.0732285357766156 with parameters: {'num_leaves': 6}. Best is trial#18 with value: 1.0732285357766156.\u001b[0m\n",
            "\n",
            "\n",
            "\n",
            "num_leaves, val_score: 1.073229:  60%|######    | 12/20 [00:18<00:09,  1.22s/it]\u001b[A\u001b[A\u001b[A"
          ],
          "name": "stderr"
        },
        {
          "output_type": "stream",
          "text": [
            "Training until validation scores don't improve for 50 rounds.\n",
            "[100]\ttraining's rmse: 1.03831\tvalid_1's rmse: 1.07685\n"
          ],
          "name": "stdout"
        },
        {
          "output_type": "stream",
          "text": [
            "\n",
            "\n",
            "\n",
            "num_leaves, val_score: 1.073229:  60%|######    | 12/20 [00:18<00:09,  1.22s/it]\u001b[A\u001b[A\u001b[A\n",
            "\n",
            "\n",
            "num_leaves, val_score: 1.073229:  65%|######5   | 13/20 [00:18<00:07,  1.00s/it]\u001b[A\u001b[A\u001b[A\u001b[32m[I 2020-05-17 08:04:14,422]\u001b[0m Finished trial#19 with value: 1.0751877434331587 with parameters: {'num_leaves': 5}. Best is trial#18 with value: 1.0732285357766156.\u001b[0m\n",
            "\n",
            "\n",
            "\n",
            "num_leaves, val_score: 1.073229:  65%|######5   | 13/20 [00:18<00:07,  1.00s/it]\u001b[A\u001b[A\u001b[A"
          ],
          "name": "stderr"
        },
        {
          "output_type": "stream",
          "text": [
            "[200]\ttraining's rmse: 1.01022\tvalid_1's rmse: 1.07585\n",
            "Early stopping, best iteration is:\n",
            "[175]\ttraining's rmse: 1.01669\tvalid_1's rmse: 1.07519\n",
            "Training until validation scores don't improve for 50 rounds.\n"
          ],
          "name": "stdout"
        },
        {
          "output_type": "stream",
          "text": [
            "\n",
            "\n",
            "\n",
            "num_leaves, val_score: 1.069968:  65%|######5   | 13/20 [00:19<00:07,  1.00s/it]\u001b[A\u001b[A\u001b[A\n",
            "\n",
            "\n",
            "num_leaves, val_score: 1.069968:  70%|#######   | 14/20 [00:19<00:05,  1.11it/s]\u001b[A\u001b[A\u001b[A"
          ],
          "name": "stderr"
        },
        {
          "output_type": "stream",
          "text": [
            "[100]\ttraining's rmse: 0.925087\tvalid_1's rmse: 1.0719\n",
            "Early stopping, best iteration is:\n",
            "[77]\ttraining's rmse: 0.950449\tvalid_1's rmse: 1.06997\n"
          ],
          "name": "stdout"
        },
        {
          "output_type": "stream",
          "text": [
            "\u001b[32m[I 2020-05-17 08:04:15,095]\u001b[0m Finished trial#20 with value: 1.0699676480934455 with parameters: {'num_leaves': 21}. Best is trial#20 with value: 1.0699676480934455.\u001b[0m\n",
            "\n",
            "\n",
            "\n",
            "num_leaves, val_score: 1.069968:  70%|#######   | 14/20 [00:19<00:05,  1.11it/s]\u001b[A\u001b[A\u001b[A"
          ],
          "name": "stderr"
        },
        {
          "output_type": "stream",
          "text": [
            "Training until validation scores don't improve for 50 rounds.\n"
          ],
          "name": "stdout"
        },
        {
          "output_type": "stream",
          "text": [
            "\n",
            "\n",
            "\n",
            "num_leaves, val_score: 1.069968:  70%|#######   | 14/20 [00:20<00:05,  1.11it/s]\u001b[A\u001b[A\u001b[A\n",
            "\n",
            "\n",
            "num_leaves, val_score: 1.069968:  75%|#######5  | 15/20 [00:20<00:04,  1.18it/s]\u001b[A\u001b[A\u001b[A\u001b[32m[I 2020-05-17 08:04:15,810]\u001b[0m Finished trial#21 with value: 1.0761454698936743 with parameters: {'num_leaves': 29}. Best is trial#20 with value: 1.0699676480934455.\u001b[0m\n",
            "\n",
            "\n",
            "\n",
            "num_leaves, val_score: 1.069968:  75%|#######5  | 15/20 [00:20<00:04,  1.18it/s]\u001b[A\u001b[A\u001b[A"
          ],
          "name": "stderr"
        },
        {
          "output_type": "stream",
          "text": [
            "[100]\ttraining's rmse: 0.876645\tvalid_1's rmse: 1.07865\n",
            "Early stopping, best iteration is:\n",
            "[59]\ttraining's rmse: 0.939418\tvalid_1's rmse: 1.07615\n",
            "Training until validation scores don't improve for 50 rounds.\n"
          ],
          "name": "stdout"
        },
        {
          "output_type": "stream",
          "text": [
            "\n",
            "\n",
            "\n",
            "num_leaves, val_score: 1.069968:  75%|#######5  | 15/20 [00:20<00:04,  1.18it/s]\u001b[A\u001b[A\u001b[A\n",
            "\n",
            "\n",
            "num_leaves, val_score: 1.069968:  80%|########  | 16/20 [00:20<00:03,  1.26it/s]\u001b[A\u001b[A\u001b[A\u001b[32m[I 2020-05-17 08:04:16,486]\u001b[0m Finished trial#22 with value: 1.073588446107912 with parameters: {'num_leaves': 26}. Best is trial#20 with value: 1.0699676480934455.\u001b[0m\n",
            "\n",
            "\n",
            "\n",
            "num_leaves, val_score: 1.069968:  80%|########  | 16/20 [00:20<00:03,  1.26it/s]\u001b[A\u001b[A\u001b[A"
          ],
          "name": "stderr"
        },
        {
          "output_type": "stream",
          "text": [
            "[100]\ttraining's rmse: 0.892795\tvalid_1's rmse: 1.07723\n",
            "Early stopping, best iteration is:\n",
            "[61]\ttraining's rmse: 0.949424\tvalid_1's rmse: 1.07359\n",
            "Training until validation scores don't improve for 50 rounds.\n"
          ],
          "name": "stdout"
        },
        {
          "output_type": "stream",
          "text": [
            "\n",
            "\n",
            "\n",
            "num_leaves, val_score: 1.069968:  80%|########  | 16/20 [00:21<00:03,  1.26it/s]\u001b[A\u001b[A\u001b[A\n",
            "\n",
            "\n",
            "num_leaves, val_score: 1.069968:  85%|########5 | 17/20 [00:21<00:02,  1.44it/s]\u001b[A\u001b[A\u001b[A"
          ],
          "name": "stderr"
        },
        {
          "output_type": "stream",
          "text": [
            "[100]\ttraining's rmse: 1.04875\tvalid_1's rmse: 1.07869\n",
            "[200]\ttraining's rmse: 1.02599\tvalid_1's rmse: 1.07556\n",
            "Early stopping, best iteration is:\n",
            "[186]\ttraining's rmse: 1.02864\tvalid_1's rmse: 1.07534\n"
          ],
          "name": "stdout"
        },
        {
          "output_type": "stream",
          "text": [
            "\u001b[32m[I 2020-05-17 08:04:16,951]\u001b[0m Finished trial#23 with value: 1.0753438206037034 with parameters: {'num_leaves': 4}. Best is trial#20 with value: 1.0699676480934455.\u001b[0m\n",
            "\n",
            "\n",
            "\n",
            "num_leaves, val_score: 1.069968:  85%|########5 | 17/20 [00:21<00:02,  1.44it/s]\u001b[A\u001b[A\u001b[A"
          ],
          "name": "stderr"
        },
        {
          "output_type": "stream",
          "text": [
            "Training until validation scores don't improve for 50 rounds.\n"
          ],
          "name": "stdout"
        },
        {
          "output_type": "stream",
          "text": [
            "\n",
            "\n",
            "\n",
            "num_leaves, val_score: 1.069968:  85%|########5 | 17/20 [00:23<00:02,  1.44it/s]\u001b[A\u001b[A\u001b[A\n",
            "\n",
            "\n",
            "num_leaves, val_score: 1.069968:  90%|######### | 18/20 [00:23<00:02,  1.25s/it]\u001b[A\u001b[A\u001b[A\u001b[32m[I 2020-05-17 08:04:19,499]\u001b[0m Finished trial#24 with value: 1.095646118530179 with parameters: {'num_leaves': 252}. Best is trial#20 with value: 1.0699676480934455.\u001b[0m\n",
            "\n",
            "\n",
            "\n",
            "num_leaves, val_score: 1.069968:  90%|######### | 18/20 [00:23<00:02,  1.25s/it]\u001b[A\u001b[A\u001b[A"
          ],
          "name": "stderr"
        },
        {
          "output_type": "stream",
          "text": [
            "Early stopping, best iteration is:\n",
            "[31]\ttraining's rmse: 0.66537\tvalid_1's rmse: 1.09565\n",
            "Training until validation scores don't improve for 50 rounds.\n"
          ],
          "name": "stdout"
        },
        {
          "output_type": "stream",
          "text": [
            "\n",
            "\n",
            "\n",
            "num_leaves, val_score: 1.069968:  90%|######### | 18/20 [00:24<00:02,  1.25s/it]\u001b[A\u001b[A\u001b[A\n",
            "\n",
            "\n",
            "num_leaves, val_score: 1.069968:  95%|#########5| 19/20 [00:24<00:01,  1.11s/it]\u001b[A\u001b[A\u001b[A\u001b[32m[I 2020-05-17 08:04:20,302]\u001b[0m Finished trial#25 with value: 1.0748278510801275 with parameters: {'num_leaves': 33}. Best is trial#20 with value: 1.0699676480934455.\u001b[0m\n",
            "\n",
            "\n",
            "\n",
            "num_leaves, val_score: 1.069968:  95%|#########5| 19/20 [00:24<00:01,  1.11s/it]\u001b[A\u001b[A\u001b[A"
          ],
          "name": "stderr"
        },
        {
          "output_type": "stream",
          "text": [
            "[100]\ttraining's rmse: 0.855784\tvalid_1's rmse: 1.07546\n",
            "Early stopping, best iteration is:\n",
            "[63]\ttraining's rmse: 0.917584\tvalid_1's rmse: 1.07483\n",
            "Training until validation scores don't improve for 50 rounds.\n"
          ],
          "name": "stdout"
        },
        {
          "output_type": "stream",
          "text": [
            "\n",
            "\n",
            "\n",
            "num_leaves, val_score: 1.069968:  95%|#########5| 19/20 [00:26<00:01,  1.11s/it]\u001b[A\u001b[A\u001b[A\n",
            "\n",
            "\n",
            "num_leaves, val_score: 1.069968: 100%|##########| 20/20 [00:26<00:00,  1.26s/it]\u001b[A\u001b[A\u001b[A\u001b[32m[I 2020-05-17 08:04:21,888]\u001b[0m Finished trial#26 with value: 1.0843214903033271 with parameters: {'num_leaves': 118}. Best is trial#20 with value: 1.0699676480934455.\u001b[0m\n",
            "num_leaves, val_score: 1.069968: 100%|##########| 20/20 [00:26<00:00,  1.32s/it]\n",
            "\n",
            "\n",
            "\n",
            "  0%|          | 0/10 [00:00<?, ?it/s]\u001b[A\u001b[A\u001b[A\n",
            "\n",
            "\n",
            "bagging, val_score: 1.069968:   0%|          | 0/10 [00:00<?, ?it/s]\u001b[A\u001b[A\u001b[A"
          ],
          "name": "stderr"
        },
        {
          "output_type": "stream",
          "text": [
            "Early stopping, best iteration is:\n",
            "[37]\ttraining's rmse: 0.795197\tvalid_1's rmse: 1.08432\n",
            "Training until validation scores don't improve for 50 rounds.\n"
          ],
          "name": "stdout"
        },
        {
          "output_type": "stream",
          "text": [
            "\n",
            "\n",
            "\n",
            "bagging, val_score: 1.069968:   0%|          | 0/10 [00:00<?, ?it/s]\u001b[A\u001b[A\u001b[A\n",
            "\n",
            "\n",
            "bagging, val_score: 1.069968:  10%|#         | 1/10 [00:00<00:04,  1.85it/s]\u001b[A\u001b[A\u001b[A\u001b[32m[I 2020-05-17 08:04:22,533]\u001b[0m Finished trial#27 with value: 1.0824926076029215 with parameters: {'bagging_fraction': 0.4746722242576439, 'bagging_freq': 3}. Best is trial#27 with value: 1.0824926076029215.\u001b[0m\n",
            "\n",
            "\n",
            "\n",
            "bagging, val_score: 1.069968:  10%|#         | 1/10 [00:00<00:04,  1.85it/s]\u001b[A\u001b[A\u001b[A"
          ],
          "name": "stderr"
        },
        {
          "output_type": "stream",
          "text": [
            "[100]\ttraining's rmse: 0.93155\tvalid_1's rmse: 1.08569\n",
            "Early stopping, best iteration is:\n",
            "[60]\ttraining's rmse: 0.978977\tvalid_1's rmse: 1.08249\n",
            "Training until validation scores don't improve for 50 rounds.\n"
          ],
          "name": "stdout"
        },
        {
          "output_type": "stream",
          "text": [
            "\n",
            "\n",
            "\n",
            "bagging, val_score: 1.069968:  10%|#         | 1/10 [00:01<00:04,  1.85it/s]\u001b[A\u001b[A\u001b[A\n",
            "\n",
            "\n",
            "bagging, val_score: 1.069968:  20%|##        | 2/10 [00:01<00:04,  1.66it/s]\u001b[A\u001b[A\u001b[A\u001b[32m[I 2020-05-17 08:04:23,277]\u001b[0m Finished trial#28 with value: 1.0771403728208957 with parameters: {'bagging_fraction': 0.8506762136268725, 'bagging_freq': 2}. Best is trial#28 with value: 1.0771403728208957.\u001b[0m\n",
            "\n",
            "\n",
            "\n",
            "bagging, val_score: 1.069968:  20%|##        | 2/10 [00:01<00:04,  1.66it/s]"
          ],
          "name": "stderr"
        },
        {
          "output_type": "stream",
          "text": [
            "[100]\ttraining's rmse: 0.925627\tvalid_1's rmse: 1.07963\n",
            "Early stopping, best iteration is:\n",
            "[67]\ttraining's rmse: 0.963832\tvalid_1's rmse: 1.07714\n"
          ],
          "name": "stdout"
        },
        {
          "output_type": "stream",
          "text": [
            "\u001b[A\u001b[A\u001b[A"
          ],
          "name": "stderr"
        },
        {
          "output_type": "stream",
          "text": [
            "Training until validation scores don't improve for 50 rounds.\n"
          ],
          "name": "stdout"
        },
        {
          "output_type": "stream",
          "text": [
            "\n",
            "\n",
            "\n",
            "bagging, val_score: 1.069968:  20%|##        | 2/10 [00:01<00:04,  1.66it/s]\u001b[A\u001b[A\u001b[A\n",
            "\n",
            "\n",
            "bagging, val_score: 1.069968:  30%|###       | 3/10 [00:01<00:04,  1.58it/s]\u001b[A\u001b[A\u001b[A\u001b[32m[I 2020-05-17 08:04:23,979]\u001b[0m Finished trial#29 with value: 1.076139911109492 with parameters: {'bagging_fraction': 0.6591824786162102, 'bagging_freq': 2}. Best is trial#29 with value: 1.076139911109492.\u001b[0m\n",
            "\n",
            "\n",
            "\n",
            "bagging, val_score: 1.069968:  30%|###       | 3/10 [00:02<00:04,  1.58it/s]\u001b[A\u001b[A\u001b[A"
          ],
          "name": "stderr"
        },
        {
          "output_type": "stream",
          "text": [
            "[100]\ttraining's rmse: 0.926788\tvalid_1's rmse: 1.07996\n",
            "Early stopping, best iteration is:\n",
            "[67]\ttraining's rmse: 0.965949\tvalid_1's rmse: 1.07614\n",
            "Training until validation scores don't improve for 50 rounds.\n"
          ],
          "name": "stdout"
        },
        {
          "output_type": "stream",
          "text": [
            "\n",
            "\n",
            "\n",
            "bagging, val_score: 1.069968:  30%|###       | 3/10 [00:02<00:04,  1.58it/s]\u001b[A\u001b[A\u001b[A\n",
            "\n",
            "\n",
            "bagging, val_score: 1.069968:  40%|####      | 4/10 [00:02<00:03,  1.56it/s]\u001b[A\u001b[A\u001b[A"
          ],
          "name": "stderr"
        },
        {
          "output_type": "stream",
          "text": [
            "[100]\ttraining's rmse: 0.939092\tvalid_1's rmse: 1.08562\n",
            "Early stopping, best iteration is:\n",
            "[73]\ttraining's rmse: 0.96877\tvalid_1's rmse: 1.08247\n"
          ],
          "name": "stdout"
        },
        {
          "output_type": "stream",
          "text": [
            "\u001b[32m[I 2020-05-17 08:04:24,651]\u001b[0m Finished trial#30 with value: 1.0824730213920462 with parameters: {'bagging_fraction': 0.44934533065116533, 'bagging_freq': 5}. Best is trial#29 with value: 1.076139911109492.\u001b[0m\n",
            "\n",
            "\n",
            "\n",
            "bagging, val_score: 1.069968:  40%|####      | 4/10 [00:02<00:03,  1.56it/s]\u001b[A\u001b[A\u001b[A"
          ],
          "name": "stderr"
        },
        {
          "output_type": "stream",
          "text": [
            "Training until validation scores don't improve for 50 rounds.\n"
          ],
          "name": "stdout"
        },
        {
          "output_type": "stream",
          "text": [
            "\n",
            "\n",
            "\n",
            "bagging, val_score: 1.069968:  40%|####      | 4/10 [00:03<00:03,  1.56it/s]\u001b[A\u001b[A\u001b[A\n",
            "\n",
            "\n",
            "bagging, val_score: 1.069968:  50%|#####     | 5/10 [00:03<00:03,  1.59it/s]\u001b[A\u001b[A\u001b[A\u001b[32m[I 2020-05-17 08:04:25,242]\u001b[0m Finished trial#31 with value: 1.082207358060168 with parameters: {'bagging_fraction': 0.5182484993512917, 'bagging_freq': 3}. Best is trial#29 with value: 1.076139911109492.\u001b[0m\n",
            "\n",
            "\n",
            "\n",
            "bagging, val_score: 1.069968:  50%|#####     | 5/10 [00:03<00:03,  1.59it/s]\u001b[A\u001b[A\u001b[A"
          ],
          "name": "stderr"
        },
        {
          "output_type": "stream",
          "text": [
            "Early stopping, best iteration is:\n",
            "[49]\ttraining's rmse: 0.995601\tvalid_1's rmse: 1.08221\n",
            "Training until validation scores don't improve for 50 rounds.\n"
          ],
          "name": "stdout"
        },
        {
          "output_type": "stream",
          "text": [
            "\n",
            "\n",
            "\n",
            "bagging, val_score: 1.069968:  50%|#####     | 5/10 [00:03<00:03,  1.59it/s]\u001b[A\u001b[A\u001b[A\n",
            "\n",
            "\n",
            "bagging, val_score: 1.069968:  60%|######    | 6/10 [00:03<00:02,  1.53it/s]\u001b[A\u001b[A\u001b[A\u001b[32m[I 2020-05-17 08:04:25,960]\u001b[0m Finished trial#32 with value: 1.0756721720534363 with parameters: {'bagging_fraction': 0.9505594468852803, 'bagging_freq': 7}. Best is trial#32 with value: 1.0756721720534363.\u001b[0m\n",
            "\n",
            "\n",
            "\n",
            "bagging, val_score: 1.069968:  60%|######    | 6/10 [00:04<00:02,  1.53it/s]\u001b[A\u001b[A\u001b[A"
          ],
          "name": "stderr"
        },
        {
          "output_type": "stream",
          "text": [
            "[100]\ttraining's rmse: 0.924833\tvalid_1's rmse: 1.07897\n",
            "Early stopping, best iteration is:\n",
            "[67]\ttraining's rmse: 0.964118\tvalid_1's rmse: 1.07567\n",
            "Training until validation scores don't improve for 50 rounds.\n"
          ],
          "name": "stdout"
        },
        {
          "output_type": "stream",
          "text": [
            "\n",
            "\n",
            "\n",
            "bagging, val_score: 1.069968:  60%|######    | 6/10 [00:04<00:02,  1.53it/s]\u001b[A\u001b[A\u001b[A\n",
            "\n",
            "\n",
            "bagging, val_score: 1.069968:  70%|#######   | 7/10 [00:04<00:02,  1.49it/s]\u001b[A\u001b[A\u001b[A\u001b[32m[I 2020-05-17 08:04:26,673]\u001b[0m Finished trial#33 with value: 1.0760003020980429 with parameters: {'bagging_fraction': 0.7729668183116085, 'bagging_freq': 4}. Best is trial#32 with value: 1.0756721720534363.\u001b[0m\n",
            "\n",
            "\n",
            "\n"
          ],
          "name": "stderr"
        },
        {
          "output_type": "stream",
          "text": [
            "[100]\ttraining's rmse: 0.927003\tvalid_1's rmse: 1.0784\n",
            "Early stopping, best iteration is:\n",
            "[71]\ttraining's rmse: 0.961288\tvalid_1's rmse: 1.076\n"
          ],
          "name": "stdout"
        },
        {
          "output_type": "stream",
          "text": [
            "\rbagging, val_score: 1.069968:  70%|#######   | 7/10 [00:04<00:02,  1.49it/s]\u001b[A\u001b[A\u001b[A"
          ],
          "name": "stderr"
        },
        {
          "output_type": "stream",
          "text": [
            "Training until validation scores don't improve for 50 rounds.\n"
          ],
          "name": "stdout"
        },
        {
          "output_type": "stream",
          "text": [
            "\n",
            "\n",
            "\n",
            "bagging, val_score: 1.069968:  70%|#######   | 7/10 [00:05<00:02,  1.49it/s]\u001b[A\u001b[A\u001b[A\n",
            "\n",
            "\n",
            "bagging, val_score: 1.069968:  80%|########  | 8/10 [00:05<00:01,  1.48it/s]\u001b[A\u001b[A\u001b[A"
          ],
          "name": "stderr"
        },
        {
          "output_type": "stream",
          "text": [
            "[100]\ttraining's rmse: 0.925217\tvalid_1's rmse: 1.07763\n",
            "Early stopping, best iteration is:\n",
            "[75]\ttraining's rmse: 0.954392\tvalid_1's rmse: 1.07576\n"
          ],
          "name": "stdout"
        },
        {
          "output_type": "stream",
          "text": [
            "\u001b[32m[I 2020-05-17 08:04:27,364]\u001b[0m Finished trial#34 with value: 1.075760813337261 with parameters: {'bagging_fraction': 0.7560426265030726, 'bagging_freq': 1}. Best is trial#32 with value: 1.0756721720534363.\u001b[0m\n",
            "\n",
            "\n",
            "\n",
            "bagging, val_score: 1.069968:  80%|########  | 8/10 [00:05<00:01,  1.48it/s]\u001b[A\u001b[A\u001b[A"
          ],
          "name": "stderr"
        },
        {
          "output_type": "stream",
          "text": [
            "Training until validation scores don't improve for 50 rounds.\n"
          ],
          "name": "stdout"
        },
        {
          "output_type": "stream",
          "text": [
            "\n",
            "\n",
            "\n",
            "bagging, val_score: 1.069968:  80%|########  | 8/10 [00:05<00:01,  1.48it/s]\u001b[A\u001b[A\u001b[A\n",
            "\n",
            "\n",
            "bagging, val_score: 1.069968:  90%|######### | 9/10 [00:05<00:00,  1.53it/s]\u001b[A\u001b[A\u001b[A\u001b[32m[I 2020-05-17 08:04:27,961]\u001b[0m Finished trial#35 with value: 1.083184055021875 with parameters: {'bagging_fraction': 0.46921102512405927, 'bagging_freq': 3}. Best is trial#32 with value: 1.0756721720534363.\u001b[0m\n",
            "\n",
            "\n",
            "\n",
            "bagging, val_score: 1.069968:  90%|######### | 9/10 [00:06<00:00,  1.53it/s]\u001b[A\u001b[A\u001b[A"
          ],
          "name": "stderr"
        },
        {
          "output_type": "stream",
          "text": [
            "[100]\ttraining's rmse: 0.93523\tvalid_1's rmse: 1.08773\n",
            "Early stopping, best iteration is:\n",
            "[52]\ttraining's rmse: 0.991413\tvalid_1's rmse: 1.08318\n",
            "Training until validation scores don't improve for 50 rounds.\n"
          ],
          "name": "stdout"
        },
        {
          "output_type": "stream",
          "text": [
            "\n",
            "\n",
            "\n",
            "bagging, val_score: 1.069968:  90%|######### | 9/10 [00:06<00:00,  1.53it/s]\u001b[A\u001b[A\u001b[A\n",
            "\n",
            "\n",
            "bagging, val_score: 1.069968: 100%|##########| 10/10 [00:06<00:00,  1.48it/s]\u001b[A\u001b[A\u001b[A\u001b[32m[I 2020-05-17 08:04:28,698]\u001b[0m Finished trial#36 with value: 1.0771608753703596 with parameters: {'bagging_fraction': 0.9622993682269778, 'bagging_freq': 2}. Best is trial#32 with value: 1.0756721720534363.\u001b[0m\n",
            "bagging, val_score: 1.069968: 100%|##########| 10/10 [00:06<00:00,  1.47it/s]\n",
            "\n",
            "\n",
            "\n",
            "  0%|          | 0/6 [00:00<?, ?it/s]\u001b[A\u001b[A\u001b[A\n",
            "\n",
            "\n",
            "feature_fraction_stage2, val_score: 1.069968:   0%|          | 0/6 [00:00<?, ?it/s]\u001b[A\u001b[A\u001b[A"
          ],
          "name": "stderr"
        },
        {
          "output_type": "stream",
          "text": [
            "[100]\ttraining's rmse: 0.924619\tvalid_1's rmse: 1.07979\n",
            "Early stopping, best iteration is:\n",
            "[65]\ttraining's rmse: 0.966514\tvalid_1's rmse: 1.07716\n"
          ],
          "name": "stdout"
        },
        {
          "output_type": "stream",
          "text": [
            "/usr/local/lib/python3.6/dist-packages/lightgbm/engine.py:118: UserWarning:\n",
            "\n",
            "Found `num_rounds` in params. Will use it instead of argument\n",
            "\n"
          ],
          "name": "stderr"
        },
        {
          "output_type": "stream",
          "text": [
            "Training until validation scores don't improve for 50 rounds.\n",
            "[100]\ttraining's rmse: 0.92272\tvalid_1's rmse: 1.07493\n"
          ],
          "name": "stdout"
        },
        {
          "output_type": "stream",
          "text": [
            "\n",
            "\n",
            "\n",
            "feature_fraction_stage2, val_score: 1.069968:   0%|          | 0/6 [00:00<?, ?it/s]\u001b[A\u001b[A\u001b[A\n",
            "\n",
            "\n",
            "feature_fraction_stage2, val_score: 1.069968:  17%|#6        | 1/6 [00:00<00:03,  1.32it/s]\u001b[A\u001b[A\u001b[A\u001b[32m[I 2020-05-17 08:04:29,560]\u001b[0m Finished trial#37 with value: 1.0745145651589176 with parameters: {'feature_fraction': 0.516}. Best is trial#37 with value: 1.0745145651589176.\u001b[0m\n",
            "\n",
            "\n",
            "\n",
            "feature_fraction_stage2, val_score: 1.069968:  17%|#6        | 1/6 [00:00<00:03,  1.32it/s]\u001b[A\u001b[A\u001b[A"
          ],
          "name": "stderr"
        },
        {
          "output_type": "stream",
          "text": [
            "Early stopping, best iteration is:\n",
            "[119]\ttraining's rmse: 0.903582\tvalid_1's rmse: 1.07451\n",
            "Training until validation scores don't improve for 50 rounds.\n"
          ],
          "name": "stdout"
        },
        {
          "output_type": "stream",
          "text": [
            "\n",
            "\n",
            "\n",
            "feature_fraction_stage2, val_score: 1.069968:  17%|#6        | 1/6 [00:01<00:03,  1.32it/s]\u001b[A\u001b[A\u001b[A\n",
            "\n",
            "\n",
            "feature_fraction_stage2, val_score: 1.069968:  33%|###3      | 2/6 [00:01<00:02,  1.40it/s]\u001b[A\u001b[A\u001b[A\u001b[32m[I 2020-05-17 08:04:30,178]\u001b[0m Finished trial#38 with value: 1.0730068338992247 with parameters: {'feature_fraction': 0.484}. Best is trial#38 with value: 1.0730068338992247.\u001b[0m\n",
            "\n",
            "\n",
            "\n",
            "feature_fraction_stage2, val_score: 1.069968:  33%|###3      | 2/6 [00:01<00:02,  1.40it/s]\u001b[A\u001b[A\u001b[A"
          ],
          "name": "stderr"
        },
        {
          "output_type": "stream",
          "text": [
            "[100]\ttraining's rmse: 0.926184\tvalid_1's rmse: 1.07474\n",
            "Early stopping, best iteration is:\n",
            "[61]\ttraining's rmse: 0.971367\tvalid_1's rmse: 1.07301\n",
            "Training until validation scores don't improve for 50 rounds.\n"
          ],
          "name": "stdout"
        },
        {
          "output_type": "stream",
          "text": [
            "\n",
            "\n",
            "\n",
            "feature_fraction_stage2, val_score: 1.069968:  33%|###3      | 2/6 [00:02<00:02,  1.40it/s]\u001b[A\u001b[A\u001b[A\n",
            "\n",
            "\n",
            "feature_fraction_stage2, val_score: 1.069968:  50%|#####     | 3/6 [00:02<00:02,  1.45it/s]\u001b[A\u001b[A\u001b[A\u001b[32m[I 2020-05-17 08:04:30,820]\u001b[0m Finished trial#39 with value: 1.074220239163458 with parameters: {'feature_fraction': 0.58}. Best is trial#38 with value: 1.0730068338992247.\u001b[0m\n",
            "\n",
            "\n",
            "\n",
            "feature_fraction_stage2, val_score: 1.069968:  50%|#####     | 3/6 [00:02<00:02,  1.45it/s]\u001b[A\u001b[A\u001b[A"
          ],
          "name": "stderr"
        },
        {
          "output_type": "stream",
          "text": [
            "[100]\ttraining's rmse: 0.923145\tvalid_1's rmse: 1.07694\n",
            "Early stopping, best iteration is:\n",
            "[54]\ttraining's rmse: 0.979819\tvalid_1's rmse: 1.07422\n",
            "Training until validation scores don't improve for 50 rounds.\n"
          ],
          "name": "stdout"
        },
        {
          "output_type": "stream",
          "text": [
            "\n",
            "\n",
            "\n",
            "feature_fraction_stage2, val_score: 1.069968:  50%|#####     | 3/6 [00:02<00:02,  1.45it/s]\u001b[A\u001b[A\u001b[A\n",
            "\n",
            "\n",
            "feature_fraction_stage2, val_score: 1.069968:  67%|######6   | 4/6 [00:02<00:01,  1.48it/s]\u001b[A\u001b[A\u001b[A\u001b[32m[I 2020-05-17 08:04:31,448]\u001b[0m Finished trial#40 with value: 1.074238139060687 with parameters: {'feature_fraction': 0.45199999999999996}. Best is trial#38 with value: 1.0730068338992247.\u001b[0m\n",
            "\n",
            "\n",
            "\n",
            "feature_fraction_stage2, val_score: 1.069968:  67%|######6   | 4/6 [00:02<00:01,  1.48it/s]\u001b[A\u001b[A\u001b[A"
          ],
          "name": "stderr"
        },
        {
          "output_type": "stream",
          "text": [
            "[100]\ttraining's rmse: 0.925825\tvalid_1's rmse: 1.07502\n",
            "Early stopping, best iteration is:\n",
            "[77]\ttraining's rmse: 0.951267\tvalid_1's rmse: 1.07424\n",
            "Training until validation scores don't improve for 50 rounds.\n"
          ],
          "name": "stdout"
        },
        {
          "output_type": "stream",
          "text": [
            "\n",
            "\n",
            "\n",
            "feature_fraction_stage2, val_score: 1.069968:  67%|######6   | 4/6 [00:03<00:01,  1.48it/s]\u001b[A\u001b[A\u001b[A\n",
            "\n",
            "\n",
            "feature_fraction_stage2, val_score: 1.069968:  83%|########3 | 5/6 [00:03<00:00,  1.55it/s]\u001b[A\u001b[A\u001b[A\u001b[32m[I 2020-05-17 08:04:32,037]\u001b[0m Finished trial#41 with value: 1.0779758692974495 with parameters: {'feature_fraction': 0.42}. Best is trial#38 with value: 1.0730068338992247.\u001b[0m\n",
            "\n",
            "\n",
            "\n",
            "feature_fraction_stage2, val_score: 1.069968:  83%|########3 | 5/6 [00:03<00:00,  1.55it/s]\u001b[A\u001b[A\u001b[A"
          ],
          "name": "stderr"
        },
        {
          "output_type": "stream",
          "text": [
            "[100]\ttraining's rmse: 0.92641\tvalid_1's rmse: 1.07898\n",
            "Early stopping, best iteration is:\n",
            "[67]\ttraining's rmse: 0.964447\tvalid_1's rmse: 1.07798\n",
            "Training until validation scores don't improve for 50 rounds.\n"
          ],
          "name": "stdout"
        },
        {
          "output_type": "stream",
          "text": [
            "\n",
            "\n",
            "\n",
            "feature_fraction_stage2, val_score: 1.069968:  83%|########3 | 5/6 [00:03<00:00,  1.55it/s]\u001b[A\u001b[A\u001b[A\n",
            "\n",
            "\n",
            "feature_fraction_stage2, val_score: 1.069968: 100%|##########| 6/6 [00:03<00:00,  1.50it/s]\u001b[A\u001b[A\u001b[A"
          ],
          "name": "stderr"
        },
        {
          "output_type": "stream",
          "text": [
            "[100]\ttraining's rmse: 0.922476\tvalid_1's rmse: 1.07716\n",
            "Early stopping, best iteration is:\n",
            "[79]\ttraining's rmse: 0.946603\tvalid_1's rmse: 1.07537\n"
          ],
          "name": "stdout"
        },
        {
          "output_type": "stream",
          "text": [
            "\u001b[32m[I 2020-05-17 08:04:32,742]\u001b[0m Finished trial#42 with value: 1.0753723246581226 with parameters: {'feature_fraction': 0.5479999999999999}. Best is trial#38 with value: 1.0730068338992247.\u001b[0m\n",
            "feature_fraction_stage2, val_score: 1.069968: 100%|##########| 6/6 [00:04<00:00,  1.49it/s]\n",
            "\n",
            "\n",
            "\n",
            "  0%|          | 0/20 [00:00<?, ?it/s]\u001b[A\u001b[A\u001b[A\n",
            "\n",
            "\n",
            "regularization_factors, val_score: 1.069968:   0%|          | 0/20 [00:00<?, ?it/s]\u001b[A\u001b[A\u001b[A"
          ],
          "name": "stderr"
        },
        {
          "output_type": "stream",
          "text": [
            "Training until validation scores don't improve for 50 rounds.\n"
          ],
          "name": "stdout"
        },
        {
          "output_type": "stream",
          "text": [
            "\n",
            "\n",
            "\n",
            "regularization_factors, val_score: 1.069968:   0%|          | 0/20 [00:00<?, ?it/s]\u001b[A\u001b[A\u001b[A\n",
            "\n",
            "\n",
            "regularization_factors, val_score: 1.069968:   5%|5         | 1/20 [00:00<00:11,  1.73it/s]\u001b[A\u001b[A\u001b[A\u001b[32m[I 2020-05-17 08:04:33,424]\u001b[0m Finished trial#43 with value: 1.069967657000231 with parameters: {'lambda_l1': 0.00013985160914077154, 'lambda_l2': 1.7886052665262902e-07}. Best is trial#43 with value: 1.069967657000231.\u001b[0m\n"
          ],
          "name": "stderr"
        },
        {
          "output_type": "stream",
          "text": [
            "[100]\ttraining's rmse: 0.925088\tvalid_1's rmse: 1.0719\n",
            "Early stopping, best iteration is:\n",
            "[77]\ttraining's rmse: 0.950449\tvalid_1's rmse: 1.06997\n"
          ],
          "name": "stdout"
        },
        {
          "output_type": "stream",
          "text": [
            "\n",
            "\n",
            "\n",
            "regularization_factors, val_score: 1.069968:   5%|5         | 1/20 [00:00<00:11,  1.73it/s]\u001b[A\u001b[A\u001b[A"
          ],
          "name": "stderr"
        },
        {
          "output_type": "stream",
          "text": [
            "Training until validation scores don't improve for 50 rounds.\n"
          ],
          "name": "stdout"
        },
        {
          "output_type": "stream",
          "text": [
            "\n",
            "\n",
            "\n",
            "regularization_factors, val_score: 1.069968:   5%|5         | 1/20 [00:01<00:11,  1.73it/s]\u001b[A\u001b[A\u001b[A\n",
            "\n",
            "\n",
            "regularization_factors, val_score: 1.069968:  10%|#         | 2/20 [00:01<00:10,  1.67it/s]\u001b[A\u001b[A\u001b[A\u001b[32m[I 2020-05-17 08:04:34,068]\u001b[0m Finished trial#44 with value: 1.073665475430628 with parameters: {'lambda_l1': 1.4752225865696313, 'lambda_l2': 1.857250751642217e-08}. Best is trial#43 with value: 1.069967657000231.\u001b[0m\n",
            "\n",
            "\n",
            "\n",
            "regularization_factors, val_score: 1.069968:  10%|#         | 2/20 [00:01<00:10,  1.67it/s]\u001b[A\u001b[A\u001b[A"
          ],
          "name": "stderr"
        },
        {
          "output_type": "stream",
          "text": [
            "[100]\ttraining's rmse: 0.928753\tvalid_1's rmse: 1.0754\n",
            "Early stopping, best iteration is:\n",
            "[63]\ttraining's rmse: 0.970264\tvalid_1's rmse: 1.07367\n",
            "Training until validation scores don't improve for 50 rounds.\n"
          ],
          "name": "stdout"
        },
        {
          "output_type": "stream",
          "text": [
            "\n",
            "\n",
            "\n",
            "regularization_factors, val_score: 1.069968:  10%|#         | 2/20 [00:01<00:10,  1.67it/s]\u001b[A\u001b[A\u001b[A\n",
            "\n",
            "\n",
            "regularization_factors, val_score: 1.069968:  15%|#5        | 3/20 [00:01<00:10,  1.65it/s]\u001b[A\u001b[A\u001b[A\u001b[32m[I 2020-05-17 08:04:34,684]\u001b[0m Finished trial#45 with value: 1.070378055275767 with parameters: {'lambda_l1': 0.004945966603206383, 'lambda_l2': 3.6332517465930316e-07}. Best is trial#43 with value: 1.069967657000231.\u001b[0m\n",
            "\n",
            "\n",
            "\n",
            "regularization_factors, val_score: 1.069968:  15%|#5        | 3/20 [00:01<00:10,  1.65it/s]\u001b[A\u001b[A\u001b[A"
          ],
          "name": "stderr"
        },
        {
          "output_type": "stream",
          "text": [
            "[100]\ttraining's rmse: 0.922578\tvalid_1's rmse: 1.07418\n",
            "Early stopping, best iteration is:\n",
            "[65]\ttraining's rmse: 0.964987\tvalid_1's rmse: 1.07038\n",
            "Training until validation scores don't improve for 50 rounds.\n"
          ],
          "name": "stdout"
        },
        {
          "output_type": "stream",
          "text": [
            "\n",
            "\n",
            "\n",
            "regularization_factors, val_score: 1.069968:  15%|#5        | 3/20 [00:02<00:10,  1.65it/s]\u001b[A\u001b[A\u001b[A\n",
            "\n",
            "\n",
            "regularization_factors, val_score: 1.069968:  20%|##        | 4/20 [00:02<00:10,  1.57it/s]\u001b[A\u001b[A\u001b[A\u001b[32m[I 2020-05-17 08:04:35,393]\u001b[0m Finished trial#46 with value: 1.0714858759553767 with parameters: {'lambda_l1': 9.646763336561165, 'lambda_l2': 8.0028998324888e-07}. Best is trial#43 with value: 1.069967657000231.\u001b[0m\n",
            "\n",
            "\n",
            "\n",
            "regularization_factors, val_score: 1.069968:  20%|##        | 4/20 [00:02<00:10,  1.57it/s]\u001b[A\u001b[A\u001b[A"
          ],
          "name": "stderr"
        },
        {
          "output_type": "stream",
          "text": [
            "[100]\ttraining's rmse: 0.946138\tvalid_1's rmse: 1.07282\n",
            "Early stopping, best iteration is:\n",
            "[72]\ttraining's rmse: 0.973442\tvalid_1's rmse: 1.07149\n",
            "Training until validation scores don't improve for 50 rounds.\n"
          ],
          "name": "stdout"
        },
        {
          "output_type": "stream",
          "text": [
            "\n",
            "\n",
            "\n",
            "regularization_factors, val_score: 1.069968:  20%|##        | 4/20 [00:03<00:10,  1.57it/s]\u001b[A\u001b[A\u001b[A\n",
            "\n",
            "\n",
            "regularization_factors, val_score: 1.069968:  25%|##5       | 5/20 [00:03<00:09,  1.54it/s]\u001b[A\u001b[A\u001b[A\u001b[32m[I 2020-05-17 08:04:36,074]\u001b[0m Finished trial#47 with value: 1.0699678214602497 with parameters: {'lambda_l1': 1.1474074382496102e-07, 'lambda_l2': 0.006389818165858611}. Best is trial#43 with value: 1.069967657000231.\u001b[0m\n",
            "\n",
            "\n",
            "\n",
            "regularization_factors, val_score: 1.069968:  25%|##5       | 5/20 [00:03<00:09,  1.54it/s]\u001b[A\u001b[A\u001b[A"
          ],
          "name": "stderr"
        },
        {
          "output_type": "stream",
          "text": [
            "[100]\ttraining's rmse: 0.925098\tvalid_1's rmse: 1.0719\n",
            "Early stopping, best iteration is:\n",
            "[77]\ttraining's rmse: 0.950456\tvalid_1's rmse: 1.06997\n",
            "Training until validation scores don't improve for 50 rounds.\n"
          ],
          "name": "stdout"
        },
        {
          "output_type": "stream",
          "text": [
            "\n",
            "\n",
            "\n",
            "regularization_factors, val_score: 1.069968:  25%|##5       | 5/20 [00:03<00:09,  1.54it/s]\u001b[A\u001b[A\u001b[A\n",
            "\n",
            "\n",
            "regularization_factors, val_score: 1.069968:  30%|###       | 6/20 [00:03<00:09,  1.55it/s]\u001b[A\u001b[A\u001b[A\u001b[32m[I 2020-05-17 08:04:36,716]\u001b[0m Finished trial#48 with value: 1.0774055883926847 with parameters: {'lambda_l1': 1.9539055352140389, 'lambda_l2': 2.1900986590085136e-08}. Best is trial#43 with value: 1.069967657000231.\u001b[0m\n",
            "\n",
            "\n",
            "\n",
            "regularization_factors, val_score: 1.069968:  30%|###       | 6/20 [00:03<00:09,  1.55it/s]\u001b[A\u001b[A\u001b[A"
          ],
          "name": "stderr"
        },
        {
          "output_type": "stream",
          "text": [
            "[100]\ttraining's rmse: 0.928172\tvalid_1's rmse: 1.0796\n",
            "Early stopping, best iteration is:\n",
            "[63]\ttraining's rmse: 0.970216\tvalid_1's rmse: 1.07741\n",
            "Training until validation scores don't improve for 50 rounds.\n"
          ],
          "name": "stdout"
        },
        {
          "output_type": "stream",
          "text": [
            "\n",
            "\n",
            "\n",
            "regularization_factors, val_score: 1.069968:  30%|###       | 6/20 [00:04<00:09,  1.55it/s]\u001b[A\u001b[A\u001b[A\n",
            "\n",
            "\n",
            "regularization_factors, val_score: 1.069968:  35%|###5      | 7/20 [00:04<00:08,  1.57it/s]\u001b[A\u001b[A\u001b[A\u001b[32m[I 2020-05-17 08:04:37,340]\u001b[0m Finished trial#49 with value: 1.0770573691382757 with parameters: {'lambda_l1': 0.012259557857587807, 'lambda_l2': 5.027546853824483}. Best is trial#43 with value: 1.069967657000231.\u001b[0m\n",
            "\n",
            "\n",
            "\n",
            "regularization_factors, val_score: 1.069968:  35%|###5      | 7/20 [00:04<00:08,  1.57it/s]\u001b[A\u001b[A\u001b[A"
          ],
          "name": "stderr"
        },
        {
          "output_type": "stream",
          "text": [
            "[100]\ttraining's rmse: 0.927624\tvalid_1's rmse: 1.08128\n",
            "Early stopping, best iteration is:\n",
            "[56]\ttraining's rmse: 0.980088\tvalid_1's rmse: 1.07706\n",
            "Training until validation scores don't improve for 50 rounds.\n"
          ],
          "name": "stdout"
        },
        {
          "output_type": "stream",
          "text": [
            "\n",
            "\n",
            "\n",
            "regularization_factors, val_score: 1.069968:  35%|###5      | 7/20 [00:05<00:08,  1.57it/s]\u001b[A\u001b[A\u001b[A\n",
            "\n",
            "\n",
            "regularization_factors, val_score: 1.069968:  40%|####      | 8/20 [00:05<00:07,  1.55it/s]\u001b[A\u001b[A\u001b[A\u001b[32m[I 2020-05-17 08:04:37,989]\u001b[0m Finished trial#50 with value: 1.0699910270454855 with parameters: {'lambda_l1': 0.013234502357102888, 'lambda_l2': 0.0018359394454034942}. Best is trial#43 with value: 1.069967657000231.\u001b[0m\n",
            "\n",
            "\n",
            "\n",
            "regularization_factors, val_score: 1.069968:  40%|####      | 8/20 [00:05<00:07,  1.55it/s]\u001b[A\u001b[A\u001b[A"
          ],
          "name": "stderr"
        },
        {
          "output_type": "stream",
          "text": [
            "[100]\ttraining's rmse: 0.923614\tvalid_1's rmse: 1.0719\n",
            "Early stopping, best iteration is:\n",
            "[71]\ttraining's rmse: 0.957068\tvalid_1's rmse: 1.06999\n",
            "Training until validation scores don't improve for 50 rounds.\n"
          ],
          "name": "stdout"
        },
        {
          "output_type": "stream",
          "text": [
            "\n",
            "\n",
            "\n",
            "regularization_factors, val_score: 1.069968:  40%|####      | 8/20 [00:05<00:07,  1.55it/s]\u001b[A\u001b[A\u001b[A\n",
            "\n",
            "\n",
            "regularization_factors, val_score: 1.069968:  45%|####5     | 9/20 [00:05<00:07,  1.57it/s]\u001b[A\u001b[A\u001b[A\u001b[32m[I 2020-05-17 08:04:38,611]\u001b[0m Finished trial#51 with value: 1.0746856329668013 with parameters: {'lambda_l1': 1.6627631899624364, 'lambda_l2': 0.00021488226832082637}. Best is trial#43 with value: 1.069967657000231.\u001b[0m\n",
            "\n",
            "\n",
            "\n",
            "regularization_factors, val_score: 1.069968:  45%|####5     | 9/20 [00:05<00:07,  1.57it/s]\u001b[A\u001b[A\u001b[A"
          ],
          "name": "stderr"
        },
        {
          "output_type": "stream",
          "text": [
            "[100]\ttraining's rmse: 0.9264\tvalid_1's rmse: 1.07873\n",
            "Early stopping, best iteration is:\n",
            "[62]\ttraining's rmse: 0.971613\tvalid_1's rmse: 1.07469\n",
            "Training until validation scores don't improve for 50 rounds.\n"
          ],
          "name": "stdout"
        },
        {
          "output_type": "stream",
          "text": [
            "\n",
            "\n",
            "\n",
            "regularization_factors, val_score: 1.069968:  45%|####5     | 9/20 [00:06<00:07,  1.57it/s]\u001b[A\u001b[A\u001b[A\n",
            "\n",
            "\n",
            "regularization_factors, val_score: 1.069968:  50%|#####     | 10/20 [00:06<00:06,  1.56it/s]\u001b[A\u001b[A\u001b[A\u001b[32m[I 2020-05-17 08:04:39,267]\u001b[0m Finished trial#52 with value: 1.0737886743941691 with parameters: {'lambda_l1': 1.3251876170344805, 'lambda_l2': 1.030928013027613e-06}. Best is trial#43 with value: 1.069967657000231.\u001b[0m\n",
            "\n",
            "\n",
            "\n",
            "regularization_factors, val_score: 1.069968:  50%|#####     | 10/20 [00:06<00:06,  1.56it/s]\u001b[A\u001b[A\u001b[A"
          ],
          "name": "stderr"
        },
        {
          "output_type": "stream",
          "text": [
            "[100]\ttraining's rmse: 0.9256\tvalid_1's rmse: 1.0765\n",
            "Early stopping, best iteration is:\n",
            "[66]\ttraining's rmse: 0.964121\tvalid_1's rmse: 1.07379\n",
            "Training until validation scores don't improve for 50 rounds.\n"
          ],
          "name": "stdout"
        },
        {
          "output_type": "stream",
          "text": [
            "\n",
            "\n",
            "\n",
            "regularization_factors, val_score: 1.069968:  50%|#####     | 10/20 [00:07<00:06,  1.56it/s]\u001b[A\u001b[A\u001b[A\n",
            "\n",
            "\n",
            "regularization_factors, val_score: 1.069968:  55%|#####5    | 11/20 [00:07<00:05,  1.54it/s]\u001b[A\u001b[A\u001b[A\u001b[32m[I 2020-05-17 08:04:39,928]\u001b[0m Finished trial#53 with value: 1.0699676491160262 with parameters: {'lambda_l1': 2.7995790362289556e-06, 'lambda_l2': 3.099452480870894e-05}. Best is trial#53 with value: 1.0699676491160262.\u001b[0m\n",
            "\n",
            "\n",
            "\n",
            "regularization_factors, val_score: 1.069968:  55%|#####5    | 11/20 [00:07<00:05,  1.54it/s]"
          ],
          "name": "stderr"
        },
        {
          "output_type": "stream",
          "text": [
            "[100]\ttraining's rmse: 0.925088\tvalid_1's rmse: 1.0719\n",
            "Early stopping, best iteration is:\n",
            "[77]\ttraining's rmse: 0.950449\tvalid_1's rmse: 1.06997\n"
          ],
          "name": "stdout"
        },
        {
          "output_type": "stream",
          "text": [
            "\u001b[A\u001b[A\u001b[A"
          ],
          "name": "stderr"
        },
        {
          "output_type": "stream",
          "text": [
            "Training until validation scores don't improve for 50 rounds.\n"
          ],
          "name": "stdout"
        },
        {
          "output_type": "stream",
          "text": [
            "\n",
            "\n",
            "\n",
            "regularization_factors, val_score: 1.069968:  55%|#####5    | 11/20 [00:07<00:05,  1.54it/s]\u001b[A\u001b[A\u001b[A\n",
            "\n",
            "\n",
            "regularization_factors, val_score: 1.069968:  60%|######    | 12/20 [00:07<00:05,  1.53it/s]\u001b[A\u001b[A\u001b[A"
          ],
          "name": "stderr"
        },
        {
          "output_type": "stream",
          "text": [
            "[100]\ttraining's rmse: 0.925088\tvalid_1's rmse: 1.0719\n",
            "Early stopping, best iteration is:\n",
            "[77]\ttraining's rmse: 0.950449\tvalid_1's rmse: 1.06997\n"
          ],
          "name": "stdout"
        },
        {
          "output_type": "stream",
          "text": [
            "\u001b[32m[I 2020-05-17 08:04:40,598]\u001b[0m Finished trial#54 with value: 1.0699676493356296 with parameters: {'lambda_l1': 8.941447773870638e-07, 'lambda_l2': 4.424945244512347e-05}. Best is trial#53 with value: 1.0699676491160262.\u001b[0m\n",
            "\n",
            "\n",
            "\n",
            "regularization_factors, val_score: 1.069968:  60%|######    | 12/20 [00:07<00:05,  1.53it/s]\u001b[A\u001b[A\u001b[A"
          ],
          "name": "stderr"
        },
        {
          "output_type": "stream",
          "text": [
            "Training until validation scores don't improve for 50 rounds.\n"
          ],
          "name": "stdout"
        },
        {
          "output_type": "stream",
          "text": [
            "\n",
            "\n",
            "\n",
            "regularization_factors, val_score: 1.069968:  60%|######    | 12/20 [00:08<00:05,  1.53it/s]\u001b[A\u001b[A\u001b[A\n",
            "\n",
            "\n",
            "regularization_factors, val_score: 1.069968:  65%|######5   | 13/20 [00:08<00:04,  1.51it/s]\u001b[A\u001b[A\u001b[A"
          ],
          "name": "stderr"
        },
        {
          "output_type": "stream",
          "text": [
            "[100]\ttraining's rmse: 0.925088\tvalid_1's rmse: 1.0719\n",
            "Early stopping, best iteration is:\n",
            "[77]\ttraining's rmse: 0.950449\tvalid_1's rmse: 1.06997\n"
          ],
          "name": "stdout"
        },
        {
          "output_type": "stream",
          "text": [
            "\u001b[32m[I 2020-05-17 08:04:41,273]\u001b[0m Finished trial#55 with value: 1.069967649059191 with parameters: {'lambda_l1': 2.4829325836287936e-07, 'lambda_l2': 3.4832039875782575e-05}. Best is trial#55 with value: 1.069967649059191.\u001b[0m\n",
            "\n",
            "\n",
            "\n",
            "regularization_factors, val_score: 1.069968:  65%|######5   | 13/20 [00:08<00:04,  1.51it/s]\u001b[A\u001b[A\u001b[A"
          ],
          "name": "stderr"
        },
        {
          "output_type": "stream",
          "text": [
            "Training until validation scores don't improve for 50 rounds.\n"
          ],
          "name": "stdout"
        },
        {
          "output_type": "stream",
          "text": [
            "\n",
            "\n",
            "\n",
            "regularization_factors, val_score: 1.069968:  65%|######5   | 13/20 [00:09<00:04,  1.51it/s]\u001b[A\u001b[A\u001b[A\n",
            "\n",
            "\n",
            "regularization_factors, val_score: 1.069968:  70%|#######   | 14/20 [00:09<00:03,  1.51it/s]\u001b[A\u001b[A\u001b[A"
          ],
          "name": "stderr"
        },
        {
          "output_type": "stream",
          "text": [
            "[100]\ttraining's rmse: 0.925088\tvalid_1's rmse: 1.0719\n",
            "Early stopping, best iteration is:\n",
            "[77]\ttraining's rmse: 0.950449\tvalid_1's rmse: 1.06997\n"
          ],
          "name": "stdout"
        },
        {
          "output_type": "stream",
          "text": [
            "\u001b[32m[I 2020-05-17 08:04:41,950]\u001b[0m Finished trial#56 with value: 1.0699676491382006 with parameters: {'lambda_l1': 8.16258708671351e-06, 'lambda_l2': 1.949111474275806e-05}. Best is trial#55 with value: 1.069967649059191.\u001b[0m\n",
            "\n",
            "\n",
            "\n",
            "regularization_factors, val_score: 1.069968:  70%|#######   | 14/20 [00:09<00:03,  1.51it/s]\u001b[A\u001b[A\u001b[A"
          ],
          "name": "stderr"
        },
        {
          "output_type": "stream",
          "text": [
            "Training until validation scores don't improve for 50 rounds.\n"
          ],
          "name": "stdout"
        },
        {
          "output_type": "stream",
          "text": [
            "\n",
            "\n",
            "\n",
            "regularization_factors, val_score: 1.069968:  70%|#######   | 14/20 [00:09<00:03,  1.51it/s]\u001b[A\u001b[A\u001b[A\n",
            "\n",
            "\n",
            "regularization_factors, val_score: 1.069968:  75%|#######5  | 15/20 [00:09<00:03,  1.51it/s]\u001b[A\u001b[A\u001b[A\u001b[32m[I 2020-05-17 08:04:42,615]\u001b[0m Finished trial#57 with value: 1.0711790674013295 with parameters: {'lambda_l1': 1.3980277457124515e-08, 'lambda_l2': 0.0623418714889601}. Best is trial#55 with value: 1.069967649059191.\u001b[0m\n",
            "\n",
            "\n",
            "\n",
            "regularization_factors, val_score: 1.069968:  75%|#######5  | 15/20 [00:09<00:03,  1.51it/s]\u001b[A\u001b[A\u001b[A"
          ],
          "name": "stderr"
        },
        {
          "output_type": "stream",
          "text": [
            "[100]\ttraining's rmse: 0.924532\tvalid_1's rmse: 1.0745\n",
            "Early stopping, best iteration is:\n",
            "[71]\ttraining's rmse: 0.957805\tvalid_1's rmse: 1.07118\n",
            "Training until validation scores don't improve for 50 rounds.\n"
          ],
          "name": "stdout"
        },
        {
          "output_type": "stream",
          "text": [
            "\n",
            "\n",
            "\n",
            "regularization_factors, val_score: 1.069968:  75%|#######5  | 15/20 [00:10<00:03,  1.51it/s]\u001b[A\u001b[A\u001b[A\n",
            "\n",
            "\n",
            "regularization_factors, val_score: 1.069968:  80%|########  | 16/20 [00:10<00:02,  1.49it/s]\u001b[A\u001b[A\u001b[A"
          ],
          "name": "stderr"
        },
        {
          "output_type": "stream",
          "text": [
            "[100]\ttraining's rmse: 0.925088\tvalid_1's rmse: 1.0719\n",
            "Early stopping, best iteration is:\n",
            "[77]\ttraining's rmse: 0.950449\tvalid_1's rmse: 1.06997\n"
          ],
          "name": "stdout"
        },
        {
          "output_type": "stream",
          "text": [
            "\u001b[32m[I 2020-05-17 08:04:43,299]\u001b[0m Finished trial#58 with value: 1.069967649281878 with parameters: {'lambda_l1': 1.0677166136491936e-05, 'lambda_l2': 1.85619661559716e-05}. Best is trial#55 with value: 1.069967649059191.\u001b[0m\n",
            "\n",
            "\n",
            "\n",
            "regularization_factors, val_score: 1.069968:  80%|########  | 16/20 [00:10<00:02,  1.49it/s]\u001b[A\u001b[A\u001b[A"
          ],
          "name": "stderr"
        },
        {
          "output_type": "stream",
          "text": [
            "Training until validation scores don't improve for 50 rounds.\n"
          ],
          "name": "stdout"
        },
        {
          "output_type": "stream",
          "text": [
            "\n",
            "\n",
            "\n",
            "regularization_factors, val_score: 1.069968:  80%|########  | 16/20 [00:11<00:02,  1.49it/s]\u001b[A\u001b[A\u001b[A\n",
            "\n",
            "\n",
            "regularization_factors, val_score: 1.069968:  85%|########5 | 17/20 [00:11<00:01,  1.52it/s]\u001b[A\u001b[A\u001b[A\u001b[32m[I 2020-05-17 08:04:43,930]\u001b[0m Finished trial#59 with value: 1.07340236321077 with parameters: {'lambda_l1': 1.0559270585192017e-08, 'lambda_l2': 0.23139108108707407}. Best is trial#55 with value: 1.069967649059191.\u001b[0m\n",
            "\n",
            "\n",
            "\n",
            "regularization_factors, val_score: 1.069968:  85%|########5 | 17/20 [00:11<00:01,  1.52it/s]\u001b[A\u001b[A\u001b[A"
          ],
          "name": "stderr"
        },
        {
          "output_type": "stream",
          "text": [
            "[100]\ttraining's rmse: 0.925075\tvalid_1's rmse: 1.07566\n",
            "Early stopping, best iteration is:\n",
            "[62]\ttraining's rmse: 0.970594\tvalid_1's rmse: 1.0734\n",
            "Training until validation scores don't improve for 50 rounds.\n"
          ],
          "name": "stdout"
        },
        {
          "output_type": "stream",
          "text": [
            "\n",
            "\n",
            "\n",
            "regularization_factors, val_score: 1.069968:  85%|########5 | 17/20 [00:11<00:01,  1.52it/s]\u001b[A\u001b[A\u001b[A\n",
            "\n",
            "\n",
            "regularization_factors, val_score: 1.069968:  90%|######### | 18/20 [00:11<00:01,  1.51it/s]\u001b[A\u001b[A\u001b[A\u001b[32m[I 2020-05-17 08:04:44,603]\u001b[0m Finished trial#60 with value: 1.069967648264259 with parameters: {'lambda_l1': 6.253757412838944e-07, 'lambda_l2': 5.510051438486752e-06}. Best is trial#60 with value: 1.069967648264259.\u001b[0m\n",
            "\n",
            "\n",
            "\n"
          ],
          "name": "stderr"
        },
        {
          "output_type": "stream",
          "text": [
            "[100]\ttraining's rmse: 0.925088\tvalid_1's rmse: 1.0719\n",
            "Early stopping, best iteration is:\n",
            "[77]\ttraining's rmse: 0.950449\tvalid_1's rmse: 1.06997\n"
          ],
          "name": "stdout"
        },
        {
          "output_type": "stream",
          "text": [
            "\rregularization_factors, val_score: 1.069968:  90%|######### | 18/20 [00:11<00:01,  1.51it/s]\u001b[A\u001b[A\u001b[A"
          ],
          "name": "stderr"
        },
        {
          "output_type": "stream",
          "text": [
            "Training until validation scores don't improve for 50 rounds.\n"
          ],
          "name": "stdout"
        },
        {
          "output_type": "stream",
          "text": [
            "\n",
            "\n",
            "\n",
            "regularization_factors, val_score: 1.069968:  90%|######### | 18/20 [00:12<00:01,  1.51it/s]\u001b[A\u001b[A\u001b[A\n",
            "\n",
            "\n",
            "regularization_factors, val_score: 1.069968:  95%|#########5| 19/20 [00:12<00:00,  1.49it/s]\u001b[A\u001b[A\u001b[A"
          ],
          "name": "stderr"
        },
        {
          "output_type": "stream",
          "text": [
            "[100]\ttraining's rmse: 0.925088\tvalid_1's rmse: 1.0719\n",
            "Early stopping, best iteration is:\n",
            "[77]\ttraining's rmse: 0.950449\tvalid_1's rmse: 1.06997\n"
          ],
          "name": "stdout"
        },
        {
          "output_type": "stream",
          "text": [
            "\u001b[32m[I 2020-05-17 08:04:45,289]\u001b[0m Finished trial#61 with value: 1.0699676481798648 with parameters: {'lambda_l1': 5.022180782439006e-08, 'lambda_l2': 3.98212082279087e-06}. Best is trial#61 with value: 1.0699676481798648.\u001b[0m\n",
            "\n",
            "\n",
            "\n",
            "regularization_factors, val_score: 1.069968:  95%|#########5| 19/20 [00:12<00:00,  1.49it/s]\u001b[A\u001b[A\u001b[A"
          ],
          "name": "stderr"
        },
        {
          "output_type": "stream",
          "text": [
            "Training until validation scores don't improve for 50 rounds.\n"
          ],
          "name": "stdout"
        },
        {
          "output_type": "stream",
          "text": [
            "\n",
            "\n",
            "\n",
            "regularization_factors, val_score: 1.069968:  95%|#########5| 19/20 [00:13<00:00,  1.49it/s]\u001b[A\u001b[A\u001b[A\n",
            "\n",
            "\n",
            "regularization_factors, val_score: 1.069968: 100%|##########| 20/20 [00:13<00:00,  1.49it/s]\u001b[A\u001b[A\u001b[A\u001b[32m[I 2020-05-17 08:04:45,958]\u001b[0m Finished trial#62 with value: 1.069967648138117 with parameters: {'lambda_l1': 6.764317660496854e-08, 'lambda_l2': 1.9507395663096007e-06}. Best is trial#62 with value: 1.069967648138117.\u001b[0m\n",
            "regularization_factors, val_score: 1.069968: 100%|##########| 20/20 [00:13<00:00,  1.51it/s]"
          ],
          "name": "stderr"
        },
        {
          "output_type": "stream",
          "text": [
            "[100]\ttraining's rmse: 0.925088\tvalid_1's rmse: 1.0719\n",
            "Early stopping, best iteration is:\n",
            "[77]\ttraining's rmse: 0.950449\tvalid_1's rmse: 1.06997\n"
          ],
          "name": "stdout"
        },
        {
          "output_type": "stream",
          "text": [
            "\n",
            "\n",
            "\n",
            "\n",
            "  0%|          | 0/5 [00:00<?, ?it/s]\u001b[A\u001b[A\u001b[A\n",
            "\n",
            "\n",
            "min_data_in_leaf, val_score: 1.069968:   0%|          | 0/5 [00:00<?, ?it/s]\u001b[A\u001b[A\u001b[A/usr/local/lib/python3.6/dist-packages/lightgbm/engine.py:118: UserWarning:\n",
            "\n",
            "Found `num_rounds` in params. Will use it instead of argument\n",
            "\n"
          ],
          "name": "stderr"
        },
        {
          "output_type": "stream",
          "text": [
            "Training until validation scores don't improve for 50 rounds.\n"
          ],
          "name": "stdout"
        },
        {
          "output_type": "stream",
          "text": [
            "\n",
            "\n",
            "\n",
            "min_data_in_leaf, val_score: 1.069968:   0%|          | 0/5 [00:00<?, ?it/s]\u001b[A\u001b[A\u001b[A\n",
            "\n",
            "\n",
            "min_data_in_leaf, val_score: 1.069968:  20%|##        | 1/5 [00:00<00:02,  1.60it/s]\u001b[A\u001b[A\u001b[A"
          ],
          "name": "stderr"
        },
        {
          "output_type": "stream",
          "text": [
            "[100]\ttraining's rmse: 0.921418\tvalid_1's rmse: 1.07715\n",
            "Early stopping, best iteration is:\n",
            "[72]\ttraining's rmse: 0.954845\tvalid_1's rmse: 1.07562\n"
          ],
          "name": "stdout"
        },
        {
          "output_type": "stream",
          "text": [
            "\u001b[32m[I 2020-05-17 08:04:46,686]\u001b[0m Finished trial#63 with value: 1.0756163648109494 with parameters: {'min_child_samples': 5}. Best is trial#63 with value: 1.0756163648109494.\u001b[0m\n",
            "\n",
            "\n",
            "\n",
            "min_data_in_leaf, val_score: 1.069968:  20%|##        | 1/5 [00:00<00:02,  1.60it/s]\u001b[A\u001b[A\u001b[A"
          ],
          "name": "stderr"
        },
        {
          "output_type": "stream",
          "text": [
            "Training until validation scores don't improve for 50 rounds.\n"
          ],
          "name": "stdout"
        },
        {
          "output_type": "stream",
          "text": [
            "\n",
            "\n",
            "\n",
            "min_data_in_leaf, val_score: 1.069968:  20%|##        | 1/5 [00:01<00:02,  1.60it/s]\u001b[A\u001b[A\u001b[A\n",
            "\n",
            "\n",
            "min_data_in_leaf, val_score: 1.069968:  40%|####      | 2/5 [00:01<00:01,  1.61it/s]\u001b[A\u001b[A\u001b[A\u001b[32m[I 2020-05-17 08:04:47,301]\u001b[0m Finished trial#64 with value: 1.0757512613800375 with parameters: {'min_child_samples': 50}. Best is trial#63 with value: 1.0756163648109494.\u001b[0m\n",
            "\n",
            "\n",
            "\n",
            "min_data_in_leaf, val_score: 1.069968:  40%|####      | 2/5 [00:01<00:01,  1.61it/s]\u001b[A\u001b[A\u001b[A"
          ],
          "name": "stderr"
        },
        {
          "output_type": "stream",
          "text": [
            "[100]\ttraining's rmse: 0.928704\tvalid_1's rmse: 1.07695\n",
            "Early stopping, best iteration is:\n",
            "[60]\ttraining's rmse: 0.9747\tvalid_1's rmse: 1.07575\n",
            "Training until validation scores don't improve for 50 rounds.\n"
          ],
          "name": "stdout"
        },
        {
          "output_type": "stream",
          "text": [
            "\n",
            "\n",
            "\n",
            "min_data_in_leaf, val_score: 1.069968:  40%|####      | 2/5 [00:02<00:01,  1.61it/s]\u001b[A\u001b[A\u001b[A\n",
            "\n",
            "\n",
            "min_data_in_leaf, val_score: 1.069968:  60%|######    | 3/5 [00:02<00:01,  1.51it/s]"
          ],
          "name": "stderr"
        },
        {
          "output_type": "stream",
          "text": [
            "[100]\ttraining's rmse: 0.92527\tvalid_1's rmse: 1.07508\n",
            "Early stopping, best iteration is:\n",
            "[106]\ttraining's rmse: 0.918661\tvalid_1's rmse: 1.07447\n"
          ],
          "name": "stdout"
        },
        {
          "output_type": "stream",
          "text": [
            "\u001b[A\u001b[A\u001b[A\u001b[32m[I 2020-05-17 08:04:48,069]\u001b[0m Finished trial#65 with value: 1.0744745642528948 with parameters: {'min_child_samples': 25}. Best is trial#65 with value: 1.0744745642528948.\u001b[0m\n",
            "\n",
            "\n",
            "\n",
            "min_data_in_leaf, val_score: 1.069968:  60%|######    | 3/5 [00:02<00:01,  1.51it/s]\u001b[A\u001b[A\u001b[A"
          ],
          "name": "stderr"
        },
        {
          "output_type": "stream",
          "text": [
            "Training until validation scores don't improve for 50 rounds.\n"
          ],
          "name": "stdout"
        },
        {
          "output_type": "stream",
          "text": [
            "\n",
            "\n",
            "\n",
            "min_data_in_leaf, val_score: 1.069968:  60%|######    | 3/5 [00:02<00:01,  1.51it/s]\u001b[A\u001b[A\u001b[A\n",
            "\n",
            "\n",
            "min_data_in_leaf, val_score: 1.069968:  80%|########  | 4/5 [00:02<00:00,  1.51it/s]\u001b[A\u001b[A\u001b[A\u001b[32m[I 2020-05-17 08:04:48,720]\u001b[0m Finished trial#66 with value: 1.0779631225828303 with parameters: {'min_child_samples': 10}. Best is trial#65 with value: 1.0744745642528948.\u001b[0m\n",
            "\n",
            "\n",
            "\n",
            "min_data_in_leaf, val_score: 1.069968:  80%|########  | 4/5 [00:02<00:00,  1.51it/s]\u001b[A\u001b[A\u001b[A"
          ],
          "name": "stderr"
        },
        {
          "output_type": "stream",
          "text": [
            "[100]\ttraining's rmse: 0.921294\tvalid_1's rmse: 1.07834\n",
            "Early stopping, best iteration is:\n",
            "[61]\ttraining's rmse: 0.969332\tvalid_1's rmse: 1.07796\n",
            "Training until validation scores don't improve for 50 rounds.\n"
          ],
          "name": "stdout"
        },
        {
          "output_type": "stream",
          "text": [
            "\n",
            "\n",
            "\n",
            "min_data_in_leaf, val_score: 1.069968:  80%|########  | 4/5 [00:03<00:00,  1.51it/s]\u001b[A\u001b[A\u001b[A\n",
            "\n",
            "\n",
            "min_data_in_leaf, val_score: 1.069968: 100%|##########| 5/5 [00:03<00:00,  1.52it/s]\u001b[A\u001b[A\u001b[A\u001b[32m[I 2020-05-17 08:04:49,374]\u001b[0m Finished trial#67 with value: 1.0753424677947931 with parameters: {'min_child_samples': 100}. Best is trial#65 with value: 1.0744745642528948.\u001b[0m\n",
            "min_data_in_leaf, val_score: 1.069968: 100%|##########| 5/5 [00:03<00:00,  1.47it/s]"
          ],
          "name": "stderr"
        },
        {
          "output_type": "stream",
          "text": [
            "[100]\ttraining's rmse: 0.935833\tvalid_1's rmse: 1.07681\n",
            "Early stopping, best iteration is:\n",
            "[69]\ttraining's rmse: 0.968008\tvalid_1's rmse: 1.07534\n"
          ],
          "name": "stdout"
        },
        {
          "output_type": "stream",
          "text": [
            "\n"
          ],
          "name": "stderr"
        },
        {
          "output_type": "stream",
          "text": [
            "Training until validation scores don't improve for 50 rounds.\n",
            "[100]\ttraining's rmse: 0.925087\tvalid_1's rmse: 1.0719\n",
            "Early stopping, best iteration is:\n",
            "[77]\ttraining's rmse: 0.950449\tvalid_1's rmse: 1.06997\n"
          ],
          "name": "stdout"
        }
      ]
    },
    {
      "cell_type": "code",
      "metadata": {
        "id": "U-HyhQE4SmgM",
        "colab_type": "code",
        "outputId": "9cefd281-889c-4a3a-9562-120385e1dfa9",
        "colab": {
          "base_uri": "https://localhost:8080/",
          "height": 119
        }
      },
      "source": [
        "rmse_train_list"
      ],
      "execution_count": 0,
      "outputs": [
        {
          "output_type": "execute_result",
          "data": {
            "text/plain": [
              "[0.7198132468977999,\n",
              " 0.8823165019437892,\n",
              " 0.9404288158936785,\n",
              " 0.9199973395766876,\n",
              " 0.7678307753808918,\n",
              " 0.950448602920285]"
            ]
          },
          "metadata": {
            "tags": []
          },
          "execution_count": 53
        }
      ]
    },
    {
      "cell_type": "code",
      "metadata": {
        "colab_type": "code",
        "outputId": "9d0b8b69-76ec-446f-895f-da4a0cd3a3d4",
        "id": "ZsCFTVEtxWXL",
        "colab": {
          "base_uri": "https://localhost:8080/",
          "height": 119
        }
      },
      "source": [
        "rmse_valid_list"
      ],
      "execution_count": 0,
      "outputs": [
        {
          "output_type": "execute_result",
          "data": {
            "text/plain": [
              "[1.0644118012143422,\n",
              " 1.0648955309008046,\n",
              " 1.0657640939424513,\n",
              " 1.0636611987836975,\n",
              " 1.0736521025567367,\n",
              " 1.0699508579199097]"
            ]
          },
          "metadata": {
            "tags": []
          },
          "execution_count": 54
        }
      ]
    }
  ]
}